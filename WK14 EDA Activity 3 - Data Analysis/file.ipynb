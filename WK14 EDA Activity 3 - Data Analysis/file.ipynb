{
 "cells": [
  {
   "cell_type": "markdown",
   "metadata": {},
   "source": [
    "# WEEK14 SUPERHERO MOVIES"
   ]
  },
  {
   "cell_type": "markdown",
   "metadata": {},
   "source": [
    "Name: **Syron B. Viason** <br>\n",
    "Course: **CPE2A**"
   ]
  },
  {
   "cell_type": "markdown",
   "metadata": {},
   "source": [
    "# **Introduction**"
   ]
  },
  {
   "cell_type": "markdown",
   "metadata": {},
   "source": [
    "This data analysis presents a sample of superhero movies released between 1952 and 2023, based solely on the provided dataset. External sources are not included to maintain data consistency and accuracy.\n",
    "Over the years, superhero movies have undergone significant changes in ratings, runtime, and overall reception. This study examines trends in IMDb scores and other key factors to provide insights into the evolution of the genre within the given dataset."
   ]
  },
  {
   "cell_type": "markdown",
   "metadata": {},
   "source": [
    "<hr style=\\\"border:2.5px solid #126782\\\"></hr>"
   ]
  },
  {
   "cell_type": "markdown",
   "metadata": {},
   "source": [
    "# **Data Cleaning**"
   ]
  },
  {
   "cell_type": "code",
   "execution_count": 1,
   "metadata": {},
   "outputs": [],
   "source": [
    "\n",
    "import numpy as np \n",
    "import pandas as pd\n",
    "import matplotlib.pyplot as plt\n",
    "import plotly.express as px\n",
    "import seaborn as sns\n",
    "import warnings\n",
    "import re\n",
    "warnings.filterwarnings('ignore')\n",
    "\n",
    "\n"
   ]
  },
  {
   "cell_type": "code",
   "execution_count": 9,
   "metadata": {},
   "outputs": [
    {
     "name": "stdout",
     "output_type": "stream",
     "text": [
      "<class 'pandas.core.frame.DataFrame'>\n",
      "RangeIndex: 1690 entries, 0 to 1689\n",
      "Data columns (total 7 columns):\n",
      " #   Column       Non-Null Count  Dtype  \n",
      "---  ------       --------------  -----  \n",
      " 0   ID           1690 non-null   int64  \n",
      " 1   Movie        1690 non-null   object \n",
      " 2   Year         1657 non-null   object \n",
      " 3   Genre        1683 non-null   object \n",
      " 4   RunTime      1690 non-null   object \n",
      " 5   Description  1690 non-null   object \n",
      " 6   IMDB_Score   1690 non-null   float64\n",
      "dtypes: float64(1), int64(1), object(5)\n",
      "memory usage: 92.6+ KB\n"
     ]
    }
   ],
   "source": [
    "df = pd.read_csv(r\"c:/Users/richard/Downloads/Syron Folder/Assignments/MATHEDA/WK14 EDA Activity 3 - Data Analysis/raw/vs-dataset.csv\",\n",
    "                 delimiter=\",\", encoding='ISO-8859-1')\n",
    "df.info()"
   ]
  },
  {
   "cell_type": "markdown",
   "metadata": {},
   "source": [
    "## Fixing/ Converting Data "
   ]
  },
  {
   "cell_type": "markdown",
   "metadata": {},
   "source": [
    "Data has additional string values that need to be converted to be uniform "
   ]
  },
  {
   "cell_type": "code",
   "execution_count": 10,
   "metadata": {},
   "outputs": [],
   "source": [
    "def extract_year(value):\n",
    "\n",
    "    match = re.search(r'\\d{4}', str(value)) \n",
    "\n",
    "    if match:\n",
    "\n",
    "        return match.group(0)  \n",
    "\n",
    "    return None  \n",
    "\n",
    "\n",
    "df['Year'] = df['Year'].apply(extract_year)\n",
    "df['Year'] = pd.to_datetime(df['Year'], format='%Y', errors='coerce')\n",
    "df['RunTime'] = df['RunTime'].astype(str).str.replace('min', '').str.strip()  \n",
    "df['RunTime'] = pd.to_numeric(df['RunTime'], errors='coerce') "
   ]
  },
  {
   "cell_type": "markdown",
   "metadata": {},
   "source": [
    "# Overview"
   ]
  },
  {
   "cell_type": "code",
   "execution_count": 11,
   "metadata": {},
   "outputs": [
    {
     "data": {
      "text/html": [
       "<div>\n",
       "<style scoped>\n",
       "    .dataframe tbody tr th:only-of-type {\n",
       "        vertical-align: middle;\n",
       "    }\n",
       "\n",
       "    .dataframe tbody tr th {\n",
       "        vertical-align: top;\n",
       "    }\n",
       "\n",
       "    .dataframe thead th {\n",
       "        text-align: right;\n",
       "    }\n",
       "</style>\n",
       "<table border=\"1\" class=\"dataframe\">\n",
       "  <thead>\n",
       "    <tr style=\"text-align: right;\">\n",
       "      <th></th>\n",
       "      <th>ID</th>\n",
       "      <th>Movie</th>\n",
       "      <th>Year</th>\n",
       "      <th>Genre</th>\n",
       "      <th>RunTime</th>\n",
       "      <th>Description</th>\n",
       "      <th>IMDB_Score</th>\n",
       "    </tr>\n",
       "  </thead>\n",
       "  <tbody>\n",
       "    <tr>\n",
       "      <th>0</th>\n",
       "      <td>0</td>\n",
       "      <td>Eternals</td>\n",
       "      <td>2021-01-01</td>\n",
       "      <td>Action,Adventure,Drama</td>\n",
       "      <td>0</td>\n",
       "      <td>The saga of the Eternals, a race of immortal b...</td>\n",
       "      <td>0.0</td>\n",
       "    </tr>\n",
       "    <tr>\n",
       "      <th>1</th>\n",
       "      <td>1</td>\n",
       "      <td>Loki</td>\n",
       "      <td>2021-01-01</td>\n",
       "      <td>Action,Adventure,Fantasy</td>\n",
       "      <td>0</td>\n",
       "      <td>A new Marvel chapter with Loki at its center.</td>\n",
       "      <td>0.0</td>\n",
       "    </tr>\n",
       "    <tr>\n",
       "      <th>2</th>\n",
       "      <td>2</td>\n",
       "      <td>The Falcon and the Winter Soldier</td>\n",
       "      <td>2021-01-01</td>\n",
       "      <td>Action,Adventure,Drama</td>\n",
       "      <td>50</td>\n",
       "      <td>Following the events of 'Avengers: Endgame,' S...</td>\n",
       "      <td>7.5</td>\n",
       "    </tr>\n",
       "    <tr>\n",
       "      <th>3</th>\n",
       "      <td>3</td>\n",
       "      <td>WandaVision</td>\n",
       "      <td>2021-01-01</td>\n",
       "      <td>Action,Comedy,Drama</td>\n",
       "      <td>350</td>\n",
       "      <td>Blends the style of classic sitcoms with the M...</td>\n",
       "      <td>8.1</td>\n",
       "    </tr>\n",
       "    <tr>\n",
       "      <th>4</th>\n",
       "      <td>4</td>\n",
       "      <td>Spider-Man: No Way Home</td>\n",
       "      <td>2021-01-01</td>\n",
       "      <td>Action,Adventure,Sci-Fi</td>\n",
       "      <td>0</td>\n",
       "      <td>A continuation of Spider-Man: Far From Home.</td>\n",
       "      <td>0.0</td>\n",
       "    </tr>\n",
       "  </tbody>\n",
       "</table>\n",
       "</div>"
      ],
      "text/plain": [
       "   ID                              Movie       Year                     Genre  \\\n",
       "0   0                           Eternals 2021-01-01    Action,Adventure,Drama   \n",
       "1   1                               Loki 2021-01-01  Action,Adventure,Fantasy   \n",
       "2   2  The Falcon and the Winter Soldier 2021-01-01    Action,Adventure,Drama   \n",
       "3   3                        WandaVision 2021-01-01       Action,Comedy,Drama   \n",
       "4   4            Spider-Man: No Way Home 2021-01-01   Action,Adventure,Sci-Fi   \n",
       "\n",
       "   RunTime                                        Description  IMDB_Score  \n",
       "0        0  The saga of the Eternals, a race of immortal b...         0.0  \n",
       "1        0      A new Marvel chapter with Loki at its center.         0.0  \n",
       "2       50  Following the events of 'Avengers: Endgame,' S...         7.5  \n",
       "3      350  Blends the style of classic sitcoms with the M...         8.1  \n",
       "4        0       A continuation of Spider-Man: Far From Home.         0.0  "
      ]
     },
     "execution_count": 11,
     "metadata": {},
     "output_type": "execute_result"
    }
   ],
   "source": [
    "df.head()"
   ]
  },
  {
   "cell_type": "markdown",
   "metadata": {},
   "source": [
    "## Data Cleaning - Dropping NaN"
   ]
  },
  {
   "cell_type": "markdown",
   "metadata": {},
   "source": [
    "Dropping NaN values"
   ]
  },
  {
   "cell_type": "code",
   "execution_count": 12,
   "metadata": {},
   "outputs": [
    {
     "data": {
      "text/plain": [
       "ID              0\n",
       "Movie           0\n",
       "Year           35\n",
       "Genre           7\n",
       "RunTime         0\n",
       "Description     0\n",
       "IMDB_Score      0\n",
       "dtype: int64"
      ]
     },
     "execution_count": 12,
     "metadata": {},
     "output_type": "execute_result"
    }
   ],
   "source": [
    "df_dropcopy = df.copy()\n",
    "df_dropcopy.isna().sum()"
   ]
  },
  {
   "cell_type": "code",
   "execution_count": 13,
   "metadata": {},
   "outputs": [
    {
     "data": {
      "text/plain": [
       "ID             0\n",
       "Movie          0\n",
       "Year           0\n",
       "Genre          0\n",
       "RunTime        0\n",
       "Description    0\n",
       "IMDB_Score     0\n",
       "dtype: int64"
      ]
     },
     "execution_count": 13,
     "metadata": {},
     "output_type": "execute_result"
    }
   ],
   "source": [
    "df_dropcopy = df_dropcopy.dropna(subset=['Year','Genre'])\n",
    "df_dropcopy.isna().sum()"
   ]
  },
  {
   "cell_type": "markdown",
   "metadata": {},
   "source": [
    "## Data Cleaning - Replacing NaN with Mean"
   ]
  },
  {
   "cell_type": "markdown",
   "metadata": {},
   "source": [
    "Dropping NaN values of items and replacing with mean"
   ]
  },
  {
   "cell_type": "code",
   "execution_count": 15,
   "metadata": {},
   "outputs": [
    {
     "name": "stdout",
     "output_type": "stream",
     "text": [
      "<class 'pandas.core.frame.DataFrame'>\n",
      "RangeIndex: 1690 entries, 0 to 1689\n",
      "Data columns (total 7 columns):\n",
      " #   Column       Non-Null Count  Dtype         \n",
      "---  ------       --------------  -----         \n",
      " 0   ID           1690 non-null   int64         \n",
      " 1   Movie        1690 non-null   object        \n",
      " 2   Year         1655 non-null   datetime64[ns]\n",
      " 3   Genre        1683 non-null   object        \n",
      " 4   RunTime      1690 non-null   int64         \n",
      " 5   Description  1690 non-null   object        \n",
      " 6   IMDB_Score   1690 non-null   float64       \n",
      "dtypes: datetime64[ns](1), float64(1), int64(2), object(3)\n",
      "memory usage: 92.6+ KB\n"
     ]
    }
   ],
   "source": [
    "df_replacecopy = df.copy()\n",
    "df_replacecopy.info()"
   ]
  },
  {
   "cell_type": "code",
   "execution_count": 16,
   "metadata": {},
   "outputs": [],
   "source": [
    "df_replacecopy[\"Year\"] = df_replacecopy[\"Year\"].astype(str).str.extract(r'(\\d{4})') \n",
    "df_replacecopy[\"Year\"] = pd.to_numeric(df_replacecopy[\"Year\"], errors=\"coerce\")  \n",
    "df_replacecopy[\"Year\"].fillna(round(df_replacecopy[\"Year\"].mean()), inplace=True)"
   ]
  },
  {
   "cell_type": "code",
   "execution_count": null,
   "metadata": {},
   "outputs": [
    {
     "name": "stdout",
     "output_type": "stream",
     "text": [
      "[2021. 2019. 2014. 2022. 2017. 2018. 2015. 2011. 2008. 2016. 2012. 2013.\n",
      " 2010. 2007. 2023. 2001. 2009. 2020. 2006. 2005. 2002. 2000. 1989. 1992.\n",
      " 1997. 1995. 1978. 1984. 1999. 2003. 1994. 1983. 2004. 1980. 1952. 1996.\n",
      " 1982. 1998. 1988. 1985. 1979. 1990. 1977. 1991. 1987. 1993.]\n"
     ]
    }
   ],
   "source": [
    "print(df_replacecopy[\"Year\"].unique())"
   ]
  },
  {
   "cell_type": "code",
   "execution_count": 17,
   "metadata": {},
   "outputs": [],
   "source": [
    "genre_mode = df_replacecopy['Genre'].mode()[0]\n",
    "df_replacecopy['Genre'] = df_replacecopy['Genre'].fillna(genre_mode)"
   ]
  },
  {
   "cell_type": "code",
   "execution_count": 18,
   "metadata": {},
   "outputs": [
    {
     "name": "stdout",
     "output_type": "stream",
     "text": [
      "<class 'pandas.core.frame.DataFrame'>\n",
      "RangeIndex: 1690 entries, 0 to 1689\n",
      "Data columns (total 7 columns):\n",
      " #   Column       Non-Null Count  Dtype  \n",
      "---  ------       --------------  -----  \n",
      " 0   ID           1690 non-null   int64  \n",
      " 1   Movie        1690 non-null   object \n",
      " 2   Year         1690 non-null   float64\n",
      " 3   Genre        1690 non-null   object \n",
      " 4   RunTime      1690 non-null   int64  \n",
      " 5   Description  1690 non-null   object \n",
      " 6   IMDB_Score   1690 non-null   float64\n",
      "dtypes: float64(2), int64(2), object(3)\n",
      "memory usage: 92.6+ KB\n"
     ]
    }
   ],
   "source": [
    "df_replacecopy.info()"
   ]
  },
  {
   "cell_type": "code",
   "execution_count": 19,
   "metadata": {},
   "outputs": [
    {
     "data": {
      "text/html": [
       "<div>\n",
       "<style scoped>\n",
       "    .dataframe tbody tr th:only-of-type {\n",
       "        vertical-align: middle;\n",
       "    }\n",
       "\n",
       "    .dataframe tbody tr th {\n",
       "        vertical-align: top;\n",
       "    }\n",
       "\n",
       "    .dataframe thead th {\n",
       "        text-align: right;\n",
       "    }\n",
       "</style>\n",
       "<table border=\"1\" class=\"dataframe\">\n",
       "  <thead>\n",
       "    <tr style=\"text-align: right;\">\n",
       "      <th></th>\n",
       "      <th>ID</th>\n",
       "      <th>Year</th>\n",
       "      <th>RunTime</th>\n",
       "      <th>IMDB_Score</th>\n",
       "    </tr>\n",
       "  </thead>\n",
       "  <tbody>\n",
       "    <tr>\n",
       "      <th>count</th>\n",
       "      <td>1690.000000</td>\n",
       "      <td>1690.000000</td>\n",
       "      <td>1690.000000</td>\n",
       "      <td>1690.000000</td>\n",
       "    </tr>\n",
       "    <tr>\n",
       "      <th>mean</th>\n",
       "      <td>844.500000</td>\n",
       "      <td>2007.699408</td>\n",
       "      <td>34.124852</td>\n",
       "      <td>6.877337</td>\n",
       "    </tr>\n",
       "    <tr>\n",
       "      <th>std</th>\n",
       "      <td>488.005294</td>\n",
       "      <td>8.562220</td>\n",
       "      <td>32.333141</td>\n",
       "      <td>2.690564</td>\n",
       "    </tr>\n",
       "    <tr>\n",
       "      <th>min</th>\n",
       "      <td>0.000000</td>\n",
       "      <td>1952.000000</td>\n",
       "      <td>0.000000</td>\n",
       "      <td>0.000000</td>\n",
       "    </tr>\n",
       "    <tr>\n",
       "      <th>25%</th>\n",
       "      <td>422.250000</td>\n",
       "      <td>2001.000000</td>\n",
       "      <td>21.000000</td>\n",
       "      <td>6.900000</td>\n",
       "    </tr>\n",
       "    <tr>\n",
       "      <th>50%</th>\n",
       "      <td>844.500000</td>\n",
       "      <td>2008.000000</td>\n",
       "      <td>30.000000</td>\n",
       "      <td>7.800000</td>\n",
       "    </tr>\n",
       "    <tr>\n",
       "      <th>75%</th>\n",
       "      <td>1266.750000</td>\n",
       "      <td>2015.000000</td>\n",
       "      <td>43.000000</td>\n",
       "      <td>8.400000</td>\n",
       "    </tr>\n",
       "    <tr>\n",
       "      <th>max</th>\n",
       "      <td>1689.000000</td>\n",
       "      <td>2023.000000</td>\n",
       "      <td>527.000000</td>\n",
       "      <td>9.600000</td>\n",
       "    </tr>\n",
       "  </tbody>\n",
       "</table>\n",
       "</div>"
      ],
      "text/plain": [
       "                ID         Year      RunTime   IMDB_Score\n",
       "count  1690.000000  1690.000000  1690.000000  1690.000000\n",
       "mean    844.500000  2007.699408    34.124852     6.877337\n",
       "std     488.005294     8.562220    32.333141     2.690564\n",
       "min       0.000000  1952.000000     0.000000     0.000000\n",
       "25%     422.250000  2001.000000    21.000000     6.900000\n",
       "50%     844.500000  2008.000000    30.000000     7.800000\n",
       "75%    1266.750000  2015.000000    43.000000     8.400000\n",
       "max    1689.000000  2023.000000   527.000000     9.600000"
      ]
     },
     "execution_count": 19,
     "metadata": {},
     "output_type": "execute_result"
    }
   ],
   "source": [
    "df_replacecopy.describe()"
   ]
  },
  {
   "cell_type": "markdown",
   "metadata": {},
   "source": [
    "## Including all"
   ]
  },
  {
   "cell_type": "markdown",
   "metadata": {},
   "source": [
    "Display contents of table"
   ]
  },
  {
   "cell_type": "code",
   "execution_count": 20,
   "metadata": {},
   "outputs": [
    {
     "data": {
      "text/html": [
       "<div>\n",
       "<style scoped>\n",
       "    .dataframe tbody tr th:only-of-type {\n",
       "        vertical-align: middle;\n",
       "    }\n",
       "\n",
       "    .dataframe tbody tr th {\n",
       "        vertical-align: top;\n",
       "    }\n",
       "\n",
       "    .dataframe thead th {\n",
       "        text-align: right;\n",
       "    }\n",
       "</style>\n",
       "<table border=\"1\" class=\"dataframe\">\n",
       "  <thead>\n",
       "    <tr style=\"text-align: right;\">\n",
       "      <th></th>\n",
       "      <th>ID</th>\n",
       "      <th>Movie</th>\n",
       "      <th>Year</th>\n",
       "      <th>Genre</th>\n",
       "      <th>RunTime</th>\n",
       "      <th>Description</th>\n",
       "      <th>IMDB_Score</th>\n",
       "    </tr>\n",
       "  </thead>\n",
       "  <tbody>\n",
       "    <tr>\n",
       "      <th>count</th>\n",
       "      <td>1690.000000</td>\n",
       "      <td>1690</td>\n",
       "      <td>1690.000000</td>\n",
       "      <td>1690</td>\n",
       "      <td>1690.000000</td>\n",
       "      <td>1690</td>\n",
       "      <td>1690.000000</td>\n",
       "    </tr>\n",
       "    <tr>\n",
       "      <th>unique</th>\n",
       "      <td>NaN</td>\n",
       "      <td>314</td>\n",
       "      <td>NaN</td>\n",
       "      <td>90</td>\n",
       "      <td>NaN</td>\n",
       "      <td>1571</td>\n",
       "      <td>NaN</td>\n",
       "    </tr>\n",
       "    <tr>\n",
       "      <th>top</th>\n",
       "      <td>NaN</td>\n",
       "      <td>Smallville</td>\n",
       "      <td>NaN</td>\n",
       "      <td>Animation,Action,Adventure</td>\n",
       "      <td>NaN</td>\n",
       "      <td>a Plot</td>\n",
       "      <td>NaN</td>\n",
       "    </tr>\n",
       "    <tr>\n",
       "      <th>freq</th>\n",
       "      <td>NaN</td>\n",
       "      <td>176</td>\n",
       "      <td>NaN</td>\n",
       "      <td>446</td>\n",
       "      <td>NaN</td>\n",
       "      <td>117</td>\n",
       "      <td>NaN</td>\n",
       "    </tr>\n",
       "    <tr>\n",
       "      <th>mean</th>\n",
       "      <td>844.500000</td>\n",
       "      <td>NaN</td>\n",
       "      <td>2007.699408</td>\n",
       "      <td>NaN</td>\n",
       "      <td>34.124852</td>\n",
       "      <td>NaN</td>\n",
       "      <td>6.877337</td>\n",
       "    </tr>\n",
       "    <tr>\n",
       "      <th>std</th>\n",
       "      <td>488.005294</td>\n",
       "      <td>NaN</td>\n",
       "      <td>8.562220</td>\n",
       "      <td>NaN</td>\n",
       "      <td>32.333141</td>\n",
       "      <td>NaN</td>\n",
       "      <td>2.690564</td>\n",
       "    </tr>\n",
       "    <tr>\n",
       "      <th>min</th>\n",
       "      <td>0.000000</td>\n",
       "      <td>NaN</td>\n",
       "      <td>1952.000000</td>\n",
       "      <td>NaN</td>\n",
       "      <td>0.000000</td>\n",
       "      <td>NaN</td>\n",
       "      <td>0.000000</td>\n",
       "    </tr>\n",
       "    <tr>\n",
       "      <th>25%</th>\n",
       "      <td>422.250000</td>\n",
       "      <td>NaN</td>\n",
       "      <td>2001.000000</td>\n",
       "      <td>NaN</td>\n",
       "      <td>21.000000</td>\n",
       "      <td>NaN</td>\n",
       "      <td>6.900000</td>\n",
       "    </tr>\n",
       "    <tr>\n",
       "      <th>50%</th>\n",
       "      <td>844.500000</td>\n",
       "      <td>NaN</td>\n",
       "      <td>2008.000000</td>\n",
       "      <td>NaN</td>\n",
       "      <td>30.000000</td>\n",
       "      <td>NaN</td>\n",
       "      <td>7.800000</td>\n",
       "    </tr>\n",
       "    <tr>\n",
       "      <th>75%</th>\n",
       "      <td>1266.750000</td>\n",
       "      <td>NaN</td>\n",
       "      <td>2015.000000</td>\n",
       "      <td>NaN</td>\n",
       "      <td>43.000000</td>\n",
       "      <td>NaN</td>\n",
       "      <td>8.400000</td>\n",
       "    </tr>\n",
       "    <tr>\n",
       "      <th>max</th>\n",
       "      <td>1689.000000</td>\n",
       "      <td>NaN</td>\n",
       "      <td>2023.000000</td>\n",
       "      <td>NaN</td>\n",
       "      <td>527.000000</td>\n",
       "      <td>NaN</td>\n",
       "      <td>9.600000</td>\n",
       "    </tr>\n",
       "  </tbody>\n",
       "</table>\n",
       "</div>"
      ],
      "text/plain": [
       "                 ID       Movie         Year                       Genre  \\\n",
       "count   1690.000000        1690  1690.000000                        1690   \n",
       "unique          NaN         314          NaN                          90   \n",
       "top             NaN  Smallville          NaN  Animation,Action,Adventure   \n",
       "freq            NaN         176          NaN                         446   \n",
       "mean     844.500000         NaN  2007.699408                         NaN   \n",
       "std      488.005294         NaN     8.562220                         NaN   \n",
       "min        0.000000         NaN  1952.000000                         NaN   \n",
       "25%      422.250000         NaN  2001.000000                         NaN   \n",
       "50%      844.500000         NaN  2008.000000                         NaN   \n",
       "75%     1266.750000         NaN  2015.000000                         NaN   \n",
       "max     1689.000000         NaN  2023.000000                         NaN   \n",
       "\n",
       "            RunTime Description   IMDB_Score  \n",
       "count   1690.000000        1690  1690.000000  \n",
       "unique          NaN        1571          NaN  \n",
       "top             NaN      a Plot          NaN  \n",
       "freq            NaN         117          NaN  \n",
       "mean      34.124852         NaN     6.877337  \n",
       "std       32.333141         NaN     2.690564  \n",
       "min        0.000000         NaN     0.000000  \n",
       "25%       21.000000         NaN     6.900000  \n",
       "50%       30.000000         NaN     7.800000  \n",
       "75%       43.000000         NaN     8.400000  \n",
       "max      527.000000         NaN     9.600000  "
      ]
     },
     "execution_count": 20,
     "metadata": {},
     "output_type": "execute_result"
    }
   ],
   "source": [
    "df_replacecopy.describe(include='all')"
   ]
  },
  {
   "cell_type": "markdown",
   "metadata": {},
   "source": [
    "# New save"
   ]
  },
  {
   "cell_type": "markdown",
   "metadata": {},
   "source": [
    "Saving file to local folder"
   ]
  },
  {
   "cell_type": "code",
   "execution_count": 21,
   "metadata": {},
   "outputs": [],
   "source": [
    "import os\n",
    "\n",
    "output_dir = r\"c:/Users/richard/Downloads/Syron Folder/Assignents/MATHEDA/FINAL WK EDA/raw\"\n",
    "if not os.path.exists(output_dir):\n",
    "    os.makedirs(output_dir)\n",
    "\n",
    "df_replacecopy.to_csv(os.path.join(output_dir, \"vs-dataset-cleaned.csv\"), index=False)"
   ]
  },
  {
   "cell_type": "markdown",
   "metadata": {},
   "source": [
    "<hr style=\\\"border:2.5px solid #126782\\\"></hr>"
   ]
  },
  {
   "cell_type": "markdown",
   "metadata": {},
   "source": [
    "# **Data Visualization**"
   ]
  },
  {
   "cell_type": "markdown",
   "metadata": {},
   "source": []
  },
  {
   "cell_type": "code",
   "execution_count": 22,
   "metadata": {},
   "outputs": [
    {
     "name": "stdout",
     "output_type": "stream",
     "text": [
      "<class 'pandas.core.frame.DataFrame'>\n",
      "RangeIndex: 1690 entries, 0 to 1689\n",
      "Data columns (total 7 columns):\n",
      " #   Column       Non-Null Count  Dtype  \n",
      "---  ------       --------------  -----  \n",
      " 0   ID           1690 non-null   int64  \n",
      " 1   Movie        1690 non-null   object \n",
      " 2   Year         1690 non-null   float64\n",
      " 3   Genre        1690 non-null   object \n",
      " 4   RunTime      1690 non-null   int64  \n",
      " 5   Description  1690 non-null   object \n",
      " 6   IMDB_Score   1690 non-null   float64\n",
      "dtypes: float64(2), int64(2), object(3)\n",
      "memory usage: 92.6+ KB\n"
     ]
    }
   ],
   "source": [
    "df = pd.read_csv(r\"c:/Users/richard/Downloads/Syron Folder/Assignents/MATHEDA/FINAL WK EDA/raw/vs-dataset-cleaned.csv\",\n",
    "                 delimiter=\",\", encoding='ISO-8859-1')\n",
    "df.info()"
   ]
  },
  {
   "cell_type": "markdown",
   "metadata": {},
   "source": [
    "# RUN TIME"
   ]
  },
  {
   "cell_type": "markdown",
   "metadata": {},
   "source": [
    "Different Run Time characteristics categorized"
   ]
  },
  {
   "cell_type": "code",
   "execution_count": 23,
   "metadata": {},
   "outputs": [
    {
     "name": "stdout",
     "output_type": "stream",
     "text": [
      "Mean Runtime: 34.12485207100592 minutes\n"
     ]
    },
    {
     "data": {
      "text/html": [
       "<div>\n",
       "<style scoped>\n",
       "    .dataframe tbody tr th:only-of-type {\n",
       "        vertical-align: middle;\n",
       "    }\n",
       "\n",
       "    .dataframe tbody tr th {\n",
       "        vertical-align: top;\n",
       "    }\n",
       "\n",
       "    .dataframe thead th {\n",
       "        text-align: right;\n",
       "    }\n",
       "</style>\n",
       "<table border=\"1\" class=\"dataframe\">\n",
       "  <thead>\n",
       "    <tr style=\"text-align: right;\">\n",
       "      <th></th>\n",
       "      <th>RunTime</th>\n",
       "    </tr>\n",
       "  </thead>\n",
       "  <tbody>\n",
       "    <tr>\n",
       "      <th>count</th>\n",
       "      <td>1690.000000</td>\n",
       "    </tr>\n",
       "    <tr>\n",
       "      <th>mean</th>\n",
       "      <td>34.124852</td>\n",
       "    </tr>\n",
       "    <tr>\n",
       "      <th>std</th>\n",
       "      <td>32.333141</td>\n",
       "    </tr>\n",
       "    <tr>\n",
       "      <th>min</th>\n",
       "      <td>0.000000</td>\n",
       "    </tr>\n",
       "    <tr>\n",
       "      <th>25%</th>\n",
       "      <td>21.000000</td>\n",
       "    </tr>\n",
       "    <tr>\n",
       "      <th>50%</th>\n",
       "      <td>30.000000</td>\n",
       "    </tr>\n",
       "    <tr>\n",
       "      <th>75%</th>\n",
       "      <td>43.000000</td>\n",
       "    </tr>\n",
       "    <tr>\n",
       "      <th>max</th>\n",
       "      <td>527.000000</td>\n",
       "    </tr>\n",
       "  </tbody>\n",
       "</table>\n",
       "</div>"
      ],
      "text/plain": [
       "           RunTime\n",
       "count  1690.000000\n",
       "mean     34.124852\n",
       "std      32.333141\n",
       "min       0.000000\n",
       "25%      21.000000\n",
       "50%      30.000000\n",
       "75%      43.000000\n",
       "max     527.000000"
      ]
     },
     "execution_count": 23,
     "metadata": {},
     "output_type": "execute_result"
    }
   ],
   "source": [
    "numeric_features = ['RunTime']\n",
    "mean_runtime = df['RunTime'].mean()\n",
    "print(f\"Mean Runtime: {mean_runtime} minutes\")\n",
    "df[numeric_features].describe()"
   ]
  },
  {
   "cell_type": "code",
   "execution_count": 26,
   "metadata": {},
   "outputs": [
    {
     "data": {
      "application/vnd.plotly.v1+json": {
       "config": {
        "plotlyServerURL": "https://plot.ly"
       },
       "data": [
        {
         "alignmentgroup": "True",
         "hovertemplate": "RunTime (in minutes)=%{y}<extra></extra>",
         "legendgroup": "",
         "marker": {
          "color": "#636efa"
         },
         "name": "",
         "notched": false,
         "offsetgroup": "",
         "orientation": "v",
         "showlegend": false,
         "type": "box",
         "x0": " ",
         "xaxis": "x",
         "y": {
          "bdata": "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",
          "dtype": "i2"
         },
         "y0": " ",
         "yaxis": "y"
        }
       ],
       "layout": {
        "boxmode": "group",
        "legend": {
         "tracegroupgap": 0
        },
        "template": {
         "data": {
          "bar": [
           {
            "error_x": {
             "color": "#2a3f5f"
            },
            "error_y": {
             "color": "#2a3f5f"
            },
            "marker": {
             "line": {
              "color": "#E5ECF6",
              "width": 0.5
             },
             "pattern": {
              "fillmode": "overlay",
              "size": 10,
              "solidity": 0.2
             }
            },
            "type": "bar"
           }
          ],
          "barpolar": [
           {
            "marker": {
             "line": {
              "color": "#E5ECF6",
              "width": 0.5
             },
             "pattern": {
              "fillmode": "overlay",
              "size": 10,
              "solidity": 0.2
             }
            },
            "type": "barpolar"
           }
          ],
          "carpet": [
           {
            "aaxis": {
             "endlinecolor": "#2a3f5f",
             "gridcolor": "white",
             "linecolor": "white",
             "minorgridcolor": "white",
             "startlinecolor": "#2a3f5f"
            },
            "baxis": {
             "endlinecolor": "#2a3f5f",
             "gridcolor": "white",
             "linecolor": "white",
             "minorgridcolor": "white",
             "startlinecolor": "#2a3f5f"
            },
            "type": "carpet"
           }
          ],
          "choropleth": [
           {
            "colorbar": {
             "outlinewidth": 0,
             "ticks": ""
            },
            "type": "choropleth"
           }
          ],
          "contour": [
           {
            "colorbar": {
             "outlinewidth": 0,
             "ticks": ""
            },
            "colorscale": [
             [
              0,
              "#0d0887"
             ],
             [
              0.1111111111111111,
              "#46039f"
             ],
             [
              0.2222222222222222,
              "#7201a8"
             ],
             [
              0.3333333333333333,
              "#9c179e"
             ],
             [
              0.4444444444444444,
              "#bd3786"
             ],
             [
              0.5555555555555556,
              "#d8576b"
             ],
             [
              0.6666666666666666,
              "#ed7953"
             ],
             [
              0.7777777777777778,
              "#fb9f3a"
             ],
             [
              0.8888888888888888,
              "#fdca26"
             ],
             [
              1,
              "#f0f921"
             ]
            ],
            "type": "contour"
           }
          ],
          "contourcarpet": [
           {
            "colorbar": {
             "outlinewidth": 0,
             "ticks": ""
            },
            "type": "contourcarpet"
           }
          ],
          "heatmap": [
           {
            "colorbar": {
             "outlinewidth": 0,
             "ticks": ""
            },
            "colorscale": [
             [
              0,
              "#0d0887"
             ],
             [
              0.1111111111111111,
              "#46039f"
             ],
             [
              0.2222222222222222,
              "#7201a8"
             ],
             [
              0.3333333333333333,
              "#9c179e"
             ],
             [
              0.4444444444444444,
              "#bd3786"
             ],
             [
              0.5555555555555556,
              "#d8576b"
             ],
             [
              0.6666666666666666,
              "#ed7953"
             ],
             [
              0.7777777777777778,
              "#fb9f3a"
             ],
             [
              0.8888888888888888,
              "#fdca26"
             ],
             [
              1,
              "#f0f921"
             ]
            ],
            "type": "heatmap"
           }
          ],
          "histogram": [
           {
            "marker": {
             "pattern": {
              "fillmode": "overlay",
              "size": 10,
              "solidity": 0.2
             }
            },
            "type": "histogram"
           }
          ],
          "histogram2d": [
           {
            "colorbar": {
             "outlinewidth": 0,
             "ticks": ""
            },
            "colorscale": [
             [
              0,
              "#0d0887"
             ],
             [
              0.1111111111111111,
              "#46039f"
             ],
             [
              0.2222222222222222,
              "#7201a8"
             ],
             [
              0.3333333333333333,
              "#9c179e"
             ],
             [
              0.4444444444444444,
              "#bd3786"
             ],
             [
              0.5555555555555556,
              "#d8576b"
             ],
             [
              0.6666666666666666,
              "#ed7953"
             ],
             [
              0.7777777777777778,
              "#fb9f3a"
             ],
             [
              0.8888888888888888,
              "#fdca26"
             ],
             [
              1,
              "#f0f921"
             ]
            ],
            "type": "histogram2d"
           }
          ],
          "histogram2dcontour": [
           {
            "colorbar": {
             "outlinewidth": 0,
             "ticks": ""
            },
            "colorscale": [
             [
              0,
              "#0d0887"
             ],
             [
              0.1111111111111111,
              "#46039f"
             ],
             [
              0.2222222222222222,
              "#7201a8"
             ],
             [
              0.3333333333333333,
              "#9c179e"
             ],
             [
              0.4444444444444444,
              "#bd3786"
             ],
             [
              0.5555555555555556,
              "#d8576b"
             ],
             [
              0.6666666666666666,
              "#ed7953"
             ],
             [
              0.7777777777777778,
              "#fb9f3a"
             ],
             [
              0.8888888888888888,
              "#fdca26"
             ],
             [
              1,
              "#f0f921"
             ]
            ],
            "type": "histogram2dcontour"
           }
          ],
          "mesh3d": [
           {
            "colorbar": {
             "outlinewidth": 0,
             "ticks": ""
            },
            "type": "mesh3d"
           }
          ],
          "parcoords": [
           {
            "line": {
             "colorbar": {
              "outlinewidth": 0,
              "ticks": ""
             }
            },
            "type": "parcoords"
           }
          ],
          "pie": [
           {
            "automargin": true,
            "type": "pie"
           }
          ],
          "scatter": [
           {
            "fillpattern": {
             "fillmode": "overlay",
             "size": 10,
             "solidity": 0.2
            },
            "type": "scatter"
           }
          ],
          "scatter3d": [
           {
            "line": {
             "colorbar": {
              "outlinewidth": 0,
              "ticks": ""
             }
            },
            "marker": {
             "colorbar": {
              "outlinewidth": 0,
              "ticks": ""
             }
            },
            "type": "scatter3d"
           }
          ],
          "scattercarpet": [
           {
            "marker": {
             "colorbar": {
              "outlinewidth": 0,
              "ticks": ""
             }
            },
            "type": "scattercarpet"
           }
          ],
          "scattergeo": [
           {
            "marker": {
             "colorbar": {
              "outlinewidth": 0,
              "ticks": ""
             }
            },
            "type": "scattergeo"
           }
          ],
          "scattergl": [
           {
            "marker": {
             "colorbar": {
              "outlinewidth": 0,
              "ticks": ""
             }
            },
            "type": "scattergl"
           }
          ],
          "scattermap": [
           {
            "marker": {
             "colorbar": {
              "outlinewidth": 0,
              "ticks": ""
             }
            },
            "type": "scattermap"
           }
          ],
          "scattermapbox": [
           {
            "marker": {
             "colorbar": {
              "outlinewidth": 0,
              "ticks": ""
             }
            },
            "type": "scattermapbox"
           }
          ],
          "scatterpolar": [
           {
            "marker": {
             "colorbar": {
              "outlinewidth": 0,
              "ticks": ""
             }
            },
            "type": "scatterpolar"
           }
          ],
          "scatterpolargl": [
           {
            "marker": {
             "colorbar": {
              "outlinewidth": 0,
              "ticks": ""
             }
            },
            "type": "scatterpolargl"
           }
          ],
          "scatterternary": [
           {
            "marker": {
             "colorbar": {
              "outlinewidth": 0,
              "ticks": ""
             }
            },
            "type": "scatterternary"
           }
          ],
          "surface": [
           {
            "colorbar": {
             "outlinewidth": 0,
             "ticks": ""
            },
            "colorscale": [
             [
              0,
              "#0d0887"
             ],
             [
              0.1111111111111111,
              "#46039f"
             ],
             [
              0.2222222222222222,
              "#7201a8"
             ],
             [
              0.3333333333333333,
              "#9c179e"
             ],
             [
              0.4444444444444444,
              "#bd3786"
             ],
             [
              0.5555555555555556,
              "#d8576b"
             ],
             [
              0.6666666666666666,
              "#ed7953"
             ],
             [
              0.7777777777777778,
              "#fb9f3a"
             ],
             [
              0.8888888888888888,
              "#fdca26"
             ],
             [
              1,
              "#f0f921"
             ]
            ],
            "type": "surface"
           }
          ],
          "table": [
           {
            "cells": {
             "fill": {
              "color": "#EBF0F8"
             },
             "line": {
              "color": "white"
             }
            },
            "header": {
             "fill": {
              "color": "#C8D4E3"
             },
             "line": {
              "color": "white"
             }
            },
            "type": "table"
           }
          ]
         },
         "layout": {
          "annotationdefaults": {
           "arrowcolor": "#2a3f5f",
           "arrowhead": 0,
           "arrowwidth": 1
          },
          "autotypenumbers": "strict",
          "coloraxis": {
           "colorbar": {
            "outlinewidth": 0,
            "ticks": ""
           }
          },
          "colorscale": {
           "diverging": [
            [
             0,
             "#8e0152"
            ],
            [
             0.1,
             "#c51b7d"
            ],
            [
             0.2,
             "#de77ae"
            ],
            [
             0.3,
             "#f1b6da"
            ],
            [
             0.4,
             "#fde0ef"
            ],
            [
             0.5,
             "#f7f7f7"
            ],
            [
             0.6,
             "#e6f5d0"
            ],
            [
             0.7,
             "#b8e186"
            ],
            [
             0.8,
             "#7fbc41"
            ],
            [
             0.9,
             "#4d9221"
            ],
            [
             1,
             "#276419"
            ]
           ],
           "sequential": [
            [
             0,
             "#0d0887"
            ],
            [
             0.1111111111111111,
             "#46039f"
            ],
            [
             0.2222222222222222,
             "#7201a8"
            ],
            [
             0.3333333333333333,
             "#9c179e"
            ],
            [
             0.4444444444444444,
             "#bd3786"
            ],
            [
             0.5555555555555556,
             "#d8576b"
            ],
            [
             0.6666666666666666,
             "#ed7953"
            ],
            [
             0.7777777777777778,
             "#fb9f3a"
            ],
            [
             0.8888888888888888,
             "#fdca26"
            ],
            [
             1,
             "#f0f921"
            ]
           ],
           "sequentialminus": [
            [
             0,
             "#0d0887"
            ],
            [
             0.1111111111111111,
             "#46039f"
            ],
            [
             0.2222222222222222,
             "#7201a8"
            ],
            [
             0.3333333333333333,
             "#9c179e"
            ],
            [
             0.4444444444444444,
             "#bd3786"
            ],
            [
             0.5555555555555556,
             "#d8576b"
            ],
            [
             0.6666666666666666,
             "#ed7953"
            ],
            [
             0.7777777777777778,
             "#fb9f3a"
            ],
            [
             0.8888888888888888,
             "#fdca26"
            ],
            [
             1,
             "#f0f921"
            ]
           ]
          },
          "colorway": [
           "#636efa",
           "#EF553B",
           "#00cc96",
           "#ab63fa",
           "#FFA15A",
           "#19d3f3",
           "#FF6692",
           "#B6E880",
           "#FF97FF",
           "#FECB52"
          ],
          "font": {
           "color": "#2a3f5f"
          },
          "geo": {
           "bgcolor": "white",
           "lakecolor": "white",
           "landcolor": "#E5ECF6",
           "showlakes": true,
           "showland": true,
           "subunitcolor": "white"
          },
          "hoverlabel": {
           "align": "left"
          },
          "hovermode": "closest",
          "mapbox": {
           "style": "light"
          },
          "paper_bgcolor": "white",
          "plot_bgcolor": "#E5ECF6",
          "polar": {
           "angularaxis": {
            "gridcolor": "white",
            "linecolor": "white",
            "ticks": ""
           },
           "bgcolor": "#E5ECF6",
           "radialaxis": {
            "gridcolor": "white",
            "linecolor": "white",
            "ticks": ""
           }
          },
          "scene": {
           "xaxis": {
            "backgroundcolor": "#E5ECF6",
            "gridcolor": "white",
            "gridwidth": 2,
            "linecolor": "white",
            "showbackground": true,
            "ticks": "",
            "zerolinecolor": "white"
           },
           "yaxis": {
            "backgroundcolor": "#E5ECF6",
            "gridcolor": "white",
            "gridwidth": 2,
            "linecolor": "white",
            "showbackground": true,
            "ticks": "",
            "zerolinecolor": "white"
           },
           "zaxis": {
            "backgroundcolor": "#E5ECF6",
            "gridcolor": "white",
            "gridwidth": 2,
            "linecolor": "white",
            "showbackground": true,
            "ticks": "",
            "zerolinecolor": "white"
           }
          },
          "shapedefaults": {
           "line": {
            "color": "#2a3f5f"
           }
          },
          "ternary": {
           "aaxis": {
            "gridcolor": "white",
            "linecolor": "white",
            "ticks": ""
           },
           "baxis": {
            "gridcolor": "white",
            "linecolor": "white",
            "ticks": ""
           },
           "bgcolor": "#E5ECF6",
           "caxis": {
            "gridcolor": "white",
            "linecolor": "white",
            "ticks": ""
           }
          },
          "title": {
           "x": 0.05
          },
          "xaxis": {
           "automargin": true,
           "gridcolor": "white",
           "linecolor": "white",
           "ticks": "",
           "title": {
            "standoff": 15
           },
           "zerolinecolor": "white",
           "zerolinewidth": 2
          },
          "yaxis": {
           "automargin": true,
           "gridcolor": "white",
           "linecolor": "white",
           "ticks": "",
           "title": {
            "standoff": 15
           },
           "zerolinecolor": "white",
           "zerolinewidth": 2
          }
         }
        },
        "title": {
         "text": "Distribution of RunTime"
        },
        "xaxis": {
         "anchor": "y",
         "domain": [
          0,
          1
         ]
        },
        "yaxis": {
         "anchor": "x",
         "domain": [
          0,
          1
         ],
         "title": {
          "text": "RunTime (in minutes)"
         }
        }
       }
      }
     },
     "metadata": {},
     "output_type": "display_data"
    }
   ],
   "source": [
    "\n",
    "fig = px.box(df, y='RunTime', title='Distribution of RunTime',\n",
    "             labels={'RunTime': 'RunTime (in minutes)'})\n",
    "fig.show()"
   ]
  },
  {
   "cell_type": "markdown",
   "metadata": {},
   "source": [
    "## TOP LOWEST Average RUN TIME"
   ]
  },
  {
   "cell_type": "code",
   "execution_count": 29,
   "metadata": {},
   "outputs": [
    {
     "name": "stdout",
     "output_type": "stream",
     "text": [
      "                                   Movie  RunTime\n",
      "70               DC Nation's Farm League      1.0\n",
      "93                           Green Arrow      1.0\n",
      "22         Batman Heroes: Alexander Knox      2.0\n",
      "23    Batman Heroes: Commissioner Gordon      2.0\n",
      "24            Batman Heroes: Harvey Dent      2.0\n",
      "25             Batman Heroes: Vicki Vale      2.0\n",
      "31   Batman Returns Villains: Max Shreck      2.0\n",
      "33         Batman Villains: Bob the Goon      2.0\n",
      "91                          Gotham Girls      2.0\n",
      "131                                 Lobo      2.0\n"
     ]
    },
    {
     "data": {
      "application/vnd.plotly.v1+json": {
       "config": {
        "plotlyServerURL": "https://plot.ly"
       },
       "data": [
        {
         "hovertemplate": "Runtime (Minutes)=%{marker.color}<br>Movie Title=%{y}<extra></extra>",
         "legendgroup": "",
         "marker": {
          "color": {
           "bdata": "AAAAAAAA8D8AAAAAAADwPwAAAAAAAABAAAAAAAAAAEAAAAAAAAAAQAAAAAAAAABAAAAAAAAAAEAAAAAAAAAAQAAAAAAAAABAAAAAAAAAAEA=",
           "dtype": "f8"
          },
          "coloraxis": "coloraxis",
          "line": {
           "color": "black",
           "width": 1
          },
          "pattern": {
           "shape": ""
          }
         },
         "name": "",
         "orientation": "h",
         "showlegend": false,
         "text": {
          "bdata": "AAAAAAAA8D8AAAAAAADwPwAAAAAAAABAAAAAAAAAAEAAAAAAAAAAQAAAAAAAAABAAAAAAAAAAEAAAAAAAAAAQAAAAAAAAABAAAAAAAAAAEA=",
          "dtype": "f8"
         },
         "textposition": "outside",
         "texttemplate": "%{x:.0f}",
         "type": "bar",
         "x": {
          "bdata": "AAAAAAAA8D8AAAAAAADwPwAAAAAAAABAAAAAAAAAAEAAAAAAAAAAQAAAAAAAAABAAAAAAAAAAEAAAAAAAAAAQAAAAAAAAABAAAAAAAAAAEA=",
          "dtype": "f8"
         },
         "xaxis": "x",
         "y": [
          "DC Nation's Farm League",
          "Green Arrow",
          "Batman Heroes: Alexander Knox",
          "Batman Heroes: Commissioner Gordon",
          "Batman Heroes: Harvey Dent",
          "Batman Heroes: Vicki Vale",
          "Batman Returns Villains: Max Shreck",
          "Batman Villains: Bob the Goon",
          "Gotham Girls",
          "Lobo"
         ],
         "yaxis": "y"
        }
       ],
       "layout": {
        "barmode": "relative",
        "coloraxis": {
         "colorbar": {
          "title": {
           "text": "Runtime (Minutes)"
          }
         },
         "colorscale": [
          [
           0,
           "#0d0887"
          ],
          [
           0.1111111111111111,
           "#46039f"
          ],
          [
           0.2222222222222222,
           "#7201a8"
          ],
          [
           0.3333333333333333,
           "#9c179e"
          ],
          [
           0.4444444444444444,
           "#bd3786"
          ],
          [
           0.5555555555555556,
           "#d8576b"
          ],
          [
           0.6666666666666666,
           "#ed7953"
          ],
          [
           0.7777777777777778,
           "#fb9f3a"
          ],
          [
           0.8888888888888888,
           "#fdca26"
          ],
          [
           1,
           "#f0f921"
          ]
         ]
        },
        "legend": {
         "tracegroupgap": 0
        },
        "paper_bgcolor": "white",
        "plot_bgcolor": "white",
        "template": {
         "data": {
          "bar": [
           {
            "error_x": {
             "color": "#2a3f5f"
            },
            "error_y": {
             "color": "#2a3f5f"
            },
            "marker": {
             "line": {
              "color": "#E5ECF6",
              "width": 0.5
             },
             "pattern": {
              "fillmode": "overlay",
              "size": 10,
              "solidity": 0.2
             }
            },
            "type": "bar"
           }
          ],
          "barpolar": [
           {
            "marker": {
             "line": {
              "color": "#E5ECF6",
              "width": 0.5
             },
             "pattern": {
              "fillmode": "overlay",
              "size": 10,
              "solidity": 0.2
             }
            },
            "type": "barpolar"
           }
          ],
          "carpet": [
           {
            "aaxis": {
             "endlinecolor": "#2a3f5f",
             "gridcolor": "white",
             "linecolor": "white",
             "minorgridcolor": "white",
             "startlinecolor": "#2a3f5f"
            },
            "baxis": {
             "endlinecolor": "#2a3f5f",
             "gridcolor": "white",
             "linecolor": "white",
             "minorgridcolor": "white",
             "startlinecolor": "#2a3f5f"
            },
            "type": "carpet"
           }
          ],
          "choropleth": [
           {
            "colorbar": {
             "outlinewidth": 0,
             "ticks": ""
            },
            "type": "choropleth"
           }
          ],
          "contour": [
           {
            "colorbar": {
             "outlinewidth": 0,
             "ticks": ""
            },
            "colorscale": [
             [
              0,
              "#0d0887"
             ],
             [
              0.1111111111111111,
              "#46039f"
             ],
             [
              0.2222222222222222,
              "#7201a8"
             ],
             [
              0.3333333333333333,
              "#9c179e"
             ],
             [
              0.4444444444444444,
              "#bd3786"
             ],
             [
              0.5555555555555556,
              "#d8576b"
             ],
             [
              0.6666666666666666,
              "#ed7953"
             ],
             [
              0.7777777777777778,
              "#fb9f3a"
             ],
             [
              0.8888888888888888,
              "#fdca26"
             ],
             [
              1,
              "#f0f921"
             ]
            ],
            "type": "contour"
           }
          ],
          "contourcarpet": [
           {
            "colorbar": {
             "outlinewidth": 0,
             "ticks": ""
            },
            "type": "contourcarpet"
           }
          ],
          "heatmap": [
           {
            "colorbar": {
             "outlinewidth": 0,
             "ticks": ""
            },
            "colorscale": [
             [
              0,
              "#0d0887"
             ],
             [
              0.1111111111111111,
              "#46039f"
             ],
             [
              0.2222222222222222,
              "#7201a8"
             ],
             [
              0.3333333333333333,
              "#9c179e"
             ],
             [
              0.4444444444444444,
              "#bd3786"
             ],
             [
              0.5555555555555556,
              "#d8576b"
             ],
             [
              0.6666666666666666,
              "#ed7953"
             ],
             [
              0.7777777777777778,
              "#fb9f3a"
             ],
             [
              0.8888888888888888,
              "#fdca26"
             ],
             [
              1,
              "#f0f921"
             ]
            ],
            "type": "heatmap"
           }
          ],
          "histogram": [
           {
            "marker": {
             "pattern": {
              "fillmode": "overlay",
              "size": 10,
              "solidity": 0.2
             }
            },
            "type": "histogram"
           }
          ],
          "histogram2d": [
           {
            "colorbar": {
             "outlinewidth": 0,
             "ticks": ""
            },
            "colorscale": [
             [
              0,
              "#0d0887"
             ],
             [
              0.1111111111111111,
              "#46039f"
             ],
             [
              0.2222222222222222,
              "#7201a8"
             ],
             [
              0.3333333333333333,
              "#9c179e"
             ],
             [
              0.4444444444444444,
              "#bd3786"
             ],
             [
              0.5555555555555556,
              "#d8576b"
             ],
             [
              0.6666666666666666,
              "#ed7953"
             ],
             [
              0.7777777777777778,
              "#fb9f3a"
             ],
             [
              0.8888888888888888,
              "#fdca26"
             ],
             [
              1,
              "#f0f921"
             ]
            ],
            "type": "histogram2d"
           }
          ],
          "histogram2dcontour": [
           {
            "colorbar": {
             "outlinewidth": 0,
             "ticks": ""
            },
            "colorscale": [
             [
              0,
              "#0d0887"
             ],
             [
              0.1111111111111111,
              "#46039f"
             ],
             [
              0.2222222222222222,
              "#7201a8"
             ],
             [
              0.3333333333333333,
              "#9c179e"
             ],
             [
              0.4444444444444444,
              "#bd3786"
             ],
             [
              0.5555555555555556,
              "#d8576b"
             ],
             [
              0.6666666666666666,
              "#ed7953"
             ],
             [
              0.7777777777777778,
              "#fb9f3a"
             ],
             [
              0.8888888888888888,
              "#fdca26"
             ],
             [
              1,
              "#f0f921"
             ]
            ],
            "type": "histogram2dcontour"
           }
          ],
          "mesh3d": [
           {
            "colorbar": {
             "outlinewidth": 0,
             "ticks": ""
            },
            "type": "mesh3d"
           }
          ],
          "parcoords": [
           {
            "line": {
             "colorbar": {
              "outlinewidth": 0,
              "ticks": ""
             }
            },
            "type": "parcoords"
           }
          ],
          "pie": [
           {
            "automargin": true,
            "type": "pie"
           }
          ],
          "scatter": [
           {
            "fillpattern": {
             "fillmode": "overlay",
             "size": 10,
             "solidity": 0.2
            },
            "type": "scatter"
           }
          ],
          "scatter3d": [
           {
            "line": {
             "colorbar": {
              "outlinewidth": 0,
              "ticks": ""
             }
            },
            "marker": {
             "colorbar": {
              "outlinewidth": 0,
              "ticks": ""
             }
            },
            "type": "scatter3d"
           }
          ],
          "scattercarpet": [
           {
            "marker": {
             "colorbar": {
              "outlinewidth": 0,
              "ticks": ""
             }
            },
            "type": "scattercarpet"
           }
          ],
          "scattergeo": [
           {
            "marker": {
             "colorbar": {
              "outlinewidth": 0,
              "ticks": ""
             }
            },
            "type": "scattergeo"
           }
          ],
          "scattergl": [
           {
            "marker": {
             "colorbar": {
              "outlinewidth": 0,
              "ticks": ""
             }
            },
            "type": "scattergl"
           }
          ],
          "scattermap": [
           {
            "marker": {
             "colorbar": {
              "outlinewidth": 0,
              "ticks": ""
             }
            },
            "type": "scattermap"
           }
          ],
          "scattermapbox": [
           {
            "marker": {
             "colorbar": {
              "outlinewidth": 0,
              "ticks": ""
             }
            },
            "type": "scattermapbox"
           }
          ],
          "scatterpolar": [
           {
            "marker": {
             "colorbar": {
              "outlinewidth": 0,
              "ticks": ""
             }
            },
            "type": "scatterpolar"
           }
          ],
          "scatterpolargl": [
           {
            "marker": {
             "colorbar": {
              "outlinewidth": 0,
              "ticks": ""
             }
            },
            "type": "scatterpolargl"
           }
          ],
          "scatterternary": [
           {
            "marker": {
             "colorbar": {
              "outlinewidth": 0,
              "ticks": ""
             }
            },
            "type": "scatterternary"
           }
          ],
          "surface": [
           {
            "colorbar": {
             "outlinewidth": 0,
             "ticks": ""
            },
            "colorscale": [
             [
              0,
              "#0d0887"
             ],
             [
              0.1111111111111111,
              "#46039f"
             ],
             [
              0.2222222222222222,
              "#7201a8"
             ],
             [
              0.3333333333333333,
              "#9c179e"
             ],
             [
              0.4444444444444444,
              "#bd3786"
             ],
             [
              0.5555555555555556,
              "#d8576b"
             ],
             [
              0.6666666666666666,
              "#ed7953"
             ],
             [
              0.7777777777777778,
              "#fb9f3a"
             ],
             [
              0.8888888888888888,
              "#fdca26"
             ],
             [
              1,
              "#f0f921"
             ]
            ],
            "type": "surface"
           }
          ],
          "table": [
           {
            "cells": {
             "fill": {
              "color": "#EBF0F8"
             },
             "line": {
              "color": "white"
             }
            },
            "header": {
             "fill": {
              "color": "#C8D4E3"
             },
             "line": {
              "color": "white"
             }
            },
            "type": "table"
           }
          ]
         },
         "layout": {
          "annotationdefaults": {
           "arrowcolor": "#2a3f5f",
           "arrowhead": 0,
           "arrowwidth": 1
          },
          "autotypenumbers": "strict",
          "coloraxis": {
           "colorbar": {
            "outlinewidth": 0,
            "ticks": ""
           }
          },
          "colorscale": {
           "diverging": [
            [
             0,
             "#8e0152"
            ],
            [
             0.1,
             "#c51b7d"
            ],
            [
             0.2,
             "#de77ae"
            ],
            [
             0.3,
             "#f1b6da"
            ],
            [
             0.4,
             "#fde0ef"
            ],
            [
             0.5,
             "#f7f7f7"
            ],
            [
             0.6,
             "#e6f5d0"
            ],
            [
             0.7,
             "#b8e186"
            ],
            [
             0.8,
             "#7fbc41"
            ],
            [
             0.9,
             "#4d9221"
            ],
            [
             1,
             "#276419"
            ]
           ],
           "sequential": [
            [
             0,
             "#0d0887"
            ],
            [
             0.1111111111111111,
             "#46039f"
            ],
            [
             0.2222222222222222,
             "#7201a8"
            ],
            [
             0.3333333333333333,
             "#9c179e"
            ],
            [
             0.4444444444444444,
             "#bd3786"
            ],
            [
             0.5555555555555556,
             "#d8576b"
            ],
            [
             0.6666666666666666,
             "#ed7953"
            ],
            [
             0.7777777777777778,
             "#fb9f3a"
            ],
            [
             0.8888888888888888,
             "#fdca26"
            ],
            [
             1,
             "#f0f921"
            ]
           ],
           "sequentialminus": [
            [
             0,
             "#0d0887"
            ],
            [
             0.1111111111111111,
             "#46039f"
            ],
            [
             0.2222222222222222,
             "#7201a8"
            ],
            [
             0.3333333333333333,
             "#9c179e"
            ],
            [
             0.4444444444444444,
             "#bd3786"
            ],
            [
             0.5555555555555556,
             "#d8576b"
            ],
            [
             0.6666666666666666,
             "#ed7953"
            ],
            [
             0.7777777777777778,
             "#fb9f3a"
            ],
            [
             0.8888888888888888,
             "#fdca26"
            ],
            [
             1,
             "#f0f921"
            ]
           ]
          },
          "colorway": [
           "#636efa",
           "#EF553B",
           "#00cc96",
           "#ab63fa",
           "#FFA15A",
           "#19d3f3",
           "#FF6692",
           "#B6E880",
           "#FF97FF",
           "#FECB52"
          ],
          "font": {
           "color": "#2a3f5f"
          },
          "geo": {
           "bgcolor": "white",
           "lakecolor": "white",
           "landcolor": "#E5ECF6",
           "showlakes": true,
           "showland": true,
           "subunitcolor": "white"
          },
          "hoverlabel": {
           "align": "left"
          },
          "hovermode": "closest",
          "mapbox": {
           "style": "light"
          },
          "paper_bgcolor": "white",
          "plot_bgcolor": "#E5ECF6",
          "polar": {
           "angularaxis": {
            "gridcolor": "white",
            "linecolor": "white",
            "ticks": ""
           },
           "bgcolor": "#E5ECF6",
           "radialaxis": {
            "gridcolor": "white",
            "linecolor": "white",
            "ticks": ""
           }
          },
          "scene": {
           "xaxis": {
            "backgroundcolor": "#E5ECF6",
            "gridcolor": "white",
            "gridwidth": 2,
            "linecolor": "white",
            "showbackground": true,
            "ticks": "",
            "zerolinecolor": "white"
           },
           "yaxis": {
            "backgroundcolor": "#E5ECF6",
            "gridcolor": "white",
            "gridwidth": 2,
            "linecolor": "white",
            "showbackground": true,
            "ticks": "",
            "zerolinecolor": "white"
           },
           "zaxis": {
            "backgroundcolor": "#E5ECF6",
            "gridcolor": "white",
            "gridwidth": 2,
            "linecolor": "white",
            "showbackground": true,
            "ticks": "",
            "zerolinecolor": "white"
           }
          },
          "shapedefaults": {
           "line": {
            "color": "#2a3f5f"
           }
          },
          "ternary": {
           "aaxis": {
            "gridcolor": "white",
            "linecolor": "white",
            "ticks": ""
           },
           "baxis": {
            "gridcolor": "white",
            "linecolor": "white",
            "ticks": ""
           },
           "bgcolor": "#E5ECF6",
           "caxis": {
            "gridcolor": "white",
            "linecolor": "white",
            "ticks": ""
           }
          },
          "title": {
           "x": 0.05
          },
          "xaxis": {
           "automargin": true,
           "gridcolor": "white",
           "linecolor": "white",
           "ticks": "",
           "title": {
            "standoff": 15
           },
           "zerolinecolor": "white",
           "zerolinewidth": 2
          },
          "yaxis": {
           "automargin": true,
           "gridcolor": "white",
           "linecolor": "white",
           "ticks": "",
           "title": {
            "standoff": 15
           },
           "zerolinecolor": "white",
           "zerolinewidth": 2
          }
         }
        },
        "title": {
         "font": {
          "color": "darkblue",
          "size": 24
         },
         "text": "Top 10 Movies with the Lowest Average Runtime"
        },
        "xaxis": {
         "anchor": "y",
         "domain": [
          0,
          1
         ],
         "gridcolor": "lightgray",
         "showgrid": true,
         "title": {
          "font": {
           "color": "black",
           "size": 18
          },
          "text": "Runtime (Minutes)"
         }
        },
        "yaxis": {
         "anchor": "x",
         "domain": [
          0,
          1
         ],
         "gridcolor": "lightgray",
         "showgrid": true,
         "title": {
          "font": {
           "color": "black",
           "size": 18
          },
          "text": "Movie Title"
         }
        }
       }
      }
     },
     "metadata": {},
     "output_type": "display_data"
    }
   ],
   "source": [
    "df[\"RunTime\"] = pd.to_numeric(df[\"RunTime\"].astype(str).str.extract(r'(\\d+)')[0], errors='coerce')\n",
    "\n",
    "df_cleaned = df.dropna(subset=[\"RunTime\"])\n",
    "df_cleaned = df_cleaned[df_cleaned[\"RunTime\"] > 0]\n",
    "\n",
    "# Group by movie title and take the average runtime for duplicates\n",
    "df_cleaned = df_cleaned.groupby(\"Movie\", as_index=False).agg({\"RunTime\": \"mean\"})\n",
    "\n",
    "top_lowest_runtime = df_cleaned.nsmallest(10, \"RunTime\")\n",
    "\n",
    "print(top_lowest_runtime[[\"Movie\", \"RunTime\"]])\n",
    "\n",
    "fig = px.bar(top_lowest_runtime.sort_values(\"RunTime\", ascending=True), \n",
    "             x=\"RunTime\", \n",
    "             y=\"Movie\", \n",
    "             title=\"Top 10 Movies with the Lowest Average Runtime\",\n",
    "             labels={\"Movie\": \"Movie Title\", \"RunTime\": \"Runtime (Minutes)\"},\n",
    "             color=\"RunTime\", \n",
    "             text=\"RunTime\",\n",
    "             orientation='h')\n",
    "\n",
    "fig.update_traces(texttemplate='%{x:.0f}', textposition='outside',\n",
    "                  marker=dict(line=dict(width=1, color='black')))\n",
    "\n",
    "fig.update_layout(\n",
    "    title_font=dict(size=24, color='darkblue'),\n",
    "    xaxis_title_font=dict(size=18, color='black'),\n",
    "    yaxis_title_font=dict(size=18, color='black'),\n",
    "    plot_bgcolor='white',\n",
    "    paper_bgcolor='white',\n",
    "    xaxis=dict(showgrid=True, gridcolor='lightgray'),\n",
    "    yaxis=dict(showgrid=True, gridcolor='lightgray')\n",
    ")\n",
    "\n",
    "fig.show()\n"
   ]
  },
  {
   "cell_type": "markdown",
   "metadata": {},
   "source": [
    "## TOP HIGHEST Average RUN TIME"
   ]
  },
  {
   "cell_type": "code",
   "execution_count": 31,
   "metadata": {},
   "outputs": [
    {
     "name": "stdout",
     "output_type": "stream",
     "text": [
      "                                  Movie     RunTime\n",
      "112                         Frankenpimp  194.000000\n",
      "272                          The Oscars  193.166667\n",
      "19                    Avengers: Endgame  181.000000\n",
      "251               The Dark Knight Rises  164.000000\n",
      "43   Batman v Superman: Dawn of Justice  152.000000\n",
      "250                     The Dark Knight  152.000000\n",
      "306                   Wonder Woman 1984  151.000000\n",
      "20               Avengers: Infinity War  149.000000\n",
      "76           Captain America: Civil War  147.000000\n",
      "11                              Aquaman  143.000000\n"
     ]
    },
    {
     "data": {
      "application/vnd.plotly.v1+json": {
       "config": {
        "plotlyServerURL": "https://plot.ly"
       },
       "data": [
        {
         "hovertemplate": "Runtime (Minutes)=%{marker.color}<br>Movie Title=%{y}<extra></extra>",
         "legendgroup": "",
         "marker": {
          "color": {
           "bdata": "AAAAAADgYUAAAAAAAGBiQAAAAAAAoGJAAAAAAADgYkAAAAAAAABjQAAAAAAAAGNAAAAAAACAZEAAAAAAAKBmQFVVVVVVJWhAAAAAAABAaEA=",
           "dtype": "f8"
          },
          "coloraxis": "coloraxis",
          "line": {
           "color": "black",
           "width": 1
          },
          "pattern": {
           "shape": ""
          }
         },
         "name": "",
         "orientation": "h",
         "showlegend": false,
         "text": {
          "bdata": "AAAAAADgYUAAAAAAAGBiQAAAAAAAoGJAAAAAAADgYkAAAAAAAABjQAAAAAAAAGNAAAAAAACAZEAAAAAAAKBmQFVVVVVVJWhAAAAAAABAaEA=",
          "dtype": "f8"
         },
         "textposition": "outside",
         "texttemplate": "%{x:.0f}",
         "type": "bar",
         "x": {
          "bdata": "AAAAAADgYUAAAAAAAGBiQAAAAAAAoGJAAAAAAADgYkAAAAAAAABjQAAAAAAAAGNAAAAAAACAZEAAAAAAAKBmQFVVVVVVJWhAAAAAAABAaEA=",
          "dtype": "f8"
         },
         "xaxis": "x",
         "y": [
          "Aquaman",
          "Captain America: Civil War",
          "Avengers: Infinity War",
          "Wonder Woman 1984",
          "Batman v Superman: Dawn of Justice",
          "The Dark Knight",
          "The Dark Knight Rises",
          "Avengers: Endgame",
          "The Oscars",
          "Frankenpimp"
         ],
         "yaxis": "y"
        }
       ],
       "layout": {
        "barmode": "relative",
        "coloraxis": {
         "colorbar": {
          "title": {
           "text": "Runtime (Minutes)"
          }
         },
         "colorscale": [
          [
           0,
           "#0d0887"
          ],
          [
           0.1111111111111111,
           "#46039f"
          ],
          [
           0.2222222222222222,
           "#7201a8"
          ],
          [
           0.3333333333333333,
           "#9c179e"
          ],
          [
           0.4444444444444444,
           "#bd3786"
          ],
          [
           0.5555555555555556,
           "#d8576b"
          ],
          [
           0.6666666666666666,
           "#ed7953"
          ],
          [
           0.7777777777777778,
           "#fb9f3a"
          ],
          [
           0.8888888888888888,
           "#fdca26"
          ],
          [
           1,
           "#f0f921"
          ]
         ]
        },
        "legend": {
         "tracegroupgap": 0
        },
        "paper_bgcolor": "white",
        "plot_bgcolor": "white",
        "template": {
         "data": {
          "bar": [
           {
            "error_x": {
             "color": "#2a3f5f"
            },
            "error_y": {
             "color": "#2a3f5f"
            },
            "marker": {
             "line": {
              "color": "#E5ECF6",
              "width": 0.5
             },
             "pattern": {
              "fillmode": "overlay",
              "size": 10,
              "solidity": 0.2
             }
            },
            "type": "bar"
           }
          ],
          "barpolar": [
           {
            "marker": {
             "line": {
              "color": "#E5ECF6",
              "width": 0.5
             },
             "pattern": {
              "fillmode": "overlay",
              "size": 10,
              "solidity": 0.2
             }
            },
            "type": "barpolar"
           }
          ],
          "carpet": [
           {
            "aaxis": {
             "endlinecolor": "#2a3f5f",
             "gridcolor": "white",
             "linecolor": "white",
             "minorgridcolor": "white",
             "startlinecolor": "#2a3f5f"
            },
            "baxis": {
             "endlinecolor": "#2a3f5f",
             "gridcolor": "white",
             "linecolor": "white",
             "minorgridcolor": "white",
             "startlinecolor": "#2a3f5f"
            },
            "type": "carpet"
           }
          ],
          "choropleth": [
           {
            "colorbar": {
             "outlinewidth": 0,
             "ticks": ""
            },
            "type": "choropleth"
           }
          ],
          "contour": [
           {
            "colorbar": {
             "outlinewidth": 0,
             "ticks": ""
            },
            "colorscale": [
             [
              0,
              "#0d0887"
             ],
             [
              0.1111111111111111,
              "#46039f"
             ],
             [
              0.2222222222222222,
              "#7201a8"
             ],
             [
              0.3333333333333333,
              "#9c179e"
             ],
             [
              0.4444444444444444,
              "#bd3786"
             ],
             [
              0.5555555555555556,
              "#d8576b"
             ],
             [
              0.6666666666666666,
              "#ed7953"
             ],
             [
              0.7777777777777778,
              "#fb9f3a"
             ],
             [
              0.8888888888888888,
              "#fdca26"
             ],
             [
              1,
              "#f0f921"
             ]
            ],
            "type": "contour"
           }
          ],
          "contourcarpet": [
           {
            "colorbar": {
             "outlinewidth": 0,
             "ticks": ""
            },
            "type": "contourcarpet"
           }
          ],
          "heatmap": [
           {
            "colorbar": {
             "outlinewidth": 0,
             "ticks": ""
            },
            "colorscale": [
             [
              0,
              "#0d0887"
             ],
             [
              0.1111111111111111,
              "#46039f"
             ],
             [
              0.2222222222222222,
              "#7201a8"
             ],
             [
              0.3333333333333333,
              "#9c179e"
             ],
             [
              0.4444444444444444,
              "#bd3786"
             ],
             [
              0.5555555555555556,
              "#d8576b"
             ],
             [
              0.6666666666666666,
              "#ed7953"
             ],
             [
              0.7777777777777778,
              "#fb9f3a"
             ],
             [
              0.8888888888888888,
              "#fdca26"
             ],
             [
              1,
              "#f0f921"
             ]
            ],
            "type": "heatmap"
           }
          ],
          "histogram": [
           {
            "marker": {
             "pattern": {
              "fillmode": "overlay",
              "size": 10,
              "solidity": 0.2
             }
            },
            "type": "histogram"
           }
          ],
          "histogram2d": [
           {
            "colorbar": {
             "outlinewidth": 0,
             "ticks": ""
            },
            "colorscale": [
             [
              0,
              "#0d0887"
             ],
             [
              0.1111111111111111,
              "#46039f"
             ],
             [
              0.2222222222222222,
              "#7201a8"
             ],
             [
              0.3333333333333333,
              "#9c179e"
             ],
             [
              0.4444444444444444,
              "#bd3786"
             ],
             [
              0.5555555555555556,
              "#d8576b"
             ],
             [
              0.6666666666666666,
              "#ed7953"
             ],
             [
              0.7777777777777778,
              "#fb9f3a"
             ],
             [
              0.8888888888888888,
              "#fdca26"
             ],
             [
              1,
              "#f0f921"
             ]
            ],
            "type": "histogram2d"
           }
          ],
          "histogram2dcontour": [
           {
            "colorbar": {
             "outlinewidth": 0,
             "ticks": ""
            },
            "colorscale": [
             [
              0,
              "#0d0887"
             ],
             [
              0.1111111111111111,
              "#46039f"
             ],
             [
              0.2222222222222222,
              "#7201a8"
             ],
             [
              0.3333333333333333,
              "#9c179e"
             ],
             [
              0.4444444444444444,
              "#bd3786"
             ],
             [
              0.5555555555555556,
              "#d8576b"
             ],
             [
              0.6666666666666666,
              "#ed7953"
             ],
             [
              0.7777777777777778,
              "#fb9f3a"
             ],
             [
              0.8888888888888888,
              "#fdca26"
             ],
             [
              1,
              "#f0f921"
             ]
            ],
            "type": "histogram2dcontour"
           }
          ],
          "mesh3d": [
           {
            "colorbar": {
             "outlinewidth": 0,
             "ticks": ""
            },
            "type": "mesh3d"
           }
          ],
          "parcoords": [
           {
            "line": {
             "colorbar": {
              "outlinewidth": 0,
              "ticks": ""
             }
            },
            "type": "parcoords"
           }
          ],
          "pie": [
           {
            "automargin": true,
            "type": "pie"
           }
          ],
          "scatter": [
           {
            "fillpattern": {
             "fillmode": "overlay",
             "size": 10,
             "solidity": 0.2
            },
            "type": "scatter"
           }
          ],
          "scatter3d": [
           {
            "line": {
             "colorbar": {
              "outlinewidth": 0,
              "ticks": ""
             }
            },
            "marker": {
             "colorbar": {
              "outlinewidth": 0,
              "ticks": ""
             }
            },
            "type": "scatter3d"
           }
          ],
          "scattercarpet": [
           {
            "marker": {
             "colorbar": {
              "outlinewidth": 0,
              "ticks": ""
             }
            },
            "type": "scattercarpet"
           }
          ],
          "scattergeo": [
           {
            "marker": {
             "colorbar": {
              "outlinewidth": 0,
              "ticks": ""
             }
            },
            "type": "scattergeo"
           }
          ],
          "scattergl": [
           {
            "marker": {
             "colorbar": {
              "outlinewidth": 0,
              "ticks": ""
             }
            },
            "type": "scattergl"
           }
          ],
          "scattermap": [
           {
            "marker": {
             "colorbar": {
              "outlinewidth": 0,
              "ticks": ""
             }
            },
            "type": "scattermap"
           }
          ],
          "scattermapbox": [
           {
            "marker": {
             "colorbar": {
              "outlinewidth": 0,
              "ticks": ""
             }
            },
            "type": "scattermapbox"
           }
          ],
          "scatterpolar": [
           {
            "marker": {
             "colorbar": {
              "outlinewidth": 0,
              "ticks": ""
             }
            },
            "type": "scatterpolar"
           }
          ],
          "scatterpolargl": [
           {
            "marker": {
             "colorbar": {
              "outlinewidth": 0,
              "ticks": ""
             }
            },
            "type": "scatterpolargl"
           }
          ],
          "scatterternary": [
           {
            "marker": {
             "colorbar": {
              "outlinewidth": 0,
              "ticks": ""
             }
            },
            "type": "scatterternary"
           }
          ],
          "surface": [
           {
            "colorbar": {
             "outlinewidth": 0,
             "ticks": ""
            },
            "colorscale": [
             [
              0,
              "#0d0887"
             ],
             [
              0.1111111111111111,
              "#46039f"
             ],
             [
              0.2222222222222222,
              "#7201a8"
             ],
             [
              0.3333333333333333,
              "#9c179e"
             ],
             [
              0.4444444444444444,
              "#bd3786"
             ],
             [
              0.5555555555555556,
              "#d8576b"
             ],
             [
              0.6666666666666666,
              "#ed7953"
             ],
             [
              0.7777777777777778,
              "#fb9f3a"
             ],
             [
              0.8888888888888888,
              "#fdca26"
             ],
             [
              1,
              "#f0f921"
             ]
            ],
            "type": "surface"
           }
          ],
          "table": [
           {
            "cells": {
             "fill": {
              "color": "#EBF0F8"
             },
             "line": {
              "color": "white"
             }
            },
            "header": {
             "fill": {
              "color": "#C8D4E3"
             },
             "line": {
              "color": "white"
             }
            },
            "type": "table"
           }
          ]
         },
         "layout": {
          "annotationdefaults": {
           "arrowcolor": "#2a3f5f",
           "arrowhead": 0,
           "arrowwidth": 1
          },
          "autotypenumbers": "strict",
          "coloraxis": {
           "colorbar": {
            "outlinewidth": 0,
            "ticks": ""
           }
          },
          "colorscale": {
           "diverging": [
            [
             0,
             "#8e0152"
            ],
            [
             0.1,
             "#c51b7d"
            ],
            [
             0.2,
             "#de77ae"
            ],
            [
             0.3,
             "#f1b6da"
            ],
            [
             0.4,
             "#fde0ef"
            ],
            [
             0.5,
             "#f7f7f7"
            ],
            [
             0.6,
             "#e6f5d0"
            ],
            [
             0.7,
             "#b8e186"
            ],
            [
             0.8,
             "#7fbc41"
            ],
            [
             0.9,
             "#4d9221"
            ],
            [
             1,
             "#276419"
            ]
           ],
           "sequential": [
            [
             0,
             "#0d0887"
            ],
            [
             0.1111111111111111,
             "#46039f"
            ],
            [
             0.2222222222222222,
             "#7201a8"
            ],
            [
             0.3333333333333333,
             "#9c179e"
            ],
            [
             0.4444444444444444,
             "#bd3786"
            ],
            [
             0.5555555555555556,
             "#d8576b"
            ],
            [
             0.6666666666666666,
             "#ed7953"
            ],
            [
             0.7777777777777778,
             "#fb9f3a"
            ],
            [
             0.8888888888888888,
             "#fdca26"
            ],
            [
             1,
             "#f0f921"
            ]
           ],
           "sequentialminus": [
            [
             0,
             "#0d0887"
            ],
            [
             0.1111111111111111,
             "#46039f"
            ],
            [
             0.2222222222222222,
             "#7201a8"
            ],
            [
             0.3333333333333333,
             "#9c179e"
            ],
            [
             0.4444444444444444,
             "#bd3786"
            ],
            [
             0.5555555555555556,
             "#d8576b"
            ],
            [
             0.6666666666666666,
             "#ed7953"
            ],
            [
             0.7777777777777778,
             "#fb9f3a"
            ],
            [
             0.8888888888888888,
             "#fdca26"
            ],
            [
             1,
             "#f0f921"
            ]
           ]
          },
          "colorway": [
           "#636efa",
           "#EF553B",
           "#00cc96",
           "#ab63fa",
           "#FFA15A",
           "#19d3f3",
           "#FF6692",
           "#B6E880",
           "#FF97FF",
           "#FECB52"
          ],
          "font": {
           "color": "#2a3f5f"
          },
          "geo": {
           "bgcolor": "white",
           "lakecolor": "white",
           "landcolor": "#E5ECF6",
           "showlakes": true,
           "showland": true,
           "subunitcolor": "white"
          },
          "hoverlabel": {
           "align": "left"
          },
          "hovermode": "closest",
          "mapbox": {
           "style": "light"
          },
          "paper_bgcolor": "white",
          "plot_bgcolor": "#E5ECF6",
          "polar": {
           "angularaxis": {
            "gridcolor": "white",
            "linecolor": "white",
            "ticks": ""
           },
           "bgcolor": "#E5ECF6",
           "radialaxis": {
            "gridcolor": "white",
            "linecolor": "white",
            "ticks": ""
           }
          },
          "scene": {
           "xaxis": {
            "backgroundcolor": "#E5ECF6",
            "gridcolor": "white",
            "gridwidth": 2,
            "linecolor": "white",
            "showbackground": true,
            "ticks": "",
            "zerolinecolor": "white"
           },
           "yaxis": {
            "backgroundcolor": "#E5ECF6",
            "gridcolor": "white",
            "gridwidth": 2,
            "linecolor": "white",
            "showbackground": true,
            "ticks": "",
            "zerolinecolor": "white"
           },
           "zaxis": {
            "backgroundcolor": "#E5ECF6",
            "gridcolor": "white",
            "gridwidth": 2,
            "linecolor": "white",
            "showbackground": true,
            "ticks": "",
            "zerolinecolor": "white"
           }
          },
          "shapedefaults": {
           "line": {
            "color": "#2a3f5f"
           }
          },
          "ternary": {
           "aaxis": {
            "gridcolor": "white",
            "linecolor": "white",
            "ticks": ""
           },
           "baxis": {
            "gridcolor": "white",
            "linecolor": "white",
            "ticks": ""
           },
           "bgcolor": "#E5ECF6",
           "caxis": {
            "gridcolor": "white",
            "linecolor": "white",
            "ticks": ""
           }
          },
          "title": {
           "x": 0.05
          },
          "xaxis": {
           "automargin": true,
           "gridcolor": "white",
           "linecolor": "white",
           "ticks": "",
           "title": {
            "standoff": 15
           },
           "zerolinecolor": "white",
           "zerolinewidth": 2
          },
          "yaxis": {
           "automargin": true,
           "gridcolor": "white",
           "linecolor": "white",
           "ticks": "",
           "title": {
            "standoff": 15
           },
           "zerolinecolor": "white",
           "zerolinewidth": 2
          }
         }
        },
        "title": {
         "font": {
          "color": "darkblue",
          "size": 24
         },
         "text": "Top 10 Movies with the Highest Average Runtime"
        },
        "xaxis": {
         "anchor": "y",
         "domain": [
          0,
          1
         ],
         "gridcolor": "lightgray",
         "showgrid": true,
         "title": {
          "font": {
           "color": "black",
           "size": 18
          },
          "text": "Runtime (Minutes)"
         }
        },
        "yaxis": {
         "anchor": "x",
         "domain": [
          0,
          1
         ],
         "gridcolor": "lightgray",
         "showgrid": true,
         "title": {
          "font": {
           "color": "black",
           "size": 18
          },
          "text": "Movie Title"
         }
        }
       }
      }
     },
     "metadata": {},
     "output_type": "display_data"
    }
   ],
   "source": [
    "import pandas as pd\n",
    "import plotly.express as px\n",
    "\n",
    "df[\"RunTime\"] = pd.to_numeric(df[\"RunTime\"].astype(str).str.extract(r'(\\d+)')[0], errors=\"coerce\")\n",
    "\n",
    "df_cleaned = df.dropna(subset=[\"RunTime\"]).groupby(\"Movie\", as_index=False).agg({\"RunTime\": \"mean\"})\n",
    "\n",
    "top_highest_runtime = df_cleaned.nlargest(10, \"RunTime\")\n",
    "\n",
    "print(top_highest_runtime[[\"Movie\", \"RunTime\"]])\n",
    "\n",
    "fig = px.bar(top_highest_runtime.sort_values(\"RunTime\", ascending=True), \n",
    "             x=\"RunTime\", \n",
    "             y=\"Movie\", \n",
    "             title=\"Top 10 Movies with the Highest Average Runtime\",\n",
    "             labels={\"Movie\": \"Movie Title\", \"RunTime\": \"Runtime (Minutes)\"},\n",
    "             color=\"RunTime\", \n",
    "             text=\"RunTime\",\n",
    "             orientation='h')\n",
    "\n",
    "fig.update_traces(texttemplate='%{x:.0f}', textposition='outside',\n",
    "                  marker=dict(line=dict(width=1, color='black')))\n",
    "\n",
    "fig.update_layout(\n",
    "    title_font=dict(size=24, color='darkblue'),\n",
    "    xaxis_title_font=dict(size=18, color='black'),\n",
    "    yaxis_title_font=dict(size=18, color='black'),\n",
    "    plot_bgcolor='white',\n",
    "    paper_bgcolor='white',\n",
    "    xaxis=dict(showgrid=True, gridcolor='lightgray'),\n",
    "    yaxis=dict(showgrid=True, gridcolor='lightgray')\n",
    ")\n",
    "\n",
    "fig.show()\n"
   ]
  },
  {
   "cell_type": "markdown",
   "metadata": {},
   "source": [
    "# IMDB SCORE"
   ]
  },
  {
   "cell_type": "markdown",
   "metadata": {},
   "source": [
    "IMDB Score data visualization characteristics categorized."
   ]
  },
  {
   "cell_type": "code",
   "execution_count": 37,
   "metadata": {},
   "outputs": [],
   "source": [
    "numeric_features = ['IMDB_Score']"
   ]
  },
  {
   "cell_type": "markdown",
   "metadata": {},
   "source": [
    "### Mean IMDB Score"
   ]
  },
  {
   "cell_type": "code",
   "execution_count": 33,
   "metadata": {},
   "outputs": [
    {
     "name": "stdout",
     "output_type": "stream",
     "text": [
      "Mean IMDB Score: 6.877337278106509\n"
     ]
    }
   ],
   "source": [
    "mean_imdb_score = df['IMDB_Score'].mean()\n",
    "print(f\"Mean IMDB Score: {mean_imdb_score}\")\n"
   ]
  },
  {
   "cell_type": "markdown",
   "metadata": {},
   "source": [
    "### Mode IMDB Score"
   ]
  },
  {
   "cell_type": "code",
   "execution_count": 42,
   "metadata": {},
   "outputs": [
    {
     "data": {
      "text/plain": [
       "0    0.0\n",
       "Name: IMDB_Score, dtype: float64"
      ]
     },
     "execution_count": 42,
     "metadata": {},
     "output_type": "execute_result"
    }
   ],
   "source": [
    "mode_imdb_score = df['IMDB_Score'].mode()\n",
    "mode_imdb_score\n"
   ]
  },
  {
   "cell_type": "code",
   "execution_count": 39,
   "metadata": {},
   "outputs": [
    {
     "data": {
      "text/plain": [
       "1690"
      ]
     },
     "execution_count": 39,
     "metadata": {},
     "output_type": "execute_result"
    }
   ],
   "source": [
    "len( df['IMDB_Score'].dropna())"
   ]
  },
  {
   "cell_type": "code",
   "execution_count": 43,
   "metadata": {},
   "outputs": [
    {
     "data": {
      "text/plain": [
       "1"
      ]
     },
     "execution_count": 43,
     "metadata": {},
     "output_type": "execute_result"
    }
   ],
   "source": [
    "len(mode_imdb_score)"
   ]
  },
  {
   "cell_type": "code",
   "execution_count": 44,
   "metadata": {},
   "outputs": [],
   "source": [
    "if len(df['IMDB_Score'].dropna()) == len(mode_imdb_score) :\n",
    "    print(\"There is no mode\")"
   ]
  },
  {
   "cell_type": "markdown",
   "metadata": {},
   "source": [
    "### Median IMDB Score"
   ]
  },
  {
   "cell_type": "code",
   "execution_count": 45,
   "metadata": {},
   "outputs": [
    {
     "name": "stdout",
     "output_type": "stream",
     "text": [
      "Median IMDB Score: 7.8\n"
     ]
    }
   ],
   "source": [
    "median_imdb_score = df['IMDB_Score'].median()\n",
    "print(f\"Median IMDB Score: {median_imdb_score}\")"
   ]
  },
  {
   "cell_type": "code",
   "execution_count": 47,
   "metadata": {},
   "outputs": [
    {
     "data": {
      "application/vnd.plotly.v1+json": {
       "config": {
        "plotlyServerURL": "https://plot.ly"
       },
       "data": [
        {
         "alignmentgroup": "True",
         "hovertemplate": "IMDb Score=%{y}<extra></extra>",
         "legendgroup": "",
         "marker": {
          "color": "blue",
          "line": {
           "color": "black",
           "width": 1
          },
          "opacity": 0.6,
          "size": 6
         },
         "name": "",
         "notched": false,
         "offsetgroup": "",
         "orientation": "v",
         "showlegend": false,
         "type": "box",
         "x0": " ",
         "xaxis": "x",
         "y": {
          "bdata": "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",
          "dtype": "f8"
         },
         "y0": " ",
         "yaxis": "y"
        }
       ],
       "layout": {
        "boxmode": "group",
        "legend": {
         "tracegroupgap": 0
        },
        "paper_bgcolor": "white",
        "plot_bgcolor": "white",
        "template": {
         "data": {
          "bar": [
           {
            "error_x": {
             "color": "#2a3f5f"
            },
            "error_y": {
             "color": "#2a3f5f"
            },
            "marker": {
             "line": {
              "color": "#E5ECF6",
              "width": 0.5
             },
             "pattern": {
              "fillmode": "overlay",
              "size": 10,
              "solidity": 0.2
             }
            },
            "type": "bar"
           }
          ],
          "barpolar": [
           {
            "marker": {
             "line": {
              "color": "#E5ECF6",
              "width": 0.5
             },
             "pattern": {
              "fillmode": "overlay",
              "size": 10,
              "solidity": 0.2
             }
            },
            "type": "barpolar"
           }
          ],
          "carpet": [
           {
            "aaxis": {
             "endlinecolor": "#2a3f5f",
             "gridcolor": "white",
             "linecolor": "white",
             "minorgridcolor": "white",
             "startlinecolor": "#2a3f5f"
            },
            "baxis": {
             "endlinecolor": "#2a3f5f",
             "gridcolor": "white",
             "linecolor": "white",
             "minorgridcolor": "white",
             "startlinecolor": "#2a3f5f"
            },
            "type": "carpet"
           }
          ],
          "choropleth": [
           {
            "colorbar": {
             "outlinewidth": 0,
             "ticks": ""
            },
            "type": "choropleth"
           }
          ],
          "contour": [
           {
            "colorbar": {
             "outlinewidth": 0,
             "ticks": ""
            },
            "colorscale": [
             [
              0,
              "#0d0887"
             ],
             [
              0.1111111111111111,
              "#46039f"
             ],
             [
              0.2222222222222222,
              "#7201a8"
             ],
             [
              0.3333333333333333,
              "#9c179e"
             ],
             [
              0.4444444444444444,
              "#bd3786"
             ],
             [
              0.5555555555555556,
              "#d8576b"
             ],
             [
              0.6666666666666666,
              "#ed7953"
             ],
             [
              0.7777777777777778,
              "#fb9f3a"
             ],
             [
              0.8888888888888888,
              "#fdca26"
             ],
             [
              1,
              "#f0f921"
             ]
            ],
            "type": "contour"
           }
          ],
          "contourcarpet": [
           {
            "colorbar": {
             "outlinewidth": 0,
             "ticks": ""
            },
            "type": "contourcarpet"
           }
          ],
          "heatmap": [
           {
            "colorbar": {
             "outlinewidth": 0,
             "ticks": ""
            },
            "colorscale": [
             [
              0,
              "#0d0887"
             ],
             [
              0.1111111111111111,
              "#46039f"
             ],
             [
              0.2222222222222222,
              "#7201a8"
             ],
             [
              0.3333333333333333,
              "#9c179e"
             ],
             [
              0.4444444444444444,
              "#bd3786"
             ],
             [
              0.5555555555555556,
              "#d8576b"
             ],
             [
              0.6666666666666666,
              "#ed7953"
             ],
             [
              0.7777777777777778,
              "#fb9f3a"
             ],
             [
              0.8888888888888888,
              "#fdca26"
             ],
             [
              1,
              "#f0f921"
             ]
            ],
            "type": "heatmap"
           }
          ],
          "histogram": [
           {
            "marker": {
             "pattern": {
              "fillmode": "overlay",
              "size": 10,
              "solidity": 0.2
             }
            },
            "type": "histogram"
           }
          ],
          "histogram2d": [
           {
            "colorbar": {
             "outlinewidth": 0,
             "ticks": ""
            },
            "colorscale": [
             [
              0,
              "#0d0887"
             ],
             [
              0.1111111111111111,
              "#46039f"
             ],
             [
              0.2222222222222222,
              "#7201a8"
             ],
             [
              0.3333333333333333,
              "#9c179e"
             ],
             [
              0.4444444444444444,
              "#bd3786"
             ],
             [
              0.5555555555555556,
              "#d8576b"
             ],
             [
              0.6666666666666666,
              "#ed7953"
             ],
             [
              0.7777777777777778,
              "#fb9f3a"
             ],
             [
              0.8888888888888888,
              "#fdca26"
             ],
             [
              1,
              "#f0f921"
             ]
            ],
            "type": "histogram2d"
           }
          ],
          "histogram2dcontour": [
           {
            "colorbar": {
             "outlinewidth": 0,
             "ticks": ""
            },
            "colorscale": [
             [
              0,
              "#0d0887"
             ],
             [
              0.1111111111111111,
              "#46039f"
             ],
             [
              0.2222222222222222,
              "#7201a8"
             ],
             [
              0.3333333333333333,
              "#9c179e"
             ],
             [
              0.4444444444444444,
              "#bd3786"
             ],
             [
              0.5555555555555556,
              "#d8576b"
             ],
             [
              0.6666666666666666,
              "#ed7953"
             ],
             [
              0.7777777777777778,
              "#fb9f3a"
             ],
             [
              0.8888888888888888,
              "#fdca26"
             ],
             [
              1,
              "#f0f921"
             ]
            ],
            "type": "histogram2dcontour"
           }
          ],
          "mesh3d": [
           {
            "colorbar": {
             "outlinewidth": 0,
             "ticks": ""
            },
            "type": "mesh3d"
           }
          ],
          "parcoords": [
           {
            "line": {
             "colorbar": {
              "outlinewidth": 0,
              "ticks": ""
             }
            },
            "type": "parcoords"
           }
          ],
          "pie": [
           {
            "automargin": true,
            "type": "pie"
           }
          ],
          "scatter": [
           {
            "fillpattern": {
             "fillmode": "overlay",
             "size": 10,
             "solidity": 0.2
            },
            "type": "scatter"
           }
          ],
          "scatter3d": [
           {
            "line": {
             "colorbar": {
              "outlinewidth": 0,
              "ticks": ""
             }
            },
            "marker": {
             "colorbar": {
              "outlinewidth": 0,
              "ticks": ""
             }
            },
            "type": "scatter3d"
           }
          ],
          "scattercarpet": [
           {
            "marker": {
             "colorbar": {
              "outlinewidth": 0,
              "ticks": ""
             }
            },
            "type": "scattercarpet"
           }
          ],
          "scattergeo": [
           {
            "marker": {
             "colorbar": {
              "outlinewidth": 0,
              "ticks": ""
             }
            },
            "type": "scattergeo"
           }
          ],
          "scattergl": [
           {
            "marker": {
             "colorbar": {
              "outlinewidth": 0,
              "ticks": ""
             }
            },
            "type": "scattergl"
           }
          ],
          "scattermap": [
           {
            "marker": {
             "colorbar": {
              "outlinewidth": 0,
              "ticks": ""
             }
            },
            "type": "scattermap"
           }
          ],
          "scattermapbox": [
           {
            "marker": {
             "colorbar": {
              "outlinewidth": 0,
              "ticks": ""
             }
            },
            "type": "scattermapbox"
           }
          ],
          "scatterpolar": [
           {
            "marker": {
             "colorbar": {
              "outlinewidth": 0,
              "ticks": ""
             }
            },
            "type": "scatterpolar"
           }
          ],
          "scatterpolargl": [
           {
            "marker": {
             "colorbar": {
              "outlinewidth": 0,
              "ticks": ""
             }
            },
            "type": "scatterpolargl"
           }
          ],
          "scatterternary": [
           {
            "marker": {
             "colorbar": {
              "outlinewidth": 0,
              "ticks": ""
             }
            },
            "type": "scatterternary"
           }
          ],
          "surface": [
           {
            "colorbar": {
             "outlinewidth": 0,
             "ticks": ""
            },
            "colorscale": [
             [
              0,
              "#0d0887"
             ],
             [
              0.1111111111111111,
              "#46039f"
             ],
             [
              0.2222222222222222,
              "#7201a8"
             ],
             [
              0.3333333333333333,
              "#9c179e"
             ],
             [
              0.4444444444444444,
              "#bd3786"
             ],
             [
              0.5555555555555556,
              "#d8576b"
             ],
             [
              0.6666666666666666,
              "#ed7953"
             ],
             [
              0.7777777777777778,
              "#fb9f3a"
             ],
             [
              0.8888888888888888,
              "#fdca26"
             ],
             [
              1,
              "#f0f921"
             ]
            ],
            "type": "surface"
           }
          ],
          "table": [
           {
            "cells": {
             "fill": {
              "color": "#EBF0F8"
             },
             "line": {
              "color": "white"
             }
            },
            "header": {
             "fill": {
              "color": "#C8D4E3"
             },
             "line": {
              "color": "white"
             }
            },
            "type": "table"
           }
          ]
         },
         "layout": {
          "annotationdefaults": {
           "arrowcolor": "#2a3f5f",
           "arrowhead": 0,
           "arrowwidth": 1
          },
          "autotypenumbers": "strict",
          "coloraxis": {
           "colorbar": {
            "outlinewidth": 0,
            "ticks": ""
           }
          },
          "colorscale": {
           "diverging": [
            [
             0,
             "#8e0152"
            ],
            [
             0.1,
             "#c51b7d"
            ],
            [
             0.2,
             "#de77ae"
            ],
            [
             0.3,
             "#f1b6da"
            ],
            [
             0.4,
             "#fde0ef"
            ],
            [
             0.5,
             "#f7f7f7"
            ],
            [
             0.6,
             "#e6f5d0"
            ],
            [
             0.7,
             "#b8e186"
            ],
            [
             0.8,
             "#7fbc41"
            ],
            [
             0.9,
             "#4d9221"
            ],
            [
             1,
             "#276419"
            ]
           ],
           "sequential": [
            [
             0,
             "#0d0887"
            ],
            [
             0.1111111111111111,
             "#46039f"
            ],
            [
             0.2222222222222222,
             "#7201a8"
            ],
            [
             0.3333333333333333,
             "#9c179e"
            ],
            [
             0.4444444444444444,
             "#bd3786"
            ],
            [
             0.5555555555555556,
             "#d8576b"
            ],
            [
             0.6666666666666666,
             "#ed7953"
            ],
            [
             0.7777777777777778,
             "#fb9f3a"
            ],
            [
             0.8888888888888888,
             "#fdca26"
            ],
            [
             1,
             "#f0f921"
            ]
           ],
           "sequentialminus": [
            [
             0,
             "#0d0887"
            ],
            [
             0.1111111111111111,
             "#46039f"
            ],
            [
             0.2222222222222222,
             "#7201a8"
            ],
            [
             0.3333333333333333,
             "#9c179e"
            ],
            [
             0.4444444444444444,
             "#bd3786"
            ],
            [
             0.5555555555555556,
             "#d8576b"
            ],
            [
             0.6666666666666666,
             "#ed7953"
            ],
            [
             0.7777777777777778,
             "#fb9f3a"
            ],
            [
             0.8888888888888888,
             "#fdca26"
            ],
            [
             1,
             "#f0f921"
            ]
           ]
          },
          "colorway": [
           "#636efa",
           "#EF553B",
           "#00cc96",
           "#ab63fa",
           "#FFA15A",
           "#19d3f3",
           "#FF6692",
           "#B6E880",
           "#FF97FF",
           "#FECB52"
          ],
          "font": {
           "color": "#2a3f5f"
          },
          "geo": {
           "bgcolor": "white",
           "lakecolor": "white",
           "landcolor": "#E5ECF6",
           "showlakes": true,
           "showland": true,
           "subunitcolor": "white"
          },
          "hoverlabel": {
           "align": "left"
          },
          "hovermode": "closest",
          "mapbox": {
           "style": "light"
          },
          "paper_bgcolor": "white",
          "plot_bgcolor": "#E5ECF6",
          "polar": {
           "angularaxis": {
            "gridcolor": "white",
            "linecolor": "white",
            "ticks": ""
           },
           "bgcolor": "#E5ECF6",
           "radialaxis": {
            "gridcolor": "white",
            "linecolor": "white",
            "ticks": ""
           }
          },
          "scene": {
           "xaxis": {
            "backgroundcolor": "#E5ECF6",
            "gridcolor": "white",
            "gridwidth": 2,
            "linecolor": "white",
            "showbackground": true,
            "ticks": "",
            "zerolinecolor": "white"
           },
           "yaxis": {
            "backgroundcolor": "#E5ECF6",
            "gridcolor": "white",
            "gridwidth": 2,
            "linecolor": "white",
            "showbackground": true,
            "ticks": "",
            "zerolinecolor": "white"
           },
           "zaxis": {
            "backgroundcolor": "#E5ECF6",
            "gridcolor": "white",
            "gridwidth": 2,
            "linecolor": "white",
            "showbackground": true,
            "ticks": "",
            "zerolinecolor": "white"
           }
          },
          "shapedefaults": {
           "line": {
            "color": "#2a3f5f"
           }
          },
          "ternary": {
           "aaxis": {
            "gridcolor": "white",
            "linecolor": "white",
            "ticks": ""
           },
           "baxis": {
            "gridcolor": "white",
            "linecolor": "white",
            "ticks": ""
           },
           "bgcolor": "#E5ECF6",
           "caxis": {
            "gridcolor": "white",
            "linecolor": "white",
            "ticks": ""
           }
          },
          "title": {
           "x": 0.05
          },
          "xaxis": {
           "automargin": true,
           "gridcolor": "white",
           "linecolor": "white",
           "ticks": "",
           "title": {
            "standoff": 15
           },
           "zerolinecolor": "white",
           "zerolinewidth": 2
          },
          "yaxis": {
           "automargin": true,
           "gridcolor": "white",
           "linecolor": "white",
           "ticks": "",
           "title": {
            "standoff": 15
           },
           "zerolinecolor": "white",
           "zerolinewidth": 2
          }
         }
        },
        "title": {
         "font": {
          "color": "darkblue",
          "size": 24
         },
         "text": "Distribution of IMDb Scores"
        },
        "xaxis": {
         "anchor": "y",
         "domain": [
          0,
          1
         ],
         "showticklabels": false
        },
        "yaxis": {
         "anchor": "x",
         "domain": [
          0,
          1
         ],
         "gridcolor": "lightgray",
         "showgrid": true,
         "title": {
          "text": "IMDb Score"
         }
        }
       }
      }
     },
     "metadata": {},
     "output_type": "display_data"
    }
   ],
   "source": [
    "\n",
    "fig = px.box(df, y='IMDB_Score', title='Distribution of IMDb Scores',\n",
    "             labels={'IMDB_Score': 'IMDb Score'})\n",
    "\n",
    "fig.update_traces(marker=dict(size=6, color='blue', opacity=0.6, line=dict(width=1, color='black')))\n",
    "\n",
    "fig.update_layout(\n",
    "    title_font=dict(size=24, color='darkblue'),\n",
    "    xaxis=dict(showticklabels=False),\n",
    "    yaxis_title_font=dict(size=18, color='black'),\n",
    "    yaxis=dict(showgrid=True, gridcolor='lightgray', title='IMDb Score'),\n",
    "    plot_bgcolor='white',\n",
    "    paper_bgcolor='white'\n",
    ")\n",
    "\n",
    "fig.show()\n"
   ]
  },
  {
   "cell_type": "code",
   "execution_count": 52,
   "metadata": {},
   "outputs": [
    {
     "data": {
      "application/vnd.plotly.v1+json": {
       "config": {
        "plotlyServerURL": "https://plot.ly"
       },
       "data": [
        {
         "bingroup": "x",
         "hovertemplate": "IMDB Score=%{x}<br>count=%{y}<extra></extra>",
         "legendgroup": "",
         "marker": {
          "color": "lightblue",
          "line": {
           "color": "black",
           "width": 1
          },
          "pattern": {
           "shape": ""
          }
         },
         "name": "",
         "nbinsx": 20,
         "orientation": "v",
         "showlegend": false,
         "type": "histogram",
         "x": {
          "bdata": "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",
          "dtype": "f8"
         },
         "xaxis": "x",
         "yaxis": "y"
        }
       ],
       "layout": {
        "barmode": "relative",
        "legend": {
         "tracegroupgap": 0
        },
        "paper_bgcolor": "white",
        "plot_bgcolor": "white",
        "template": {
         "data": {
          "bar": [
           {
            "error_x": {
             "color": "#2a3f5f"
            },
            "error_y": {
             "color": "#2a3f5f"
            },
            "marker": {
             "line": {
              "color": "#E5ECF6",
              "width": 0.5
             },
             "pattern": {
              "fillmode": "overlay",
              "size": 10,
              "solidity": 0.2
             }
            },
            "type": "bar"
           }
          ],
          "barpolar": [
           {
            "marker": {
             "line": {
              "color": "#E5ECF6",
              "width": 0.5
             },
             "pattern": {
              "fillmode": "overlay",
              "size": 10,
              "solidity": 0.2
             }
            },
            "type": "barpolar"
           }
          ],
          "carpet": [
           {
            "aaxis": {
             "endlinecolor": "#2a3f5f",
             "gridcolor": "white",
             "linecolor": "white",
             "minorgridcolor": "white",
             "startlinecolor": "#2a3f5f"
            },
            "baxis": {
             "endlinecolor": "#2a3f5f",
             "gridcolor": "white",
             "linecolor": "white",
             "minorgridcolor": "white",
             "startlinecolor": "#2a3f5f"
            },
            "type": "carpet"
           }
          ],
          "choropleth": [
           {
            "colorbar": {
             "outlinewidth": 0,
             "ticks": ""
            },
            "type": "choropleth"
           }
          ],
          "contour": [
           {
            "colorbar": {
             "outlinewidth": 0,
             "ticks": ""
            },
            "colorscale": [
             [
              0,
              "#0d0887"
             ],
             [
              0.1111111111111111,
              "#46039f"
             ],
             [
              0.2222222222222222,
              "#7201a8"
             ],
             [
              0.3333333333333333,
              "#9c179e"
             ],
             [
              0.4444444444444444,
              "#bd3786"
             ],
             [
              0.5555555555555556,
              "#d8576b"
             ],
             [
              0.6666666666666666,
              "#ed7953"
             ],
             [
              0.7777777777777778,
              "#fb9f3a"
             ],
             [
              0.8888888888888888,
              "#fdca26"
             ],
             [
              1,
              "#f0f921"
             ]
            ],
            "type": "contour"
           }
          ],
          "contourcarpet": [
           {
            "colorbar": {
             "outlinewidth": 0,
             "ticks": ""
            },
            "type": "contourcarpet"
           }
          ],
          "heatmap": [
           {
            "colorbar": {
             "outlinewidth": 0,
             "ticks": ""
            },
            "colorscale": [
             [
              0,
              "#0d0887"
             ],
             [
              0.1111111111111111,
              "#46039f"
             ],
             [
              0.2222222222222222,
              "#7201a8"
             ],
             [
              0.3333333333333333,
              "#9c179e"
             ],
             [
              0.4444444444444444,
              "#bd3786"
             ],
             [
              0.5555555555555556,
              "#d8576b"
             ],
             [
              0.6666666666666666,
              "#ed7953"
             ],
             [
              0.7777777777777778,
              "#fb9f3a"
             ],
             [
              0.8888888888888888,
              "#fdca26"
             ],
             [
              1,
              "#f0f921"
             ]
            ],
            "type": "heatmap"
           }
          ],
          "histogram": [
           {
            "marker": {
             "pattern": {
              "fillmode": "overlay",
              "size": 10,
              "solidity": 0.2
             }
            },
            "type": "histogram"
           }
          ],
          "histogram2d": [
           {
            "colorbar": {
             "outlinewidth": 0,
             "ticks": ""
            },
            "colorscale": [
             [
              0,
              "#0d0887"
             ],
             [
              0.1111111111111111,
              "#46039f"
             ],
             [
              0.2222222222222222,
              "#7201a8"
             ],
             [
              0.3333333333333333,
              "#9c179e"
             ],
             [
              0.4444444444444444,
              "#bd3786"
             ],
             [
              0.5555555555555556,
              "#d8576b"
             ],
             [
              0.6666666666666666,
              "#ed7953"
             ],
             [
              0.7777777777777778,
              "#fb9f3a"
             ],
             [
              0.8888888888888888,
              "#fdca26"
             ],
             [
              1,
              "#f0f921"
             ]
            ],
            "type": "histogram2d"
           }
          ],
          "histogram2dcontour": [
           {
            "colorbar": {
             "outlinewidth": 0,
             "ticks": ""
            },
            "colorscale": [
             [
              0,
              "#0d0887"
             ],
             [
              0.1111111111111111,
              "#46039f"
             ],
             [
              0.2222222222222222,
              "#7201a8"
             ],
             [
              0.3333333333333333,
              "#9c179e"
             ],
             [
              0.4444444444444444,
              "#bd3786"
             ],
             [
              0.5555555555555556,
              "#d8576b"
             ],
             [
              0.6666666666666666,
              "#ed7953"
             ],
             [
              0.7777777777777778,
              "#fb9f3a"
             ],
             [
              0.8888888888888888,
              "#fdca26"
             ],
             [
              1,
              "#f0f921"
             ]
            ],
            "type": "histogram2dcontour"
           }
          ],
          "mesh3d": [
           {
            "colorbar": {
             "outlinewidth": 0,
             "ticks": ""
            },
            "type": "mesh3d"
           }
          ],
          "parcoords": [
           {
            "line": {
             "colorbar": {
              "outlinewidth": 0,
              "ticks": ""
             }
            },
            "type": "parcoords"
           }
          ],
          "pie": [
           {
            "automargin": true,
            "type": "pie"
           }
          ],
          "scatter": [
           {
            "fillpattern": {
             "fillmode": "overlay",
             "size": 10,
             "solidity": 0.2
            },
            "type": "scatter"
           }
          ],
          "scatter3d": [
           {
            "line": {
             "colorbar": {
              "outlinewidth": 0,
              "ticks": ""
             }
            },
            "marker": {
             "colorbar": {
              "outlinewidth": 0,
              "ticks": ""
             }
            },
            "type": "scatter3d"
           }
          ],
          "scattercarpet": [
           {
            "marker": {
             "colorbar": {
              "outlinewidth": 0,
              "ticks": ""
             }
            },
            "type": "scattercarpet"
           }
          ],
          "scattergeo": [
           {
            "marker": {
             "colorbar": {
              "outlinewidth": 0,
              "ticks": ""
             }
            },
            "type": "scattergeo"
           }
          ],
          "scattergl": [
           {
            "marker": {
             "colorbar": {
              "outlinewidth": 0,
              "ticks": ""
             }
            },
            "type": "scattergl"
           }
          ],
          "scattermap": [
           {
            "marker": {
             "colorbar": {
              "outlinewidth": 0,
              "ticks": ""
             }
            },
            "type": "scattermap"
           }
          ],
          "scattermapbox": [
           {
            "marker": {
             "colorbar": {
              "outlinewidth": 0,
              "ticks": ""
             }
            },
            "type": "scattermapbox"
           }
          ],
          "scatterpolar": [
           {
            "marker": {
             "colorbar": {
              "outlinewidth": 0,
              "ticks": ""
             }
            },
            "type": "scatterpolar"
           }
          ],
          "scatterpolargl": [
           {
            "marker": {
             "colorbar": {
              "outlinewidth": 0,
              "ticks": ""
             }
            },
            "type": "scatterpolargl"
           }
          ],
          "scatterternary": [
           {
            "marker": {
             "colorbar": {
              "outlinewidth": 0,
              "ticks": ""
             }
            },
            "type": "scatterternary"
           }
          ],
          "surface": [
           {
            "colorbar": {
             "outlinewidth": 0,
             "ticks": ""
            },
            "colorscale": [
             [
              0,
              "#0d0887"
             ],
             [
              0.1111111111111111,
              "#46039f"
             ],
             [
              0.2222222222222222,
              "#7201a8"
             ],
             [
              0.3333333333333333,
              "#9c179e"
             ],
             [
              0.4444444444444444,
              "#bd3786"
             ],
             [
              0.5555555555555556,
              "#d8576b"
             ],
             [
              0.6666666666666666,
              "#ed7953"
             ],
             [
              0.7777777777777778,
              "#fb9f3a"
             ],
             [
              0.8888888888888888,
              "#fdca26"
             ],
             [
              1,
              "#f0f921"
             ]
            ],
            "type": "surface"
           }
          ],
          "table": [
           {
            "cells": {
             "fill": {
              "color": "#EBF0F8"
             },
             "line": {
              "color": "white"
             }
            },
            "header": {
             "fill": {
              "color": "#C8D4E3"
             },
             "line": {
              "color": "white"
             }
            },
            "type": "table"
           }
          ]
         },
         "layout": {
          "annotationdefaults": {
           "arrowcolor": "#2a3f5f",
           "arrowhead": 0,
           "arrowwidth": 1
          },
          "autotypenumbers": "strict",
          "coloraxis": {
           "colorbar": {
            "outlinewidth": 0,
            "ticks": ""
           }
          },
          "colorscale": {
           "diverging": [
            [
             0,
             "#8e0152"
            ],
            [
             0.1,
             "#c51b7d"
            ],
            [
             0.2,
             "#de77ae"
            ],
            [
             0.3,
             "#f1b6da"
            ],
            [
             0.4,
             "#fde0ef"
            ],
            [
             0.5,
             "#f7f7f7"
            ],
            [
             0.6,
             "#e6f5d0"
            ],
            [
             0.7,
             "#b8e186"
            ],
            [
             0.8,
             "#7fbc41"
            ],
            [
             0.9,
             "#4d9221"
            ],
            [
             1,
             "#276419"
            ]
           ],
           "sequential": [
            [
             0,
             "#0d0887"
            ],
            [
             0.1111111111111111,
             "#46039f"
            ],
            [
             0.2222222222222222,
             "#7201a8"
            ],
            [
             0.3333333333333333,
             "#9c179e"
            ],
            [
             0.4444444444444444,
             "#bd3786"
            ],
            [
             0.5555555555555556,
             "#d8576b"
            ],
            [
             0.6666666666666666,
             "#ed7953"
            ],
            [
             0.7777777777777778,
             "#fb9f3a"
            ],
            [
             0.8888888888888888,
             "#fdca26"
            ],
            [
             1,
             "#f0f921"
            ]
           ],
           "sequentialminus": [
            [
             0,
             "#0d0887"
            ],
            [
             0.1111111111111111,
             "#46039f"
            ],
            [
             0.2222222222222222,
             "#7201a8"
            ],
            [
             0.3333333333333333,
             "#9c179e"
            ],
            [
             0.4444444444444444,
             "#bd3786"
            ],
            [
             0.5555555555555556,
             "#d8576b"
            ],
            [
             0.6666666666666666,
             "#ed7953"
            ],
            [
             0.7777777777777778,
             "#fb9f3a"
            ],
            [
             0.8888888888888888,
             "#fdca26"
            ],
            [
             1,
             "#f0f921"
            ]
           ]
          },
          "colorway": [
           "#636efa",
           "#EF553B",
           "#00cc96",
           "#ab63fa",
           "#FFA15A",
           "#19d3f3",
           "#FF6692",
           "#B6E880",
           "#FF97FF",
           "#FECB52"
          ],
          "font": {
           "color": "#2a3f5f"
          },
          "geo": {
           "bgcolor": "white",
           "lakecolor": "white",
           "landcolor": "#E5ECF6",
           "showlakes": true,
           "showland": true,
           "subunitcolor": "white"
          },
          "hoverlabel": {
           "align": "left"
          },
          "hovermode": "closest",
          "mapbox": {
           "style": "light"
          },
          "paper_bgcolor": "white",
          "plot_bgcolor": "#E5ECF6",
          "polar": {
           "angularaxis": {
            "gridcolor": "white",
            "linecolor": "white",
            "ticks": ""
           },
           "bgcolor": "#E5ECF6",
           "radialaxis": {
            "gridcolor": "white",
            "linecolor": "white",
            "ticks": ""
           }
          },
          "scene": {
           "xaxis": {
            "backgroundcolor": "#E5ECF6",
            "gridcolor": "white",
            "gridwidth": 2,
            "linecolor": "white",
            "showbackground": true,
            "ticks": "",
            "zerolinecolor": "white"
           },
           "yaxis": {
            "backgroundcolor": "#E5ECF6",
            "gridcolor": "white",
            "gridwidth": 2,
            "linecolor": "white",
            "showbackground": true,
            "ticks": "",
            "zerolinecolor": "white"
           },
           "zaxis": {
            "backgroundcolor": "#E5ECF6",
            "gridcolor": "white",
            "gridwidth": 2,
            "linecolor": "white",
            "showbackground": true,
            "ticks": "",
            "zerolinecolor": "white"
           }
          },
          "shapedefaults": {
           "line": {
            "color": "#2a3f5f"
           }
          },
          "ternary": {
           "aaxis": {
            "gridcolor": "white",
            "linecolor": "white",
            "ticks": ""
           },
           "baxis": {
            "gridcolor": "white",
            "linecolor": "white",
            "ticks": ""
           },
           "bgcolor": "#E5ECF6",
           "caxis": {
            "gridcolor": "white",
            "linecolor": "white",
            "ticks": ""
           }
          },
          "title": {
           "x": 0.05
          },
          "xaxis": {
           "automargin": true,
           "gridcolor": "white",
           "linecolor": "white",
           "ticks": "",
           "title": {
            "standoff": 15
           },
           "zerolinecolor": "white",
           "zerolinewidth": 2
          },
          "yaxis": {
           "automargin": true,
           "gridcolor": "white",
           "linecolor": "white",
           "ticks": "",
           "title": {
            "standoff": 15
           },
           "zerolinecolor": "white",
           "zerolinewidth": 2
          }
         }
        },
        "title": {
         "font": {
          "color": "darkblue",
          "size": 24
         },
         "text": "IMDB Score Distribution"
        },
        "xaxis": {
         "anchor": "y",
         "domain": [
          0,
          1
         ],
         "gridcolor": "lightgray",
         "showgrid": true,
         "title": {
          "font": {
           "color": "black",
           "size": 18
          },
          "text": "IMDB Score"
         }
        },
        "yaxis": {
         "anchor": "x",
         "domain": [
          0,
          1
         ],
         "gridcolor": "lightgray",
         "showgrid": true,
         "title": {
          "font": {
           "color": "black",
           "size": 18
          },
          "text": "count"
         }
        }
       }
      }
     },
     "metadata": {},
     "output_type": "display_data"
    }
   ],
   "source": [
    "\n",
    "fig = px.histogram(df, x='IMDB_Score', title='IMDB Score Distribution',\n",
    "                   labels={'IMDB_Score': 'IMDB Score'},\n",
    "                   nbins=20,\n",
    "                   color_discrete_sequence=['lightblue'])\n",
    "\n",
    "fig.update_traces(marker=dict(line=dict(width=1, color='black')))\n",
    "\n",
    "fig.update_layout(\n",
    "    title_font=dict(size=24, color='darkblue'),\n",
    "    xaxis_title_font=dict(size=18, color='black'),\n",
    "    yaxis_title_font=dict(size=18, color='black'),\n",
    "    plot_bgcolor='white',\n",
    "    paper_bgcolor='white',\n",
    "    xaxis=dict(showgrid=True, gridcolor='lightgray'),\n",
    "    yaxis=dict(showgrid=True, gridcolor='lightgray')\n",
    ")\n",
    "\n",
    "fig.show()"
   ]
  },
  {
   "cell_type": "code",
   "execution_count": 54,
   "metadata": {},
   "outputs": [
    {
     "data": {
      "application/vnd.plotly.v1+json": {
       "config": {
        "plotlyServerURL": "https://plot.ly"
       },
       "data": [
        {
         "hovertemplate": "IMDB Score=%{marker.color}<br>Genre=%{y}<extra></extra>",
         "legendgroup": "",
         "marker": {
          "color": {
           "bdata": "AAAAAAAAAAAAAAAAAAAAAAAAAAAAAB5AMzMzMzMzIEAAAAAAAAAAAAAAAAAAAAAAzczMzMzMIEAAAAAAAAAgQAAAAAAAAAAAAAAAAAAAHkCamZmZmZkfQM3MzMzMzCBAMzMzMzMzHUCamZmZmZkbQAAAAAAAAAAAmpmZmZmZHUAzMzMzMzMdQJqZmZmZmRtAZmZmZmZmHkAAAAAAAAAcQJqZmZmZmR9AMzMzMzMzH0AAAAAAAAAgQAAAAAAAAAAAZmZmZmZmGEAAAAAAAAAeQDMzMzMzMx1AzczMzMzMHkBmZmZmZmYcQAAAAAAAAAAAAAAAAAAAAACamZmZmZkbQAAAAAAAABxAzczMzMzMGEAAAAAAAAAcQM3MzMzMzBpAAAAAAAAAAAAAAAAAAAAAAAAAAAAAAAAAAAAAAAAAAAAzMzMzMzMbQAAAAAAAABxAZmZmZmZmFkAAAAAAAAAAAAAAAAAAAAAAAAAAAAAAAAAAAAAAAAAAAAAAAAAAAAAAAAAAAAAAAAAzMzMzMzMgQAAAAAAAAAAAAAAAAAAAAACamZmZmZkXQAAAAAAAAAAAAAAAAAAAAAAAAAAAAAAaQJqZmZmZmRdAAAAAAAAAAAAAAAAAAAAgQAAAAAAAAAAAmpmZmZmZG0AAAAAAAAAaQGZmZmZmZh5AMzMzMzMzIEAzMzMzMzMfQAAAAAAAABxAmpmZmZmZGUBmZmZmZmYaQGZmZmZmZhpAAAAAAAAAAADNzMzMzMwaQJqZmZmZmRlAZmZmZmZmGkCamZmZmZkZQM3MzMzMzBpAZmZmZmZmGkCamZmZmZkXQAAAAAAAABpAmpmZmZmZG0AzMzMzMzMZQM3MzMzMzBZAzczMzMzMGkDNzMzMzMwYQAAAAAAAAAAAAAAAAAAAFkAAAAAAAAAAAM3MzMzMzBJAMzMzMzMzHUAzMzMzMzMbQJqZmZmZmR1AAAAAAAAAHEAAAAAAAAAAAM3MzMzMzB5AAAAAAAAAHEDNzMzMzMwUQJqZmZmZmR1AzczMzMzMHEAAAAAAAAAAAAAAAAAAAAAAAAAAAAAAAAAAAAAAAAAAAJqZmZmZmRtAZmZmZmZmFkDNzMzMzMwYQAAAAAAAABhAAAAAAAAAGkDNzMzMzMwYQGZmZmZmZhxAZmZmZmZmFkCamZmZmZkVQDMzMzMzMxtAZmZmZmZmGECamZmZmZkZQAAAAAAAABpAzczMzMzMGECamZmZmZkXQGZmZmZmZhhAmpmZmZmZFUAzMzMzMzMZQAAAAAAAABhAmpmZmZmZF0AAAAAAAAAaQAAAAAAAABpAZmZmZmZmGEAzMzMzMzMZQM3MzMzMzBZAZmZmZmZmGEDNzMzMzMwWQJqZmZmZmRlAmpmZmZmZGUAzMzMzMzMZQAAAAAAAABpAZmZmZmZmGECamZmZmZkZQAAAAAAAABBAzczMzMzMGkCamZmZmZkZQAAAAAAAABpAzczMzMzMFkDNzMzMzMwaQAAAAAAAABpAZmZmZmZmFkAzMzMzMzMZQGZmZmZmZhxAmpmZmZmZHUBmZmZmZmYeQDMzMzMzMxtAAAAAAAAAGEAAAAAAAAAYQM3MzMzMzBhAAAAAAAAAGEAAAAAAAAAYQGZmZmZmZhhAAAAAAAAAGEBmZmZmZmYWQM3MzMzMzBpAzczMzMzMGEAAAAAAAAAWQJqZmZmZmRdAZmZmZmZmGEDNzMzMzMwUQDMzMzMzMxlAZmZmZmZmGEDNzMzMzMwYQAAAAAAAABZAZmZmZmZmGECamZmZmZkTQAAAAAAAABhAAAAAAAAAFEAzMzMzMzMbQGZmZmZmZhhAmpmZmZmZG0AAAAAAAAAeQAAAAAAAAB5AmpmZmZmZG0BmZmZmZmYWQM3MzMzMzB5AMzMzMzMzH0BmZmZmZmYgQM3MzMzMzCFAMzMzMzMzIkDNzMzMzMwhQAAAAAAAAAAAAAAAAAAAAAAAAAAAAAAAAAAAAAAAAAAAAAAAAAAAAAAAAAAAAAAAAAAAAAAAAAAAAAAAAAAAAAAAAAAAAAAAAAAAAAAAAAAAAAAAAAAAAAAAAAAAAAAAAAAAAAAAAAAAAAAAAAAAAABmZmZmZmYhQAAAAAAAAAAAAAAAAAAAAAAAAAAAAAAAAAAAAAAAAAAAAAAAAAAAAAAAAAAAAAAAAAAAAAAAAAAAAAAAAAAAAAAAAAAAAAAAAAAAAAAAAAAAAAAAAAAAAAAAAAAAAAAAAAAAAAAAAAAAAAAAAAAAAAAAAAAAAAAAAAAAAAAAAAAAAAAAAAAAAAAAAAAAAAAAAAAAAAAAAAAAAAAAAAAAAAAAAAAAAAAAAAAAAAAAAAAAAAAAAAAAAAAAAAAAAAAAAAAAAAAAAAAAAAAAAAAAAAAAAAAAAAAAAAAAAAAAAAAAAAAAAAAAAAAAAAAAAAAAAM3MzMzMzB5AZmZmZmZmHkAAAAAAAAAhQAAAAAAAACJAzczMzMzMIEAAAAAAAAAAAAAAAAAAAAAAAAAAAAAAAAAAAAAAAAAAAAAAAAAAAAAAAAAAAAAAAAAAAAAAAAAAAAAAAAAAAAAAAAAAAAAAAAAAAAAAAAAAAAAAAAAAAAAAAAAAAAAAAAAAAAAAAAAAAAAAAAAAAB5AzczMzMzMHkAAAAAAAAAhQDMzMzMzMyBAAAAAAAAAHkCamZmZmZkdQAAAAAAAAAAAAAAAAAAAAAAAAAAAAAAAAAAAAAAAAAAAAAAAAAAAAAAAAAAAAAAAAAAAAAAAAAAAAAAAAAAAAAAAAAAAAAAAAAAAAAAAACBAzczMzMzMHkBmZmZmZmYgQJqZmZmZmSBAzczMzMzMIECamZmZmZkfQAAAAAAAACBAzczMzMzMIEAAAAAAAAAgQDMzMzMzMx9AmpmZmZmZH0CamZmZmZkgQDMzMzMzMyBAMzMzMzMzH0AzMzMzMzMhQGZmZmZmZiFAMzMzMzMzIECamZmZmZkgQJqZmZmZmSJAzczMzMzMIEAAAAAAAAAhQAAAAAAAACJAAAAAAAAAIkAzMzMzMzMiQDMzMzMzMyBAMzMzMzMzIECamZmZmZkhQM3MzMzMzB5AZmZmZmZmIUBmZmZmZmYgQAAAAAAAACJAmpmZmZmZIEBmZmZmZmYgQDMzMzMzMyFAMzMzMzMzIUAzMzMzMzMiQGZmZmZmZh5AAAAAAAAAHkDNzMzMzMwgQDMzMzMzMyFAmpmZmZmZIEAAAAAAAAAhQM3MzMzMzCBAZmZmZmZmIUCamZmZmZkgQGZmZmZmZiFAmpmZmZmZIUAAAAAAAAAiQGZmZmZmZiJAmpmZmZmZIkAAAAAAAAAjQGZmZmZmZiJAMzMzMzMzIECamZmZmZkgQAAAAAAAACFAmpmZmZmZIEDNzMzMzMwhQM3MzMzMzCFAZmZmZmZmIUDNzMzMzMwgQGZmZmZmZiBAAAAAAAAAIUBmZmZmZmYgQDMzMzMzMyBAmpmZmZmZIEAAAAAAAAAjQGZmZmZmZiJAzczMzMzMIUAzMzMzMzMiQGZmZmZmZiFAMzMzMzMzIkBmZmZmZmYiQGZmZmZmZiJAAAAAAAAAIkCamZmZmZkhQJqZmZmZmSBAzczMzMzMIEBmZmZmZmYiQAAAAAAAACJAzczMzMzMIEDNzMzMzMwgQM3MzMzMzCBAZmZmZmZmIUAzMzMzMzMhQGZmZmZmZiJAZmZmZmZmIEAzMzMzMzMiQDMzMzMzMyFAzczMzMzMIEBmZmZmZmYgQM3MzMzMzCBAZmZmZmZmIUDNzMzMzMwgQDMzMzMzMyFAmpmZmZmZIkAzMzMzMzMgQDMzMzMzMyBAAAAAAAAAIUCamZmZmZkfQDMzMzMzMyBAAAAAAAAAIkAAAAAAAAAgQAAAAAAAACFAMzMzMzMzIUAzMzMzMzMhQGZmZmZmZiBAAAAAAAAAIUBmZmZmZmYhQDMzMzMzMx9AmpmZmZmZH0AAAAAAAAAgQJqZmZmZmSFAAAAAAAAAIECamZmZmZkfQM3MzMzMzCBAZmZmZmZmIEAzMzMzMzMhQJqZmZmZmSFAAAAAAAAAIUAAAAAAAAAhQAAAAAAAACBAAAAAAAAAIEAzMzMzMzMjQJqZmZmZmSBAzczMzMzMIEAzMzMzMzMiQAAAAAAAAAAAAAAAAAAAI0AAAAAAAAAeQJqZmZmZmRVAAAAAAAAAAAAAAAAAAAAAAM3MzMzMzCBAAAAAAAAAHkAAAAAAAAAiQGZmZmZmZh5AMzMzMzMzH0AAAAAAAAAeQJqZmZmZmRdAzczMzMzMIECamZmZmZkfQJqZmZmZmRtAAAAAAAAAAABmZmZmZmYgQAAAAAAAABxAAAAAAAAAHECamZmZmZkZQDMzMzMzMyBAZmZmZmZmIEAAAAAAAAAjQDMzMzMzMyBAAAAAAAAAHkDNzMzMzMwcQAAAAAAAACJAAAAAAAAAAABmZmZmZmYOQAAAAAAAABxAmpmZmZmZFUAzMzMzMzMdQJqZmZmZmRlAMzMzMzMzIUAAAAAAAAAWQAAAAAAAAAAAAAAAAAAAHEDNzMzMzMwYQJqZmZmZmRFAAAAAAAAAIEAAAAAAAAAYQJqZmZmZmR9AzczMzMzMHkCamZmZmZkbQGZmZmZmZhZAAAAAAAAAFEAAAAAAAAAeQGZmZmZmZiFAMzMzMzMzG0AAAAAAAAAhQDMzMzMzMwtAAAAAAAAAAAAzMzMzMzMgQM3MzMzMzB5AMzMzMzMzG0BmZmZmZmYYQDMzMzMzMyBAZmZmZmZmFEAAAAAAAAAhQDMzMzMzMyBAMzMzMzMzHUDNzMzMzMwWQJqZmZmZmRVAZmZmZmZmFkDNzMzMzMwaQDMzMzMzMxtAZmZmZmZmFkBmZmZmZmYiQM3MzMzMzBxAMzMzMzMzHUAAAAAAAAAcQGZmZmZmZh5AMzMzMzMzH0AAAAAAAAAAAAAAAAAAAAAAAAAAAAAAAABmZmZmZmYcQAAAAAAAABxAzczMzMzMGkDNzMzMzMwcQGZmZmZmZiBAZmZmZmZmHEAzMzMzMzMdQM3MzMzMzBxAmpmZmZmZGUDNzMzMzMwWQAAAAAAAAAAAAAAAAAAAAABmZmZmZmYaQAAAAAAAABRAMzMzMzMzIEAAAAAAAAAYQGZmZmZmZhxAZmZmZmZmHEAzMzMzMzMfQAAAAAAAAAAAzczMzMzMGEAAAAAAAAAaQDMzMzMzMxtAZmZmZmZmHEAzMzMzMzMXQJqZmZmZmR1AmpmZmZmZH0DNzMzMzMwcQDMzMzMzMxtAZmZmZmZmHEDNzMzMzMweQM3MzMzMzB5AZmZmZmZmHkAAAAAAAAAAAM3MzMzMzBZAzczMzMzMHkCamZmZmZkZQDMzMzMzMyJAAAAAAAAAFkAzMzMzMzMZQJqZmZmZmR1AzczMzMzMHEAAAAAAAAAaQGZmZmZmZiFAzczMzMzMHkAzMzMzMzMgQM3MzMzMzBpAAAAAAAAAHkAzMzMzMzMbQJqZmZmZmRdAmpmZmZmZ8T/NzMzMzMwWQDMzMzMzMxtAzczMzMzMHEAAAAAAAAAAAJqZmZmZmR9AMzMzMzMzF0AAAAAAAAAAAAAAAAAAABxAAAAAAAAADECamZmZmZkZQDMzMzMzMx1AAAAAAAAAHEAzMzMzMzMZQAAAAAAAABZAZmZmZmZmGEAAAAAAAAAAADMzMzMzMx1AMzMzMzMzHUCamZmZmZkfQAAAAAAAAB5AzczMzMzMHEDNzMzMzMweQDMzMzMzMx1AZmZmZmZmGkBmZmZmZmYYQDMzMzMzMx1AZmZmZmZmHEBmZmZmZmYeQDMzMzMzMx1AmpmZmZmZHUAAAAAAAAAcQDMzMzMzMx1AZmZmZmZmHEDNzMzMzMweQGZmZmZmZhxAmpmZmZmZH0AAAAAAAAAaQM3MzMzMzBxAmpmZmZmZHUDNzMzMzMwYQDMzMzMzMx1AmpmZmZmZG0AzMzMzMzMbQM3MzMzMzB5AAAAAAAAAHEAzMzMzMzMgQDMzMzMzMx1AAAAAAAAAHkAzMzMzMzMbQDMzMzMzMxtAAAAAAAAAAADNzMzMzMwYQAAAAAAAACJAMzMzMzMzG0AAAAAAAAAcQAAAAAAAABpAAAAAAAAAAACamZmZmZkbQDMzMzMzMx9AAAAAAAAAHEAzMzMzMzMZQJqZmZmZmR1AmpmZmZmZGUAzMzMzMzMbQJqZmZmZmRdAZmZmZmZmGkAzMzMzMzMdQM3MzMzMzBhAAAAAAAAAGEBmZmZmZmYcQAAAAAAAAAAAmpmZmZmZH0AAAAAAAAAYQAAAAAAAAAAAMzMzMzMzH0BmZmZmZmYSQGZmZmZmZhpAAAAAAAAAAAAAAAAAAAAAAGZmZmZmZh5AZmZmZmZmIECamZmZmZkgQGZmZmZmZiBAmpmZmZmZHUCamZmZmZkgQDMzMzMzMyBAZmZmZmZmHkAzMzMzMzMfQJqZmZmZmR9AmpmZmZmZH0CamZmZmZkfQJqZmZmZmR9AAAAAAAAAIEAzMzMzMzMgQJqZmZmZmSBAMzMzMzMzIECamZmZmZkdQJqZmZmZmR1AAAAAAAAAIEAAAAAAAAAgQGZmZmZmZiBAzczMzMzMHECamZmZmZkdQAAAAAAAABpAAAAAAAAAIEAAAAAAAAAhQGZmZmZmZh5AAAAAAAAAHkDNzMzMzMwgQGZmZmZmZh5AMzMzMzMzH0DNzMzMzMwcQAAAAAAAACFAzczMzMzMIEAzMzMzMzMfQGZmZmZmZiBAMzMzMzMzIUCamZmZmZkfQAAAAAAAACBAzczMzMzMIEAzMzMzMzMdQDMzMzMzMyFAZmZmZmZmIUDNzMzMzMweQAAAAAAAACBAmpmZmZmZH0CamZmZmZkfQGZmZmZmZh5AZmZmZmZmIEAAAAAAAAAeQDMzMzMzMx9AMzMzMzMzH0CamZmZmZkgQJqZmZmZmSJAMzMzMzMzH0DNzMzMzMweQAAAAAAAACBAmpmZmZmZIECamZmZmZkfQDMzMzMzMx9AAAAAAAAAIkCamZmZmZkfQM3MzMzMzB5AAAAAAAAAHkAAAAAAAAAgQDMzMzMzMyBAMzMzMzMzIECamZmZmZkgQM3MzMzMzCBAAAAAAAAAHkCamZmZmZkfQAAAAAAAACFAZmZmZmZmIUAzMzMzMzMdQGZmZmZmZiFAZmZmZmZmIUAzMzMzMzMhQDMzMzMzMyJAMzMzMzMzIEAzMzMzMzMgQJqZmZmZmSBAzczMzMzMIEAzMzMzMzMhQDMzMzMzMxtAzczMzMzMIEAzMzMzMzMfQDMzMzMzMyFAzczMzMzMHkBmZmZmZmYgQM3MzMzMzB5AZmZmZmZmHECamZmZmZkgQDMzMzMzMx9AMzMzMzMzIEAzMzMzMzMfQDMzMzMzMx9AzczMzMzMHkAzMzMzMzMfQAAAAAAAACJAMzMzMzMzIECamZmZmZkbQDMzMzMzMyFAZmZmZmZmIECamZmZmZkhQDMzMzMzMyFAZmZmZmZmIUCamZmZmZkfQM3MzMzMzCBAzczMzMzMIEDNzMzMzMweQDMzMzMzMyBAZmZmZmZmHkAzMzMzMzMfQJqZmZmZmR9AMzMzMzMzH0CamZmZmZkfQAAAAAAAACFAAAAAAAAAIUAAAAAAAAAeQM3MzMzMzCBAmpmZmZmZH0BmZmZmZmYhQJqZmZmZmR1AmpmZmZmZIUDNzMzMzMweQJqZmZmZmSBAZmZmZmZmHEAAAAAAAAAcQAAAAAAAAB5AzczMzMzMHkAzMzMzMzMiQGZmZmZmZiJAMzMzMzMzIkDNzMzMzMwcQDMzMzMzMx9AAAAAAAAAIEAzMzMzMzMgQGZmZmZmZh5AMzMzMzMzH0DNzMzMzMweQAAAAAAAAB5AMzMzMzMzHUBmZmZmZmYcQGZmZmZmZiBAMzMzMzMzHUAzMzMzMzMdQM3MzMzMzBxAzczMzMzMHkCamZmZmZkfQJqZmZmZmR9AzczMzMzMIEBmZmZmZmYcQJqZmZmZmRtAAAAAAAAAHkDNzMzMzMweQJqZmZmZmR9AZmZmZmZmIEDNzMzMzMwcQAAAAAAAAB5AAAAAAAAAHkAAAAAAAAAcQM3MzMzMzBxAzczMzMzMHEDNzMzMzMweQAAAAAAAAB5AAAAAAAAAIECamZmZmZkdQM3MzMzMzBxAmpmZmZmZH0AzMzMzMzMdQAAAAAAAAB5AmpmZmZmZG0AAAAAAAAAgQGZmZmZmZh5AAAAAAAAAHkAzMzMzMzMXQAAAAAAAABxAZmZmZmZmIEAzMzMzMzMfQAAAAAAAACFAzczMzMzMHkBmZmZmZmYgQGZmZmZmZiFAAAAAAAAAIUAAAAAAAAAcQM3MzMzMzCJAmpmZmZmZHUCamZmZmZkgQM3MzMzMzCFAmpmZmZmZIkCamZmZmZkfQJqZmZmZmRtAmpmZmZmZG0BmZmZmZmYcQGZmZmZmZh5AZmZmZmZmIkCamZmZmZkhQM3MzMzMzCFAZmZmZmZmHkDNzMzMzMweQGZmZmZmZhxAAAAAAAAAIEBmZmZmZmYeQAAAAAAAACBAmpmZmZmZIkDNzMzMzMwgQJqZmZmZmR1AzczMzMzMHkBmZmZmZmYiQDMzMzMzMx9AMzMzMzMzIUDNzMzMzMwhQDMzMzMzMyFAmpmZmZmZHUCamZmZmZkdQGZmZmZmZhpAMzMzMzMzHUCamZmZmZkdQJqZmZmZmSFAAAAAAAAAIkCamZmZmZkdQJqZmZmZmR9AMzMzMzMzHUAAAAAAAAAeQGZmZmZmZh5AzczMzMzMIEAzMzMzMzMhQAAAAAAAACBAAAAAAAAAIUBmZmZmZmYhQJqZmZmZmR1AzczMzMzMHkCamZmZmZkdQJqZmZmZmR1AZmZmZmZmIUAAAAAAAAAhQGZmZmZmZiBAAAAAAAAAIUAAAAAAAAAiQAAAAAAAAB5AzczMzMzMHkCamZmZmZkfQAAAAAAAACJAAAAAAAAAIECamZmZmZkfQDMzMzMzMyBAmpmZmZmZIEBmZmZmZmYgQGZmZmZmZh5AMzMzMzMzIUCamZmZmZkhQGZmZmZmZiJAMzMzMzMzIEDNzMzMzMwgQM3MzMzMzCBAzczMzMzMHkAAAAAAAAAeQGZmZmZmZh5AAAAAAAAAIECamZmZmZkgQDMzMzMzMyFAZmZmZmZmHkCamZmZmZkfQDMzMzMzMyFAMzMzMzMzIEAAAAAAAAAhQM3MzMzMzCBAZmZmZmZmIEDNzMzMzMwgQDMzMzMzMx9AMzMzMzMzIEAAAAAAAAAeQDMzMzMzMx9AmpmZmZmZHUAzMzMzMzMgQM3MzMzMzCBAMzMzMzMzH0BmZmZmZmYgQDMzMzMzMx1AmpmZmZmZHUBmZmZmZmYhQM3MzMzMzCFAMzMzMzMzIEBmZmZmZmYeQDMzMzMzMyFAZmZmZmZmIUBmZmZmZmYhQDMzMzMzMx9AMzMzMzMzIUCamZmZmZkiQGZmZmZmZh5AMzMzMzMzIkCamZmZmZkdQJqZmZmZmSBAMzMzMzMzIkAzMzMzMzMgQGZmZmZmZiBAMzMzMzMzIEAzMzMzMzMgQDMzMzMzMx9AmpmZmZmZHUCamZmZmZkgQM3MzMzMzCFAMzMzMzMzIkAAAAAAAAAgQGZmZmZmZiBAAAAAAAAAIEDNzMzMzMweQGZmZmZmZiBAMzMzMzMzH0AzMzMzMzMhQDMzMzMzMyFAMzMzMzMzIUAAAAAAAAAeQGZmZmZmZiBAmpmZmZmZH0AzMzMzMzMhQGZmZmZmZiBAmpmZmZmZH0DNzMzMzMweQDMzMzMzMyBAmpmZmZmZIECamZmZmZkgQGZmZmZmZiFAMzMzMzMzIEAzMzMzMzMfQDMzMzMzMyJAMzMzMzMzIUCamZmZmZkgQGZmZmZmZh5AMzMzMzMzIEAzMzMzMzMhQJqZmZmZmSFAAAAAAAAAIkBmZmZmZmYgQDMzMzMzMyFAMzMzMzMzIUAAAAAAAAAgQJqZmZmZmR9AmpmZmZmZHUCamZmZmZkfQM3MzMzMzCFAmpmZmZmZHUBmZmZmZmYgQDMzMzMzMx9AMzMzMzMzIEBmZmZmZmYiQGZmZmZmZiFAMzMzMzMzIECamZmZmZkhQGZmZmZmZiBAzczMzMzMIECamZmZmZkhQAAAAAAAAB5AZmZmZmZmIEBmZmZmZmYgQM3MzMzMzCBAmpmZmZmZH0BmZmZmZmYgQM3MzMzMzCBAZmZmZmZmIUBmZmZmZmYgQAAAAAAAACJAAAAAAAAAHEAAAAAAAAAeQAAAAAAAACJAZmZmZmZmIUDNzMzMzMweQJqZmZmZmSBAZmZmZmZmIEAzMzMzMzMfQGZmZmZmZiFAMzMzMzMzIEAzMzMzMzMfQDMzMzMzMyBAmpmZmZmZH0AzMzMzMzMiQAAAAAAAAB5AZmZmZmZmHkBmZmZmZmYeQGZmZmZmZh5AzczMzMzMIEDNzMzMzMwgQJqZmZmZmR1AZmZmZmZmIUAzMzMzMzMfQDMzMzMzMyBAzczMzMzMIkCamZmZmZkgQGZmZmZmZiFAMzMzMzMzHUCamZmZmZkdQAAAAAAAACBAMzMzMzMzHUDNzMzMzMwcQM3MzMzMzB5AmpmZmZmZH0CamZmZmZkdQAAAAAAAAB5AAAAAAAAAHkBmZmZmZmYeQDMzMzMzMx9AzczMzMzMHkBmZmZmZmYeQDMzMzMzMx1AzczMzMzMHkCamZmZmZkdQJqZmZmZmR1AMzMzMzMzH0DNzMzMzMwcQJqZmZmZmRtAAAAAAAAAHEAzMzMzMzMbQM3MzMzMzB5AZmZmZmZmHkAAAAAAAAAgQDMzMzMzMx9AmpmZmZmZHUAAAAAAAAAgQJqZmZmZmR9AMzMzMzMzH0BmZmZmZmYeQGZmZmZmZiFAmpmZmZmZIkCamZmZmZkfQM3MzMzMzB5AMzMzMzMzIUAAAAAAAAAgQDMzMzMzMyJAzczMzMzMIEAAAAAAAAAhQDMzMzMzMx1AZmZmZmZmIUCamZmZmZkfQAAAAAAAACFAAAAAAAAAIkAAAAAAAAAgQGZmZmZmZiBAzczMzMzMHkAAAAAAAAAhQDMzMzMzMx9AMzMzMzMzIEAzMzMzMzMgQDMzMzMzMyBAAAAAAAAAIkAzMzMzMzMgQM3MzMzMzBxAMzMzMzMzIUBmZmZmZmYgQDMzMzMzMyFAAAAAAAAAAABmZmZmZmYiQGZmZmZmZh5AzczMzMzMIECamZmZmZkhQJqZmZmZmSFAzczMzMzMIEAzMzMzMzMgQAAAAAAAACBAZmZmZmZmIkAAAAAAAAAiQAAAAAAAACBAZmZmZmZmHkBmZmZmZmYgQDMzMzMzMyFAMzMzMzMzIEBmZmZmZmYhQJqZmZmZmSFAAAAAAAAAIUBmZmZmZmYhQDMzMzMzMx1AzczMzMzMHEDNzMzMzMwcQAAAAAAAABpAzczMzMzMGkAAAAAAAAAAAAAAAAAAACJAMzMzMzMzIUAzMzMzMzMhQDMzMzMzMyFAAAAAAAAAAABmZmZmZmYgQGZmZmZmZhxAMzMzMzMzIUAAAAAAAAAhQAAAAAAAACFAMzMzMzMzIEAAAAAAAAAgQDMzMzMzMx1AAAAAAAAAHkBmZmZmZmYeQAAAAAAAACBAzczMzMzMIEAzMzMzMzMhQDMzMzMzMyFAzczMzMzMIEAAAAAAAAAgQGZmZmZmZiFAMzMzMzMzIUDNzMzMzMwgQDMzMzMzMyFAZmZmZmZmIEAzMzMzMzMhQDMzMzMzMx1AzczMzMzMIEAAAAAAAAAgQDMzMzMzMyBAAAAAAAAAIEAzMzMzMzMfQAAAAAAAAAAAmpmZmZmZIEAAAAAAAAAhQDMzMzMzMyBAAAAAAAAAIUAAAAAAAAAcQAAAAAAAAB5AMzMzMzMzH0BmZmZmZmYcQDMzMzMzMx1AAAAAAAAAHEAAAAAAAAAgQAAAAAAAABpAAAAAAAAAHEDNzMzMzMwgQDMzMzMzMyFAAAAAAAAAIEDNzMzMzMweQAAAAAAAACBAAAAAAAAAHEBmZmZmZmYcQDMzMzMzMx1AzczMzMzMIEAAAAAAAAAgQM3MzMzMzBxAAAAAAAAAIEAzMzMzMzMfQDMzMzMzMyFAzczMzMzMIEAAAAAAAAAiQAAAAAAAABxAmpmZmZmZG0AAAAAAAAAgQGZmZmZmZiBAAAAAAAAAIEBmZmZmZmYeQDMzMzMzMyBAmpmZmZmZH0AzMzMzMzMiQDMzMzMzMyBAzczMzMzMHkBmZmZmZmYgQM3MzMzMzB5AMzMzMzMzIEAAAAAAAAAgQDMzMzMzMx9AmpmZmZmZIEAzMzMzMzMgQM3MzMzMzCBAmpmZmZmZH0AAAAAAAAAgQDMzMzMzMyFAAAAAAAAAIUDNzMzMzMwiQAAAAAAAACBAzczMzMzMIUCamZmZmZkhQM3MzMzMzCFAAAAAAAAAIEAAAAAAAAAhQGZmZmZmZiBAMzMzMzMzIUCamZmZmZkgQM3MzMzMzCBAAAAAAAAAIUDNzMzMzMwgQGZmZmZmZiBAzczMzMzMIECamZmZmZkiQM3MzMzMzCBAAAAAAAAAI0AzMzMzMzMhQJqZmZmZmR9AmpmZmZmZIEBmZmZmZmYgQM3MzMzMzCBAAAAAAAAAIUAAAAAAAAAcQAAAAAAAABxAAAAAAAAAHECamZmZmZkbQM3MzMzMzBpAMzMzMzMzG0CamZmZmZkbQJqZmZmZmRtAZmZmZmZmHECamZmZmZkbQAAAAAAAACFAmpmZmZmZH0BmZmZmZmYcQGZmZmZmZh5AMzMzMzMzG0AAAAAAAAAeQJqZmZmZmR1AAAAAAAAAHEDNzMzMzMwaQAAAAAAAABxAMzMzMzMzHUBmZmZmZmYcQAAAAAAAABpAAAAAAAAAGkCamZmZmZkdQDMzMzMzMx1AZmZmZmZmHEDNzMzMzMwcQDMzMzMzMx1AAAAAAAAAIUAzMzMzMzMhQJqZmZmZmSBAzczMzMzMIECamZmZmZkfQAAAAAAAACFAMzMzMzMzIUDNzMzMzMwgQGZmZmZmZiBAZmZmZmZmIUAzMzMzMzMhQAAAAAAAACJAZmZmZmZmIUDNzMzMzMwgQJqZmZmZmSFAmpmZmZmZIUCamZmZmZkiQGZmZmZmZiBAmpmZmZmZIECamZmZmZkhQAAAAAAAACNAmpmZmZmZIkBmZmZmZmYhQDMzMzMzMyFAMzMzMzMzIkAAAAAAAAAhQGZmZmZmZiJAmpmZmZmZIkBmZmZmZmYgQM3MzMzMzCBAmpmZmZmZIEBmZmZmZmYhQGZmZmZmZiBAMzMzMzMzIUAAAAAAAAAhQJqZmZmZmSFAmpmZmZmZH0DNzMzMzMwgQJqZmZmZmSJAMzMzMzMzIUAAAAAAAAAiQGZmZmZmZiBAMzMzMzMzIkAzMzMzMzMiQAAAAAAAACFAMzMzMzMzIUCamZmZmZkhQAAAAAAAACFAZmZmZmZmIkBmZmZmZmYiQAAAAAAAACJAMzMzMzMzI0AAAAAAAAAiQM3MzMzMzCJAAAAAAAAAIECamZmZmZkdQDMzMzMzMyBAmpmZmZmZG0CamZmZmZkfQJqZmZmZmSBAMzMzMzMzIEBmZmZmZmYYQM3MzMzMzBZAZmZmZmZmHkAzMzMzMzMgQGZmZmZmZiBAMzMzMzMzH0AzMzMzMzMfQJqZmZmZmSBAZmZmZmZmIEBmZmZmZmYgQAAAAAAAACFAMzMzMzMzH0AAAAAAAAAgQDMzMzMzMxtAMzMzMzMzIkAAAAAAAAAgQDMzMzMzMyFAzczMzMzMHkAzMzMzMzMhQM3MzMzMzCBAMzMzMzMzH0DNzMzMzMwgQJqZmZmZmR9AMzMzMzMzIECamZmZmZkfQAAAAAAAACFAAAAAAAAAIEAzMzMzMzMgQDMzMzMzMyBAAAAAAAAAIUAzMzMzMzMhQDMzMzMzMyJAAAAAAAAAIkAzMzMzMzMjQDMzMzMzMyBAZmZmZmZmIECamZmZmZkgQGZmZmZmZiBAmpmZmZmZIECamZmZmZkgQM3MzMzMzCBAAAAAAAAAIkAzMzMzMzMiQGZmZmZmZiBAMzMzMzMzIEDNzMzMzMwgQAAAAAAAACJAAAAAAAAAIUAAAAAAAAAiQAAAAAAAACFAMzMzMzMzIkBmZmZmZmYgQGZmZmZmZiBAmpmZmZmZIEAzMzMzMzMhQM3MzMzMzCBAMzMzMzMzIkCamZmZmZkgQDMzMzMzMyFAZmZmZmZmIUBmZmZmZmYgQGZmZmZmZiBAZmZmZmZmHEDNzMzMzMwcQJqZmZmZmR9AzczMzMzMHEAzMzMzMzMfQJqZmZmZmSFAmpmZmZmZHUAAAAAAAAAhQDMzMzMzMyBAZmZmZmZmIEBmZmZmZmYhQGZmZmZmZiBAmpmZmZmZIEAzMzMzMzMiQJqZmZmZmSFAzczMzMzMIEAzMzMzMzMiQGZmZmZmZiFAZmZmZmZmIkDNzMzMzMweQGZmZmZmZh5AmpmZmZmZH0AzMzMzMzMdQGZmZmZmZh5AAAAAAAAAIEDNzMzMzMweQJqZmZmZmR9AAAAAAAAAAACamZmZmZkdQM3MzMzMzB5AMzMzMzMzIUAzMzMzMzMgQGZmZmZmZiFAzczMzMzMHkAzMzMzMzMfQJqZmZmZmR9AMzMzMzMzIkAAAAAAAAAhQJqZmZmZmR9AAAAAAAAAIEAAAAAAAAAgQJqZmZmZmSBAMzMzMzMzIECamZmZmZkfQAAAAAAAACBAMzMzMzMzIEAzMzMzMzMgQDMzMzMzMyFAAAAAAAAAIECamZmZmZkhQDMzMzMzMyJAZmZmZmZmIEAzMzMzMzMgQAAAAAAAACBAmpmZmZmZIEBmZmZmZmYgQAAAAAAAACFAMzMzMzMzIUAAAAAAAAAhQGZmZmZmZiBAMzMzMzMzIUDNzMzMzMwhQGZmZmZmZiJAzczMzMzMIUBmZmZmZmYhQJqZmZmZmSFAMzMzMzMzIkCamZmZmZkhQDMzMzMzMyJAAAAAAAAAI0CamZmZmZkbQDMzMzMzMxtAAAAAAAAAGkDNzMzMzMwaQM3MzMzMzBhAZmZmZmZmGkAzMzMzMzMbQDMzMzMzMxtAmpmZmZmZGUAAAAAAAAAaQDMzMzMzMxlAmpmZmZmZG0CamZmZmZkbQJqZmZmZmSBAMzMzMzMzIEDNzMzMzMweQDMzMzMzMx9AzczMzMzMHkBmZmZmZmYeQM3MzMzMzB5AzczMzMzMHkAAAAAAAAAgQGZmZmZmZh5AzczMzMzMHECamZmZmZkdQDMzMzMzMx9AMzMzMzMzHUDNzMzMzMwcQJqZmZmZmR9AzczMzMzMHECamZmZmZkdQJqZmZmZmR1AZmZmZmZmHkDNzMzMzMwcQGZmZmZmZh5AzczMzMzMHEBmZmZmZmYcQAAAAAAAABxAmpmZmZmZIUAAAAAAAAAgQDMzMzMzMx9AZmZmZmZmHkAAAAAAAAAAAAAAAAAAAAAAMzMzMzMzIUAAAAAAAAAAAGZmZmZmZiBAMzMzMzMzIUAzMzMzMzMgQJqZmZmZmSBAzczMzMzMIUAAAAAAAAAAAAAAAAAAAAAAAAAAAAAAAAAAAAAAAAAAAAAAAAAAAAAAMzMzMzMzH0AzMzMzMzMfQAAAAAAAAAAAAAAAAAAAIUAAAAAAAAAAAGZmZmZmZiBAAAAAAAAAAAAAAAAAAAAAAAAAAAAAAAAAAAAAAAAAAAAAAAAAAAAAAAAAAAAAAAAAZmZmZmZmGkAAAAAAAAAAAAAAAAAAAAAAZmZmZmZmIUDNzMzMzMwhQM3MzMzMzCFAAAAAAAAAIUCamZmZmZkhQDMzMzMzMyJAmpmZmZmZIUCamZmZmZkhQJqZmZmZmSFAmpmZmZmZIUBmZmZmZmYhQDMzMzMzMyJAzczMzMzMIECamZmZmZkgQM3MzMzMzCBAMzMzMzMzIEBmZmZmZmYgQAAAAAAAACBAAAAAAAAAIEAAAAAAAAAgQAAAAAAAACJAzczMzMzMIUCamZmZmZkhQAAAAAAAACJAmpmZmZmZIUAzMzMzMzMdQM3MzMzMzBxAAAAAAAAAAACamZmZmZkdQJqZmZmZmSFAAAAAAAAAAABmZmZmZmYgQAAAAAAAACBAmpmZmZmZIECamZmZmZkdQGZmZmZmZiBAZmZmZmZmIECamZmZmZkgQGZmZmZmZiBAAAAAAAAAIUDNzMzMzMwhQGZmZmZmZh5AAAAAAAAAIEAzMzMzMzMhQJqZmZmZmSBAAAAAAAAAIkAAAAAAAAAhQAAAAAAAAAAAAAAAAAAAAAAAAAAAAAAAAAAAAAAAAB5AAAAAAAAAAAAAAAAAAAAgQM3MzMzMzB5AAAAAAAAAHkDNzMzMzMwcQDMzMzMzMx1AAAAAAAAAHECamZmZmZkgQJqZmZmZmSBAAAAAAAAAAAAAAAAAAAAAAJqZmZmZmSFAAAAAAAAAIUAAAAAAAAAAAJqZmZmZmR1AAAAAAAAAHkCamZmZmZkdQDMzMzMzMxtAzczMzMzMHEDNzMzMzMwYQM3MzMzMzBxAAAAAAAAAHkAzMzMzMzMhQAAAAAAAAB5AAAAAAAAAAADNzMzMzMweQJqZmZmZmR9AMzMzMzMzH0BmZmZmZmYgQAAAAAAAACBAAAAAAAAAAADNzMzMzMwhQAAAAAAAAAAAZmZmZmZmIUAzMzMzMzMgQAAAAAAAAAAAAAAAAAAAAAAAAAAAAAAAAGZmZmZmZiJAAAAAAAAAAAAAAAAAAAAAAAAAAAAAAAAAAAAAAAAAIkAAAAAAAAAAAAAAAAAAABxAAAAAAAAAAAAAAAAAAAAAAAAAAAAAAAAAMzMzMzMzIEAzMzMzMzMfQM3MzMzMzB5AMzMzMzMzIkAzMzMzMzMiQGZmZmZmZh5AzczMzMzMHEAAAAAAAAAeQJqZmZmZmR9AAAAAAAAAIEAAAAAAAAAgQJqZmZmZmR9AmpmZmZmZH0AzMzMzMzMgQM3MzMzMzB5AzczMzMzMIUCamZmZmZkfQDMzMzMzMyFAZmZmZmZmIEAAAAAAAAAAAAAAAAAAAAAAAAAAAAAAAAAAAAAAAAAhQDMzMzMzMyBAmpmZmZmZIECamZmZmZkgQGZmZmZmZiBAZmZmZmZmIECamZmZmZkhQJqZmZmZmR9AzczMzMzMHkCamZmZmZkgQAAAAAAAACFAMzMzMzMzIUDNzMzMzMwgQAAAAAAAACFAmpmZmZmZIEAzMzMzMzMhQDMzMzMzMyFAmpmZmZmZIUAzMzMzMzMhQJqZmZmZmSBAMzMzMzMzIkAzMzMzMzMhQM3MzMzMzCFAMzMzMzMzIECamZmZmZkhQAAAAAAAAAAAMzMzMzMzH0AAAAAAAAAAAAAAAAAAAAAAAAAAAAAAAAAAAAAAAAAAAGZmZmZmZiJAAAAAAAAAAAAAAAAAAAAAADMzMzMzMx1AzczMzMzMHEDNzMzMzMwaQAAAAAAAAAAAAAAAAAAAAAAAAAAAAAAAAJqZmZmZmR9AAAAAAAAAIUAAAAAAAAAjQJqZmZmZmSBAAAAAAAAAAAAAAAAAAAAAAJqZmZmZmRlAmpmZmZmZG0BmZmZmZmYcQAAAAAAAAAAAAAAAAAAAAAAAAAAAAAAAAAAAAAAAAAAAAAAAAAAAAAAAAAAAAAAgQAAAAAAAACJAAAAAAAAAIkBmZmZmZmYiQAAAAAAAAAAAmpmZmZmZHUAAAAAAAAAAAAAAAAAAAAAAmpmZmZmZIUAAAAAAAAAAAJqZmZmZmRtAmpmZmZmZGUAAAAAAAAAaQAAAAAAAABxAAAAAAAAAAAAAAAAAAAAAADMzMzMzMyBAAAAAAAAAAAAAAAAAAAAAAAAAAAAAAAAAMzMzMzMzHUAAAAAAAAAAADMzMzMzMyFAAAAAAAAAAAAAAAAAAAAcQDMzMzMzMx1AAAAAAAAAAAAAAAAAAAAAAAAAAAAAAAAAAAAAAAAAAAAAAAAAAAAAAAAAAAAAAAAAzczMzMzMHEBmZmZmZmYhQDMzMzMzMx9AAAAAAAAAHkCamZmZmZkbQAAAAAAAACFAmpmZmZmZIEAzMzMzMzMgQJqZmZmZmR1AAAAAAAAAHkA=",
           "dtype": "f8"
          },
          "coloraxis": "coloraxis",
          "line": {
           "color": "black",
           "width": 1
          },
          "size": 8,
          "symbol": "circle"
         },
         "mode": "markers",
         "name": "",
         "showlegend": false,
         "type": "scattergl",
         "x": {
          "bdata": "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",
          "dtype": "f8"
         },
         "xaxis": "x",
         "y": [
          "Action,Adventure,Drama",
          "Action,Adventure,Fantasy",
          "Action,Adventure,Drama",
          "Action,Comedy,Drama",
          "Action,Adventure,Sci-Fi",
          "Action,Adventure,Sci-Fi",
          "Action,Adventure,Drama",
          "Action,Adventure,Comedy",
          "Action,Adventure,Fantasy",
          "Action,Adventure,Sci-Fi",
          "Action,Adventure,Comedy",
          "Action,Adventure,Sci-Fi",
          "Action,Adventure,Sci-Fi",
          "Action,Adventure,Sci-Fi",
          "Action,Adventure,Fantasy",
          "Action,Adventure,Sci-Fi",
          "Action,Adventure,Sci-Fi",
          "Action,Adventure,Sci-Fi",
          "Action,Adventure,Comedy",
          "Action,Adventure,Fantasy",
          "Action,Adventure,Sci-Fi",
          "Action,Adventure,Sci-Fi",
          "Action,Adventure,Sci-Fi",
          "Action,Adventure,Fantasy",
          "Drama,Horror,Mystery",
          "Action,Adventure,Fantasy",
          "Action,Adventure,Comedy",
          "Action,Adventure,Sci-Fi",
          "Action,Adventure,Sci-Fi",
          "Animation,Action,Adventure",
          "Action,Adventure,Drama",
          "Action,Adventure,Fantasy",
          "Action,Adventure,Sci-Fi",
          "Action,Adventure,Sci-Fi",
          "Action,Adventure,Comedy",
          "Action,Adventure,Sci-Fi",
          "Action,Adventure,Crime",
          "Action,Adventure,Comedy",
          "Action,Adventure,Fantasy",
          "Action,Adventure,Drama",
          "Comedy,Romance",
          "Animation,Adventure,Comedy",
          "Action,Adventure,Fantasy",
          "Action,Adventure,Comedy",
          "Action,Adventure,Comedy",
          "Action,Adventure,Comedy",
          "Action,Adventure,Drama",
          "Action,Comedy,Sci-Fi",
          "Action,Adventure,Fantasy",
          "Short,Comedy,Music",
          "Action,Adventure,Drama",
          "Action,Adventure,Drama",
          "Action,Crime,Drama",
          "Action,Adventure,Comedy",
          "Action,Adventure,Comedy",
          "Action,Fantasy,Sci-Fi",
          "Action,Adventure,Drama",
          "Action,Adventure,Sci-Fi",
          "Documentary",
          "Action,Adventure,Comedy",
          "Animation,Action,Sci-Fi",
          "Animation,Action,Adventure",
          "Short,Action,Adventure",
          "Short,Comedy,Fantasy",
          "Comedy,Music",
          "Animation,Action,Adventure",
          "Animation,Action,Sci-Fi",
          "Music",
          "Action",
          "Sci-Fi",
          "Animation,Action,Adventure",
          "Comedy,Music",
          "Comedy,Music",
          "Animation,Action,Sci-Fi",
          "Short,Action,Sci-Fi",
          "Short,Sci-Fi",
          "Animation,Action,Adventure",
          "Animation,Action,Horror",
          "Action,Adventure,Sci-Fi",
          "Animation,Action,Adventure",
          "Comedy,Music",
          "Comedy,Music",
          "Action,Adventure,Crime",
          "Action,Adventure,Crime",
          "Animation,Action,Adventure",
          "Action,Adventure,Sci-Fi",
          "Animation,Action,Adventure",
          "Animation",
          "Documentary,Short",
          "Documentary,History",
          "Documentary",
          "Action",
          "Animation",
          "Animation,Action,Adventure",
          "Comedy,News",
          "Sci-Fi",
          "Documentary,History",
          "Action",
          "Short,Action",
          "Action",
          "Action",
          "Short,Sci-Fi",
          "Short",
          "Short,Action",
          "Short",
          "Documentary",
          "Animation,Action,Adventure",
          "Action,Adventure,Drama",
          "Action,Adventure,Drama",
          "Action,Adventure,Drama",
          "Action,Adventure,Drama",
          "Action,Adventure,Drama",
          "Action,Adventure,Drama",
          "Action,Adventure,Drama",
          "Action,Adventure,Drama",
          "Action,Adventure,Drama",
          "Action,Adventure,Drama",
          "Action,Adventure,Drama",
          "Action,Adventure,Drama",
          "Action,Adventure,Drama",
          "Action,Adventure,Drama",
          "Action,Adventure,Drama",
          "Action,Adventure,Drama",
          "Action,Adventure,Drama",
          "Action,Adventure,Drama",
          "Action,Adventure,Drama",
          "Action,Adventure,Drama",
          "Action,Adventure,Drama",
          "Action,Adventure,Drama",
          "Action,Adventure,Drama",
          "Action,Adventure,Drama",
          "Action,Adventure,Drama",
          "Action,Adventure,Drama",
          "Action,Adventure,Drama",
          "Action,Adventure,Drama",
          "Action,Adventure,Drama",
          "Action,Adventure,Drama",
          "Action,Adventure,Drama",
          "Action,Adventure,Drama",
          "Action,Adventure,Drama",
          "Action,Adventure,Drama",
          "Action,Adventure,Drama",
          "Action,Adventure,Drama",
          "Action,Adventure,Drama",
          "Action,Adventure,Drama",
          "Action,Adventure,Drama",
          "Action,Adventure,Drama",
          "Action,Adventure,Drama",
          "Action,Adventure,Drama",
          "Action,Adventure,Drama",
          "Action,Adventure,Drama",
          "Action,Adventure,Drama",
          "Action,Adventure,Drama",
          "Action,Adventure,Drama",
          "Action,Adventure,Drama",
          "Action,Adventure,Drama",
          "Action,Adventure,Drama",
          "Action,Adventure,Drama",
          "Action,Adventure,Drama",
          "Action,Adventure,Drama",
          "Action,Adventure,Drama",
          "Action,Adventure,Drama",
          "Action,Adventure,Drama",
          "Action,Adventure,Drama",
          "Action,Adventure,Drama",
          "Action,Adventure,Drama",
          "Action,Adventure,Drama",
          "Action,Adventure,Drama",
          "Action,Adventure,Drama",
          "Action,Adventure,Drama",
          "Action,Adventure,Drama",
          "Action,Adventure,Drama",
          "Animation,Action,Drama",
          "Animation,Action,Drama",
          "Animation,Action,Drama",
          "Action,Adventure,Drama",
          "Animation,Action,Drama",
          "Action,Comedy,Drama",
          "Action,Comedy,Drama",
          "Action,Comedy,Drama",
          "Action,Comedy,Drama",
          "Action,Comedy,Drama",
          "Action,Adventure,Fantasy",
          "Action,Adventure,Fantasy",
          "Action,Adventure,Fantasy",
          "Action,Adventure,Fantasy",
          "Action,Adventure,Fantasy",
          "Action,Adventure,Fantasy",
          "Action,Adventure,Crime",
          "Action,Adventure,Crime",
          "Action,Adventure,Crime",
          "Action,Adventure,Crime",
          "Action,Adventure,Crime",
          "Action,Adventure,Crime",
          "Action,Adventure,Crime",
          "Action,Adventure,Crime",
          "Documentary,Sport",
          "Animation,Action,Adventure",
          "Action,Adventure,Drama",
          "Action,Adventure,Comedy",
          "Action,Adventure,Comedy",
          "Action,Adventure,Drama",
          "Action,Adventure,Drama",
          "Action,Adventure,Drama",
          "Action,Adventure,Drama",
          "Action,Adventure,Drama",
          "Action,Adventure,Comedy",
          "Action,Adventure,Comedy",
          "Action,Adventure,Comedy",
          "Action,Adventure,Comedy",
          "Action,Adventure,Comedy",
          "Action,Adventure,Comedy",
          "Action,Adventure,Comedy",
          "Action,Adventure,Comedy",
          "Action,Adventure,Comedy",
          "Action,Adventure,Comedy",
          "Animation,Action,Adventure",
          "Animation,Action,Adventure",
          "Animation,Action,Adventure",
          "Animation,Action,Adventure",
          "Animation,Action,Adventure",
          "Animation,Action,Adventure",
          "Animation,Action,Adventure",
          "Animation,Action,Adventure",
          "Animation,Action,Adventure",
          "Action,Adventure,Drama",
          "Action,Adventure,Drama",
          "Action,Fantasy,Sci-Fi",
          "Action,Fantasy,Sci-Fi",
          "Action,Comedy,Drama",
          "Action,Comedy,Drama",
          "Action,Comedy,Drama",
          "Action,Adventure,Drama",
          "Action,Adventure,Drama",
          "Action,Adventure,Comedy",
          "Action,Adventure,Comedy",
          "Action,Adventure,Comedy",
          "Action,Adventure,Comedy",
          "Action,Adventure,Comedy",
          "Action,Adventure,Drama",
          "Action,Adventure,Drama",
          "Action,Adventure,Drama",
          "Action,Adventure,Drama",
          "Talk-Show",
          "Talk-Show",
          "Action,Fantasy,Sci-Fi",
          "Action,Fantasy,Sci-Fi",
          "Documentary",
          "Documentary",
          "Action,Fantasy,Sci-Fi",
          "Action,Fantasy,Sci-Fi",
          "Documentary",
          "Documentary",
          "Documentary",
          "Action,Fantasy,Sci-Fi",
          "Action,Adventure,Drama",
          "Action,Adventure,Drama",
          "Action,Adventure,Drama",
          "Action,Adventure,Drama",
          "Action,Adventure,Drama",
          "Action,Crime,Drama",
          "Action,Crime,Drama",
          "Action,Crime,Drama",
          "Action,Crime,Drama",
          "Action,Crime,Drama",
          "Action,Crime,Drama",
          "Action,Crime,Drama",
          "Action,Crime,Drama",
          "Action,Crime,Drama",
          "Action,Crime,Drama",
          "Action,Crime,Drama",
          "Action,Crime,Drama",
          "Action,Crime,Drama",
          "Action,Crime,Drama",
          "Action,Adventure,Drama",
          "Action,Adventure,Drama",
          "Action,Adventure,Drama",
          "Action,Adventure,Drama",
          "Action,Adventure,Drama",
          "Action,Adventure,Drama",
          "Action,Adventure,Drama",
          "Action,Adventure,Drama",
          "Action,Adventure,Drama",
          "Action,Adventure,Drama",
          "Action,Adventure,Drama",
          "Action,Adventure,Drama",
          "Action,Adventure,Drama",
          "Action,Adventure,Drama",
          "Action,Adventure,Drama",
          "Action,Adventure,Drama",
          "Action,Adventure,Drama",
          "Action,Adventure,Drama",
          "Action,Adventure,Drama",
          "Action,Adventure,Drama",
          "Action,Adventure,Drama",
          "Action,Adventure,Drama",
          "Action,Crime,Drama",
          "Action,Crime,Drama",
          "Action,Adventure,Drama",
          "Action,Crime,Drama",
          "Action,Crime,Drama",
          "Action,Crime,Drama",
          "Action,Crime,Drama",
          "Action,Crime,Drama",
          "Action,Crime,Drama",
          "Action,Crime,Drama",
          "Action,Crime,Drama",
          "Action,Crime,Drama",
          "Action,Crime,Drama",
          "Action,Crime,Drama",
          "Action,Crime,Drama",
          "Action,Crime,Drama",
          "Action,Adventure,Drama",
          "Action,Adventure,Drama",
          "Action,Adventure,Drama",
          "Action,Adventure,Drama",
          "Action,Adventure,Drama",
          "Action,Adventure,Drama",
          "Action,Adventure,Drama",
          "Action,Adventure,Drama",
          "Action,Adventure,Drama",
          "Action,Adventure,Drama",
          "Action,Adventure,Drama",
          "Action,Adventure,Drama",
          "Action,Adventure,Drama",
          "Action,Adventure,Drama",
          "Action,Adventure,Drama",
          "Action,Adventure,Drama",
          "Action,Adventure,Drama",
          "Action,Adventure,Drama",
          "Action,Adventure,Drama",
          "Action,Adventure,Drama",
          "Action,Adventure,Drama",
          "Action,Adventure,Drama",
          "Action,Adventure,Drama",
          "Action,Adventure,Drama",
          "Action,Adventure,Drama",
          "Action,Adventure,Drama",
          "Action,Adventure,Drama",
          "Action,Adventure,Drama",
          "Action,Adventure,Drama",
          "Action,Adventure,Drama",
          "Action,Adventure,Drama",
          "Action,Adventure,Drama",
          "Action,Adventure,Drama",
          "Action,Adventure,Drama",
          "Action,Adventure,Drama",
          "Action,Adventure,Drama",
          "Action,Adventure,Drama",
          "Action,Adventure,Drama",
          "Action,Adventure,Drama",
          "Action,Adventure,Drama",
          "Action,Adventure,Drama",
          "Action,Adventure,Drama",
          "Action,Adventure,Drama",
          "Action,Adventure,Drama",
          "Action,Adventure,Drama",
          "Action,Adventure,Drama",
          "Action,Adventure,Drama",
          "Action,Adventure,Drama",
          "Action,Adventure,Drama",
          "Action,Adventure,Drama",
          "Action,Adventure,Drama",
          "Action,Adventure,Drama",
          "Action,Adventure,Drama",
          "Action,Adventure,Drama",
          "Action,Adventure,Drama",
          "Action,Adventure,Drama",
          "Action,Adventure,Drama",
          "Action,Adventure,Drama",
          "Action,Adventure,Drama",
          "Action,Adventure,Drama",
          "Action,Adventure,Drama",
          "Action,Adventure,Drama",
          "Action,Adventure,Drama",
          "Action,Adventure,Drama",
          "Action,Adventure,Drama",
          "Action,Adventure,Drama",
          "Action,Adventure,Drama",
          "Action,Adventure,Drama",
          "Action,Adventure,Drama",
          "Action,Adventure,Drama",
          "Action,Adventure,Drama",
          "Action,Adventure,Drama",
          "Action,Adventure,Drama",
          "Action,Adventure,Drama",
          "Biography,Family,News",
          "Action,Adventure,Drama",
          "Action,Comedy,Drama",
          "Action,Adventure,Fantasy",
          "Action,Adventure,Comedy",
          "Action,Crime,Drama",
          "Crime,Drama,Thriller",
          "Action,Adventure,Crime",
          "Action,Crime,Drama",
          "Action,Drama,Mystery",
          "Action,Crime,Drama",
          "Adventure,Drama,Romance",
          "Action,Adventure,Fantasy",
          "Action,Adventure",
          "Action,Adventure,Comedy",
          "Action,Adventure,Fantasy",
          "Action,Adventure,Drama",
          "Action,Drama,Mystery",
          "Action,Adventure,Sci-Fi",
          "Action,Adventure,Comedy",
          "Action,Adventure,Sci-Fi",
          "Biography,Crime,Drama",
          "Action,Adventure",
          "Drama,Fantasy,Horror",
          "Action,Drama,Sci-Fi",
          "Action,Adventure",
          "Action,Adventure,Drama",
          "Animation,Action,Adventure",
          "Action,Adventure,Fantasy",
          "Action,Sci-Fi",
          "Action,Fantasy,Horror",
          "Action,Adventure",
          "Action,Adventure,Drama",
          "Animation,Action,Adventure",
          "Animation,Action,Adventure",
          "Action,Adventure,Sci-Fi",
          "Animation,Action,Crime",
          "Action,Crime,Fantasy",
          "Action,Drama,Family",
          "Action,Adventure,Fantasy",
          "Animation,Action,Adventure",
          "Action,Sci-Fi",
          "Animation,Action,Adventure",
          "Comedy",
          "Action,Adventure,Drama",
          "Comedy,Family",
          "Action,Adventure,Comedy",
          "Crime,Drama,Fantasy",
          "Animation,Action,Adventure",
          "Action,Adventure,Sci-Fi",
          "Animation,Action,Adventure",
          "Action,Crime,Fantasy",
          "Action,Sci-Fi",
          "Animation,Action,Adventure",
          "Action,Adventure,Crime",
          "Comedy,Horror",
          "Animation,Action,Adventure",
          "Animation,Action,Adventure",
          "Action,Adventure,Comedy",
          "Animation,Action,Adventure",
          "Animation,Action,Adventure",
          "Animation,Action,Adventure",
          "Animation,Action,Adventure",
          "Horror,Sci-Fi",
          "Animation,Action,Sci-Fi",
          "Animation,Action,Crime",
          "Animation,Action,Adventure",
          "Comedy,Family,Fantasy",
          "Action,Adventure,Crime",
          "Animation,Action,Adventure",
          "Animation,Action,Adventure",
          "Animation,Action,Adventure",
          "Animation,Short,Fantasy",
          "Animation,Action,Crime",
          "Action,Adventure,Sci-Fi",
          "Action,Adventure,Comedy",
          "Action,Adventure,Comedy",
          "Animation,Action,Adventure",
          "Animation,Action,Adventure",
          "Animation,Action,Adventure",
          "Animation,Action,Drama",
          "Action,Adventure,Crime",
          "Animation,Short,Action",
          "Animation,Short,Action",
          "Animation,Action,Crime",
          "Drama",
          "Animation,Action,Comedy",
          "Action,Adventure,Crime",
          "Action,Adventure,Crime",
          "Animation,Action,Horror",
          "Action,Comedy,Crime",
          "Action,Crime,Sci-Fi",
          "Animation,Short,Action",
          "Animation,Action,Adventure",
          "Animation,Action,Adventure",
          "Animation,Sci-Fi,Action",
          "Action,Adventure,Fantasy",
          "Animation,Action,Fantasy",
          "Animation,Action,Adventure",
          "Action,Adventure,Fantasy",
          "Animation,Action,Sci-Fi",
          "Animation,Action,Sci-Fi",
          "Animation,Comedy,Crime",
          "Action,Adventure,Fantasy",
          "Short,Action,Adventure",
          "Animation,Short,Action",
          "Animation,Short,Action",
          "Documentary",
          "Animation,Short,Action",
          "Adventure,Animation,Fantasy",
          "Action,Crime,Thriller",
          "Animation,Action,Adventure",
          "Animation,Action,Family",
          "Animation,Adventure,Family",
          "Short,Adventure,Drama",
          "Action,Adventure,Fantasy",
          "Animation,Action,Adventure",
          "Action,Animation",
          "Animation,Action,Adventure",
          "Animation,Action,Adventure",
          "Action,Fantasy,Talk-Show",
          "Animation,Sci-Fi",
          "Documentary",
          "Documentary",
          "Adventure,Animation",
          "Documentary",
          "Short,Action",
          "Action,Comedy,Fantasy",
          "Comedy,Documentary",
          "Animation,Action,Adventure",
          "Animation,Action,Adventure",
          "Action,Crime,Drama",
          "Documentary",
          "Documentary",
          "Action,Drama,Thriller",
          "Documentary",
          "Action,Adventure,Fantasy",
          "Documentary,Biography",
          "Action,Fantasy",
          "Documentary,Short",
          "Animation,Fantasy,Sci-Fi",
          "Documentary",
          "Documentary",
          "Action,Crime,Drama",
          "Documentary,Short",
          "Documentary,Short",
          "Documentary,Short",
          "Documentary,Short",
          "Documentary,Short",
          "Documentary,Short",
          "Documentary,Short",
          "Documentary,Short",
          "Documentary,Short",
          "Short,Action,Comedy",
          "Action,Sci-Fi",
          "Documentary,Short",
          "Documentary,Short",
          "Documentary,Short",
          "Documentary,Short",
          "Documentary",
          "Documentary,Short",
          "Short",
          "Documentary,Short",
          "Documentary,Short",
          "Animation,Sci-Fi",
          "Documentary,Sport",
          "Documentary,Short",
          "Documentary,Short",
          "Documentary,Short",
          "Documentary,Short",
          "Documentary,Short",
          "Short",
          "Animation,Short,Action",
          "Short,Adventure,Sci-Fi",
          "Documentary,Short",
          "Documentary,Short",
          "Documentary,Short,Music",
          "Documentary,Short",
          "Animation,Action,Adventure",
          "Documentary,Short",
          "Comedy,Family,Music",
          "Documentary,Short",
          "Documentary",
          "Documentary,Short",
          "Documentary",
          "Documentary,Short",
          "Documentary,Short",
          "Documentary,Short",
          "Action,Adventure,Sci-Fi",
          "Short",
          "Short",
          "Documentary,Short",
          "Documentary,Short",
          "Documentary,Short",
          "Action,Adventure,Fantasy",
          "Documentary,Short",
          "Documentary,Short",
          "Documentary,Short",
          "Documentary",
          "Documentary,Short",
          "Documentary,Short",
          "Animation,Action,Adventure",
          "Adventure,Family,Fantasy",
          "Animation,Action,Adventure",
          "Animation,Action,Adventure",
          "Animation,Action,Adventure",
          "Animation,Action,Adventure",
          "Adventure,Drama,Romance",
          "Animation,Action,Adventure",
          "Animation,Action,Adventure",
          "Animation,Action,Adventure",
          "Animation,Action,Adventure",
          "Animation,Action,Adventure",
          "Animation,Action,Adventure",
          "Animation,Action,Adventure",
          "Animation,Action,Adventure",
          "Animation,Action,Adventure",
          "Animation,Action,Adventure",
          "Animation,Action,Adventure",
          "Animation,Action,Adventure",
          "Animation,Action,Adventure",
          "Animation,Action,Adventure",
          "Animation,Action,Adventure",
          "Animation,Action,Adventure",
          "Animation,Action,Adventure",
          "Animation,Action,Adventure",
          "Animation,Action,Adventure",
          "Animation,Action,Adventure",
          "Animation,Action,Adventure",
          "Animation,Action,Adventure",
          "Animation,Action,Adventure",
          "Animation,Action,Adventure",
          "Animation,Action,Adventure",
          "Animation,Action,Adventure",
          "Animation,Action,Adventure",
          "Animation,Action,Adventure",
          "Animation,Action,Adventure",
          "Animation,Action,Adventure",
          "Animation,Action,Adventure",
          "Animation,Action,Adventure",
          "Animation,Action,Adventure",
          "Animation,Action,Adventure",
          "Animation,Action,Adventure",
          "Animation,Action,Adventure",
          "Animation,Action,Adventure",
          "Animation,Action,Adventure",
          "Animation,Action,Adventure",
          "Animation,Action,Adventure",
          "Animation,Action,Adventure",
          "Animation,Action,Adventure",
          "Animation,Action,Adventure",
          "Animation,Action,Adventure",
          "Animation,Action,Adventure",
          "Animation,Action,Adventure",
          "Animation,Action,Adventure",
          "Animation,Action,Adventure",
          "Animation,Action,Adventure",
          "Animation,Action,Adventure",
          "Animation,Action,Adventure",
          "Animation,Action,Adventure",
          "Animation,Action,Adventure",
          "Animation,Action,Adventure",
          "Animation,Action,Adventure",
          "Animation,Action,Adventure",
          "Animation,Action,Adventure",
          "Animation,Action,Adventure",
          "Animation,Action,Adventure",
          "Animation,Action,Adventure",
          "Animation,Action,Adventure",
          "Animation,Action,Adventure",
          "Animation,Action,Adventure",
          "Animation,Action,Adventure",
          "Animation,Action,Adventure",
          "Animation,Action,Adventure",
          "Animation,Action,Adventure",
          "Animation,Action,Adventure",
          "Animation,Action,Adventure",
          "Animation,Action,Adventure",
          "Animation,Action,Adventure",
          "Animation,Action,Adventure",
          "Animation,Action,Adventure",
          "Animation,Action,Adventure",
          "Animation,Action,Adventure",
          "Animation,Action,Adventure",
          "Animation,Action,Adventure",
          "Animation,Action,Adventure",
          "Animation,Action,Adventure",
          "Animation,Action,Adventure",
          "Animation,Action,Adventure",
          "Animation,Action,Adventure",
          "Animation,Action,Adventure",
          "Animation,Action,Adventure",
          "Animation,Action,Adventure",
          "Animation,Action,Adventure",
          "Animation,Action,Adventure",
          "Animation,Action,Adventure",
          "Animation,Action,Adventure",
          "Animation,Action,Adventure",
          "Animation,Action,Adventure",
          "Animation,Action,Adventure",
          "Animation,Action,Adventure",
          "Animation,Action,Adventure",
          "Animation,Action,Adventure",
          "Animation,Action,Adventure",
          "Animation,Action,Adventure",
          "Animation,Action,Adventure",
          "Animation,Action,Adventure",
          "Animation,Action,Adventure",
          "Animation,Action,Adventure",
          "Animation,Action,Adventure",
          "Animation,Action,Adventure",
          "Animation,Action,Adventure",
          "Animation,Action,Adventure",
          "Animation,Action,Adventure",
          "Animation,Action,Adventure",
          "Animation,Action,Adventure",
          "Animation,Action,Adventure",
          "Animation,Action,Adventure",
          "Animation,Action,Adventure",
          "Animation,Action,Adventure",
          "Animation,Action,Adventure",
          "Animation,Action,Adventure",
          "Animation,Action,Adventure",
          "Animation,Action,Adventure",
          "Animation,Action,Adventure",
          "Animation,Action,Adventure",
          "Animation,Action,Adventure",
          "Animation,Action,Adventure",
          "Animation,Action,Adventure",
          "Animation,Action,Adventure",
          "Animation,Action,Adventure",
          "Animation,Action,Adventure",
          "Animation,Action,Adventure",
          "Animation,Action,Adventure",
          "Animation,Action,Adventure",
          "Animation,Action,Adventure",
          "Animation,Action,Adventure",
          "Animation,Action,Adventure",
          "Animation,Action,Adventure",
          "Animation,Action,Adventure",
          "Animation,Action,Adventure",
          "Animation,Action,Adventure",
          "Animation,Action,Adventure",
          "Animation,Action,Adventure",
          "Animation,Action,Adventure",
          "Animation,Action,Adventure",
          "Animation,Action,Adventure",
          "Animation,Action,Adventure",
          "Animation,Action,Adventure",
          "Animation,Action,Adventure",
          "Animation,Action,Adventure",
          "Animation,Action,Adventure",
          "Animation,Action,Adventure",
          "Animation,Action,Adventure",
          "Animation,Action,Adventure",
          "Animation,Action,Adventure",
          "Animation,Action,Adventure",
          "Animation,Action,Adventure",
          "Animation,Action,Adventure",
          "Animation,Action,Adventure",
          "Animation,Action,Adventure",
          "Animation,Action,Adventure",
          "Animation,Action,Adventure",
          "Animation,Action,Adventure",
          "Animation,Action,Adventure",
          "Animation,Action,Adventure",
          "Animation,Action,Adventure",
          "Animation,Action,Adventure",
          "Animation,Action,Adventure",
          "Animation,Action,Adventure",
          "Animation,Action,Adventure",
          "Animation,Action,Adventure",
          "Animation,Action,Adventure",
          "Animation,Action,Adventure",
          "Animation,Action,Adventure",
          "Animation,Action,Adventure",
          "Animation,Action,Adventure",
          "Animation,Action,Adventure",
          "Animation,Action,Adventure",
          "Animation,Action,Adventure",
          "Animation,Action,Adventure",
          "Animation,Action,Adventure",
          "Animation,Action,Adventure",
          "Animation,Action,Adventure",
          "Animation,Action,Adventure",
          "Animation,Action,Adventure",
          "Animation,Action,Adventure",
          "Animation,Action,Adventure",
          "Animation,Action,Adventure",
          "Animation,Action,Adventure",
          "Animation,Action,Adventure",
          "Animation,Action,Adventure",
          "Animation,Action,Adventure",
          "Animation,Action,Adventure",
          "Animation,Action,Adventure",
          "Animation,Action,Adventure",
          "Animation,Action,Adventure",
          "Animation,Action,Adventure",
          "Animation,Action,Adventure",
          "Animation,Action,Adventure",
          "Animation,Action,Adventure",
          "Animation,Action,Adventure",
          "Animation,Action,Adventure",
          "Animation,Short,Action",
          "Animation,Action,Adventure",
          "Animation,Action,Adventure",
          "Animation,Action,Adventure",
          "Animation,Action,Adventure",
          "Animation,Action,Adventure",
          "Animation,Action,Adventure",
          "Animation,Action,Adventure",
          "Animation,Action,Adventure",
          "Animation,Action,Adventure",
          "Animation,Action,Adventure",
          "Animation,Action,Adventure",
          "Animation,Action,Adventure",
          "Animation,Action,Adventure",
          "Animation,Action,Adventure",
          "Animation,Action,Adventure",
          "Animation,Action,Adventure",
          "Animation,Action,Adventure",
          "Animation,Action,Adventure",
          "Animation,Action,Adventure",
          "Animation,Action,Adventure",
          "Animation,Action,Adventure",
          "Animation,Action,Adventure",
          "Animation,Action,Adventure",
          "Animation,Action,Adventure",
          "Animation,Action,Adventure",
          "Animation,Action,Adventure",
          "Animation,Action,Adventure",
          "Animation,Action,Adventure",
          "Animation,Action,Adventure",
          "Animation,Action,Adventure",
          "Animation,Action,Adventure",
          "Animation,Action,Adventure",
          "Animation,Action,Adventure",
          "Animation,Action,Adventure",
          "Animation,Action,Adventure",
          "Animation,Action,Adventure",
          "Animation,Action,Adventure",
          "Animation,Action,Adventure",
          "Animation,Action,Adventure",
          "Animation,Action,Adventure",
          "Animation,Action,Adventure",
          "Animation,Action,Adventure",
          "Animation,Action,Adventure",
          "Animation,Action,Adventure",
          "Animation,Action,Adventure",
          "Animation,Action,Adventure",
          "Animation,Action,Adventure",
          "Animation,Action,Adventure",
          "Animation,Action,Adventure",
          "Animation,Action,Adventure",
          "Animation,Action,Adventure",
          "Animation,Action,Adventure",
          "Animation,Action,Adventure",
          "Animation,Action,Adventure",
          "Animation,Action,Adventure",
          "Animation,Action,Adventure",
          "Animation,Action,Adventure",
          "Animation,Action,Adventure",
          "Animation,Action,Adventure",
          "Animation,Action,Adventure",
          "Animation,Action,Adventure",
          "Animation,Action,Adventure",
          "Animation,Action,Adventure",
          "Animation,Action,Adventure",
          "Animation,Action,Adventure",
          "Animation,Action,Adventure",
          "Animation,Action,Adventure",
          "Animation,Action,Adventure",
          "Animation,Action,Adventure",
          "Animation,Action,Adventure",
          "Animation,Action,Adventure",
          "Animation,Action,Adventure",
          "Animation,Action,Adventure",
          "Animation,Action,Adventure",
          "Animation,Action,Adventure",
          "Animation,Action,Adventure",
          "Animation,Action,Adventure",
          "Animation,Action,Adventure",
          "Animation,Action,Adventure",
          "Animation,Action,Adventure",
          "Animation,Action,Adventure",
          "Animation,Action,Adventure",
          "Animation,Action,Adventure",
          "Animation,Action,Adventure",
          "Animation,Action,Adventure",
          "Animation,Action,Adventure",
          "Adventure,Drama,Romance",
          "Adventure,Drama,Romance",
          "Adventure,Drama,Romance",
          "Adventure,Drama,Romance",
          "Adventure,Drama,Romance",
          "Adventure,Drama,Romance",
          "Adventure,Drama,Romance",
          "Adventure,Drama,Romance",
          "Adventure,Drama,Romance",
          "Adventure,Drama,Romance",
          "Adventure,Drama,Romance",
          "Adventure,Drama,Romance",
          "Adventure,Drama,Romance",
          "Adventure,Drama,Romance",
          "Adventure,Drama,Romance",
          "Adventure,Drama,Romance",
          "Adventure,Drama,Romance",
          "Adventure,Drama,Romance",
          "Adventure,Drama,Romance",
          "Adventure,Drama,Romance",
          "Adventure,Drama,Romance",
          "Adventure,Drama,Romance",
          "Adventure,Drama,Romance",
          "Adventure,Drama,Romance",
          "Adventure,Drama,Romance",
          "Adventure,Drama,Romance",
          "Adventure,Drama,Romance",
          "Adventure,Drama,Romance",
          "Adventure,Drama,Romance",
          "Adventure,Drama,Romance",
          "Adventure,Drama,Romance",
          "Adventure,Drama,Romance",
          "Adventure,Drama,Romance",
          "Adventure,Drama,Romance",
          "Adventure,Drama,Romance",
          "Adventure,Drama,Romance",
          "Adventure,Drama,Romance",
          "Adventure,Drama,Romance",
          "Adventure,Drama,Romance",
          "Adventure,Drama,Romance",
          "Adventure,Drama,Romance",
          "Adventure,Drama,Romance",
          "Adventure,Drama,Romance",
          "Adventure,Drama,Romance",
          "Adventure,Drama,Romance",
          "Adventure,Drama,Romance",
          "Adventure,Drama,Romance",
          "Adventure,Drama,Romance",
          "Adventure,Drama,Romance",
          "Adventure,Drama,Romance",
          "Adventure,Drama,Romance",
          "Adventure,Drama,Romance",
          "Adventure,Drama,Romance",
          "Adventure,Drama,Romance",
          "Adventure,Drama,Romance",
          "Adventure,Drama,Romance",
          "Adventure,Drama,Romance",
          "Adventure,Drama,Romance",
          "Adventure,Drama,Romance",
          "Adventure,Drama,Romance",
          "Adventure,Drama,Romance",
          "Adventure,Drama,Romance",
          "Adventure,Drama,Romance",
          "Adventure,Drama,Romance",
          "Adventure,Drama,Romance",
          "Adventure,Drama,Romance",
          "Adventure,Drama,Romance",
          "Adventure,Drama,Romance",
          "Adventure,Drama,Romance",
          "Adventure,Drama,Romance",
          "Adventure,Drama,Romance",
          "Adventure,Drama,Romance",
          "Adventure,Drama,Romance",
          "Adventure,Drama,Romance",
          "Adventure,Drama,Romance",
          "Adventure,Drama,Romance",
          "Adventure,Drama,Romance",
          "Adventure,Drama,Romance",
          "Adventure,Drama,Romance",
          "Adventure,Drama,Romance",
          "Adventure,Drama,Romance",
          "Adventure,Drama,Romance",
          "Adventure,Drama,Romance",
          "Adventure,Drama,Romance",
          "Adventure,Drama,Romance",
          "Adventure,Drama,Romance",
          "Adventure,Drama,Romance",
          "Adventure,Drama,Romance",
          "Adventure,Drama,Romance",
          "Adventure,Drama,Romance",
          "Adventure,Drama,Romance",
          "Adventure,Drama,Romance",
          "Adventure,Drama,Romance",
          "Adventure,Drama,Romance",
          "Animation,Action,Adventure",
          "Animation,Action,Adventure",
          "Animation,Action,Adventure",
          "Animation,Action,Adventure",
          "Animation,Action,Adventure",
          "Animation,Action,Adventure",
          "Animation,Action,Adventure",
          "Animation,Action,Adventure",
          "Animation,Action,Adventure",
          "Animation,Action,Adventure",
          "Animation,Action,Adventure",
          "Animation,Action,Adventure",
          "Animation,Action,Adventure",
          "Animation,Action,Adventure",
          "Animation,Action,Sci-Fi",
          "Animation,Action,Sci-Fi",
          "Animation,Action,Sci-Fi",
          "Animation,Action,Sci-Fi",
          "Animation,Action,Sci-Fi",
          "Animation,Action,Sci-Fi",
          "Animation,Action,Sci-Fi",
          "Animation,Action,Sci-Fi",
          "Animation,Action,Sci-Fi",
          "Animation,Action,Sci-Fi",
          "Animation,Action,Sci-Fi",
          "Animation,Action,Sci-Fi",
          "Animation,Action,Sci-Fi",
          "Animation,Action,Sci-Fi",
          "Animation,Action,Sci-Fi",
          "Animation,Action,Sci-Fi",
          "Animation,Action,Sci-Fi",
          "Animation,Action,Sci-Fi",
          "Animation,Action,Sci-Fi",
          "Animation,Action,Sci-Fi",
          "Animation,Action,Sci-Fi",
          "Animation,Action,Sci-Fi",
          "Animation,Action,Sci-Fi",
          "Animation,Action,Sci-Fi",
          "Animation,Action,Sci-Fi",
          "Animation,Action,Sci-Fi",
          "Adventure,Drama,Romance",
          "Animation,Action,Adventure",
          "Animation,Action,Adventure",
          "Animation,Action,Adventure",
          "Animation,Action,Adventure",
          "Animation,Action,Adventure",
          "Animation,Action,Adventure",
          "Animation,Action,Adventure",
          "Animation,Action,Adventure",
          "Adventure,Drama,Romance",
          "Adventure,Drama,Romance",
          "Adventure,Drama,Romance",
          "Adventure,Drama,Romance",
          "Animation,Action,Comedy",
          "Adventure,Drama,Romance",
          "Animation,Action,Comedy",
          "Animation,Action,Adventure",
          "Animation,Action,Adventure",
          "Animation,Action,Adventure",
          "Adventure,Drama,Romance",
          "Animation,Action,Adventure",
          "Adventure,Drama,Romance",
          "Adventure,Drama,Romance",
          "Animation,Action,Adventure",
          "Animation,Action,Adventure",
          "Animation,Action,Adventure",
          "Animation,Action,Adventure",
          "Animation,Action,Adventure",
          "Animation,Action,Adventure",
          "Animation,Action,Adventure",
          "Animation,Action,Adventure",
          "Adventure,Drama,Romance",
          "Animation,Action,Adventure",
          "Adventure,Drama,Romance",
          "Talk-Show",
          "Adventure,Drama,Romance",
          "Adventure,Drama,Romance",
          "Adventure,Drama,Romance",
          "Adventure,Drama,Romance",
          "Adventure,Drama,Romance",
          "Animation,Action,Adventure",
          "Adventure,Drama,Romance",
          "Adventure,Drama,Romance",
          "Adventure,Drama,Romance",
          "Adventure,Drama,Romance",
          "Adventure,Drama,Romance",
          "Adventure,Drama,Romance",
          "Adventure,Drama,Romance",
          "Adventure,Drama,Romance",
          "Adventure,Drama,Romance",
          "Adventure,Drama,Romance",
          "Adventure,Drama,Romance",
          "Adventure,Drama,Romance",
          "Adventure,Drama,Romance",
          "Animation,Action,Comedy",
          "Animation,Comedy,Crime",
          "Animation,Comedy,Crime",
          "Animation,Comedy,Crime",
          "Animation,Comedy,Crime",
          "Action,Adventure,Drama",
          "Animation,Action,Comedy",
          "Animation,Action,Comedy",
          "Animation,Action,Comedy",
          "Animation,Action,Comedy",
          "Animation,Action,Comedy",
          "Animation,Action,Comedy",
          "Animation,Comedy",
          "Adventure,Drama,Romance",
          "Adventure,Drama,Romance",
          "Adventure,Drama,Romance",
          "Adventure,Drama,Romance",
          "Animation,Action,Comedy",
          "Animation,Action,Comedy",
          "Animation,Action,Comedy",
          "Animation,Action,Comedy",
          "Animation,Action,Comedy",
          "Animation,Action,Comedy",
          "Animation,Action,Comedy",
          "Animation,Action,Comedy",
          "Animation,Action,Comedy",
          "Animation,Action,Comedy",
          "Animation,Action,Comedy",
          "Animation,Action,Comedy",
          "Animation,Action,Comedy",
          "Animation,Action,Comedy",
          "Animation,Action,Comedy",
          "Animation,Action,Comedy",
          "Animation,Action,Comedy",
          "Adventure,Drama,Romance",
          "Adventure,Drama,Romance",
          "Adventure,Drama,Romance",
          "Adventure,Drama,Romance",
          "Adventure,Drama,Romance",
          "Documentary",
          "Adventure,Drama,Romance",
          "Adventure,Drama,Romance",
          "Adventure,Drama,Romance",
          "Adventure,Drama,Romance",
          "Animation,Crime,Drama",
          "Animation,Crime,Drama",
          "Animation,Crime,Drama",
          "Animation,Crime,Drama",
          "Animation,Crime,Drama",
          "Animation,Crime,Drama",
          "Animation,Crime,Drama",
          "Animation,Crime,Drama",
          "Animation,Crime,Drama",
          "Animation,Crime,Drama",
          "Adventure,Drama,Romance",
          "Adventure,Drama,Romance",
          "Animation,Crime,Drama",
          "Animation,Crime,Drama",
          "Animation,Crime,Drama",
          "Animation,Crime,Drama",
          "Animation,Crime,Drama",
          "Animation,Crime,Drama",
          "Animation,Crime,Drama",
          "Animation,Crime,Drama",
          "Animation,Crime,Drama",
          "Animation,Crime,Drama",
          "Adventure,Drama,Romance",
          "Adventure,Drama,Romance",
          "Adventure,Drama,Romance",
          "Drama,Fantasy,Sci-Fi",
          "Drama,Fantasy,Sci-Fi",
          "Adventure,Drama,Romance",
          "Adventure,Drama,Romance",
          "Action,Adventure,Crime",
          "Action,Adventure,Crime",
          "Action,Adventure,Crime",
          "Action,Adventure,Crime",
          "Adventure,Drama,Romance",
          "Adventure,Drama,Romance",
          "Action,Adventure,Crime",
          "Action,Adventure,Crime",
          "Action,Adventure,Crime",
          "Adventure,Drama,Romance",
          "Action,Adventure,Crime",
          "Adventure,Drama,Romance",
          "Adventure,Drama,Romance",
          "Adventure,Drama,Romance",
          "Action,Adventure,Crime",
          "Action,Adventure,Crime",
          "Adventure,Drama,Romance",
          "Adventure,Drama,Romance",
          "Adventure,Drama,Romance",
          "Adventure,Drama,Romance",
          "Action,Adventure,Crime",
          "Adventure,Drama,Romance",
          "Adventure,Drama,Romance",
          "Adventure,Drama,Romance",
          "Adventure,Drama,Romance",
          "Adventure,Drama,Romance",
          "Adventure,Drama,Romance",
          "Adventure,Drama,Romance",
          "Adventure,Drama,Romance",
          "Adventure,Drama,Romance",
          "Adventure,Drama,Romance",
          "Adventure,Drama,Romance",
          "Adventure,Drama,Romance",
          "Adventure,Drama,Romance",
          "Adventure,Drama,Romance",
          "Adventure,Drama,Romance",
          "Adventure,Drama,Romance",
          "Adventure,Drama,Romance",
          "Adventure,Drama,Romance",
          "Adventure,Drama,Romance",
          "Adventure,Drama,Romance",
          "Adventure,Drama,Romance",
          "Action,Adventure,Crime",
          "Animation,Comedy,Crime",
          "Animation,Comedy,Crime",
          "Animation,Comedy,Crime",
          "Animation,Comedy,Crime",
          "Animation,Comedy,Crime",
          "Animation,Comedy,Crime",
          "Animation,Comedy,Crime",
          "Animation,Comedy,Crime",
          "Animation,Comedy,Crime",
          "Animation,Comedy,Crime",
          "Action,Adventure,Crime",
          "Action,Adventure,Crime",
          "Animation,Comedy,Crime",
          "Animation,Comedy,Crime",
          "Animation,Comedy,Crime",
          "Animation,Comedy,Crime",
          "Animation,Comedy,Crime",
          "Animation,Comedy,Crime",
          "Animation,Comedy,Crime",
          "Animation,Comedy,Crime",
          "Animation,Comedy,Crime",
          "Animation,Comedy,Crime",
          "Animation,Comedy,Crime",
          "Animation,Comedy,Crime",
          "Animation,Comedy,Crime",
          "Animation,Comedy,Crime",
          "Animation,Comedy,Crime",
          "Animation,Comedy,Crime",
          "Animation,Comedy,Crime",
          "Animation,Action,Adventure",
          "Animation,Action,Adventure",
          "Animation,Action,Adventure",
          "Animation,Action,Adventure",
          "Animation,Action,Adventure",
          "Action,Adventure,Crime",
          "Animation,Action,Adventure",
          "Animation,Action,Adventure",
          "Animation,Action,Adventure",
          "Animation,Action,Adventure",
          "Animation,Action,Adventure",
          "Animation,Action,Adventure",
          "Animation,Action,Adventure",
          "Animation,Action,Adventure",
          "Animation,Action,Adventure",
          "Animation,Action,Adventure",
          "Animation,Action,Adventure",
          "Animation,Action,Adventure",
          "Animation,Action,Adventure",
          "Animation,Action,Adventure",
          "Animation,Action,Adventure",
          "Animation,Action,Adventure",
          "Animation,Action,Adventure",
          "Animation,Action,Adventure",
          "Animation,Action,Adventure",
          "Animation,Action,Adventure",
          "Animation,Action,Adventure",
          "Animation,Action,Adventure",
          "Action,Adventure,Crime",
          "Action,Adventure,Crime",
          "Action,Adventure,Crime",
          "Animation,Action,Adventure",
          "Animation,Action,Adventure",
          "Action,Adventure,Crime",
          "Action,Adventure,Crime",
          "Animation,Action,Adventure",
          "Action,Adventure,Crime",
          "Animation,Action,Adventure",
          "Animation,Action,Adventure",
          "Animation,Action,Adventure",
          "Animation,Action,Adventure",
          "Action,Adventure,Crime",
          "Animation,Action,Adventure",
          "Animation,Action,Adventure",
          "Animation,Action,Adventure",
          "Animation,Action,Adventure",
          "Animation,Action,Adventure",
          "Animation,Action,Adventure",
          "Animation,Action,Adventure",
          "Animation,Action,Adventure",
          "Animation,Action,Adventure",
          "Animation,Action,Adventure",
          "Animation,Action,Adventure",
          "Animation,Action,Adventure",
          "Action,Crime,Drama",
          "Reality-TV",
          "Animation,Action,Adventure",
          "Reality-TV",
          "Crime,Drama,Fantasy",
          "Action,Adventure,Drama",
          "Action,Adventure,Drama",
          "Action,Comedy,Adventure",
          "Action,Comedy,Adventure",
          "Crime,Drama,Fantasy",
          "Action,Crime,Drama",
          "Crime,Drama,Fantasy",
          "Action,Crime,Drama",
          "Action,Crime,Drama",
          "Action,Crime,Drama",
          "Crime,Drama,Fantasy",
          "Crime,Drama,Fantasy",
          "Crime,Drama,Fantasy",
          "Crime,Drama,Fantasy",
          "Action,Crime,Drama",
          "Reality-TV",
          "Action,Crime,Drama",
          "Action,Crime,Drama",
          "Crime,Drama,Fantasy",
          "Action,Crime,Drama",
          "Crime,Drama,Fantasy",
          "Action,Crime,Drama",
          "Action,Crime,Drama",
          "Action,Crime,Drama",
          "Action,Crime,Drama",
          "Action,Crime,Drama",
          "Action,Crime,Drama",
          "Action,Crime,Drama",
          "Action,Crime,Drama",
          "Action,Crime,Drama",
          "Action,Crime,Drama",
          "Action,Crime,Drama",
          "Action,Crime,Drama",
          "Action,Adventure,Drama",
          "Action,Crime,Drama",
          "Action,Adventure,Drama",
          "Crime,Drama,Fantasy",
          "Crime,Drama,Fantasy",
          "Crime,Drama,Fantasy",
          "Crime,Drama,Fantasy",
          "Action,Adventure,Crime",
          "Action,Adventure,Drama",
          "Action,Crime,Drama",
          "Action,Crime,Drama",
          "Action,Crime,Drama",
          "Action,Crime,Drama",
          "Action,Crime,Drama",
          "Action,Crime,Drama",
          "Action,Crime,Drama",
          "Action,Crime,Drama",
          "Action,Crime,Drama",
          "Action,Crime,Drama",
          "Action,Crime,Drama",
          "Action,Crime,Drama",
          "Action,Crime,Drama",
          "Action,Crime,Drama",
          "Action,Crime,Drama",
          "Action,Crime,Drama",
          "Action,Crime,Drama",
          "Action,Crime,Drama",
          "Action,Crime,Drama",
          "Action,Crime,Drama",
          "Action,Crime,Drama",
          "Action,Crime,Drama",
          "Action,Adventure,Drama",
          "Action,Adventure,Drama",
          "Action,Adventure,Drama",
          "Action,Adventure,Drama",
          "Animation,Short,Action",
          "Crime,Drama,Fantasy",
          "Action,Adventure,Drama",
          "Crime,Drama,Fantasy",
          "Crime,Drama,Fantasy",
          "Crime,Drama,Fantasy",
          "Crime,Drama,Fantasy",
          "Crime,Drama,Fantasy",
          "Crime,Drama,Fantasy",
          "Crime,Drama,Fantasy",
          "Crime,Drama,Fantasy",
          "Crime,Drama,Fantasy",
          "Crime,Drama,Fantasy",
          "Crime,Drama,Fantasy",
          "Crime,Drama,Fantasy",
          "Action,Adventure,Drama",
          "Action,Adventure,Drama",
          "Action,Adventure,Drama",
          "Action,Adventure,Drama",
          "Action,Adventure,Drama",
          "Action,Adventure,Drama",
          "Action,Adventure,Drama",
          "Action,Adventure,Drama",
          "Documentary",
          "Action,Adventure,Drama",
          "Action,Adventure,Drama",
          "Action,Adventure,Drama",
          "Action,Adventure,Drama",
          "Action,Adventure,Drama",
          "Action,Adventure,Drama",
          "Action,Adventure,Drama",
          "Action,Crime,Drama",
          "Action,Crime,Drama",
          "Crime,Drama,Fantasy",
          "Action,Crime,Drama",
          "Action,Crime,Drama",
          "Action,Crime,Drama",
          "Action,Crime,Drama",
          "Action,Crime,Drama",
          "Action,Crime,Drama",
          "Action,Crime,Drama",
          "Action,Crime,Drama",
          "Action,Crime,Drama",
          "Action,Crime,Drama",
          "Action,Crime,Drama",
          "Action,Crime,Drama",
          "Action,Crime,Drama",
          "Action,Crime,Drama",
          "Action,Crime,Drama",
          "Action,Crime,Drama",
          "Action,Crime,Drama",
          "Action,Crime,Drama",
          "Action,Crime,Drama",
          "Action,Crime,Drama",
          "Crime,Drama,Fantasy",
          "Crime,Drama,Fantasy",
          "Crime,Drama,Fantasy",
          "Crime,Drama,Fantasy",
          "Crime,Drama,Fantasy",
          "Crime,Drama,Fantasy",
          "Crime,Drama,Fantasy",
          "Crime,Drama,Fantasy",
          "Crime,Drama,Fantasy",
          "Crime,Drama,Fantasy",
          "Crime,Drama,Fantasy",
          "Crime,Drama,Fantasy",
          "Animation,Short,Action",
          "Animation,Short,Action",
          "Animation,Short,Action",
          "Animation,Short,Action",
          "Animation,Short,Action",
          "Animation,Short,Action",
          "Animation,Short,Action",
          "Animation,Short,Action",
          "Animation,Short,Action",
          "Animation,Short,Action",
          "Animation,Short,Action",
          "Animation,Short,Action",
          "Animation,Short,Action",
          "Action,Adventure,Drama",
          "Action,Adventure,Drama",
          "Action,Adventure,Drama",
          "Action,Adventure,Drama",
          "Action,Adventure,Drama",
          "Action,Adventure,Drama",
          "Action,Adventure,Drama",
          "Action,Adventure,Drama",
          "Action,Adventure,Drama",
          "Action,Adventure,Drama",
          "Action,Adventure,Drama",
          "Action,Adventure,Drama",
          "Action,Adventure,Drama",
          "Action,Adventure,Drama",
          "Action,Adventure,Drama",
          "Action,Adventure,Drama",
          "Action,Adventure,Drama",
          "Action,Adventure,Drama",
          "Action,Adventure,Drama",
          "Action,Adventure,Drama",
          "Action,Adventure,Drama",
          "Action,Adventure,Drama",
          "Animation,Short,Action",
          "Animation,Short,Action",
          "Comedy,Fantasy,Sci-Fi",
          "Animation,Action,Adventure",
          "Comedy,Fantasy,Sci-Fi",
          "Comedy,Fantasy,Sci-Fi",
          "Action,Adventure,Drama",
          "Animation,Short,Action",
          "Animation,Short,Action",
          "Crime,Drama,Fantasy",
          "Animation,Short,Action",
          "Crime,Drama,Fantasy",
          "Crime,Drama,Fantasy",
          "Crime,Drama,Fantasy",
          "Crime,Drama,Fantasy",
          "Crime,Drama,Fantasy",
          "Animation,Short,Action",
          "Animation,Short,Action",
          "News",
          "Animation,Short,Action",
          "Animation,Short,Action",
          "Comedy,Fantasy,Sci-Fi",
          "Action,Adventure,Drama",
          "Animation,Short,Action",
          "Action,Crime,Drama",
          "Animation,Short,Action",
          "Action,Crime,Drama",
          "Animation,Short,Action",
          "Animation,Short,Action",
          "Animation,Short,Action",
          "Animation,Short,Action",
          "Animation,Short,Action",
          "Animation,Short,Action",
          "Animation,Short,Action",
          "Animation,Short,Action",
          "Animation,Short,Action",
          "Animation,Action,Adventure",
          "Animation,Action,Adventure",
          "Animation,Action,Adventure",
          "Animation,Action,Adventure",
          "Animation,Action,Adventure",
          "Animation,Action,Adventure",
          "Animation,Action,Adventure",
          "Animation,Action,Adventure",
          "Animation,Action,Adventure",
          "Animation,Action,Adventure",
          "Animation,Action,Adventure",
          "Animation,Action,Adventure",
          "Animation,Action,Adventure",
          "Animation,Action,Adventure",
          "Animation,Action,Adventure",
          "Animation,Action,Adventure",
          "Animation,Action,Adventure",
          "Animation,Action,Adventure",
          "Animation,Action,Adventure",
          "Animation,Action,Adventure",
          "Animation,Action,Adventure",
          "Animation,Action,Adventure",
          "Animation,Action,Adventure",
          "Animation,Action,Adventure",
          "Animation,Action,Adventure",
          "Action,Adventure,Drama",
          "Action,Adventure,Drama",
          "Animation,Short,Action",
          "Action,Adventure,Drama",
          "Action,Adventure,Drama",
          "Animation,Short,Action",
          "Action,Crime,Drama",
          "Action,Crime,Drama",
          "Action,Crime,Drama",
          "Action,Adventure,Drama",
          "Action,Crime,Drama",
          "Action,Crime,Drama",
          "Action,Crime,Drama",
          "Action,Adventure,Drama",
          "Action,Crime,Drama",
          "Action,Crime,Drama",
          "Action,Adventure,Drama",
          "Action,Drama,Mystery",
          "Action,Crime,Drama",
          "Action,Adventure,Crime",
          "Action,Adventure,Crime",
          "Action,Adventure,Drama",
          "Animation,Short,Action",
          "Comedy,Talk-Show",
          "Animation,Short,Action",
          "Action,Adventure,Drama",
          "Animation,Short,Action",
          "Action,Crime,Drama",
          "Action,Adventure,Drama",
          "Action,Adventure,Drama",
          "Action,Adventure,Drama",
          "Action,Adventure,Drama",
          "Action,Adventure,Drama",
          "Action,Crime,Drama",
          "Action,Crime,Drama",
          "Animation,Short,Action",
          "Animation,Short,Action",
          "Action,Crime,Drama",
          "Action,Crime,Drama",
          "Animation,Short,Action",
          "Action,Adventure,Drama",
          "Action,Adventure,Drama",
          "Action,Adventure,Drama",
          "Action,Adventure,Drama",
          "Action,Adventure,Drama",
          "Action,Adventure,Drama",
          "Action,Adventure,Drama",
          "Action,Adventure,Drama",
          "Action,Crime,Drama",
          "Animation,Short,Action",
          "Animation,Short,Action",
          "Animation,Short,Fantasy",
          "Animation,Short,Fantasy",
          "Animation,Short,Fantasy",
          "Animation,Short,Fantasy",
          "Animation,Short,Fantasy",
          "Animation,Short,Action",
          "Action,Crime,Drama",
          "Animation,Short,Action",
          "Action,Crime,Drama",
          "Action,Crime,Drama",
          "Animation,Short,Action",
          "Animation,Short,Action",
          "Animation,Short,Action",
          "Action,Crime,Drama",
          "Animation,Short,Action",
          "Animation,Short,Action",
          "Animation,Short,Action",
          "Action,Crime,Drama",
          "Animation,Short,Action",
          "Action,Adventure,Drama",
          "Animation,Short,Action",
          "Animation,Short,Action",
          "Animation,Short,Action",
          "Action,Adventure,Drama",
          "Action,Adventure,Drama",
          "Action,Adventure,Drama",
          "Action,Adventure,Drama",
          "Action,Adventure,Drama",
          "Action,Adventure,Drama",
          "Action,Adventure,Drama",
          "Action,Adventure,Drama",
          "Action,Adventure,Drama",
          "Action,Adventure,Drama",
          "Action,Adventure,Drama",
          "Action,Adventure,Drama",
          "Action,Adventure,Drama",
          "Action,Adventure,Drama",
          "Action,Adventure,Drama",
          "Action,Adventure,Drama",
          "Action,Adventure,Drama",
          "Action,Adventure,Drama",
          "Action,Adventure,Drama",
          "Animation,Short,Action",
          "Animation,Short,Action",
          "Animation,Short,Action",
          "Action,Crime,Drama",
          "Action,Crime,Drama",
          "Action,Crime,Drama",
          "Action,Crime,Drama",
          "Action,Crime,Drama",
          "Action,Crime,Drama",
          "Action,Crime,Drama",
          "Action,Crime,Drama",
          "Action,Crime,Drama",
          "Action,Crime,Drama",
          "Action,Crime,Drama",
          "Action,Crime,Drama",
          "Action,Adventure,Comedy",
          "Action,Adventure,Comedy",
          "Action,Adventure,Comedy",
          "Action,Adventure,Comedy",
          "Action,Adventure,Comedy",
          "Action,Adventure,Comedy",
          "Action,Adventure,Comedy",
          "Action,Adventure,Comedy",
          "Action,Adventure,Comedy",
          "Action,Adventure,Comedy",
          "Action,Adventure,Comedy",
          "Action,Adventure,Comedy",
          "Action,Adventure,Comedy",
          "Animation,Short,Action",
          "Action,Adventure,Drama",
          "Animation,Short,Action",
          "Animation,Short,Action",
          "Animation,Short,Action",
          "Animation,Short,Action",
          "Crime,Drama,Fantasy",
          "Animation,Short,Action",
          "Animation,Short,Action",
          "Action,Adventure,Drama",
          "Action,Adventure,Drama",
          "Action,Adventure,Drama",
          "Animation,Short,Action",
          "Animation,Short,Action",
          "Animation,Short,Action",
          "Action,Drama,Mystery",
          "Action,Drama,Mystery",
          "Action,Drama,Mystery",
          "Action,Adventure,Drama",
          "Animation,Short,Action",
          "Animation,Short,Action",
          "Action,Adventure,Drama",
          "Action,Adventure,Drama",
          "Action,Adventure,Drama",
          "Animation,Short,Action",
          "Animation,Short,Action",
          "Animation,Short,Action",
          "Animation,Short,Action",
          "Animation,Short,Action",
          "Action,Drama,Mystery",
          "Action,Drama,Mystery",
          "Action,Drama,Mystery",
          "Action,Drama,Mystery",
          "Animation,Short,Action",
          "Action,Adventure,Drama",
          "Animation,Short,Action",
          "Animation,Short,Action",
          "Action,Drama,Mystery",
          "Animation,Short,Action",
          "Action,Adventure,Drama",
          "Action,Drama,Sci-Fi",
          "Action,Drama,Sci-Fi",
          "Action,Drama,Sci-Fi",
          "Animation,Short,Action",
          "Animation,Short,Action",
          "Action,Adventure,Drama",
          "Animation,Short,Action",
          "Animation,Short,Action",
          "Animation,Short,Action",
          "Action,Adventure,Drama",
          "Animation,Short,Action",
          "Action,Adventure,Drama",
          "Animation,Short,Action",
          "Action,Adventure,Drama",
          "Action,Adventure,Drama",
          "Animation,Short,Action",
          "Animation,Short,Action",
          "Animation,Short,Action",
          "Animation,Short,Action",
          "Animation,Short,Action",
          "Animation,Short,Action",
          "Action,Adventure,Drama",
          "Action,Adventure,Crime",
          "Action,Adventure,Drama",
          "Action,Adventure,Drama",
          "Action,Drama,Sci-Fi",
          "Action,Adventure,Drama",
          "Action,Adventure,Drama",
          "Action,Adventure,Drama",
          "Action,Adventure,Drama",
          "Action,Adventure,Drama"
         ],
         "yaxis": "y"
        }
       ],
       "layout": {
        "coloraxis": {
         "colorbar": {
          "title": {
           "text": "IMDB Score"
          }
         },
         "colorscale": [
          [
           0,
           "rgb(247,251,255)"
          ],
          [
           0.125,
           "rgb(222,235,247)"
          ],
          [
           0.25,
           "rgb(198,219,239)"
          ],
          [
           0.375,
           "rgb(158,202,225)"
          ],
          [
           0.5,
           "rgb(107,174,214)"
          ],
          [
           0.625,
           "rgb(66,146,198)"
          ],
          [
           0.75,
           "rgb(33,113,181)"
          ],
          [
           0.875,
           "rgb(8,81,156)"
          ],
          [
           1,
           "rgb(8,48,107)"
          ]
         ]
        },
        "legend": {
         "tracegroupgap": 0
        },
        "paper_bgcolor": "white",
        "plot_bgcolor": "white",
        "template": {
         "data": {
          "bar": [
           {
            "error_x": {
             "color": "#2a3f5f"
            },
            "error_y": {
             "color": "#2a3f5f"
            },
            "marker": {
             "line": {
              "color": "#E5ECF6",
              "width": 0.5
             },
             "pattern": {
              "fillmode": "overlay",
              "size": 10,
              "solidity": 0.2
             }
            },
            "type": "bar"
           }
          ],
          "barpolar": [
           {
            "marker": {
             "line": {
              "color": "#E5ECF6",
              "width": 0.5
             },
             "pattern": {
              "fillmode": "overlay",
              "size": 10,
              "solidity": 0.2
             }
            },
            "type": "barpolar"
           }
          ],
          "carpet": [
           {
            "aaxis": {
             "endlinecolor": "#2a3f5f",
             "gridcolor": "white",
             "linecolor": "white",
             "minorgridcolor": "white",
             "startlinecolor": "#2a3f5f"
            },
            "baxis": {
             "endlinecolor": "#2a3f5f",
             "gridcolor": "white",
             "linecolor": "white",
             "minorgridcolor": "white",
             "startlinecolor": "#2a3f5f"
            },
            "type": "carpet"
           }
          ],
          "choropleth": [
           {
            "colorbar": {
             "outlinewidth": 0,
             "ticks": ""
            },
            "type": "choropleth"
           }
          ],
          "contour": [
           {
            "colorbar": {
             "outlinewidth": 0,
             "ticks": ""
            },
            "colorscale": [
             [
              0,
              "#0d0887"
             ],
             [
              0.1111111111111111,
              "#46039f"
             ],
             [
              0.2222222222222222,
              "#7201a8"
             ],
             [
              0.3333333333333333,
              "#9c179e"
             ],
             [
              0.4444444444444444,
              "#bd3786"
             ],
             [
              0.5555555555555556,
              "#d8576b"
             ],
             [
              0.6666666666666666,
              "#ed7953"
             ],
             [
              0.7777777777777778,
              "#fb9f3a"
             ],
             [
              0.8888888888888888,
              "#fdca26"
             ],
             [
              1,
              "#f0f921"
             ]
            ],
            "type": "contour"
           }
          ],
          "contourcarpet": [
           {
            "colorbar": {
             "outlinewidth": 0,
             "ticks": ""
            },
            "type": "contourcarpet"
           }
          ],
          "heatmap": [
           {
            "colorbar": {
             "outlinewidth": 0,
             "ticks": ""
            },
            "colorscale": [
             [
              0,
              "#0d0887"
             ],
             [
              0.1111111111111111,
              "#46039f"
             ],
             [
              0.2222222222222222,
              "#7201a8"
             ],
             [
              0.3333333333333333,
              "#9c179e"
             ],
             [
              0.4444444444444444,
              "#bd3786"
             ],
             [
              0.5555555555555556,
              "#d8576b"
             ],
             [
              0.6666666666666666,
              "#ed7953"
             ],
             [
              0.7777777777777778,
              "#fb9f3a"
             ],
             [
              0.8888888888888888,
              "#fdca26"
             ],
             [
              1,
              "#f0f921"
             ]
            ],
            "type": "heatmap"
           }
          ],
          "histogram": [
           {
            "marker": {
             "pattern": {
              "fillmode": "overlay",
              "size": 10,
              "solidity": 0.2
             }
            },
            "type": "histogram"
           }
          ],
          "histogram2d": [
           {
            "colorbar": {
             "outlinewidth": 0,
             "ticks": ""
            },
            "colorscale": [
             [
              0,
              "#0d0887"
             ],
             [
              0.1111111111111111,
              "#46039f"
             ],
             [
              0.2222222222222222,
              "#7201a8"
             ],
             [
              0.3333333333333333,
              "#9c179e"
             ],
             [
              0.4444444444444444,
              "#bd3786"
             ],
             [
              0.5555555555555556,
              "#d8576b"
             ],
             [
              0.6666666666666666,
              "#ed7953"
             ],
             [
              0.7777777777777778,
              "#fb9f3a"
             ],
             [
              0.8888888888888888,
              "#fdca26"
             ],
             [
              1,
              "#f0f921"
             ]
            ],
            "type": "histogram2d"
           }
          ],
          "histogram2dcontour": [
           {
            "colorbar": {
             "outlinewidth": 0,
             "ticks": ""
            },
            "colorscale": [
             [
              0,
              "#0d0887"
             ],
             [
              0.1111111111111111,
              "#46039f"
             ],
             [
              0.2222222222222222,
              "#7201a8"
             ],
             [
              0.3333333333333333,
              "#9c179e"
             ],
             [
              0.4444444444444444,
              "#bd3786"
             ],
             [
              0.5555555555555556,
              "#d8576b"
             ],
             [
              0.6666666666666666,
              "#ed7953"
             ],
             [
              0.7777777777777778,
              "#fb9f3a"
             ],
             [
              0.8888888888888888,
              "#fdca26"
             ],
             [
              1,
              "#f0f921"
             ]
            ],
            "type": "histogram2dcontour"
           }
          ],
          "mesh3d": [
           {
            "colorbar": {
             "outlinewidth": 0,
             "ticks": ""
            },
            "type": "mesh3d"
           }
          ],
          "parcoords": [
           {
            "line": {
             "colorbar": {
              "outlinewidth": 0,
              "ticks": ""
             }
            },
            "type": "parcoords"
           }
          ],
          "pie": [
           {
            "automargin": true,
            "type": "pie"
           }
          ],
          "scatter": [
           {
            "fillpattern": {
             "fillmode": "overlay",
             "size": 10,
             "solidity": 0.2
            },
            "type": "scatter"
           }
          ],
          "scatter3d": [
           {
            "line": {
             "colorbar": {
              "outlinewidth": 0,
              "ticks": ""
             }
            },
            "marker": {
             "colorbar": {
              "outlinewidth": 0,
              "ticks": ""
             }
            },
            "type": "scatter3d"
           }
          ],
          "scattercarpet": [
           {
            "marker": {
             "colorbar": {
              "outlinewidth": 0,
              "ticks": ""
             }
            },
            "type": "scattercarpet"
           }
          ],
          "scattergeo": [
           {
            "marker": {
             "colorbar": {
              "outlinewidth": 0,
              "ticks": ""
             }
            },
            "type": "scattergeo"
           }
          ],
          "scattergl": [
           {
            "marker": {
             "colorbar": {
              "outlinewidth": 0,
              "ticks": ""
             }
            },
            "type": "scattergl"
           }
          ],
          "scattermap": [
           {
            "marker": {
             "colorbar": {
              "outlinewidth": 0,
              "ticks": ""
             }
            },
            "type": "scattermap"
           }
          ],
          "scattermapbox": [
           {
            "marker": {
             "colorbar": {
              "outlinewidth": 0,
              "ticks": ""
             }
            },
            "type": "scattermapbox"
           }
          ],
          "scatterpolar": [
           {
            "marker": {
             "colorbar": {
              "outlinewidth": 0,
              "ticks": ""
             }
            },
            "type": "scatterpolar"
           }
          ],
          "scatterpolargl": [
           {
            "marker": {
             "colorbar": {
              "outlinewidth": 0,
              "ticks": ""
             }
            },
            "type": "scatterpolargl"
           }
          ],
          "scatterternary": [
           {
            "marker": {
             "colorbar": {
              "outlinewidth": 0,
              "ticks": ""
             }
            },
            "type": "scatterternary"
           }
          ],
          "surface": [
           {
            "colorbar": {
             "outlinewidth": 0,
             "ticks": ""
            },
            "colorscale": [
             [
              0,
              "#0d0887"
             ],
             [
              0.1111111111111111,
              "#46039f"
             ],
             [
              0.2222222222222222,
              "#7201a8"
             ],
             [
              0.3333333333333333,
              "#9c179e"
             ],
             [
              0.4444444444444444,
              "#bd3786"
             ],
             [
              0.5555555555555556,
              "#d8576b"
             ],
             [
              0.6666666666666666,
              "#ed7953"
             ],
             [
              0.7777777777777778,
              "#fb9f3a"
             ],
             [
              0.8888888888888888,
              "#fdca26"
             ],
             [
              1,
              "#f0f921"
             ]
            ],
            "type": "surface"
           }
          ],
          "table": [
           {
            "cells": {
             "fill": {
              "color": "#EBF0F8"
             },
             "line": {
              "color": "white"
             }
            },
            "header": {
             "fill": {
              "color": "#C8D4E3"
             },
             "line": {
              "color": "white"
             }
            },
            "type": "table"
           }
          ]
         },
         "layout": {
          "annotationdefaults": {
           "arrowcolor": "#2a3f5f",
           "arrowhead": 0,
           "arrowwidth": 1
          },
          "autotypenumbers": "strict",
          "coloraxis": {
           "colorbar": {
            "outlinewidth": 0,
            "ticks": ""
           }
          },
          "colorscale": {
           "diverging": [
            [
             0,
             "#8e0152"
            ],
            [
             0.1,
             "#c51b7d"
            ],
            [
             0.2,
             "#de77ae"
            ],
            [
             0.3,
             "#f1b6da"
            ],
            [
             0.4,
             "#fde0ef"
            ],
            [
             0.5,
             "#f7f7f7"
            ],
            [
             0.6,
             "#e6f5d0"
            ],
            [
             0.7,
             "#b8e186"
            ],
            [
             0.8,
             "#7fbc41"
            ],
            [
             0.9,
             "#4d9221"
            ],
            [
             1,
             "#276419"
            ]
           ],
           "sequential": [
            [
             0,
             "#0d0887"
            ],
            [
             0.1111111111111111,
             "#46039f"
            ],
            [
             0.2222222222222222,
             "#7201a8"
            ],
            [
             0.3333333333333333,
             "#9c179e"
            ],
            [
             0.4444444444444444,
             "#bd3786"
            ],
            [
             0.5555555555555556,
             "#d8576b"
            ],
            [
             0.6666666666666666,
             "#ed7953"
            ],
            [
             0.7777777777777778,
             "#fb9f3a"
            ],
            [
             0.8888888888888888,
             "#fdca26"
            ],
            [
             1,
             "#f0f921"
            ]
           ],
           "sequentialminus": [
            [
             0,
             "#0d0887"
            ],
            [
             0.1111111111111111,
             "#46039f"
            ],
            [
             0.2222222222222222,
             "#7201a8"
            ],
            [
             0.3333333333333333,
             "#9c179e"
            ],
            [
             0.4444444444444444,
             "#bd3786"
            ],
            [
             0.5555555555555556,
             "#d8576b"
            ],
            [
             0.6666666666666666,
             "#ed7953"
            ],
            [
             0.7777777777777778,
             "#fb9f3a"
            ],
            [
             0.8888888888888888,
             "#fdca26"
            ],
            [
             1,
             "#f0f921"
            ]
           ]
          },
          "colorway": [
           "#636efa",
           "#EF553B",
           "#00cc96",
           "#ab63fa",
           "#FFA15A",
           "#19d3f3",
           "#FF6692",
           "#B6E880",
           "#FF97FF",
           "#FECB52"
          ],
          "font": {
           "color": "#2a3f5f"
          },
          "geo": {
           "bgcolor": "white",
           "lakecolor": "white",
           "landcolor": "#E5ECF6",
           "showlakes": true,
           "showland": true,
           "subunitcolor": "white"
          },
          "hoverlabel": {
           "align": "left"
          },
          "hovermode": "closest",
          "mapbox": {
           "style": "light"
          },
          "paper_bgcolor": "white",
          "plot_bgcolor": "#E5ECF6",
          "polar": {
           "angularaxis": {
            "gridcolor": "white",
            "linecolor": "white",
            "ticks": ""
           },
           "bgcolor": "#E5ECF6",
           "radialaxis": {
            "gridcolor": "white",
            "linecolor": "white",
            "ticks": ""
           }
          },
          "scene": {
           "xaxis": {
            "backgroundcolor": "#E5ECF6",
            "gridcolor": "white",
            "gridwidth": 2,
            "linecolor": "white",
            "showbackground": true,
            "ticks": "",
            "zerolinecolor": "white"
           },
           "yaxis": {
            "backgroundcolor": "#E5ECF6",
            "gridcolor": "white",
            "gridwidth": 2,
            "linecolor": "white",
            "showbackground": true,
            "ticks": "",
            "zerolinecolor": "white"
           },
           "zaxis": {
            "backgroundcolor": "#E5ECF6",
            "gridcolor": "white",
            "gridwidth": 2,
            "linecolor": "white",
            "showbackground": true,
            "ticks": "",
            "zerolinecolor": "white"
           }
          },
          "shapedefaults": {
           "line": {
            "color": "#2a3f5f"
           }
          },
          "ternary": {
           "aaxis": {
            "gridcolor": "white",
            "linecolor": "white",
            "ticks": ""
           },
           "baxis": {
            "gridcolor": "white",
            "linecolor": "white",
            "ticks": ""
           },
           "bgcolor": "#E5ECF6",
           "caxis": {
            "gridcolor": "white",
            "linecolor": "white",
            "ticks": ""
           }
          },
          "title": {
           "x": 0.05
          },
          "xaxis": {
           "automargin": true,
           "gridcolor": "white",
           "linecolor": "white",
           "ticks": "",
           "title": {
            "standoff": 15
           },
           "zerolinecolor": "white",
           "zerolinewidth": 2
          },
          "yaxis": {
           "automargin": true,
           "gridcolor": "white",
           "linecolor": "white",
           "ticks": "",
           "title": {
            "standoff": 15
           },
           "zerolinecolor": "white",
           "zerolinewidth": 2
          }
         }
        },
        "title": {
         "font": {
          "color": "darkblue",
          "size": 24
         },
         "text": "IMDB Score by Genre"
        },
        "xaxis": {
         "anchor": "y",
         "domain": [
          0,
          1
         ],
         "gridcolor": "lightgray",
         "showgrid": true,
         "title": {
          "font": {
           "color": "black",
           "size": 18
          },
          "text": "IMDB Score"
         }
        },
        "yaxis": {
         "anchor": "x",
         "domain": [
          0,
          1
         ],
         "gridcolor": "lightgray",
         "showgrid": true,
         "title": {
          "font": {
           "color": "black",
           "size": 18
          },
          "text": "Genre"
         }
        }
       }
      }
     },
     "metadata": {},
     "output_type": "display_data"
    }
   ],
   "source": [
    "\n",
    "fig = px.scatter(df, x='IMDB_Score', y='Genre', \n",
    "                 title='IMDB Score by Genre', \n",
    "                 labels={'IMDB_Score': 'IMDB Score', 'Genre': 'Genre'},\n",
    "                 color='IMDB_Score', \n",
    "                 color_continuous_scale=px.colors.sequential.Blues)\n",
    "\n",
    "fig.update_traces(marker=dict(size=8, line=dict(width=1, color='black')))\n",
    "\n",
    "fig.update_layout(\n",
    "    title_font=dict(size=24, color='darkblue'),\n",
    "    xaxis_title_font=dict(size=18, color='black'),\n",
    "    yaxis_title_font=dict(size=18, color='black'),\n",
    "    plot_bgcolor='white',\n",
    "    paper_bgcolor='white',\n",
    "    xaxis=dict(showgrid=True, gridcolor='lightgray'),\n",
    "    yaxis=dict(showgrid=True, gridcolor='lightgray')\n",
    ")\n",
    "\n",
    "fig.show()"
   ]
  },
  {
   "cell_type": "markdown",
   "metadata": {},
   "source": [
    "### Lowest and Highest Rated Movies"
   ]
  },
  {
   "cell_type": "code",
   "execution_count": 55,
   "metadata": {},
   "outputs": [
    {
     "name": "stdout",
     "output_type": "stream",
     "text": [
      "Top 7 Movies:\n",
      "                        Movie  IMDB_Score\n",
      "382   Agents of S.H.I.E.L.D.         9.6\n",
      "1303               The Flash         9.6\n",
      "1260           Young Justice         9.6\n",
      "1401                 Lucifer         9.5\n",
      "1636                Watchmen         9.5\n",
      "310             The Punisher         9.5\n",
      "409              The Sandman         9.5\n",
      "Bottom 7 Movies:\n",
      "                                  Movie  IMDB_Score\n",
      "513                        Frankenpimp         1.1\n",
      "437                           Catwoman         3.4\n",
      "522       Aquaman: Battle for Atlantis         3.5\n",
      "415                     Batman & Robin         3.8\n",
      "589  Superman: The Mysterious Mr. Mist         4.6\n",
      "86      Iron Man & Hulk: Heroes United         4.7\n",
      "476                           Blankman         5.0\n"
     ]
    },
    {
     "data": {
      "application/vnd.plotly.v1+json": {
       "config": {
        "plotlyServerURL": "https://plot.ly"
       },
       "data": [
        {
         "hovertemplate": "IMDb Score=%{marker.color}<br>Movie=%{y}<extra></extra>",
         "legendgroup": "",
         "marker": {
          "color": {
           "bdata": "mpmZmZmZ8T8zMzMzMzMLQAAAAAAAAAxAZmZmZmZmDkBmZmZmZmYSQM3MzMzMzBJAAAAAAAAAFEA=",
           "dtype": "f8"
          },
          "coloraxis": "coloraxis",
          "line": {
           "color": "black",
           "width": 1
          },
          "pattern": {
           "shape": ""
          }
         },
         "name": "",
         "orientation": "h",
         "showlegend": false,
         "textposition": "outside",
         "texttemplate": "%{x:.2f}",
         "type": "bar",
         "x": {
          "bdata": "mpmZmZmZ8T8zMzMzMzMLQAAAAAAAAAxAZmZmZmZmDkBmZmZmZmYSQM3MzMzMzBJAAAAAAAAAFEA=",
          "dtype": "f8"
         },
         "xaxis": "x",
         "y": [
          "Frankenpimp",
          "Catwoman",
          "Aquaman: Battle for Atlantis",
          "Batman & Robin",
          "Superman: The Mysterious Mr. Mist",
          "Iron Man & Hulk: Heroes United",
          "Blankman"
         ],
         "yaxis": "y"
        }
       ],
       "layout": {
        "barmode": "relative",
        "coloraxis": {
         "colorbar": {
          "title": {
           "text": "IMDb Score"
          }
         },
         "colorscale": [
          [
           0,
           "rgb(255,245,240)"
          ],
          [
           0.125,
           "rgb(254,224,210)"
          ],
          [
           0.25,
           "rgb(252,187,161)"
          ],
          [
           0.375,
           "rgb(252,146,114)"
          ],
          [
           0.5,
           "rgb(251,106,74)"
          ],
          [
           0.625,
           "rgb(239,59,44)"
          ],
          [
           0.75,
           "rgb(203,24,29)"
          ],
          [
           0.875,
           "rgb(165,15,21)"
          ],
          [
           1,
           "rgb(103,0,13)"
          ]
         ]
        },
        "legend": {
         "tracegroupgap": 0
        },
        "template": {
         "data": {
          "bar": [
           {
            "error_x": {
             "color": "#2a3f5f"
            },
            "error_y": {
             "color": "#2a3f5f"
            },
            "marker": {
             "line": {
              "color": "#E5ECF6",
              "width": 0.5
             },
             "pattern": {
              "fillmode": "overlay",
              "size": 10,
              "solidity": 0.2
             }
            },
            "type": "bar"
           }
          ],
          "barpolar": [
           {
            "marker": {
             "line": {
              "color": "#E5ECF6",
              "width": 0.5
             },
             "pattern": {
              "fillmode": "overlay",
              "size": 10,
              "solidity": 0.2
             }
            },
            "type": "barpolar"
           }
          ],
          "carpet": [
           {
            "aaxis": {
             "endlinecolor": "#2a3f5f",
             "gridcolor": "white",
             "linecolor": "white",
             "minorgridcolor": "white",
             "startlinecolor": "#2a3f5f"
            },
            "baxis": {
             "endlinecolor": "#2a3f5f",
             "gridcolor": "white",
             "linecolor": "white",
             "minorgridcolor": "white",
             "startlinecolor": "#2a3f5f"
            },
            "type": "carpet"
           }
          ],
          "choropleth": [
           {
            "colorbar": {
             "outlinewidth": 0,
             "ticks": ""
            },
            "type": "choropleth"
           }
          ],
          "contour": [
           {
            "colorbar": {
             "outlinewidth": 0,
             "ticks": ""
            },
            "colorscale": [
             [
              0,
              "#0d0887"
             ],
             [
              0.1111111111111111,
              "#46039f"
             ],
             [
              0.2222222222222222,
              "#7201a8"
             ],
             [
              0.3333333333333333,
              "#9c179e"
             ],
             [
              0.4444444444444444,
              "#bd3786"
             ],
             [
              0.5555555555555556,
              "#d8576b"
             ],
             [
              0.6666666666666666,
              "#ed7953"
             ],
             [
              0.7777777777777778,
              "#fb9f3a"
             ],
             [
              0.8888888888888888,
              "#fdca26"
             ],
             [
              1,
              "#f0f921"
             ]
            ],
            "type": "contour"
           }
          ],
          "contourcarpet": [
           {
            "colorbar": {
             "outlinewidth": 0,
             "ticks": ""
            },
            "type": "contourcarpet"
           }
          ],
          "heatmap": [
           {
            "colorbar": {
             "outlinewidth": 0,
             "ticks": ""
            },
            "colorscale": [
             [
              0,
              "#0d0887"
             ],
             [
              0.1111111111111111,
              "#46039f"
             ],
             [
              0.2222222222222222,
              "#7201a8"
             ],
             [
              0.3333333333333333,
              "#9c179e"
             ],
             [
              0.4444444444444444,
              "#bd3786"
             ],
             [
              0.5555555555555556,
              "#d8576b"
             ],
             [
              0.6666666666666666,
              "#ed7953"
             ],
             [
              0.7777777777777778,
              "#fb9f3a"
             ],
             [
              0.8888888888888888,
              "#fdca26"
             ],
             [
              1,
              "#f0f921"
             ]
            ],
            "type": "heatmap"
           }
          ],
          "histogram": [
           {
            "marker": {
             "pattern": {
              "fillmode": "overlay",
              "size": 10,
              "solidity": 0.2
             }
            },
            "type": "histogram"
           }
          ],
          "histogram2d": [
           {
            "colorbar": {
             "outlinewidth": 0,
             "ticks": ""
            },
            "colorscale": [
             [
              0,
              "#0d0887"
             ],
             [
              0.1111111111111111,
              "#46039f"
             ],
             [
              0.2222222222222222,
              "#7201a8"
             ],
             [
              0.3333333333333333,
              "#9c179e"
             ],
             [
              0.4444444444444444,
              "#bd3786"
             ],
             [
              0.5555555555555556,
              "#d8576b"
             ],
             [
              0.6666666666666666,
              "#ed7953"
             ],
             [
              0.7777777777777778,
              "#fb9f3a"
             ],
             [
              0.8888888888888888,
              "#fdca26"
             ],
             [
              1,
              "#f0f921"
             ]
            ],
            "type": "histogram2d"
           }
          ],
          "histogram2dcontour": [
           {
            "colorbar": {
             "outlinewidth": 0,
             "ticks": ""
            },
            "colorscale": [
             [
              0,
              "#0d0887"
             ],
             [
              0.1111111111111111,
              "#46039f"
             ],
             [
              0.2222222222222222,
              "#7201a8"
             ],
             [
              0.3333333333333333,
              "#9c179e"
             ],
             [
              0.4444444444444444,
              "#bd3786"
             ],
             [
              0.5555555555555556,
              "#d8576b"
             ],
             [
              0.6666666666666666,
              "#ed7953"
             ],
             [
              0.7777777777777778,
              "#fb9f3a"
             ],
             [
              0.8888888888888888,
              "#fdca26"
             ],
             [
              1,
              "#f0f921"
             ]
            ],
            "type": "histogram2dcontour"
           }
          ],
          "mesh3d": [
           {
            "colorbar": {
             "outlinewidth": 0,
             "ticks": ""
            },
            "type": "mesh3d"
           }
          ],
          "parcoords": [
           {
            "line": {
             "colorbar": {
              "outlinewidth": 0,
              "ticks": ""
             }
            },
            "type": "parcoords"
           }
          ],
          "pie": [
           {
            "automargin": true,
            "type": "pie"
           }
          ],
          "scatter": [
           {
            "fillpattern": {
             "fillmode": "overlay",
             "size": 10,
             "solidity": 0.2
            },
            "type": "scatter"
           }
          ],
          "scatter3d": [
           {
            "line": {
             "colorbar": {
              "outlinewidth": 0,
              "ticks": ""
             }
            },
            "marker": {
             "colorbar": {
              "outlinewidth": 0,
              "ticks": ""
             }
            },
            "type": "scatter3d"
           }
          ],
          "scattercarpet": [
           {
            "marker": {
             "colorbar": {
              "outlinewidth": 0,
              "ticks": ""
             }
            },
            "type": "scattercarpet"
           }
          ],
          "scattergeo": [
           {
            "marker": {
             "colorbar": {
              "outlinewidth": 0,
              "ticks": ""
             }
            },
            "type": "scattergeo"
           }
          ],
          "scattergl": [
           {
            "marker": {
             "colorbar": {
              "outlinewidth": 0,
              "ticks": ""
             }
            },
            "type": "scattergl"
           }
          ],
          "scattermap": [
           {
            "marker": {
             "colorbar": {
              "outlinewidth": 0,
              "ticks": ""
             }
            },
            "type": "scattermap"
           }
          ],
          "scattermapbox": [
           {
            "marker": {
             "colorbar": {
              "outlinewidth": 0,
              "ticks": ""
             }
            },
            "type": "scattermapbox"
           }
          ],
          "scatterpolar": [
           {
            "marker": {
             "colorbar": {
              "outlinewidth": 0,
              "ticks": ""
             }
            },
            "type": "scatterpolar"
           }
          ],
          "scatterpolargl": [
           {
            "marker": {
             "colorbar": {
              "outlinewidth": 0,
              "ticks": ""
             }
            },
            "type": "scatterpolargl"
           }
          ],
          "scatterternary": [
           {
            "marker": {
             "colorbar": {
              "outlinewidth": 0,
              "ticks": ""
             }
            },
            "type": "scatterternary"
           }
          ],
          "surface": [
           {
            "colorbar": {
             "outlinewidth": 0,
             "ticks": ""
            },
            "colorscale": [
             [
              0,
              "#0d0887"
             ],
             [
              0.1111111111111111,
              "#46039f"
             ],
             [
              0.2222222222222222,
              "#7201a8"
             ],
             [
              0.3333333333333333,
              "#9c179e"
             ],
             [
              0.4444444444444444,
              "#bd3786"
             ],
             [
              0.5555555555555556,
              "#d8576b"
             ],
             [
              0.6666666666666666,
              "#ed7953"
             ],
             [
              0.7777777777777778,
              "#fb9f3a"
             ],
             [
              0.8888888888888888,
              "#fdca26"
             ],
             [
              1,
              "#f0f921"
             ]
            ],
            "type": "surface"
           }
          ],
          "table": [
           {
            "cells": {
             "fill": {
              "color": "#EBF0F8"
             },
             "line": {
              "color": "white"
             }
            },
            "header": {
             "fill": {
              "color": "#C8D4E3"
             },
             "line": {
              "color": "white"
             }
            },
            "type": "table"
           }
          ]
         },
         "layout": {
          "annotationdefaults": {
           "arrowcolor": "#2a3f5f",
           "arrowhead": 0,
           "arrowwidth": 1
          },
          "autotypenumbers": "strict",
          "coloraxis": {
           "colorbar": {
            "outlinewidth": 0,
            "ticks": ""
           }
          },
          "colorscale": {
           "diverging": [
            [
             0,
             "#8e0152"
            ],
            [
             0.1,
             "#c51b7d"
            ],
            [
             0.2,
             "#de77ae"
            ],
            [
             0.3,
             "#f1b6da"
            ],
            [
             0.4,
             "#fde0ef"
            ],
            [
             0.5,
             "#f7f7f7"
            ],
            [
             0.6,
             "#e6f5d0"
            ],
            [
             0.7,
             "#b8e186"
            ],
            [
             0.8,
             "#7fbc41"
            ],
            [
             0.9,
             "#4d9221"
            ],
            [
             1,
             "#276419"
            ]
           ],
           "sequential": [
            [
             0,
             "#0d0887"
            ],
            [
             0.1111111111111111,
             "#46039f"
            ],
            [
             0.2222222222222222,
             "#7201a8"
            ],
            [
             0.3333333333333333,
             "#9c179e"
            ],
            [
             0.4444444444444444,
             "#bd3786"
            ],
            [
             0.5555555555555556,
             "#d8576b"
            ],
            [
             0.6666666666666666,
             "#ed7953"
            ],
            [
             0.7777777777777778,
             "#fb9f3a"
            ],
            [
             0.8888888888888888,
             "#fdca26"
            ],
            [
             1,
             "#f0f921"
            ]
           ],
           "sequentialminus": [
            [
             0,
             "#0d0887"
            ],
            [
             0.1111111111111111,
             "#46039f"
            ],
            [
             0.2222222222222222,
             "#7201a8"
            ],
            [
             0.3333333333333333,
             "#9c179e"
            ],
            [
             0.4444444444444444,
             "#bd3786"
            ],
            [
             0.5555555555555556,
             "#d8576b"
            ],
            [
             0.6666666666666666,
             "#ed7953"
            ],
            [
             0.7777777777777778,
             "#fb9f3a"
            ],
            [
             0.8888888888888888,
             "#fdca26"
            ],
            [
             1,
             "#f0f921"
            ]
           ]
          },
          "colorway": [
           "#636efa",
           "#EF553B",
           "#00cc96",
           "#ab63fa",
           "#FFA15A",
           "#19d3f3",
           "#FF6692",
           "#B6E880",
           "#FF97FF",
           "#FECB52"
          ],
          "font": {
           "color": "#2a3f5f"
          },
          "geo": {
           "bgcolor": "white",
           "lakecolor": "white",
           "landcolor": "#E5ECF6",
           "showlakes": true,
           "showland": true,
           "subunitcolor": "white"
          },
          "hoverlabel": {
           "align": "left"
          },
          "hovermode": "closest",
          "mapbox": {
           "style": "light"
          },
          "paper_bgcolor": "white",
          "plot_bgcolor": "#E5ECF6",
          "polar": {
           "angularaxis": {
            "gridcolor": "white",
            "linecolor": "white",
            "ticks": ""
           },
           "bgcolor": "#E5ECF6",
           "radialaxis": {
            "gridcolor": "white",
            "linecolor": "white",
            "ticks": ""
           }
          },
          "scene": {
           "xaxis": {
            "backgroundcolor": "#E5ECF6",
            "gridcolor": "white",
            "gridwidth": 2,
            "linecolor": "white",
            "showbackground": true,
            "ticks": "",
            "zerolinecolor": "white"
           },
           "yaxis": {
            "backgroundcolor": "#E5ECF6",
            "gridcolor": "white",
            "gridwidth": 2,
            "linecolor": "white",
            "showbackground": true,
            "ticks": "",
            "zerolinecolor": "white"
           },
           "zaxis": {
            "backgroundcolor": "#E5ECF6",
            "gridcolor": "white",
            "gridwidth": 2,
            "linecolor": "white",
            "showbackground": true,
            "ticks": "",
            "zerolinecolor": "white"
           }
          },
          "shapedefaults": {
           "line": {
            "color": "#2a3f5f"
           }
          },
          "ternary": {
           "aaxis": {
            "gridcolor": "white",
            "linecolor": "white",
            "ticks": ""
           },
           "baxis": {
            "gridcolor": "white",
            "linecolor": "white",
            "ticks": ""
           },
           "bgcolor": "#E5ECF6",
           "caxis": {
            "gridcolor": "white",
            "linecolor": "white",
            "ticks": ""
           }
          },
          "title": {
           "x": 0.05
          },
          "xaxis": {
           "automargin": true,
           "gridcolor": "white",
           "linecolor": "white",
           "ticks": "",
           "title": {
            "standoff": 15
           },
           "zerolinecolor": "white",
           "zerolinewidth": 2
          },
          "yaxis": {
           "automargin": true,
           "gridcolor": "white",
           "linecolor": "white",
           "ticks": "",
           "title": {
            "standoff": 15
           },
           "zerolinecolor": "white",
           "zerolinewidth": 2
          }
         }
        },
        "title": {
         "text": "Bottom 7 Movies by IMDb Score"
        },
        "xaxis": {
         "anchor": "y",
         "domain": [
          0,
          1
         ],
         "title": {
          "text": "IMDb Score"
         }
        },
        "yaxis": {
         "anchor": "x",
         "domain": [
          0,
          1
         ],
         "title": {
          "text": "Movie"
         }
        }
       }
      }
     },
     "metadata": {},
     "output_type": "display_data"
    },
    {
     "data": {
      "application/vnd.plotly.v1+json": {
       "config": {
        "plotlyServerURL": "https://plot.ly"
       },
       "data": [
        {
         "hovertemplate": "IMDb Score=%{marker.color}<br>Movie=%{y}<extra></extra>",
         "legendgroup": "",
         "marker": {
          "color": {
           "bdata": "MzMzMzMzI0AzMzMzMzMjQDMzMzMzMyNAAAAAAAAAI0AAAAAAAAAjQAAAAAAAACNAAAAAAAAAI0A=",
           "dtype": "f8"
          },
          "coloraxis": "coloraxis",
          "line": {
           "color": "black",
           "width": 1
          },
          "pattern": {
           "shape": ""
          }
         },
         "name": "",
         "orientation": "h",
         "showlegend": false,
         "textposition": "outside",
         "texttemplate": "%{x:.2f}",
         "type": "bar",
         "x": {
          "bdata": "MzMzMzMzI0AzMzMzMzMjQDMzMzMzMyNAAAAAAAAAI0AAAAAAAAAjQAAAAAAAACNAAAAAAAAAI0A=",
          "dtype": "f8"
         },
         "xaxis": "x",
         "y": [
          "Agents of S.H.I.E.L.D.",
          "The Flash",
          "Young Justice",
          "Lucifer",
          "Watchmen",
          "The Punisher",
          "The Sandman"
         ],
         "yaxis": "y"
        }
       ],
       "layout": {
        "barmode": "relative",
        "coloraxis": {
         "colorbar": {
          "title": {
           "text": "IMDb Score"
          }
         },
         "colorscale": [
          [
           0,
           "rgb(247,251,255)"
          ],
          [
           0.125,
           "rgb(222,235,247)"
          ],
          [
           0.25,
           "rgb(198,219,239)"
          ],
          [
           0.375,
           "rgb(158,202,225)"
          ],
          [
           0.5,
           "rgb(107,174,214)"
          ],
          [
           0.625,
           "rgb(66,146,198)"
          ],
          [
           0.75,
           "rgb(33,113,181)"
          ],
          [
           0.875,
           "rgb(8,81,156)"
          ],
          [
           1,
           "rgb(8,48,107)"
          ]
         ]
        },
        "legend": {
         "tracegroupgap": 0
        },
        "template": {
         "data": {
          "bar": [
           {
            "error_x": {
             "color": "#2a3f5f"
            },
            "error_y": {
             "color": "#2a3f5f"
            },
            "marker": {
             "line": {
              "color": "#E5ECF6",
              "width": 0.5
             },
             "pattern": {
              "fillmode": "overlay",
              "size": 10,
              "solidity": 0.2
             }
            },
            "type": "bar"
           }
          ],
          "barpolar": [
           {
            "marker": {
             "line": {
              "color": "#E5ECF6",
              "width": 0.5
             },
             "pattern": {
              "fillmode": "overlay",
              "size": 10,
              "solidity": 0.2
             }
            },
            "type": "barpolar"
           }
          ],
          "carpet": [
           {
            "aaxis": {
             "endlinecolor": "#2a3f5f",
             "gridcolor": "white",
             "linecolor": "white",
             "minorgridcolor": "white",
             "startlinecolor": "#2a3f5f"
            },
            "baxis": {
             "endlinecolor": "#2a3f5f",
             "gridcolor": "white",
             "linecolor": "white",
             "minorgridcolor": "white",
             "startlinecolor": "#2a3f5f"
            },
            "type": "carpet"
           }
          ],
          "choropleth": [
           {
            "colorbar": {
             "outlinewidth": 0,
             "ticks": ""
            },
            "type": "choropleth"
           }
          ],
          "contour": [
           {
            "colorbar": {
             "outlinewidth": 0,
             "ticks": ""
            },
            "colorscale": [
             [
              0,
              "#0d0887"
             ],
             [
              0.1111111111111111,
              "#46039f"
             ],
             [
              0.2222222222222222,
              "#7201a8"
             ],
             [
              0.3333333333333333,
              "#9c179e"
             ],
             [
              0.4444444444444444,
              "#bd3786"
             ],
             [
              0.5555555555555556,
              "#d8576b"
             ],
             [
              0.6666666666666666,
              "#ed7953"
             ],
             [
              0.7777777777777778,
              "#fb9f3a"
             ],
             [
              0.8888888888888888,
              "#fdca26"
             ],
             [
              1,
              "#f0f921"
             ]
            ],
            "type": "contour"
           }
          ],
          "contourcarpet": [
           {
            "colorbar": {
             "outlinewidth": 0,
             "ticks": ""
            },
            "type": "contourcarpet"
           }
          ],
          "heatmap": [
           {
            "colorbar": {
             "outlinewidth": 0,
             "ticks": ""
            },
            "colorscale": [
             [
              0,
              "#0d0887"
             ],
             [
              0.1111111111111111,
              "#46039f"
             ],
             [
              0.2222222222222222,
              "#7201a8"
             ],
             [
              0.3333333333333333,
              "#9c179e"
             ],
             [
              0.4444444444444444,
              "#bd3786"
             ],
             [
              0.5555555555555556,
              "#d8576b"
             ],
             [
              0.6666666666666666,
              "#ed7953"
             ],
             [
              0.7777777777777778,
              "#fb9f3a"
             ],
             [
              0.8888888888888888,
              "#fdca26"
             ],
             [
              1,
              "#f0f921"
             ]
            ],
            "type": "heatmap"
           }
          ],
          "histogram": [
           {
            "marker": {
             "pattern": {
              "fillmode": "overlay",
              "size": 10,
              "solidity": 0.2
             }
            },
            "type": "histogram"
           }
          ],
          "histogram2d": [
           {
            "colorbar": {
             "outlinewidth": 0,
             "ticks": ""
            },
            "colorscale": [
             [
              0,
              "#0d0887"
             ],
             [
              0.1111111111111111,
              "#46039f"
             ],
             [
              0.2222222222222222,
              "#7201a8"
             ],
             [
              0.3333333333333333,
              "#9c179e"
             ],
             [
              0.4444444444444444,
              "#bd3786"
             ],
             [
              0.5555555555555556,
              "#d8576b"
             ],
             [
              0.6666666666666666,
              "#ed7953"
             ],
             [
              0.7777777777777778,
              "#fb9f3a"
             ],
             [
              0.8888888888888888,
              "#fdca26"
             ],
             [
              1,
              "#f0f921"
             ]
            ],
            "type": "histogram2d"
           }
          ],
          "histogram2dcontour": [
           {
            "colorbar": {
             "outlinewidth": 0,
             "ticks": ""
            },
            "colorscale": [
             [
              0,
              "#0d0887"
             ],
             [
              0.1111111111111111,
              "#46039f"
             ],
             [
              0.2222222222222222,
              "#7201a8"
             ],
             [
              0.3333333333333333,
              "#9c179e"
             ],
             [
              0.4444444444444444,
              "#bd3786"
             ],
             [
              0.5555555555555556,
              "#d8576b"
             ],
             [
              0.6666666666666666,
              "#ed7953"
             ],
             [
              0.7777777777777778,
              "#fb9f3a"
             ],
             [
              0.8888888888888888,
              "#fdca26"
             ],
             [
              1,
              "#f0f921"
             ]
            ],
            "type": "histogram2dcontour"
           }
          ],
          "mesh3d": [
           {
            "colorbar": {
             "outlinewidth": 0,
             "ticks": ""
            },
            "type": "mesh3d"
           }
          ],
          "parcoords": [
           {
            "line": {
             "colorbar": {
              "outlinewidth": 0,
              "ticks": ""
             }
            },
            "type": "parcoords"
           }
          ],
          "pie": [
           {
            "automargin": true,
            "type": "pie"
           }
          ],
          "scatter": [
           {
            "fillpattern": {
             "fillmode": "overlay",
             "size": 10,
             "solidity": 0.2
            },
            "type": "scatter"
           }
          ],
          "scatter3d": [
           {
            "line": {
             "colorbar": {
              "outlinewidth": 0,
              "ticks": ""
             }
            },
            "marker": {
             "colorbar": {
              "outlinewidth": 0,
              "ticks": ""
             }
            },
            "type": "scatter3d"
           }
          ],
          "scattercarpet": [
           {
            "marker": {
             "colorbar": {
              "outlinewidth": 0,
              "ticks": ""
             }
            },
            "type": "scattercarpet"
           }
          ],
          "scattergeo": [
           {
            "marker": {
             "colorbar": {
              "outlinewidth": 0,
              "ticks": ""
             }
            },
            "type": "scattergeo"
           }
          ],
          "scattergl": [
           {
            "marker": {
             "colorbar": {
              "outlinewidth": 0,
              "ticks": ""
             }
            },
            "type": "scattergl"
           }
          ],
          "scattermap": [
           {
            "marker": {
             "colorbar": {
              "outlinewidth": 0,
              "ticks": ""
             }
            },
            "type": "scattermap"
           }
          ],
          "scattermapbox": [
           {
            "marker": {
             "colorbar": {
              "outlinewidth": 0,
              "ticks": ""
             }
            },
            "type": "scattermapbox"
           }
          ],
          "scatterpolar": [
           {
            "marker": {
             "colorbar": {
              "outlinewidth": 0,
              "ticks": ""
             }
            },
            "type": "scatterpolar"
           }
          ],
          "scatterpolargl": [
           {
            "marker": {
             "colorbar": {
              "outlinewidth": 0,
              "ticks": ""
             }
            },
            "type": "scatterpolargl"
           }
          ],
          "scatterternary": [
           {
            "marker": {
             "colorbar": {
              "outlinewidth": 0,
              "ticks": ""
             }
            },
            "type": "scatterternary"
           }
          ],
          "surface": [
           {
            "colorbar": {
             "outlinewidth": 0,
             "ticks": ""
            },
            "colorscale": [
             [
              0,
              "#0d0887"
             ],
             [
              0.1111111111111111,
              "#46039f"
             ],
             [
              0.2222222222222222,
              "#7201a8"
             ],
             [
              0.3333333333333333,
              "#9c179e"
             ],
             [
              0.4444444444444444,
              "#bd3786"
             ],
             [
              0.5555555555555556,
              "#d8576b"
             ],
             [
              0.6666666666666666,
              "#ed7953"
             ],
             [
              0.7777777777777778,
              "#fb9f3a"
             ],
             [
              0.8888888888888888,
              "#fdca26"
             ],
             [
              1,
              "#f0f921"
             ]
            ],
            "type": "surface"
           }
          ],
          "table": [
           {
            "cells": {
             "fill": {
              "color": "#EBF0F8"
             },
             "line": {
              "color": "white"
             }
            },
            "header": {
             "fill": {
              "color": "#C8D4E3"
             },
             "line": {
              "color": "white"
             }
            },
            "type": "table"
           }
          ]
         },
         "layout": {
          "annotationdefaults": {
           "arrowcolor": "#2a3f5f",
           "arrowhead": 0,
           "arrowwidth": 1
          },
          "autotypenumbers": "strict",
          "coloraxis": {
           "colorbar": {
            "outlinewidth": 0,
            "ticks": ""
           }
          },
          "colorscale": {
           "diverging": [
            [
             0,
             "#8e0152"
            ],
            [
             0.1,
             "#c51b7d"
            ],
            [
             0.2,
             "#de77ae"
            ],
            [
             0.3,
             "#f1b6da"
            ],
            [
             0.4,
             "#fde0ef"
            ],
            [
             0.5,
             "#f7f7f7"
            ],
            [
             0.6,
             "#e6f5d0"
            ],
            [
             0.7,
             "#b8e186"
            ],
            [
             0.8,
             "#7fbc41"
            ],
            [
             0.9,
             "#4d9221"
            ],
            [
             1,
             "#276419"
            ]
           ],
           "sequential": [
            [
             0,
             "#0d0887"
            ],
            [
             0.1111111111111111,
             "#46039f"
            ],
            [
             0.2222222222222222,
             "#7201a8"
            ],
            [
             0.3333333333333333,
             "#9c179e"
            ],
            [
             0.4444444444444444,
             "#bd3786"
            ],
            [
             0.5555555555555556,
             "#d8576b"
            ],
            [
             0.6666666666666666,
             "#ed7953"
            ],
            [
             0.7777777777777778,
             "#fb9f3a"
            ],
            [
             0.8888888888888888,
             "#fdca26"
            ],
            [
             1,
             "#f0f921"
            ]
           ],
           "sequentialminus": [
            [
             0,
             "#0d0887"
            ],
            [
             0.1111111111111111,
             "#46039f"
            ],
            [
             0.2222222222222222,
             "#7201a8"
            ],
            [
             0.3333333333333333,
             "#9c179e"
            ],
            [
             0.4444444444444444,
             "#bd3786"
            ],
            [
             0.5555555555555556,
             "#d8576b"
            ],
            [
             0.6666666666666666,
             "#ed7953"
            ],
            [
             0.7777777777777778,
             "#fb9f3a"
            ],
            [
             0.8888888888888888,
             "#fdca26"
            ],
            [
             1,
             "#f0f921"
            ]
           ]
          },
          "colorway": [
           "#636efa",
           "#EF553B",
           "#00cc96",
           "#ab63fa",
           "#FFA15A",
           "#19d3f3",
           "#FF6692",
           "#B6E880",
           "#FF97FF",
           "#FECB52"
          ],
          "font": {
           "color": "#2a3f5f"
          },
          "geo": {
           "bgcolor": "white",
           "lakecolor": "white",
           "landcolor": "#E5ECF6",
           "showlakes": true,
           "showland": true,
           "subunitcolor": "white"
          },
          "hoverlabel": {
           "align": "left"
          },
          "hovermode": "closest",
          "mapbox": {
           "style": "light"
          },
          "paper_bgcolor": "white",
          "plot_bgcolor": "#E5ECF6",
          "polar": {
           "angularaxis": {
            "gridcolor": "white",
            "linecolor": "white",
            "ticks": ""
           },
           "bgcolor": "#E5ECF6",
           "radialaxis": {
            "gridcolor": "white",
            "linecolor": "white",
            "ticks": ""
           }
          },
          "scene": {
           "xaxis": {
            "backgroundcolor": "#E5ECF6",
            "gridcolor": "white",
            "gridwidth": 2,
            "linecolor": "white",
            "showbackground": true,
            "ticks": "",
            "zerolinecolor": "white"
           },
           "yaxis": {
            "backgroundcolor": "#E5ECF6",
            "gridcolor": "white",
            "gridwidth": 2,
            "linecolor": "white",
            "showbackground": true,
            "ticks": "",
            "zerolinecolor": "white"
           },
           "zaxis": {
            "backgroundcolor": "#E5ECF6",
            "gridcolor": "white",
            "gridwidth": 2,
            "linecolor": "white",
            "showbackground": true,
            "ticks": "",
            "zerolinecolor": "white"
           }
          },
          "shapedefaults": {
           "line": {
            "color": "#2a3f5f"
           }
          },
          "ternary": {
           "aaxis": {
            "gridcolor": "white",
            "linecolor": "white",
            "ticks": ""
           },
           "baxis": {
            "gridcolor": "white",
            "linecolor": "white",
            "ticks": ""
           },
           "bgcolor": "#E5ECF6",
           "caxis": {
            "gridcolor": "white",
            "linecolor": "white",
            "ticks": ""
           }
          },
          "title": {
           "x": 0.05
          },
          "xaxis": {
           "automargin": true,
           "gridcolor": "white",
           "linecolor": "white",
           "ticks": "",
           "title": {
            "standoff": 15
           },
           "zerolinecolor": "white",
           "zerolinewidth": 2
          },
          "yaxis": {
           "automargin": true,
           "gridcolor": "white",
           "linecolor": "white",
           "ticks": "",
           "title": {
            "standoff": 15
           },
           "zerolinecolor": "white",
           "zerolinewidth": 2
          }
         }
        },
        "title": {
         "text": "Top 7 Movies by IMDb Score"
        },
        "xaxis": {
         "anchor": "y",
         "domain": [
          0,
          1
         ],
         "title": {
          "text": "IMDb Score"
         }
        },
        "yaxis": {
         "anchor": "x",
         "domain": [
          0,
          1
         ],
         "title": {
          "text": "Movie"
         }
        }
       }
      }
     },
     "metadata": {},
     "output_type": "display_data"
    }
   ],
   "source": [
    "import pandas as pd\n",
    "import plotly.express as px\n",
    "\n",
    "\n",
    "\n",
    "df = df.drop_duplicates()\n",
    "\n",
    "df_filtered = df.sort_values(by='IMDB_Score', ascending=False).drop_duplicates(subset=['Movie'])\n",
    "\n",
    "df_filtered = df_filtered[(df_filtered['IMDB_Score'] > 0) & (df_filtered['IMDB_Score'] <= 10)]\n",
    "\n",
    "bottom_7_movies = df_filtered.sort_values(by='IMDB_Score', ascending=True).head(7)\n",
    "top_7_movies = df_filtered.sort_values(by='IMDB_Score', ascending=False).head(7)\n",
    "\n",
    "print(\"Top 7 Movies:\\n\", top_7_movies[['Movie', 'IMDB_Score']])\n",
    "print(\"Bottom 7 Movies:\\n\", bottom_7_movies[['Movie', 'IMDB_Score']])\n",
    "\n",
    "fig_bottom = px.bar(bottom_7_movies, x=\"IMDB_Score\", y=\"Movie\", \n",
    "                    title=\"Bottom 7 Movies by IMDb Score\",\n",
    "                    labels={\"IMDB_Score\": \"IMDb Score\", \"Movie\": \"Movie\"},\n",
    "                    color=\"IMDB_Score\", \n",
    "                    color_continuous_scale=px.colors.sequential.Reds)\n",
    "\n",
    "fig_bottom.update_traces(texttemplate='%{x:.2f}', textposition='outside', \n",
    "                         marker=dict(line=dict(width=1, color='black')))\n",
    "\n",
    "fig_top = px.bar(top_7_movies, x=\"IMDB_Score\", y=\"Movie\", \n",
    "                  title=\"Top 7 Movies by IMDb Score\",\n",
    "                  labels={\"IMDB_Score\": \"IMDb Score\", \"Movie\": \"Movie\"},\n",
    "                  color=\"IMDB_Score\", \n",
    "                  color_continuous_scale=px.colors.sequential.Blues)\n",
    "\n",
    "fig_top.update_traces(texttemplate='%{x:.2f}', textposition='outside', \n",
    "                       marker=dict(line=dict(width=1, color='black')))\n",
    "\n",
    "fig_bottom.show()\n",
    "fig_top.show()\n"
   ]
  },
  {
   "cell_type": "markdown",
   "metadata": {},
   "source": [
    "# YEAR\n"
   ]
  },
  {
   "cell_type": "markdown",
   "metadata": {},
   "source": [
    "Number of Years or Year data visualization characteristics categorized."
   ]
  },
  {
   "cell_type": "code",
   "execution_count": 56,
   "metadata": {},
   "outputs": [
    {
     "data": {
      "application/vnd.plotly.v1+json": {
       "config": {
        "plotlyServerURL": "https://plot.ly"
       },
       "data": [
        {
         "hovertemplate": "Year=%{x}<br>Number of Releases=%{y}<extra></extra>",
         "legendgroup": "",
         "line": {
          "color": "blue",
          "dash": "solid",
          "shape": "linear",
          "width": 4
         },
         "marker": {
          "color": "orange",
          "size": 8,
          "symbol": "circle"
         },
         "mode": "lines+markers",
         "name": "",
         "orientation": "v",
         "showlegend": false,
         "type": "scatter",
         "x": {
          "bdata": "AAAAAACAnkAAAAAAAOSeQAAAAAAA6J5AAAAAAADsnkAAAAAAAPCeQAAAAAAA+J5AAAAAAAD8nkAAAAAAAACfQAAAAAAABJ9AAAAAAAAMn0AAAAAAABCfQAAAAAAAFJ9AAAAAAAAYn0AAAAAAAByfQAAAAAAAIJ9AAAAAAAAkn0AAAAAAACifQAAAAAAALJ9AAAAAAAAwn0AAAAAAADSfQAAAAAAAOJ9AAAAAAAA8n0AAAAAAAECfQAAAAAAARJ9AAAAAAABIn0AAAAAAAEyfQAAAAAAAUJ9AAAAAAABUn0AAAAAAAFifQAAAAAAAXJ9AAAAAAABgn0AAAAAAAGSfQAAAAAAAaJ9AAAAAAABsn0AAAAAAAHCfQAAAAAAAdJ9AAAAAAAB4n0AAAAAAAHyfQAAAAAAAgJ9AAAAAAACEn0AAAAAAAIifQAAAAAAAjJ9AAAAAAACQn0AAAAAAAJSfQAAAAAAAmJ9AAAAAAACcn0A=",
          "dtype": "f8"
         },
         "xaxis": "x",
         "y": {
          "bdata": "AQABAAIABQACAAIAAQAEAAIAAQACAAEAAQABAFgAAQADAAEACAAaAAIAOAAoAEgBAwATAF0ASAANAAoAQAAKAF8ACwAUAGcAjgC+AEQAHQATACIACQBMAB0AAgA=",
          "dtype": "i2"
         },
         "yaxis": "y"
        }
       ],
       "layout": {
        "legend": {
         "tracegroupgap": 0
        },
        "paper_bgcolor": "white",
        "plot_bgcolor": "white",
        "template": {
         "data": {
          "bar": [
           {
            "error_x": {
             "color": "#2a3f5f"
            },
            "error_y": {
             "color": "#2a3f5f"
            },
            "marker": {
             "line": {
              "color": "white",
              "width": 0.5
             },
             "pattern": {
              "fillmode": "overlay",
              "size": 10,
              "solidity": 0.2
             }
            },
            "type": "bar"
           }
          ],
          "barpolar": [
           {
            "marker": {
             "line": {
              "color": "white",
              "width": 0.5
             },
             "pattern": {
              "fillmode": "overlay",
              "size": 10,
              "solidity": 0.2
             }
            },
            "type": "barpolar"
           }
          ],
          "carpet": [
           {
            "aaxis": {
             "endlinecolor": "#2a3f5f",
             "gridcolor": "#C8D4E3",
             "linecolor": "#C8D4E3",
             "minorgridcolor": "#C8D4E3",
             "startlinecolor": "#2a3f5f"
            },
            "baxis": {
             "endlinecolor": "#2a3f5f",
             "gridcolor": "#C8D4E3",
             "linecolor": "#C8D4E3",
             "minorgridcolor": "#C8D4E3",
             "startlinecolor": "#2a3f5f"
            },
            "type": "carpet"
           }
          ],
          "choropleth": [
           {
            "colorbar": {
             "outlinewidth": 0,
             "ticks": ""
            },
            "type": "choropleth"
           }
          ],
          "contour": [
           {
            "colorbar": {
             "outlinewidth": 0,
             "ticks": ""
            },
            "colorscale": [
             [
              0,
              "#0d0887"
             ],
             [
              0.1111111111111111,
              "#46039f"
             ],
             [
              0.2222222222222222,
              "#7201a8"
             ],
             [
              0.3333333333333333,
              "#9c179e"
             ],
             [
              0.4444444444444444,
              "#bd3786"
             ],
             [
              0.5555555555555556,
              "#d8576b"
             ],
             [
              0.6666666666666666,
              "#ed7953"
             ],
             [
              0.7777777777777778,
              "#fb9f3a"
             ],
             [
              0.8888888888888888,
              "#fdca26"
             ],
             [
              1,
              "#f0f921"
             ]
            ],
            "type": "contour"
           }
          ],
          "contourcarpet": [
           {
            "colorbar": {
             "outlinewidth": 0,
             "ticks": ""
            },
            "type": "contourcarpet"
           }
          ],
          "heatmap": [
           {
            "colorbar": {
             "outlinewidth": 0,
             "ticks": ""
            },
            "colorscale": [
             [
              0,
              "#0d0887"
             ],
             [
              0.1111111111111111,
              "#46039f"
             ],
             [
              0.2222222222222222,
              "#7201a8"
             ],
             [
              0.3333333333333333,
              "#9c179e"
             ],
             [
              0.4444444444444444,
              "#bd3786"
             ],
             [
              0.5555555555555556,
              "#d8576b"
             ],
             [
              0.6666666666666666,
              "#ed7953"
             ],
             [
              0.7777777777777778,
              "#fb9f3a"
             ],
             [
              0.8888888888888888,
              "#fdca26"
             ],
             [
              1,
              "#f0f921"
             ]
            ],
            "type": "heatmap"
           }
          ],
          "histogram": [
           {
            "marker": {
             "pattern": {
              "fillmode": "overlay",
              "size": 10,
              "solidity": 0.2
             }
            },
            "type": "histogram"
           }
          ],
          "histogram2d": [
           {
            "colorbar": {
             "outlinewidth": 0,
             "ticks": ""
            },
            "colorscale": [
             [
              0,
              "#0d0887"
             ],
             [
              0.1111111111111111,
              "#46039f"
             ],
             [
              0.2222222222222222,
              "#7201a8"
             ],
             [
              0.3333333333333333,
              "#9c179e"
             ],
             [
              0.4444444444444444,
              "#bd3786"
             ],
             [
              0.5555555555555556,
              "#d8576b"
             ],
             [
              0.6666666666666666,
              "#ed7953"
             ],
             [
              0.7777777777777778,
              "#fb9f3a"
             ],
             [
              0.8888888888888888,
              "#fdca26"
             ],
             [
              1,
              "#f0f921"
             ]
            ],
            "type": "histogram2d"
           }
          ],
          "histogram2dcontour": [
           {
            "colorbar": {
             "outlinewidth": 0,
             "ticks": ""
            },
            "colorscale": [
             [
              0,
              "#0d0887"
             ],
             [
              0.1111111111111111,
              "#46039f"
             ],
             [
              0.2222222222222222,
              "#7201a8"
             ],
             [
              0.3333333333333333,
              "#9c179e"
             ],
             [
              0.4444444444444444,
              "#bd3786"
             ],
             [
              0.5555555555555556,
              "#d8576b"
             ],
             [
              0.6666666666666666,
              "#ed7953"
             ],
             [
              0.7777777777777778,
              "#fb9f3a"
             ],
             [
              0.8888888888888888,
              "#fdca26"
             ],
             [
              1,
              "#f0f921"
             ]
            ],
            "type": "histogram2dcontour"
           }
          ],
          "mesh3d": [
           {
            "colorbar": {
             "outlinewidth": 0,
             "ticks": ""
            },
            "type": "mesh3d"
           }
          ],
          "parcoords": [
           {
            "line": {
             "colorbar": {
              "outlinewidth": 0,
              "ticks": ""
             }
            },
            "type": "parcoords"
           }
          ],
          "pie": [
           {
            "automargin": true,
            "type": "pie"
           }
          ],
          "scatter": [
           {
            "fillpattern": {
             "fillmode": "overlay",
             "size": 10,
             "solidity": 0.2
            },
            "type": "scatter"
           }
          ],
          "scatter3d": [
           {
            "line": {
             "colorbar": {
              "outlinewidth": 0,
              "ticks": ""
             }
            },
            "marker": {
             "colorbar": {
              "outlinewidth": 0,
              "ticks": ""
             }
            },
            "type": "scatter3d"
           }
          ],
          "scattercarpet": [
           {
            "marker": {
             "colorbar": {
              "outlinewidth": 0,
              "ticks": ""
             }
            },
            "type": "scattercarpet"
           }
          ],
          "scattergeo": [
           {
            "marker": {
             "colorbar": {
              "outlinewidth": 0,
              "ticks": ""
             }
            },
            "type": "scattergeo"
           }
          ],
          "scattergl": [
           {
            "marker": {
             "colorbar": {
              "outlinewidth": 0,
              "ticks": ""
             }
            },
            "type": "scattergl"
           }
          ],
          "scattermap": [
           {
            "marker": {
             "colorbar": {
              "outlinewidth": 0,
              "ticks": ""
             }
            },
            "type": "scattermap"
           }
          ],
          "scattermapbox": [
           {
            "marker": {
             "colorbar": {
              "outlinewidth": 0,
              "ticks": ""
             }
            },
            "type": "scattermapbox"
           }
          ],
          "scatterpolar": [
           {
            "marker": {
             "colorbar": {
              "outlinewidth": 0,
              "ticks": ""
             }
            },
            "type": "scatterpolar"
           }
          ],
          "scatterpolargl": [
           {
            "marker": {
             "colorbar": {
              "outlinewidth": 0,
              "ticks": ""
             }
            },
            "type": "scatterpolargl"
           }
          ],
          "scatterternary": [
           {
            "marker": {
             "colorbar": {
              "outlinewidth": 0,
              "ticks": ""
             }
            },
            "type": "scatterternary"
           }
          ],
          "surface": [
           {
            "colorbar": {
             "outlinewidth": 0,
             "ticks": ""
            },
            "colorscale": [
             [
              0,
              "#0d0887"
             ],
             [
              0.1111111111111111,
              "#46039f"
             ],
             [
              0.2222222222222222,
              "#7201a8"
             ],
             [
              0.3333333333333333,
              "#9c179e"
             ],
             [
              0.4444444444444444,
              "#bd3786"
             ],
             [
              0.5555555555555556,
              "#d8576b"
             ],
             [
              0.6666666666666666,
              "#ed7953"
             ],
             [
              0.7777777777777778,
              "#fb9f3a"
             ],
             [
              0.8888888888888888,
              "#fdca26"
             ],
             [
              1,
              "#f0f921"
             ]
            ],
            "type": "surface"
           }
          ],
          "table": [
           {
            "cells": {
             "fill": {
              "color": "#EBF0F8"
             },
             "line": {
              "color": "white"
             }
            },
            "header": {
             "fill": {
              "color": "#C8D4E3"
             },
             "line": {
              "color": "white"
             }
            },
            "type": "table"
           }
          ]
         },
         "layout": {
          "annotationdefaults": {
           "arrowcolor": "#2a3f5f",
           "arrowhead": 0,
           "arrowwidth": 1
          },
          "autotypenumbers": "strict",
          "coloraxis": {
           "colorbar": {
            "outlinewidth": 0,
            "ticks": ""
           }
          },
          "colorscale": {
           "diverging": [
            [
             0,
             "#8e0152"
            ],
            [
             0.1,
             "#c51b7d"
            ],
            [
             0.2,
             "#de77ae"
            ],
            [
             0.3,
             "#f1b6da"
            ],
            [
             0.4,
             "#fde0ef"
            ],
            [
             0.5,
             "#f7f7f7"
            ],
            [
             0.6,
             "#e6f5d0"
            ],
            [
             0.7,
             "#b8e186"
            ],
            [
             0.8,
             "#7fbc41"
            ],
            [
             0.9,
             "#4d9221"
            ],
            [
             1,
             "#276419"
            ]
           ],
           "sequential": [
            [
             0,
             "#0d0887"
            ],
            [
             0.1111111111111111,
             "#46039f"
            ],
            [
             0.2222222222222222,
             "#7201a8"
            ],
            [
             0.3333333333333333,
             "#9c179e"
            ],
            [
             0.4444444444444444,
             "#bd3786"
            ],
            [
             0.5555555555555556,
             "#d8576b"
            ],
            [
             0.6666666666666666,
             "#ed7953"
            ],
            [
             0.7777777777777778,
             "#fb9f3a"
            ],
            [
             0.8888888888888888,
             "#fdca26"
            ],
            [
             1,
             "#f0f921"
            ]
           ],
           "sequentialminus": [
            [
             0,
             "#0d0887"
            ],
            [
             0.1111111111111111,
             "#46039f"
            ],
            [
             0.2222222222222222,
             "#7201a8"
            ],
            [
             0.3333333333333333,
             "#9c179e"
            ],
            [
             0.4444444444444444,
             "#bd3786"
            ],
            [
             0.5555555555555556,
             "#d8576b"
            ],
            [
             0.6666666666666666,
             "#ed7953"
            ],
            [
             0.7777777777777778,
             "#fb9f3a"
            ],
            [
             0.8888888888888888,
             "#fdca26"
            ],
            [
             1,
             "#f0f921"
            ]
           ]
          },
          "colorway": [
           "#636efa",
           "#EF553B",
           "#00cc96",
           "#ab63fa",
           "#FFA15A",
           "#19d3f3",
           "#FF6692",
           "#B6E880",
           "#FF97FF",
           "#FECB52"
          ],
          "font": {
           "color": "#2a3f5f"
          },
          "geo": {
           "bgcolor": "white",
           "lakecolor": "white",
           "landcolor": "white",
           "showlakes": true,
           "showland": true,
           "subunitcolor": "#C8D4E3"
          },
          "hoverlabel": {
           "align": "left"
          },
          "hovermode": "closest",
          "mapbox": {
           "style": "light"
          },
          "paper_bgcolor": "white",
          "plot_bgcolor": "white",
          "polar": {
           "angularaxis": {
            "gridcolor": "#EBF0F8",
            "linecolor": "#EBF0F8",
            "ticks": ""
           },
           "bgcolor": "white",
           "radialaxis": {
            "gridcolor": "#EBF0F8",
            "linecolor": "#EBF0F8",
            "ticks": ""
           }
          },
          "scene": {
           "xaxis": {
            "backgroundcolor": "white",
            "gridcolor": "#DFE8F3",
            "gridwidth": 2,
            "linecolor": "#EBF0F8",
            "showbackground": true,
            "ticks": "",
            "zerolinecolor": "#EBF0F8"
           },
           "yaxis": {
            "backgroundcolor": "white",
            "gridcolor": "#DFE8F3",
            "gridwidth": 2,
            "linecolor": "#EBF0F8",
            "showbackground": true,
            "ticks": "",
            "zerolinecolor": "#EBF0F8"
           },
           "zaxis": {
            "backgroundcolor": "white",
            "gridcolor": "#DFE8F3",
            "gridwidth": 2,
            "linecolor": "#EBF0F8",
            "showbackground": true,
            "ticks": "",
            "zerolinecolor": "#EBF0F8"
           }
          },
          "shapedefaults": {
           "line": {
            "color": "#2a3f5f"
           }
          },
          "ternary": {
           "aaxis": {
            "gridcolor": "#DFE8F3",
            "linecolor": "#A2B1C6",
            "ticks": ""
           },
           "baxis": {
            "gridcolor": "#DFE8F3",
            "linecolor": "#A2B1C6",
            "ticks": ""
           },
           "bgcolor": "white",
           "caxis": {
            "gridcolor": "#DFE8F3",
            "linecolor": "#A2B1C6",
            "ticks": ""
           }
          },
          "title": {
           "x": 0.05
          },
          "xaxis": {
           "automargin": true,
           "gridcolor": "#EBF0F8",
           "linecolor": "#EBF0F8",
           "ticks": "",
           "title": {
            "standoff": 15
           },
           "zerolinecolor": "#EBF0F8",
           "zerolinewidth": 2
          },
          "yaxis": {
           "automargin": true,
           "gridcolor": "#EBF0F8",
           "linecolor": "#EBF0F8",
           "ticks": "",
           "title": {
            "standoff": 15
           },
           "zerolinecolor": "#EBF0F8",
           "zerolinewidth": 2
          }
         }
        },
        "title": {
         "font": {
          "color": "darkblue",
          "size": 24
         },
         "text": "Number of Releases Over Time"
        },
        "xaxis": {
         "anchor": "y",
         "domain": [
          0,
          1
         ],
         "gridcolor": "lightgray",
         "showgrid": true,
         "title": {
          "font": {
           "color": "black",
           "size": 18
          },
          "text": "Year"
         }
        },
        "yaxis": {
         "anchor": "x",
         "domain": [
          0,
          1
         ],
         "gridcolor": "lightgray",
         "showgrid": true,
         "title": {
          "font": {
           "color": "black",
           "size": 18
          },
          "text": "Number of Releases"
         }
        }
       }
      }
     },
     "metadata": {},
     "output_type": "display_data"
    }
   ],
   "source": [
    "release_counts = df_replacecopy.groupby(['Year']).size().reset_index(name='Count')\n",
    "\n",
    "fig = px.line(release_counts, x='Year', y='Count', title='Number of Releases Over Time',\n",
    "              labels={'Year': 'Year', 'Count': 'Number of Releases'},\n",
    "              markers=True,\n",
    "              line_shape='linear',\n",
    "              template='plotly_white')\n",
    "\n",
    "fig.update_traces(line=dict(width=4, color='blue'),\n",
    "                  marker=dict(size=8, color='orange'))\n",
    "\n",
    "fig.update_layout(\n",
    "    title_font=dict(size=24, color='darkblue'),\n",
    "    xaxis_title_font=dict(size=18, color='black'),\n",
    "    yaxis_title_font=dict(size=18, color='black'),\n",
    "    plot_bgcolor='white',\n",
    "    paper_bgcolor='white',\n",
    "    xaxis=dict(showgrid=True, gridcolor='lightgray'),\n",
    "    yaxis=dict(showgrid=True, gridcolor='lightgray')\n",
    ")\n",
    "\n",
    "fig.show()"
   ]
  },
  {
   "cell_type": "markdown",
   "metadata": {},
   "source": [
    "# GENRE"
   ]
  },
  {
   "cell_type": "markdown",
   "metadata": {},
   "source": [
    "Genre  data visualization characteristics categorized."
   ]
  },
  {
   "cell_type": "code",
   "execution_count": 57,
   "metadata": {},
   "outputs": [
    {
     "data": {
      "application/vnd.plotly.v1+json": {
       "config": {
        "plotlyServerURL": "https://plot.ly"
       },
       "data": [
        {
         "hovertemplate": "Genre=%{x}<br>Number of Movies=%{text}<extra></extra>",
         "legendgroup": "Animation,Action,Adventure",
         "marker": {
          "color": "#636efa",
          "line": {
           "color": "black",
           "width": 1
          },
          "pattern": {
           "shape": ""
          }
         },
         "name": "Animation,Action,Adventure",
         "orientation": "v",
         "showlegend": true,
         "text": {
          "bdata": "AAAAAADge0A=",
          "dtype": "f8"
         },
         "textposition": "outside",
         "texttemplate": "%{text}",
         "type": "bar",
         "x": [
          "Animation,Action,Adventure"
         ],
         "xaxis": "x",
         "y": {
          "bdata": "vgE=",
          "dtype": "i2"
         },
         "yaxis": "y"
        },
        {
         "hovertemplate": "Genre=%{x}<br>Number of Movies=%{text}<extra></extra>",
         "legendgroup": "Action,Adventure,Drama",
         "marker": {
          "color": "#EF553B",
          "line": {
           "color": "black",
           "width": 1
          },
          "pattern": {
           "shape": ""
          }
         },
         "name": "Action,Adventure,Drama",
         "orientation": "v",
         "showlegend": true,
         "text": {
          "bdata": "AAAAAABwc0A=",
          "dtype": "f8"
         },
         "textposition": "outside",
         "texttemplate": "%{text}",
         "type": "bar",
         "x": [
          "Action,Adventure,Drama"
         ],
         "xaxis": "x",
         "y": {
          "bdata": "NwE=",
          "dtype": "i2"
         },
         "yaxis": "y"
        },
        {
         "hovertemplate": "Genre=%{x}<br>Number of Movies=%{text}<extra></extra>",
         "legendgroup": "Adventure,Drama,Romance",
         "marker": {
          "color": "#00cc96",
          "line": {
           "color": "black",
           "width": 1
          },
          "pattern": {
           "shape": ""
          }
         },
         "name": "Adventure,Drama,Romance",
         "orientation": "v",
         "showlegend": true,
         "text": {
          "bdata": "AAAAAAAAZkA=",
          "dtype": "f8"
         },
         "textposition": "outside",
         "texttemplate": "%{text}",
         "type": "bar",
         "x": [
          "Adventure,Drama,Romance"
         ],
         "xaxis": "x",
         "y": {
          "bdata": "sAA=",
          "dtype": "i2"
         },
         "yaxis": "y"
        },
        {
         "hovertemplate": "Genre=%{x}<br>Number of Movies=%{text}<extra></extra>",
         "legendgroup": "Action,Crime,Drama",
         "marker": {
          "color": "#ab63fa",
          "line": {
           "color": "black",
           "width": 1
          },
          "pattern": {
           "shape": ""
          }
         },
         "name": "Action,Crime,Drama",
         "orientation": "v",
         "showlegend": true,
         "text": {
          "bdata": "AAAAAADgYEA=",
          "dtype": "f8"
         },
         "textposition": "outside",
         "texttemplate": "%{text}",
         "type": "bar",
         "x": [
          "Action,Crime,Drama"
         ],
         "xaxis": "x",
         "y": {
          "bdata": "hwA=",
          "dtype": "i2"
         },
         "yaxis": "y"
        },
        {
         "hovertemplate": "Genre=%{x}<br>Number of Movies=%{text}<extra></extra>",
         "legendgroup": "Animation,Short,Action",
         "marker": {
          "color": "#FFA15A",
          "line": {
           "color": "black",
           "width": 1
          },
          "pattern": {
           "shape": ""
          }
         },
         "name": "Animation,Short,Action",
         "orientation": "v",
         "showlegend": true,
         "text": {
          "bdata": "AAAAAABAWUA=",
          "dtype": "f8"
         },
         "textposition": "outside",
         "texttemplate": "%{text}",
         "type": "bar",
         "x": [
          "Animation,Short,Action"
         ],
         "xaxis": "x",
         "y": {
          "bdata": "ZQ==",
          "dtype": "i1"
         },
         "yaxis": "y"
        },
        {
         "hovertemplate": "Genre=%{x}<br>Number of Movies=%{text}<extra></extra>",
         "legendgroup": "Action,Adventure,Comedy",
         "marker": {
          "color": "#19d3f3",
          "line": {
           "color": "black",
           "width": 1
          },
          "pattern": {
           "shape": ""
          }
         },
         "name": "Action,Adventure,Comedy",
         "orientation": "v",
         "showlegend": true,
         "text": {
          "bdata": "AAAAAACASEA=",
          "dtype": "f8"
         },
         "textposition": "outside",
         "texttemplate": "%{text}",
         "type": "bar",
         "x": [
          "Action,Adventure,Comedy"
         ],
         "xaxis": "x",
         "y": {
          "bdata": "MQ==",
          "dtype": "i1"
         },
         "yaxis": "y"
        },
        {
         "hovertemplate": "Genre=%{x}<br>Number of Movies=%{text}<extra></extra>",
         "legendgroup": "Crime,Drama,Fantasy",
         "marker": {
          "color": "#FF6692",
          "line": {
           "color": "black",
           "width": 1
          },
          "pattern": {
           "shape": ""
          }
         },
         "name": "Crime,Drama,Fantasy",
         "orientation": "v",
         "showlegend": true,
         "text": {
          "bdata": "AAAAAACAR0A=",
          "dtype": "f8"
         },
         "textposition": "outside",
         "texttemplate": "%{text}",
         "type": "bar",
         "x": [
          "Crime,Drama,Fantasy"
         ],
         "xaxis": "x",
         "y": {
          "bdata": "Lw==",
          "dtype": "i1"
         },
         "yaxis": "y"
        },
        {
         "hovertemplate": "Genre=%{x}<br>Number of Movies=%{text}<extra></extra>",
         "legendgroup": "Action,Adventure,Crime",
         "marker": {
          "color": "#B6E880",
          "line": {
           "color": "black",
           "width": 1
          },
          "pattern": {
           "shape": ""
          }
         },
         "name": "Action,Adventure,Crime",
         "orientation": "v",
         "showlegend": true,
         "text": {
          "bdata": "AAAAAACARUA=",
          "dtype": "f8"
         },
         "textposition": "outside",
         "texttemplate": "%{text}",
         "type": "bar",
         "x": [
          "Action,Adventure,Crime"
         ],
         "xaxis": "x",
         "y": {
          "bdata": "Kw==",
          "dtype": "i1"
         },
         "yaxis": "y"
        },
        {
         "hovertemplate": "Genre=%{x}<br>Number of Movies=%{text}<extra></extra>",
         "legendgroup": "Documentary,Short",
         "marker": {
          "color": "#FF97FF",
          "line": {
           "color": "black",
           "width": 1
          },
          "pattern": {
           "shape": ""
          }
         },
         "name": "Documentary,Short",
         "orientation": "v",
         "showlegend": true,
         "text": {
          "bdata": "AAAAAAAAREA=",
          "dtype": "f8"
         },
         "textposition": "outside",
         "texttemplate": "%{text}",
         "type": "bar",
         "x": [
          "Documentary,Short"
         ],
         "xaxis": "x",
         "y": {
          "bdata": "KA==",
          "dtype": "i1"
         },
         "yaxis": "y"
        },
        {
         "hovertemplate": "Genre=%{x}<br>Number of Movies=%{text}<extra></extra>",
         "legendgroup": "Animation,Action,Sci-Fi",
         "marker": {
          "color": "#FECB52",
          "line": {
           "color": "black",
           "width": 1
          },
          "pattern": {
           "shape": ""
          }
         },
         "name": "Animation,Action,Sci-Fi",
         "orientation": "v",
         "showlegend": true,
         "text": {
          "bdata": "AAAAAAAAQEA=",
          "dtype": "f8"
         },
         "textposition": "outside",
         "texttemplate": "%{text}",
         "type": "bar",
         "x": [
          "Animation,Action,Sci-Fi"
         ],
         "xaxis": "x",
         "y": {
          "bdata": "IA==",
          "dtype": "i1"
         },
         "yaxis": "y"
        },
        {
         "hovertemplate": "Genre=%{x}<br>Number of Movies=%{text}<extra></extra>",
         "legendgroup": "Animation,Comedy,Crime",
         "marker": {
          "color": "#636efa",
          "line": {
           "color": "black",
           "width": 1
          },
          "pattern": {
           "shape": ""
          }
         },
         "name": "Animation,Comedy,Crime",
         "orientation": "v",
         "showlegend": true,
         "text": {
          "bdata": "AAAAAAAAQEA=",
          "dtype": "f8"
         },
         "textposition": "outside",
         "texttemplate": "%{text}",
         "type": "bar",
         "x": [
          "Animation,Comedy,Crime"
         ],
         "xaxis": "x",
         "y": {
          "bdata": "IA==",
          "dtype": "i1"
         },
         "yaxis": "y"
        },
        {
         "hovertemplate": "Genre=%{x}<br>Number of Movies=%{text}<extra></extra>",
         "legendgroup": "Action,Adventure,Fantasy",
         "marker": {
          "color": "#EF553B",
          "line": {
           "color": "black",
           "width": 1
          },
          "pattern": {
           "shape": ""
          }
         },
         "name": "Action,Adventure,Fantasy",
         "orientation": "v",
         "showlegend": true,
         "text": {
          "bdata": "AAAAAAAAO0A=",
          "dtype": "f8"
         },
         "textposition": "outside",
         "texttemplate": "%{text}",
         "type": "bar",
         "x": [
          "Action,Adventure,Fantasy"
         ],
         "xaxis": "x",
         "y": {
          "bdata": "Gw==",
          "dtype": "i1"
         },
         "yaxis": "y"
        },
        {
         "hovertemplate": "Genre=%{x}<br>Number of Movies=%{text}<extra></extra>",
         "legendgroup": "Animation,Action,Comedy",
         "marker": {
          "color": "#00cc96",
          "line": {
           "color": "black",
           "width": 1
          },
          "pattern": {
           "shape": ""
          }
         },
         "name": "Animation,Action,Comedy",
         "orientation": "v",
         "showlegend": true,
         "text": {
          "bdata": "AAAAAAAAO0A=",
          "dtype": "f8"
         },
         "textposition": "outside",
         "texttemplate": "%{text}",
         "type": "bar",
         "x": [
          "Animation,Action,Comedy"
         ],
         "xaxis": "x",
         "y": {
          "bdata": "Gw==",
          "dtype": "i1"
         },
         "yaxis": "y"
        },
        {
         "hovertemplate": "Genre=%{x}<br>Number of Movies=%{text}<extra></extra>",
         "legendgroup": "Action,Adventure,Sci-Fi",
         "marker": {
          "color": "#ab63fa",
          "line": {
           "color": "black",
           "width": 1
          },
          "pattern": {
           "shape": ""
          }
         },
         "name": "Action,Adventure,Sci-Fi",
         "orientation": "v",
         "showlegend": true,
         "text": {
          "bdata": "AAAAAAAAOkA=",
          "dtype": "f8"
         },
         "textposition": "outside",
         "texttemplate": "%{text}",
         "type": "bar",
         "x": [
          "Action,Adventure,Sci-Fi"
         ],
         "xaxis": "x",
         "y": {
          "bdata": "Gg==",
          "dtype": "i1"
         },
         "yaxis": "y"
        },
        {
         "hovertemplate": "Genre=%{x}<br>Number of Movies=%{text}<extra></extra>",
         "legendgroup": "Documentary",
         "marker": {
          "color": "#FFA15A",
          "line": {
           "color": "black",
           "width": 1
          },
          "pattern": {
           "shape": ""
          }
         },
         "name": "Documentary",
         "orientation": "v",
         "showlegend": true,
         "text": {
          "bdata": "AAAAAAAAN0A=",
          "dtype": "f8"
         },
         "textposition": "outside",
         "texttemplate": "%{text}",
         "type": "bar",
         "x": [
          "Documentary"
         ],
         "xaxis": "x",
         "y": {
          "bdata": "Fw==",
          "dtype": "i1"
         },
         "yaxis": "y"
        },
        {
         "hovertemplate": "Genre=%{x}<br>Number of Movies=%{text}<extra></extra>",
         "legendgroup": "Animation,Crime,Drama",
         "marker": {
          "color": "#19d3f3",
          "line": {
           "color": "black",
           "width": 1
          },
          "pattern": {
           "shape": ""
          }
         },
         "name": "Animation,Crime,Drama",
         "orientation": "v",
         "showlegend": true,
         "text": {
          "bdata": "AAAAAAAANEA=",
          "dtype": "f8"
         },
         "textposition": "outside",
         "texttemplate": "%{text}",
         "type": "bar",
         "x": [
          "Animation,Crime,Drama"
         ],
         "xaxis": "x",
         "y": {
          "bdata": "FA==",
          "dtype": "i1"
         },
         "yaxis": "y"
        },
        {
         "hovertemplate": "Genre=%{x}<br>Number of Movies=%{text}<extra></extra>",
         "legendgroup": "Action,Drama,Mystery",
         "marker": {
          "color": "#FF6692",
          "line": {
           "color": "black",
           "width": 1
          },
          "pattern": {
           "shape": ""
          }
         },
         "name": "Action,Drama,Mystery",
         "orientation": "v",
         "showlegend": true,
         "text": {
          "bdata": "AAAAAAAAJkA=",
          "dtype": "f8"
         },
         "textposition": "outside",
         "texttemplate": "%{text}",
         "type": "bar",
         "x": [
          "Action,Drama,Mystery"
         ],
         "xaxis": "x",
         "y": {
          "bdata": "Cw==",
          "dtype": "i1"
         },
         "yaxis": "y"
        },
        {
         "hovertemplate": "Genre=%{x}<br>Number of Movies=%{text}<extra></extra>",
         "legendgroup": "Action,Comedy,Drama",
         "marker": {
          "color": "#B6E880",
          "line": {
           "color": "black",
           "width": 1
          },
          "pattern": {
           "shape": ""
          }
         },
         "name": "Action,Comedy,Drama",
         "orientation": "v",
         "showlegend": true,
         "text": {
          "bdata": "AAAAAAAAJEA=",
          "dtype": "f8"
         },
         "textposition": "outside",
         "texttemplate": "%{text}",
         "type": "bar",
         "x": [
          "Action,Comedy,Drama"
         ],
         "xaxis": "x",
         "y": {
          "bdata": "Cg==",
          "dtype": "i1"
         },
         "yaxis": "y"
        },
        {
         "hovertemplate": "Genre=%{x}<br>Number of Movies=%{text}<extra></extra>",
         "legendgroup": "Action,Fantasy,Sci-Fi",
         "marker": {
          "color": "#FF97FF",
          "line": {
           "color": "black",
           "width": 1
          },
          "pattern": {
           "shape": ""
          }
         },
         "name": "Action,Fantasy,Sci-Fi",
         "orientation": "v",
         "showlegend": true,
         "text": {
          "bdata": "AAAAAAAAIEA=",
          "dtype": "f8"
         },
         "textposition": "outside",
         "texttemplate": "%{text}",
         "type": "bar",
         "x": [
          "Action,Fantasy,Sci-Fi"
         ],
         "xaxis": "x",
         "y": {
          "bdata": "CA==",
          "dtype": "i1"
         },
         "yaxis": "y"
        },
        {
         "hovertemplate": "Genre=%{x}<br>Number of Movies=%{text}<extra></extra>",
         "legendgroup": "Animation,Short,Fantasy",
         "marker": {
          "color": "#FECB52",
          "line": {
           "color": "black",
           "width": 1
          },
          "pattern": {
           "shape": ""
          }
         },
         "name": "Animation,Short,Fantasy",
         "orientation": "v",
         "showlegend": true,
         "text": {
          "bdata": "AAAAAAAAGEA=",
          "dtype": "f8"
         },
         "textposition": "outside",
         "texttemplate": "%{text}",
         "type": "bar",
         "x": [
          "Animation,Short,Fantasy"
         ],
         "xaxis": "x",
         "y": {
          "bdata": "Bg==",
          "dtype": "i1"
         },
         "yaxis": "y"
        },
        {
         "hovertemplate": "Genre=%{x}<br>Number of Movies=%{text}<extra></extra>",
         "legendgroup": "Short",
         "marker": {
          "color": "#636efa",
          "line": {
           "color": "black",
           "width": 1
          },
          "pattern": {
           "shape": ""
          }
         },
         "name": "Short",
         "orientation": "v",
         "showlegend": true,
         "text": {
          "bdata": "AAAAAAAAGEA=",
          "dtype": "f8"
         },
         "textposition": "outside",
         "texttemplate": "%{text}",
         "type": "bar",
         "x": [
          "Short"
         ],
         "xaxis": "x",
         "y": {
          "bdata": "Bg==",
          "dtype": "i1"
         },
         "yaxis": "y"
        },
        {
         "hovertemplate": "Genre=%{x}<br>Number of Movies=%{text}<extra></extra>",
         "legendgroup": "Action",
         "marker": {
          "color": "#EF553B",
          "line": {
           "color": "black",
           "width": 1
          },
          "pattern": {
           "shape": ""
          }
         },
         "name": "Action",
         "orientation": "v",
         "showlegend": true,
         "text": {
          "bdata": "AAAAAAAAFEA=",
          "dtype": "f8"
         },
         "textposition": "outside",
         "texttemplate": "%{text}",
         "type": "bar",
         "x": [
          "Action"
         ],
         "xaxis": "x",
         "y": {
          "bdata": "BQ==",
          "dtype": "i1"
         },
         "yaxis": "y"
        },
        {
         "hovertemplate": "Genre=%{x}<br>Number of Movies=%{text}<extra></extra>",
         "legendgroup": "Action,Drama,Sci-Fi",
         "marker": {
          "color": "#00cc96",
          "line": {
           "color": "black",
           "width": 1
          },
          "pattern": {
           "shape": ""
          }
         },
         "name": "Action,Drama,Sci-Fi",
         "orientation": "v",
         "showlegend": true,
         "text": {
          "bdata": "AAAAAAAAFEA=",
          "dtype": "f8"
         },
         "textposition": "outside",
         "texttemplate": "%{text}",
         "type": "bar",
         "x": [
          "Action,Drama,Sci-Fi"
         ],
         "xaxis": "x",
         "y": {
          "bdata": "BQ==",
          "dtype": "i1"
         },
         "yaxis": "y"
        },
        {
         "hovertemplate": "Genre=%{x}<br>Number of Movies=%{text}<extra></extra>",
         "legendgroup": "Animation,Action,Drama",
         "marker": {
          "color": "#ab63fa",
          "line": {
           "color": "black",
           "width": 1
          },
          "pattern": {
           "shape": ""
          }
         },
         "name": "Animation,Action,Drama",
         "orientation": "v",
         "showlegend": true,
         "text": {
          "bdata": "AAAAAAAAFEA=",
          "dtype": "f8"
         },
         "textposition": "outside",
         "texttemplate": "%{text}",
         "type": "bar",
         "x": [
          "Animation,Action,Drama"
         ],
         "xaxis": "x",
         "y": {
          "bdata": "BQ==",
          "dtype": "i1"
         },
         "yaxis": "y"
        },
        {
         "hovertemplate": "Genre=%{x}<br>Number of Movies=%{text}<extra></extra>",
         "legendgroup": "Comedy,Music",
         "marker": {
          "color": "#FFA15A",
          "line": {
           "color": "black",
           "width": 1
          },
          "pattern": {
           "shape": ""
          }
         },
         "name": "Comedy,Music",
         "orientation": "v",
         "showlegend": true,
         "text": {
          "bdata": "AAAAAAAAFEA=",
          "dtype": "f8"
         },
         "textposition": "outside",
         "texttemplate": "%{text}",
         "type": "bar",
         "x": [
          "Comedy,Music"
         ],
         "xaxis": "x",
         "y": {
          "bdata": "BQ==",
          "dtype": "i1"
         },
         "yaxis": "y"
        },
        {
         "hovertemplate": "Genre=%{x}<br>Number of Movies=%{text}<extra></extra>",
         "legendgroup": "Action,Adventure",
         "marker": {
          "color": "#19d3f3",
          "line": {
           "color": "black",
           "width": 1
          },
          "pattern": {
           "shape": ""
          }
         },
         "name": "Action,Adventure",
         "orientation": "v",
         "showlegend": true,
         "text": {
          "bdata": "AAAAAAAAEEA=",
          "dtype": "f8"
         },
         "textposition": "outside",
         "texttemplate": "%{text}",
         "type": "bar",
         "x": [
          "Action,Adventure"
         ],
         "xaxis": "x",
         "y": {
          "bdata": "BA==",
          "dtype": "i1"
         },
         "yaxis": "y"
        },
        {
         "hovertemplate": "Genre=%{x}<br>Number of Movies=%{text}<extra></extra>",
         "legendgroup": "Action,Sci-Fi",
         "marker": {
          "color": "#FF6692",
          "line": {
           "color": "black",
           "width": 1
          },
          "pattern": {
           "shape": ""
          }
         },
         "name": "Action,Sci-Fi",
         "orientation": "v",
         "showlegend": true,
         "text": {
          "bdata": "AAAAAAAAEEA=",
          "dtype": "f8"
         },
         "textposition": "outside",
         "texttemplate": "%{text}",
         "type": "bar",
         "x": [
          "Action,Sci-Fi"
         ],
         "xaxis": "x",
         "y": {
          "bdata": "BA==",
          "dtype": "i1"
         },
         "yaxis": "y"
        },
        {
         "hovertemplate": "Genre=%{x}<br>Number of Movies=%{text}<extra></extra>",
         "legendgroup": "Comedy,Fantasy,Sci-Fi",
         "marker": {
          "color": "#B6E880",
          "line": {
           "color": "black",
           "width": 1
          },
          "pattern": {
           "shape": ""
          }
         },
         "name": "Comedy,Fantasy,Sci-Fi",
         "orientation": "v",
         "showlegend": true,
         "text": {
          "bdata": "AAAAAAAAEEA=",
          "dtype": "f8"
         },
         "textposition": "outside",
         "texttemplate": "%{text}",
         "type": "bar",
         "x": [
          "Comedy,Fantasy,Sci-Fi"
         ],
         "xaxis": "x",
         "y": {
          "bdata": "BA==",
          "dtype": "i1"
         },
         "yaxis": "y"
        },
        {
         "hovertemplate": "Genre=%{x}<br>Number of Movies=%{text}<extra></extra>",
         "legendgroup": "Animation,Action,Crime",
         "marker": {
          "color": "#FF97FF",
          "line": {
           "color": "black",
           "width": 1
          },
          "pattern": {
           "shape": ""
          }
         },
         "name": "Animation,Action,Crime",
         "orientation": "v",
         "showlegend": true,
         "text": {
          "bdata": "AAAAAAAAEEA=",
          "dtype": "f8"
         },
         "textposition": "outside",
         "texttemplate": "%{text}",
         "type": "bar",
         "x": [
          "Animation,Action,Crime"
         ],
         "xaxis": "x",
         "y": {
          "bdata": "BA==",
          "dtype": "i1"
         },
         "yaxis": "y"
        },
        {
         "hovertemplate": "Genre=%{x}<br>Number of Movies=%{text}<extra></extra>",
         "legendgroup": "Reality-TV",
         "marker": {
          "color": "#FECB52",
          "line": {
           "color": "black",
           "width": 1
          },
          "pattern": {
           "shape": ""
          }
         },
         "name": "Reality-TV",
         "orientation": "v",
         "showlegend": true,
         "text": {
          "bdata": "AAAAAAAACEA=",
          "dtype": "f8"
         },
         "textposition": "outside",
         "texttemplate": "%{text}",
         "type": "bar",
         "x": [
          "Reality-TV"
         ],
         "xaxis": "x",
         "y": {
          "bdata": "Aw==",
          "dtype": "i1"
         },
         "yaxis": "y"
        },
        {
         "hovertemplate": "Genre=%{x}<br>Number of Movies=%{text}<extra></extra>",
         "legendgroup": "Talk-Show",
         "marker": {
          "color": "#636efa",
          "line": {
           "color": "black",
           "width": 1
          },
          "pattern": {
           "shape": ""
          }
         },
         "name": "Talk-Show",
         "orientation": "v",
         "showlegend": true,
         "text": {
          "bdata": "AAAAAAAACEA=",
          "dtype": "f8"
         },
         "textposition": "outside",
         "texttemplate": "%{text}",
         "type": "bar",
         "x": [
          "Talk-Show"
         ],
         "xaxis": "x",
         "y": {
          "bdata": "Aw==",
          "dtype": "i1"
         },
         "yaxis": "y"
        },
        {
         "hovertemplate": "Genre=%{x}<br>Number of Movies=%{text}<extra></extra>",
         "legendgroup": "Short,Action",
         "marker": {
          "color": "#EF553B",
          "line": {
           "color": "black",
           "width": 1
          },
          "pattern": {
           "shape": ""
          }
         },
         "name": "Short,Action",
         "orientation": "v",
         "showlegend": true,
         "text": {
          "bdata": "AAAAAAAACEA=",
          "dtype": "f8"
         },
         "textposition": "outside",
         "texttemplate": "%{text}",
         "type": "bar",
         "x": [
          "Short,Action"
         ],
         "xaxis": "x",
         "y": {
          "bdata": "Aw==",
          "dtype": "i1"
         },
         "yaxis": "y"
        },
        {
         "hovertemplate": "Genre=%{x}<br>Number of Movies=%{text}<extra></extra>",
         "legendgroup": "Action,Crime,Fantasy",
         "marker": {
          "color": "#00cc96",
          "line": {
           "color": "black",
           "width": 1
          },
          "pattern": {
           "shape": ""
          }
         },
         "name": "Action,Crime,Fantasy",
         "orientation": "v",
         "showlegend": true,
         "text": {
          "bdata": "AAAAAAAAAEA=",
          "dtype": "f8"
         },
         "textposition": "outside",
         "texttemplate": "%{text}",
         "type": "bar",
         "x": [
          "Action,Crime,Fantasy"
         ],
         "xaxis": "x",
         "y": {
          "bdata": "Ag==",
          "dtype": "i1"
         },
         "yaxis": "y"
        },
        {
         "hovertemplate": "Genre=%{x}<br>Number of Movies=%{text}<extra></extra>",
         "legendgroup": "Drama,Fantasy,Sci-Fi",
         "marker": {
          "color": "#ab63fa",
          "line": {
           "color": "black",
           "width": 1
          },
          "pattern": {
           "shape": ""
          }
         },
         "name": "Drama,Fantasy,Sci-Fi",
         "orientation": "v",
         "showlegend": true,
         "text": {
          "bdata": "AAAAAAAAAEA=",
          "dtype": "f8"
         },
         "textposition": "outside",
         "texttemplate": "%{text}",
         "type": "bar",
         "x": [
          "Drama,Fantasy,Sci-Fi"
         ],
         "xaxis": "x",
         "y": {
          "bdata": "Ag==",
          "dtype": "i1"
         },
         "yaxis": "y"
        },
        {
         "hovertemplate": "Genre=%{x}<br>Number of Movies=%{text}<extra></extra>",
         "legendgroup": "Sci-Fi",
         "marker": {
          "color": "#FFA15A",
          "line": {
           "color": "black",
           "width": 1
          },
          "pattern": {
           "shape": ""
          }
         },
         "name": "Sci-Fi",
         "orientation": "v",
         "showlegend": true,
         "text": {
          "bdata": "AAAAAAAAAEA=",
          "dtype": "f8"
         },
         "textposition": "outside",
         "texttemplate": "%{text}",
         "type": "bar",
         "x": [
          "Sci-Fi"
         ],
         "xaxis": "x",
         "y": {
          "bdata": "Ag==",
          "dtype": "i1"
         },
         "yaxis": "y"
        },
        {
         "hovertemplate": "Genre=%{x}<br>Number of Movies=%{text}<extra></extra>",
         "legendgroup": "Short,Action,Adventure",
         "marker": {
          "color": "#19d3f3",
          "line": {
           "color": "black",
           "width": 1
          },
          "pattern": {
           "shape": ""
          }
         },
         "name": "Short,Action,Adventure",
         "orientation": "v",
         "showlegend": true,
         "text": {
          "bdata": "AAAAAAAAAEA=",
          "dtype": "f8"
         },
         "textposition": "outside",
         "texttemplate": "%{text}",
         "type": "bar",
         "x": [
          "Short,Action,Adventure"
         ],
         "xaxis": "x",
         "y": {
          "bdata": "Ag==",
          "dtype": "i1"
         },
         "yaxis": "y"
        },
        {
         "hovertemplate": "Genre=%{x}<br>Number of Movies=%{text}<extra></extra>",
         "legendgroup": "Animation,Action,Horror",
         "marker": {
          "color": "#FF6692",
          "line": {
           "color": "black",
           "width": 1
          },
          "pattern": {
           "shape": ""
          }
         },
         "name": "Animation,Action,Horror",
         "orientation": "v",
         "showlegend": true,
         "text": {
          "bdata": "AAAAAAAAAEA=",
          "dtype": "f8"
         },
         "textposition": "outside",
         "texttemplate": "%{text}",
         "type": "bar",
         "x": [
          "Animation,Action,Horror"
         ],
         "xaxis": "x",
         "y": {
          "bdata": "Ag==",
          "dtype": "i1"
         },
         "yaxis": "y"
        },
        {
         "hovertemplate": "Genre=%{x}<br>Number of Movies=%{text}<extra></extra>",
         "legendgroup": "Animation",
         "marker": {
          "color": "#B6E880",
          "line": {
           "color": "black",
           "width": 1
          },
          "pattern": {
           "shape": ""
          }
         },
         "name": "Animation",
         "orientation": "v",
         "showlegend": true,
         "text": {
          "bdata": "AAAAAAAAAEA=",
          "dtype": "f8"
         },
         "textposition": "outside",
         "texttemplate": "%{text}",
         "type": "bar",
         "x": [
          "Animation"
         ],
         "xaxis": "x",
         "y": {
          "bdata": "Ag==",
          "dtype": "i1"
         },
         "yaxis": "y"
        },
        {
         "hovertemplate": "Genre=%{x}<br>Number of Movies=%{text}<extra></extra>",
         "legendgroup": "Short,Sci-Fi",
         "marker": {
          "color": "#FF97FF",
          "line": {
           "color": "black",
           "width": 1
          },
          "pattern": {
           "shape": ""
          }
         },
         "name": "Short,Sci-Fi",
         "orientation": "v",
         "showlegend": true,
         "text": {
          "bdata": "AAAAAAAAAEA=",
          "dtype": "f8"
         },
         "textposition": "outside",
         "texttemplate": "%{text}",
         "type": "bar",
         "x": [
          "Short,Sci-Fi"
         ],
         "xaxis": "x",
         "y": {
          "bdata": "Ag==",
          "dtype": "i1"
         },
         "yaxis": "y"
        },
        {
         "hovertemplate": "Genre=%{x}<br>Number of Movies=%{text}<extra></extra>",
         "legendgroup": "Documentary,Sport",
         "marker": {
          "color": "#FECB52",
          "line": {
           "color": "black",
           "width": 1
          },
          "pattern": {
           "shape": ""
          }
         },
         "name": "Documentary,Sport",
         "orientation": "v",
         "showlegend": true,
         "text": {
          "bdata": "AAAAAAAAAEA=",
          "dtype": "f8"
         },
         "textposition": "outside",
         "texttemplate": "%{text}",
         "type": "bar",
         "x": [
          "Documentary,Sport"
         ],
         "xaxis": "x",
         "y": {
          "bdata": "Ag==",
          "dtype": "i1"
         },
         "yaxis": "y"
        },
        {
         "hovertemplate": "Genre=%{x}<br>Number of Movies=%{text}<extra></extra>",
         "legendgroup": "Animation,Sci-Fi",
         "marker": {
          "color": "#636efa",
          "line": {
           "color": "black",
           "width": 1
          },
          "pattern": {
           "shape": ""
          }
         },
         "name": "Animation,Sci-Fi",
         "orientation": "v",
         "showlegend": true,
         "text": {
          "bdata": "AAAAAAAAAEA=",
          "dtype": "f8"
         },
         "textposition": "outside",
         "texttemplate": "%{text}",
         "type": "bar",
         "x": [
          "Animation,Sci-Fi"
         ],
         "xaxis": "x",
         "y": {
          "bdata": "Ag==",
          "dtype": "i1"
         },
         "yaxis": "y"
        },
        {
         "hovertemplate": "Genre=%{x}<br>Number of Movies=%{text}<extra></extra>",
         "legendgroup": "Documentary,History",
         "marker": {
          "color": "#EF553B",
          "line": {
           "color": "black",
           "width": 1
          },
          "pattern": {
           "shape": ""
          }
         },
         "name": "Documentary,History",
         "orientation": "v",
         "showlegend": true,
         "text": {
          "bdata": "AAAAAAAAAEA=",
          "dtype": "f8"
         },
         "textposition": "outside",
         "texttemplate": "%{text}",
         "type": "bar",
         "x": [
          "Documentary,History"
         ],
         "xaxis": "x",
         "y": {
          "bdata": "Ag==",
          "dtype": "i1"
         },
         "yaxis": "y"
        },
        {
         "hovertemplate": "Genre=%{x}<br>Number of Movies=%{text}<extra></extra>",
         "legendgroup": "Action,Comedy,Adventure",
         "marker": {
          "color": "#00cc96",
          "line": {
           "color": "black",
           "width": 1
          },
          "pattern": {
           "shape": ""
          }
         },
         "name": "Action,Comedy,Adventure",
         "orientation": "v",
         "showlegend": true,
         "text": {
          "bdata": "AAAAAAAAAEA=",
          "dtype": "f8"
         },
         "textposition": "outside",
         "texttemplate": "%{text}",
         "type": "bar",
         "x": [
          "Action,Comedy,Adventure"
         ],
         "xaxis": "x",
         "y": {
          "bdata": "Ag==",
          "dtype": "i1"
         },
         "yaxis": "y"
        },
        {
         "hovertemplate": "Genre=%{x}<br>Number of Movies=%{text}<extra></extra>",
         "legendgroup": "Music",
         "marker": {
          "color": "#ab63fa",
          "line": {
           "color": "black",
           "width": 1
          },
          "pattern": {
           "shape": ""
          }
         },
         "name": "Music",
         "orientation": "v",
         "showlegend": true,
         "text": {
          "bdata": "AAAAAAAA8D8=",
          "dtype": "f8"
         },
         "textposition": "outside",
         "texttemplate": "%{text}",
         "type": "bar",
         "x": [
          "Music"
         ],
         "xaxis": "x",
         "y": {
          "bdata": "AQ==",
          "dtype": "i1"
         },
         "yaxis": "y"
        },
        {
         "hovertemplate": "Genre=%{x}<br>Number of Movies=%{text}<extra></extra>",
         "legendgroup": "Action,Comedy,Sci-Fi",
         "marker": {
          "color": "#FFA15A",
          "line": {
           "color": "black",
           "width": 1
          },
          "pattern": {
           "shape": ""
          }
         },
         "name": "Action,Comedy,Sci-Fi",
         "orientation": "v",
         "showlegend": true,
         "text": {
          "bdata": "AAAAAAAA8D8=",
          "dtype": "f8"
         },
         "textposition": "outside",
         "texttemplate": "%{text}",
         "type": "bar",
         "x": [
          "Action,Comedy,Sci-Fi"
         ],
         "xaxis": "x",
         "y": {
          "bdata": "AQ==",
          "dtype": "i1"
         },
         "yaxis": "y"
        },
        {
         "hovertemplate": "Genre=%{x}<br>Number of Movies=%{text}<extra></extra>",
         "legendgroup": "Short,Comedy,Fantasy",
         "marker": {
          "color": "#19d3f3",
          "line": {
           "color": "black",
           "width": 1
          },
          "pattern": {
           "shape": ""
          }
         },
         "name": "Short,Comedy,Fantasy",
         "orientation": "v",
         "showlegend": true,
         "text": {
          "bdata": "AAAAAAAA8D8=",
          "dtype": "f8"
         },
         "textposition": "outside",
         "texttemplate": "%{text}",
         "type": "bar",
         "x": [
          "Short,Comedy,Fantasy"
         ],
         "xaxis": "x",
         "y": {
          "bdata": "AQ==",
          "dtype": "i1"
         },
         "yaxis": "y"
        },
        {
         "hovertemplate": "Genre=%{x}<br>Number of Movies=%{text}<extra></extra>",
         "legendgroup": "Short,Comedy,Music",
         "marker": {
          "color": "#FF6692",
          "line": {
           "color": "black",
           "width": 1
          },
          "pattern": {
           "shape": ""
          }
         },
         "name": "Short,Comedy,Music",
         "orientation": "v",
         "showlegend": true,
         "text": {
          "bdata": "AAAAAAAA8D8=",
          "dtype": "f8"
         },
         "textposition": "outside",
         "texttemplate": "%{text}",
         "type": "bar",
         "x": [
          "Short,Comedy,Music"
         ],
         "xaxis": "x",
         "y": {
          "bdata": "AQ==",
          "dtype": "i1"
         },
         "yaxis": "y"
        },
        {
         "hovertemplate": "Genre=%{x}<br>Number of Movies=%{text}<extra></extra>",
         "legendgroup": "Drama,Horror,Mystery",
         "marker": {
          "color": "#B6E880",
          "line": {
           "color": "black",
           "width": 1
          },
          "pattern": {
           "shape": ""
          }
         },
         "name": "Drama,Horror,Mystery",
         "orientation": "v",
         "showlegend": true,
         "text": {
          "bdata": "AAAAAAAA8D8=",
          "dtype": "f8"
         },
         "textposition": "outside",
         "texttemplate": "%{text}",
         "type": "bar",
         "x": [
          "Drama,Horror,Mystery"
         ],
         "xaxis": "x",
         "y": {
          "bdata": "AQ==",
          "dtype": "i1"
         },
         "yaxis": "y"
        },
        {
         "hovertemplate": "Genre=%{x}<br>Number of Movies=%{text}<extra></extra>",
         "legendgroup": "Comedy,Romance",
         "marker": {
          "color": "#FF97FF",
          "line": {
           "color": "black",
           "width": 1
          },
          "pattern": {
           "shape": ""
          }
         },
         "name": "Comedy,Romance",
         "orientation": "v",
         "showlegend": true,
         "text": {
          "bdata": "AAAAAAAA8D8=",
          "dtype": "f8"
         },
         "textposition": "outside",
         "texttemplate": "%{text}",
         "type": "bar",
         "x": [
          "Comedy,Romance"
         ],
         "xaxis": "x",
         "y": {
          "bdata": "AQ==",
          "dtype": "i1"
         },
         "yaxis": "y"
        },
        {
         "hovertemplate": "Genre=%{x}<br>Number of Movies=%{text}<extra></extra>",
         "legendgroup": "Animation,Adventure,Comedy",
         "marker": {
          "color": "#FECB52",
          "line": {
           "color": "black",
           "width": 1
          },
          "pattern": {
           "shape": ""
          }
         },
         "name": "Animation,Adventure,Comedy",
         "orientation": "v",
         "showlegend": true,
         "text": {
          "bdata": "AAAAAAAA8D8=",
          "dtype": "f8"
         },
         "textposition": "outside",
         "texttemplate": "%{text}",
         "type": "bar",
         "x": [
          "Animation,Adventure,Comedy"
         ],
         "xaxis": "x",
         "y": {
          "bdata": "AQ==",
          "dtype": "i1"
         },
         "yaxis": "y"
        },
        {
         "hovertemplate": "Genre=%{x}<br>Number of Movies=%{text}<extra></extra>",
         "legendgroup": "Short,Action,Sci-Fi",
         "marker": {
          "color": "#636efa",
          "line": {
           "color": "black",
           "width": 1
          },
          "pattern": {
           "shape": ""
          }
         },
         "name": "Short,Action,Sci-Fi",
         "orientation": "v",
         "showlegend": true,
         "text": {
          "bdata": "AAAAAAAA8D8=",
          "dtype": "f8"
         },
         "textposition": "outside",
         "texttemplate": "%{text}",
         "type": "bar",
         "x": [
          "Short,Action,Sci-Fi"
         ],
         "xaxis": "x",
         "y": {
          "bdata": "AQ==",
          "dtype": "i1"
         },
         "yaxis": "y"
        },
        {
         "hovertemplate": "Genre=%{x}<br>Number of Movies=%{text}<extra></extra>",
         "legendgroup": "Comedy,Family",
         "marker": {
          "color": "#EF553B",
          "line": {
           "color": "black",
           "width": 1
          },
          "pattern": {
           "shape": ""
          }
         },
         "name": "Comedy,Family",
         "orientation": "v",
         "showlegend": true,
         "text": {
          "bdata": "AAAAAAAA8D8=",
          "dtype": "f8"
         },
         "textposition": "outside",
         "texttemplate": "%{text}",
         "type": "bar",
         "x": [
          "Comedy,Family"
         ],
         "xaxis": "x",
         "y": {
          "bdata": "AQ==",
          "dtype": "i1"
         },
         "yaxis": "y"
        },
        {
         "hovertemplate": "Genre=%{x}<br>Number of Movies=%{text}<extra></extra>",
         "legendgroup": "Drama,Fantasy,Horror",
         "marker": {
          "color": "#00cc96",
          "line": {
           "color": "black",
           "width": 1
          },
          "pattern": {
           "shape": ""
          }
         },
         "name": "Drama,Fantasy,Horror",
         "orientation": "v",
         "showlegend": true,
         "text": {
          "bdata": "AAAAAAAA8D8=",
          "dtype": "f8"
         },
         "textposition": "outside",
         "texttemplate": "%{text}",
         "type": "bar",
         "x": [
          "Drama,Fantasy,Horror"
         ],
         "xaxis": "x",
         "y": {
          "bdata": "AQ==",
          "dtype": "i1"
         },
         "yaxis": "y"
        },
        {
         "hovertemplate": "Genre=%{x}<br>Number of Movies=%{text}<extra></extra>",
         "legendgroup": "Biography,Family,News",
         "marker": {
          "color": "#ab63fa",
          "line": {
           "color": "black",
           "width": 1
          },
          "pattern": {
           "shape": ""
          }
         },
         "name": "Biography,Family,News",
         "orientation": "v",
         "showlegend": true,
         "text": {
          "bdata": "AAAAAAAA8D8=",
          "dtype": "f8"
         },
         "textposition": "outside",
         "texttemplate": "%{text}",
         "type": "bar",
         "x": [
          "Biography,Family,News"
         ],
         "xaxis": "x",
         "y": {
          "bdata": "AQ==",
          "dtype": "i1"
         },
         "yaxis": "y"
        },
        {
         "hovertemplate": "Genre=%{x}<br>Number of Movies=%{text}<extra></extra>",
         "legendgroup": "Comedy,News",
         "marker": {
          "color": "#FFA15A",
          "line": {
           "color": "black",
           "width": 1
          },
          "pattern": {
           "shape": ""
          }
         },
         "name": "Comedy,News",
         "orientation": "v",
         "showlegend": true,
         "text": {
          "bdata": "AAAAAAAA8D8=",
          "dtype": "f8"
         },
         "textposition": "outside",
         "texttemplate": "%{text}",
         "type": "bar",
         "x": [
          "Comedy,News"
         ],
         "xaxis": "x",
         "y": {
          "bdata": "AQ==",
          "dtype": "i1"
         },
         "yaxis": "y"
        },
        {
         "hovertemplate": "Genre=%{x}<br>Number of Movies=%{text}<extra></extra>",
         "legendgroup": "Biography,Crime,Drama",
         "marker": {
          "color": "#19d3f3",
          "line": {
           "color": "black",
           "width": 1
          },
          "pattern": {
           "shape": ""
          }
         },
         "name": "Biography,Crime,Drama",
         "orientation": "v",
         "showlegend": true,
         "text": {
          "bdata": "AAAAAAAA8D8=",
          "dtype": "f8"
         },
         "textposition": "outside",
         "texttemplate": "%{text}",
         "type": "bar",
         "x": [
          "Biography,Crime,Drama"
         ],
         "xaxis": "x",
         "y": {
          "bdata": "AQ==",
          "dtype": "i1"
         },
         "yaxis": "y"
        },
        {
         "hovertemplate": "Genre=%{x}<br>Number of Movies=%{text}<extra></extra>",
         "legendgroup": "Crime,Drama,Thriller",
         "marker": {
          "color": "#FF6692",
          "line": {
           "color": "black",
           "width": 1
          },
          "pattern": {
           "shape": ""
          }
         },
         "name": "Crime,Drama,Thriller",
         "orientation": "v",
         "showlegend": true,
         "text": {
          "bdata": "AAAAAAAA8D8=",
          "dtype": "f8"
         },
         "textposition": "outside",
         "texttemplate": "%{text}",
         "type": "bar",
         "x": [
          "Crime,Drama,Thriller"
         ],
         "xaxis": "x",
         "y": {
          "bdata": "AQ==",
          "dtype": "i1"
         },
         "yaxis": "y"
        },
        {
         "hovertemplate": "Genre=%{x}<br>Number of Movies=%{text}<extra></extra>",
         "legendgroup": "Action,Fantasy,Horror",
         "marker": {
          "color": "#B6E880",
          "line": {
           "color": "black",
           "width": 1
          },
          "pattern": {
           "shape": ""
          }
         },
         "name": "Action,Fantasy,Horror",
         "orientation": "v",
         "showlegend": true,
         "text": {
          "bdata": "AAAAAAAA8D8=",
          "dtype": "f8"
         },
         "textposition": "outside",
         "texttemplate": "%{text}",
         "type": "bar",
         "x": [
          "Action,Fantasy,Horror"
         ],
         "xaxis": "x",
         "y": {
          "bdata": "AQ==",
          "dtype": "i1"
         },
         "yaxis": "y"
        },
        {
         "hovertemplate": "Genre=%{x}<br>Number of Movies=%{text}<extra></extra>",
         "legendgroup": "Action,Comedy,Crime",
         "marker": {
          "color": "#FF97FF",
          "line": {
           "color": "black",
           "width": 1
          },
          "pattern": {
           "shape": ""
          }
         },
         "name": "Action,Comedy,Crime",
         "orientation": "v",
         "showlegend": true,
         "text": {
          "bdata": "AAAAAAAA8D8=",
          "dtype": "f8"
         },
         "textposition": "outside",
         "texttemplate": "%{text}",
         "type": "bar",
         "x": [
          "Action,Comedy,Crime"
         ],
         "xaxis": "x",
         "y": {
          "bdata": "AQ==",
          "dtype": "i1"
         },
         "yaxis": "y"
        },
        {
         "hovertemplate": "Genre=%{x}<br>Number of Movies=%{text}<extra></extra>",
         "legendgroup": "Drama",
         "marker": {
          "color": "#FECB52",
          "line": {
           "color": "black",
           "width": 1
          },
          "pattern": {
           "shape": ""
          }
         },
         "name": "Drama",
         "orientation": "v",
         "showlegend": true,
         "text": {
          "bdata": "AAAAAAAA8D8=",
          "dtype": "f8"
         },
         "textposition": "outside",
         "texttemplate": "%{text}",
         "type": "bar",
         "x": [
          "Drama"
         ],
         "xaxis": "x",
         "y": {
          "bdata": "AQ==",
          "dtype": "i1"
         },
         "yaxis": "y"
        },
        {
         "hovertemplate": "Genre=%{x}<br>Number of Movies=%{text}<extra></extra>",
         "legendgroup": "Horror,Sci-Fi",
         "marker": {
          "color": "#636efa",
          "line": {
           "color": "black",
           "width": 1
          },
          "pattern": {
           "shape": ""
          }
         },
         "name": "Horror,Sci-Fi",
         "orientation": "v",
         "showlegend": true,
         "text": {
          "bdata": "AAAAAAAA8D8=",
          "dtype": "f8"
         },
         "textposition": "outside",
         "texttemplate": "%{text}",
         "type": "bar",
         "x": [
          "Horror,Sci-Fi"
         ],
         "xaxis": "x",
         "y": {
          "bdata": "AQ==",
          "dtype": "i1"
         },
         "yaxis": "y"
        },
        {
         "hovertemplate": "Genre=%{x}<br>Number of Movies=%{text}<extra></extra>",
         "legendgroup": "Comedy,Family,Fantasy",
         "marker": {
          "color": "#EF553B",
          "line": {
           "color": "black",
           "width": 1
          },
          "pattern": {
           "shape": ""
          }
         },
         "name": "Comedy,Family,Fantasy",
         "orientation": "v",
         "showlegend": true,
         "text": {
          "bdata": "AAAAAAAA8D8=",
          "dtype": "f8"
         },
         "textposition": "outside",
         "texttemplate": "%{text}",
         "type": "bar",
         "x": [
          "Comedy,Family,Fantasy"
         ],
         "xaxis": "x",
         "y": {
          "bdata": "AQ==",
          "dtype": "i1"
         },
         "yaxis": "y"
        },
        {
         "hovertemplate": "Genre=%{x}<br>Number of Movies=%{text}<extra></extra>",
         "legendgroup": "Comedy,Horror",
         "marker": {
          "color": "#00cc96",
          "line": {
           "color": "black",
           "width": 1
          },
          "pattern": {
           "shape": ""
          }
         },
         "name": "Comedy,Horror",
         "orientation": "v",
         "showlegend": true,
         "text": {
          "bdata": "AAAAAAAA8D8=",
          "dtype": "f8"
         },
         "textposition": "outside",
         "texttemplate": "%{text}",
         "type": "bar",
         "x": [
          "Comedy,Horror"
         ],
         "xaxis": "x",
         "y": {
          "bdata": "AQ==",
          "dtype": "i1"
         },
         "yaxis": "y"
        },
        {
         "hovertemplate": "Genre=%{x}<br>Number of Movies=%{text}<extra></extra>",
         "legendgroup": "Action,Drama,Family",
         "marker": {
          "color": "#ab63fa",
          "line": {
           "color": "black",
           "width": 1
          },
          "pattern": {
           "shape": ""
          }
         },
         "name": "Action,Drama,Family",
         "orientation": "v",
         "showlegend": true,
         "text": {
          "bdata": "AAAAAAAA8D8=",
          "dtype": "f8"
         },
         "textposition": "outside",
         "texttemplate": "%{text}",
         "type": "bar",
         "x": [
          "Action,Drama,Family"
         ],
         "xaxis": "x",
         "y": {
          "bdata": "AQ==",
          "dtype": "i1"
         },
         "yaxis": "y"
        },
        {
         "hovertemplate": "Genre=%{x}<br>Number of Movies=%{text}<extra></extra>",
         "legendgroup": "Comedy",
         "marker": {
          "color": "#FFA15A",
          "line": {
           "color": "black",
           "width": 1
          },
          "pattern": {
           "shape": ""
          }
         },
         "name": "Comedy",
         "orientation": "v",
         "showlegend": true,
         "text": {
          "bdata": "AAAAAAAA8D8=",
          "dtype": "f8"
         },
         "textposition": "outside",
         "texttemplate": "%{text}",
         "type": "bar",
         "x": [
          "Comedy"
         ],
         "xaxis": "x",
         "y": {
          "bdata": "AQ==",
          "dtype": "i1"
         },
         "yaxis": "y"
        },
        {
         "hovertemplate": "Genre=%{x}<br>Number of Movies=%{text}<extra></extra>",
         "legendgroup": "Animation,Sci-Fi,Action",
         "marker": {
          "color": "#19d3f3",
          "line": {
           "color": "black",
           "width": 1
          },
          "pattern": {
           "shape": ""
          }
         },
         "name": "Animation,Sci-Fi,Action",
         "orientation": "v",
         "showlegend": true,
         "text": {
          "bdata": "AAAAAAAA8D8=",
          "dtype": "f8"
         },
         "textposition": "outside",
         "texttemplate": "%{text}",
         "type": "bar",
         "x": [
          "Animation,Sci-Fi,Action"
         ],
         "xaxis": "x",
         "y": {
          "bdata": "AQ==",
          "dtype": "i1"
         },
         "yaxis": "y"
        },
        {
         "hovertemplate": "Genre=%{x}<br>Number of Movies=%{text}<extra></extra>",
         "legendgroup": "Animation,Adventure,Family",
         "marker": {
          "color": "#FF6692",
          "line": {
           "color": "black",
           "width": 1
          },
          "pattern": {
           "shape": ""
          }
         },
         "name": "Animation,Adventure,Family",
         "orientation": "v",
         "showlegend": true,
         "text": {
          "bdata": "AAAAAAAA8D8=",
          "dtype": "f8"
         },
         "textposition": "outside",
         "texttemplate": "%{text}",
         "type": "bar",
         "x": [
          "Animation,Adventure,Family"
         ],
         "xaxis": "x",
         "y": {
          "bdata": "AQ==",
          "dtype": "i1"
         },
         "yaxis": "y"
        },
        {
         "hovertemplate": "Genre=%{x}<br>Number of Movies=%{text}<extra></extra>",
         "legendgroup": "Short,Adventure,Drama",
         "marker": {
          "color": "#B6E880",
          "line": {
           "color": "black",
           "width": 1
          },
          "pattern": {
           "shape": ""
          }
         },
         "name": "Short,Adventure,Drama",
         "orientation": "v",
         "showlegend": true,
         "text": {
          "bdata": "AAAAAAAA8D8=",
          "dtype": "f8"
         },
         "textposition": "outside",
         "texttemplate": "%{text}",
         "type": "bar",
         "x": [
          "Short,Adventure,Drama"
         ],
         "xaxis": "x",
         "y": {
          "bdata": "AQ==",
          "dtype": "i1"
         },
         "yaxis": "y"
        },
        {
         "hovertemplate": "Genre=%{x}<br>Number of Movies=%{text}<extra></extra>",
         "legendgroup": "Action,Animation",
         "marker": {
          "color": "#FF97FF",
          "line": {
           "color": "black",
           "width": 1
          },
          "pattern": {
           "shape": ""
          }
         },
         "name": "Action,Animation",
         "orientation": "v",
         "showlegend": true,
         "text": {
          "bdata": "AAAAAAAA8D8=",
          "dtype": "f8"
         },
         "textposition": "outside",
         "texttemplate": "%{text}",
         "type": "bar",
         "x": [
          "Action,Animation"
         ],
         "xaxis": "x",
         "y": {
          "bdata": "AQ==",
          "dtype": "i1"
         },
         "yaxis": "y"
        },
        {
         "hovertemplate": "Genre=%{x}<br>Number of Movies=%{text}<extra></extra>",
         "legendgroup": "Action,Crime,Sci-Fi",
         "marker": {
          "color": "#FECB52",
          "line": {
           "color": "black",
           "width": 1
          },
          "pattern": {
           "shape": ""
          }
         },
         "name": "Action,Crime,Sci-Fi",
         "orientation": "v",
         "showlegend": true,
         "text": {
          "bdata": "AAAAAAAA8D8=",
          "dtype": "f8"
         },
         "textposition": "outside",
         "texttemplate": "%{text}",
         "type": "bar",
         "x": [
          "Action,Crime,Sci-Fi"
         ],
         "xaxis": "x",
         "y": {
          "bdata": "AQ==",
          "dtype": "i1"
         },
         "yaxis": "y"
        },
        {
         "hovertemplate": "Genre=%{x}<br>Number of Movies=%{text}<extra></extra>",
         "legendgroup": "Adventure,Animation,Fantasy",
         "marker": {
          "color": "#636efa",
          "line": {
           "color": "black",
           "width": 1
          },
          "pattern": {
           "shape": ""
          }
         },
         "name": "Adventure,Animation,Fantasy",
         "orientation": "v",
         "showlegend": true,
         "text": {
          "bdata": "AAAAAAAA8D8=",
          "dtype": "f8"
         },
         "textposition": "outside",
         "texttemplate": "%{text}",
         "type": "bar",
         "x": [
          "Adventure,Animation,Fantasy"
         ],
         "xaxis": "x",
         "y": {
          "bdata": "AQ==",
          "dtype": "i1"
         },
         "yaxis": "y"
        },
        {
         "hovertemplate": "Genre=%{x}<br>Number of Movies=%{text}<extra></extra>",
         "legendgroup": "Action,Crime,Thriller",
         "marker": {
          "color": "#EF553B",
          "line": {
           "color": "black",
           "width": 1
          },
          "pattern": {
           "shape": ""
          }
         },
         "name": "Action,Crime,Thriller",
         "orientation": "v",
         "showlegend": true,
         "text": {
          "bdata": "AAAAAAAA8D8=",
          "dtype": "f8"
         },
         "textposition": "outside",
         "texttemplate": "%{text}",
         "type": "bar",
         "x": [
          "Action,Crime,Thriller"
         ],
         "xaxis": "x",
         "y": {
          "bdata": "AQ==",
          "dtype": "i1"
         },
         "yaxis": "y"
        },
        {
         "hovertemplate": "Genre=%{x}<br>Number of Movies=%{text}<extra></extra>",
         "legendgroup": "Animation,Action,Family",
         "marker": {
          "color": "#00cc96",
          "line": {
           "color": "black",
           "width": 1
          },
          "pattern": {
           "shape": ""
          }
         },
         "name": "Animation,Action,Family",
         "orientation": "v",
         "showlegend": true,
         "text": {
          "bdata": "AAAAAAAA8D8=",
          "dtype": "f8"
         },
         "textposition": "outside",
         "texttemplate": "%{text}",
         "type": "bar",
         "x": [
          "Animation,Action,Family"
         ],
         "xaxis": "x",
         "y": {
          "bdata": "AQ==",
          "dtype": "i1"
         },
         "yaxis": "y"
        },
        {
         "hovertemplate": "Genre=%{x}<br>Number of Movies=%{text}<extra></extra>",
         "legendgroup": "Animation,Action,Fantasy",
         "marker": {
          "color": "#ab63fa",
          "line": {
           "color": "black",
           "width": 1
          },
          "pattern": {
           "shape": ""
          }
         },
         "name": "Animation,Action,Fantasy",
         "orientation": "v",
         "showlegend": true,
         "text": {
          "bdata": "AAAAAAAA8D8=",
          "dtype": "f8"
         },
         "textposition": "outside",
         "texttemplate": "%{text}",
         "type": "bar",
         "x": [
          "Animation,Action,Fantasy"
         ],
         "xaxis": "x",
         "y": {
          "bdata": "AQ==",
          "dtype": "i1"
         },
         "yaxis": "y"
        },
        {
         "hovertemplate": "Genre=%{x}<br>Number of Movies=%{text}<extra></extra>",
         "legendgroup": "Action,Drama,Thriller",
         "marker": {
          "color": "#FFA15A",
          "line": {
           "color": "black",
           "width": 1
          },
          "pattern": {
           "shape": ""
          }
         },
         "name": "Action,Drama,Thriller",
         "orientation": "v",
         "showlegend": true,
         "text": {
          "bdata": "AAAAAAAA8D8=",
          "dtype": "f8"
         },
         "textposition": "outside",
         "texttemplate": "%{text}",
         "type": "bar",
         "x": [
          "Action,Drama,Thriller"
         ],
         "xaxis": "x",
         "y": {
          "bdata": "AQ==",
          "dtype": "i1"
         },
         "yaxis": "y"
        },
        {
         "hovertemplate": "Genre=%{x}<br>Number of Movies=%{text}<extra></extra>",
         "legendgroup": "Comedy,Documentary",
         "marker": {
          "color": "#19d3f3",
          "line": {
           "color": "black",
           "width": 1
          },
          "pattern": {
           "shape": ""
          }
         },
         "name": "Comedy,Documentary",
         "orientation": "v",
         "showlegend": true,
         "text": {
          "bdata": "AAAAAAAA8D8=",
          "dtype": "f8"
         },
         "textposition": "outside",
         "texttemplate": "%{text}",
         "type": "bar",
         "x": [
          "Comedy,Documentary"
         ],
         "xaxis": "x",
         "y": {
          "bdata": "AQ==",
          "dtype": "i1"
         },
         "yaxis": "y"
        },
        {
         "hovertemplate": "Genre=%{x}<br>Number of Movies=%{text}<extra></extra>",
         "legendgroup": "Action,Comedy,Fantasy",
         "marker": {
          "color": "#FF6692",
          "line": {
           "color": "black",
           "width": 1
          },
          "pattern": {
           "shape": ""
          }
         },
         "name": "Action,Comedy,Fantasy",
         "orientation": "v",
         "showlegend": true,
         "text": {
          "bdata": "AAAAAAAA8D8=",
          "dtype": "f8"
         },
         "textposition": "outside",
         "texttemplate": "%{text}",
         "type": "bar",
         "x": [
          "Action,Comedy,Fantasy"
         ],
         "xaxis": "x",
         "y": {
          "bdata": "AQ==",
          "dtype": "i1"
         },
         "yaxis": "y"
        },
        {
         "hovertemplate": "Genre=%{x}<br>Number of Movies=%{text}<extra></extra>",
         "legendgroup": "Adventure,Animation",
         "marker": {
          "color": "#B6E880",
          "line": {
           "color": "black",
           "width": 1
          },
          "pattern": {
           "shape": ""
          }
         },
         "name": "Adventure,Animation",
         "orientation": "v",
         "showlegend": true,
         "text": {
          "bdata": "AAAAAAAA8D8=",
          "dtype": "f8"
         },
         "textposition": "outside",
         "texttemplate": "%{text}",
         "type": "bar",
         "x": [
          "Adventure,Animation"
         ],
         "xaxis": "x",
         "y": {
          "bdata": "AQ==",
          "dtype": "i1"
         },
         "yaxis": "y"
        },
        {
         "hovertemplate": "Genre=%{x}<br>Number of Movies=%{text}<extra></extra>",
         "legendgroup": "Action,Fantasy,Talk-Show",
         "marker": {
          "color": "#FF97FF",
          "line": {
           "color": "black",
           "width": 1
          },
          "pattern": {
           "shape": ""
          }
         },
         "name": "Action,Fantasy,Talk-Show",
         "orientation": "v",
         "showlegend": true,
         "text": {
          "bdata": "AAAAAAAA8D8=",
          "dtype": "f8"
         },
         "textposition": "outside",
         "texttemplate": "%{text}",
         "type": "bar",
         "x": [
          "Action,Fantasy,Talk-Show"
         ],
         "xaxis": "x",
         "y": {
          "bdata": "AQ==",
          "dtype": "i1"
         },
         "yaxis": "y"
        },
        {
         "hovertemplate": "Genre=%{x}<br>Number of Movies=%{text}<extra></extra>",
         "legendgroup": "Documentary,Biography",
         "marker": {
          "color": "#FECB52",
          "line": {
           "color": "black",
           "width": 1
          },
          "pattern": {
           "shape": ""
          }
         },
         "name": "Documentary,Biography",
         "orientation": "v",
         "showlegend": true,
         "text": {
          "bdata": "AAAAAAAA8D8=",
          "dtype": "f8"
         },
         "textposition": "outside",
         "texttemplate": "%{text}",
         "type": "bar",
         "x": [
          "Documentary,Biography"
         ],
         "xaxis": "x",
         "y": {
          "bdata": "AQ==",
          "dtype": "i1"
         },
         "yaxis": "y"
        },
        {
         "hovertemplate": "Genre=%{x}<br>Number of Movies=%{text}<extra></extra>",
         "legendgroup": "Animation,Fantasy,Sci-Fi",
         "marker": {
          "color": "#636efa",
          "line": {
           "color": "black",
           "width": 1
          },
          "pattern": {
           "shape": ""
          }
         },
         "name": "Animation,Fantasy,Sci-Fi",
         "orientation": "v",
         "showlegend": true,
         "text": {
          "bdata": "AAAAAAAA8D8=",
          "dtype": "f8"
         },
         "textposition": "outside",
         "texttemplate": "%{text}",
         "type": "bar",
         "x": [
          "Animation,Fantasy,Sci-Fi"
         ],
         "xaxis": "x",
         "y": {
          "bdata": "AQ==",
          "dtype": "i1"
         },
         "yaxis": "y"
        },
        {
         "hovertemplate": "Genre=%{x}<br>Number of Movies=%{text}<extra></extra>",
         "legendgroup": "Action,Fantasy",
         "marker": {
          "color": "#EF553B",
          "line": {
           "color": "black",
           "width": 1
          },
          "pattern": {
           "shape": ""
          }
         },
         "name": "Action,Fantasy",
         "orientation": "v",
         "showlegend": true,
         "text": {
          "bdata": "AAAAAAAA8D8=",
          "dtype": "f8"
         },
         "textposition": "outside",
         "texttemplate": "%{text}",
         "type": "bar",
         "x": [
          "Action,Fantasy"
         ],
         "xaxis": "x",
         "y": {
          "bdata": "AQ==",
          "dtype": "i1"
         },
         "yaxis": "y"
        },
        {
         "hovertemplate": "Genre=%{x}<br>Number of Movies=%{text}<extra></extra>",
         "legendgroup": "Adventure,Family,Fantasy",
         "marker": {
          "color": "#00cc96",
          "line": {
           "color": "black",
           "width": 1
          },
          "pattern": {
           "shape": ""
          }
         },
         "name": "Adventure,Family,Fantasy",
         "orientation": "v",
         "showlegend": true,
         "text": {
          "bdata": "AAAAAAAA8D8=",
          "dtype": "f8"
         },
         "textposition": "outside",
         "texttemplate": "%{text}",
         "type": "bar",
         "x": [
          "Adventure,Family,Fantasy"
         ],
         "xaxis": "x",
         "y": {
          "bdata": "AQ==",
          "dtype": "i1"
         },
         "yaxis": "y"
        },
        {
         "hovertemplate": "Genre=%{x}<br>Number of Movies=%{text}<extra></extra>",
         "legendgroup": "Comedy,Family,Music",
         "marker": {
          "color": "#ab63fa",
          "line": {
           "color": "black",
           "width": 1
          },
          "pattern": {
           "shape": ""
          }
         },
         "name": "Comedy,Family,Music",
         "orientation": "v",
         "showlegend": true,
         "text": {
          "bdata": "AAAAAAAA8D8=",
          "dtype": "f8"
         },
         "textposition": "outside",
         "texttemplate": "%{text}",
         "type": "bar",
         "x": [
          "Comedy,Family,Music"
         ],
         "xaxis": "x",
         "y": {
          "bdata": "AQ==",
          "dtype": "i1"
         },
         "yaxis": "y"
        },
        {
         "hovertemplate": "Genre=%{x}<br>Number of Movies=%{text}<extra></extra>",
         "legendgroup": "Documentary,Short,Music",
         "marker": {
          "color": "#FFA15A",
          "line": {
           "color": "black",
           "width": 1
          },
          "pattern": {
           "shape": ""
          }
         },
         "name": "Documentary,Short,Music",
         "orientation": "v",
         "showlegend": true,
         "text": {
          "bdata": "AAAAAAAA8D8=",
          "dtype": "f8"
         },
         "textposition": "outside",
         "texttemplate": "%{text}",
         "type": "bar",
         "x": [
          "Documentary,Short,Music"
         ],
         "xaxis": "x",
         "y": {
          "bdata": "AQ==",
          "dtype": "i1"
         },
         "yaxis": "y"
        },
        {
         "hovertemplate": "Genre=%{x}<br>Number of Movies=%{text}<extra></extra>",
         "legendgroup": "Short,Adventure,Sci-Fi",
         "marker": {
          "color": "#19d3f3",
          "line": {
           "color": "black",
           "width": 1
          },
          "pattern": {
           "shape": ""
          }
         },
         "name": "Short,Adventure,Sci-Fi",
         "orientation": "v",
         "showlegend": true,
         "text": {
          "bdata": "AAAAAAAA8D8=",
          "dtype": "f8"
         },
         "textposition": "outside",
         "texttemplate": "%{text}",
         "type": "bar",
         "x": [
          "Short,Adventure,Sci-Fi"
         ],
         "xaxis": "x",
         "y": {
          "bdata": "AQ==",
          "dtype": "i1"
         },
         "yaxis": "y"
        },
        {
         "hovertemplate": "Genre=%{x}<br>Number of Movies=%{text}<extra></extra>",
         "legendgroup": "Short,Action,Comedy",
         "marker": {
          "color": "#FF6692",
          "line": {
           "color": "black",
           "width": 1
          },
          "pattern": {
           "shape": ""
          }
         },
         "name": "Short,Action,Comedy",
         "orientation": "v",
         "showlegend": true,
         "text": {
          "bdata": "AAAAAAAA8D8=",
          "dtype": "f8"
         },
         "textposition": "outside",
         "texttemplate": "%{text}",
         "type": "bar",
         "x": [
          "Short,Action,Comedy"
         ],
         "xaxis": "x",
         "y": {
          "bdata": "AQ==",
          "dtype": "i1"
         },
         "yaxis": "y"
        },
        {
         "hovertemplate": "Genre=%{x}<br>Number of Movies=%{text}<extra></extra>",
         "legendgroup": "Animation,Comedy",
         "marker": {
          "color": "#B6E880",
          "line": {
           "color": "black",
           "width": 1
          },
          "pattern": {
           "shape": ""
          }
         },
         "name": "Animation,Comedy",
         "orientation": "v",
         "showlegend": true,
         "text": {
          "bdata": "AAAAAAAA8D8=",
          "dtype": "f8"
         },
         "textposition": "outside",
         "texttemplate": "%{text}",
         "type": "bar",
         "x": [
          "Animation,Comedy"
         ],
         "xaxis": "x",
         "y": {
          "bdata": "AQ==",
          "dtype": "i1"
         },
         "yaxis": "y"
        },
        {
         "hovertemplate": "Genre=%{x}<br>Number of Movies=%{text}<extra></extra>",
         "legendgroup": "News",
         "marker": {
          "color": "#FF97FF",
          "line": {
           "color": "black",
           "width": 1
          },
          "pattern": {
           "shape": ""
          }
         },
         "name": "News",
         "orientation": "v",
         "showlegend": true,
         "text": {
          "bdata": "AAAAAAAA8D8=",
          "dtype": "f8"
         },
         "textposition": "outside",
         "texttemplate": "%{text}",
         "type": "bar",
         "x": [
          "News"
         ],
         "xaxis": "x",
         "y": {
          "bdata": "AQ==",
          "dtype": "i1"
         },
         "yaxis": "y"
        },
        {
         "hovertemplate": "Genre=%{x}<br>Number of Movies=%{text}<extra></extra>",
         "legendgroup": "Comedy,Talk-Show",
         "marker": {
          "color": "#FECB52",
          "line": {
           "color": "black",
           "width": 1
          },
          "pattern": {
           "shape": ""
          }
         },
         "name": "Comedy,Talk-Show",
         "orientation": "v",
         "showlegend": true,
         "text": {
          "bdata": "AAAAAAAA8D8=",
          "dtype": "f8"
         },
         "textposition": "outside",
         "texttemplate": "%{text}",
         "type": "bar",
         "x": [
          "Comedy,Talk-Show"
         ],
         "xaxis": "x",
         "y": {
          "bdata": "AQ==",
          "dtype": "i1"
         },
         "yaxis": "y"
        }
       ],
       "layout": {
        "barmode": "relative",
        "legend": {
         "title": {
          "text": "Genre"
         },
         "tracegroupgap": 0
        },
        "paper_bgcolor": "white",
        "plot_bgcolor": "white",
        "template": {
         "data": {
          "bar": [
           {
            "error_x": {
             "color": "#2a3f5f"
            },
            "error_y": {
             "color": "#2a3f5f"
            },
            "marker": {
             "line": {
              "color": "#E5ECF6",
              "width": 0.5
             },
             "pattern": {
              "fillmode": "overlay",
              "size": 10,
              "solidity": 0.2
             }
            },
            "type": "bar"
           }
          ],
          "barpolar": [
           {
            "marker": {
             "line": {
              "color": "#E5ECF6",
              "width": 0.5
             },
             "pattern": {
              "fillmode": "overlay",
              "size": 10,
              "solidity": 0.2
             }
            },
            "type": "barpolar"
           }
          ],
          "carpet": [
           {
            "aaxis": {
             "endlinecolor": "#2a3f5f",
             "gridcolor": "white",
             "linecolor": "white",
             "minorgridcolor": "white",
             "startlinecolor": "#2a3f5f"
            },
            "baxis": {
             "endlinecolor": "#2a3f5f",
             "gridcolor": "white",
             "linecolor": "white",
             "minorgridcolor": "white",
             "startlinecolor": "#2a3f5f"
            },
            "type": "carpet"
           }
          ],
          "choropleth": [
           {
            "colorbar": {
             "outlinewidth": 0,
             "ticks": ""
            },
            "type": "choropleth"
           }
          ],
          "contour": [
           {
            "colorbar": {
             "outlinewidth": 0,
             "ticks": ""
            },
            "colorscale": [
             [
              0,
              "#0d0887"
             ],
             [
              0.1111111111111111,
              "#46039f"
             ],
             [
              0.2222222222222222,
              "#7201a8"
             ],
             [
              0.3333333333333333,
              "#9c179e"
             ],
             [
              0.4444444444444444,
              "#bd3786"
             ],
             [
              0.5555555555555556,
              "#d8576b"
             ],
             [
              0.6666666666666666,
              "#ed7953"
             ],
             [
              0.7777777777777778,
              "#fb9f3a"
             ],
             [
              0.8888888888888888,
              "#fdca26"
             ],
             [
              1,
              "#f0f921"
             ]
            ],
            "type": "contour"
           }
          ],
          "contourcarpet": [
           {
            "colorbar": {
             "outlinewidth": 0,
             "ticks": ""
            },
            "type": "contourcarpet"
           }
          ],
          "heatmap": [
           {
            "colorbar": {
             "outlinewidth": 0,
             "ticks": ""
            },
            "colorscale": [
             [
              0,
              "#0d0887"
             ],
             [
              0.1111111111111111,
              "#46039f"
             ],
             [
              0.2222222222222222,
              "#7201a8"
             ],
             [
              0.3333333333333333,
              "#9c179e"
             ],
             [
              0.4444444444444444,
              "#bd3786"
             ],
             [
              0.5555555555555556,
              "#d8576b"
             ],
             [
              0.6666666666666666,
              "#ed7953"
             ],
             [
              0.7777777777777778,
              "#fb9f3a"
             ],
             [
              0.8888888888888888,
              "#fdca26"
             ],
             [
              1,
              "#f0f921"
             ]
            ],
            "type": "heatmap"
           }
          ],
          "histogram": [
           {
            "marker": {
             "pattern": {
              "fillmode": "overlay",
              "size": 10,
              "solidity": 0.2
             }
            },
            "type": "histogram"
           }
          ],
          "histogram2d": [
           {
            "colorbar": {
             "outlinewidth": 0,
             "ticks": ""
            },
            "colorscale": [
             [
              0,
              "#0d0887"
             ],
             [
              0.1111111111111111,
              "#46039f"
             ],
             [
              0.2222222222222222,
              "#7201a8"
             ],
             [
              0.3333333333333333,
              "#9c179e"
             ],
             [
              0.4444444444444444,
              "#bd3786"
             ],
             [
              0.5555555555555556,
              "#d8576b"
             ],
             [
              0.6666666666666666,
              "#ed7953"
             ],
             [
              0.7777777777777778,
              "#fb9f3a"
             ],
             [
              0.8888888888888888,
              "#fdca26"
             ],
             [
              1,
              "#f0f921"
             ]
            ],
            "type": "histogram2d"
           }
          ],
          "histogram2dcontour": [
           {
            "colorbar": {
             "outlinewidth": 0,
             "ticks": ""
            },
            "colorscale": [
             [
              0,
              "#0d0887"
             ],
             [
              0.1111111111111111,
              "#46039f"
             ],
             [
              0.2222222222222222,
              "#7201a8"
             ],
             [
              0.3333333333333333,
              "#9c179e"
             ],
             [
              0.4444444444444444,
              "#bd3786"
             ],
             [
              0.5555555555555556,
              "#d8576b"
             ],
             [
              0.6666666666666666,
              "#ed7953"
             ],
             [
              0.7777777777777778,
              "#fb9f3a"
             ],
             [
              0.8888888888888888,
              "#fdca26"
             ],
             [
              1,
              "#f0f921"
             ]
            ],
            "type": "histogram2dcontour"
           }
          ],
          "mesh3d": [
           {
            "colorbar": {
             "outlinewidth": 0,
             "ticks": ""
            },
            "type": "mesh3d"
           }
          ],
          "parcoords": [
           {
            "line": {
             "colorbar": {
              "outlinewidth": 0,
              "ticks": ""
             }
            },
            "type": "parcoords"
           }
          ],
          "pie": [
           {
            "automargin": true,
            "type": "pie"
           }
          ],
          "scatter": [
           {
            "fillpattern": {
             "fillmode": "overlay",
             "size": 10,
             "solidity": 0.2
            },
            "type": "scatter"
           }
          ],
          "scatter3d": [
           {
            "line": {
             "colorbar": {
              "outlinewidth": 0,
              "ticks": ""
             }
            },
            "marker": {
             "colorbar": {
              "outlinewidth": 0,
              "ticks": ""
             }
            },
            "type": "scatter3d"
           }
          ],
          "scattercarpet": [
           {
            "marker": {
             "colorbar": {
              "outlinewidth": 0,
              "ticks": ""
             }
            },
            "type": "scattercarpet"
           }
          ],
          "scattergeo": [
           {
            "marker": {
             "colorbar": {
              "outlinewidth": 0,
              "ticks": ""
             }
            },
            "type": "scattergeo"
           }
          ],
          "scattergl": [
           {
            "marker": {
             "colorbar": {
              "outlinewidth": 0,
              "ticks": ""
             }
            },
            "type": "scattergl"
           }
          ],
          "scattermap": [
           {
            "marker": {
             "colorbar": {
              "outlinewidth": 0,
              "ticks": ""
             }
            },
            "type": "scattermap"
           }
          ],
          "scattermapbox": [
           {
            "marker": {
             "colorbar": {
              "outlinewidth": 0,
              "ticks": ""
             }
            },
            "type": "scattermapbox"
           }
          ],
          "scatterpolar": [
           {
            "marker": {
             "colorbar": {
              "outlinewidth": 0,
              "ticks": ""
             }
            },
            "type": "scatterpolar"
           }
          ],
          "scatterpolargl": [
           {
            "marker": {
             "colorbar": {
              "outlinewidth": 0,
              "ticks": ""
             }
            },
            "type": "scatterpolargl"
           }
          ],
          "scatterternary": [
           {
            "marker": {
             "colorbar": {
              "outlinewidth": 0,
              "ticks": ""
             }
            },
            "type": "scatterternary"
           }
          ],
          "surface": [
           {
            "colorbar": {
             "outlinewidth": 0,
             "ticks": ""
            },
            "colorscale": [
             [
              0,
              "#0d0887"
             ],
             [
              0.1111111111111111,
              "#46039f"
             ],
             [
              0.2222222222222222,
              "#7201a8"
             ],
             [
              0.3333333333333333,
              "#9c179e"
             ],
             [
              0.4444444444444444,
              "#bd3786"
             ],
             [
              0.5555555555555556,
              "#d8576b"
             ],
             [
              0.6666666666666666,
              "#ed7953"
             ],
             [
              0.7777777777777778,
              "#fb9f3a"
             ],
             [
              0.8888888888888888,
              "#fdca26"
             ],
             [
              1,
              "#f0f921"
             ]
            ],
            "type": "surface"
           }
          ],
          "table": [
           {
            "cells": {
             "fill": {
              "color": "#EBF0F8"
             },
             "line": {
              "color": "white"
             }
            },
            "header": {
             "fill": {
              "color": "#C8D4E3"
             },
             "line": {
              "color": "white"
             }
            },
            "type": "table"
           }
          ]
         },
         "layout": {
          "annotationdefaults": {
           "arrowcolor": "#2a3f5f",
           "arrowhead": 0,
           "arrowwidth": 1
          },
          "autotypenumbers": "strict",
          "coloraxis": {
           "colorbar": {
            "outlinewidth": 0,
            "ticks": ""
           }
          },
          "colorscale": {
           "diverging": [
            [
             0,
             "#8e0152"
            ],
            [
             0.1,
             "#c51b7d"
            ],
            [
             0.2,
             "#de77ae"
            ],
            [
             0.3,
             "#f1b6da"
            ],
            [
             0.4,
             "#fde0ef"
            ],
            [
             0.5,
             "#f7f7f7"
            ],
            [
             0.6,
             "#e6f5d0"
            ],
            [
             0.7,
             "#b8e186"
            ],
            [
             0.8,
             "#7fbc41"
            ],
            [
             0.9,
             "#4d9221"
            ],
            [
             1,
             "#276419"
            ]
           ],
           "sequential": [
            [
             0,
             "#0d0887"
            ],
            [
             0.1111111111111111,
             "#46039f"
            ],
            [
             0.2222222222222222,
             "#7201a8"
            ],
            [
             0.3333333333333333,
             "#9c179e"
            ],
            [
             0.4444444444444444,
             "#bd3786"
            ],
            [
             0.5555555555555556,
             "#d8576b"
            ],
            [
             0.6666666666666666,
             "#ed7953"
            ],
            [
             0.7777777777777778,
             "#fb9f3a"
            ],
            [
             0.8888888888888888,
             "#fdca26"
            ],
            [
             1,
             "#f0f921"
            ]
           ],
           "sequentialminus": [
            [
             0,
             "#0d0887"
            ],
            [
             0.1111111111111111,
             "#46039f"
            ],
            [
             0.2222222222222222,
             "#7201a8"
            ],
            [
             0.3333333333333333,
             "#9c179e"
            ],
            [
             0.4444444444444444,
             "#bd3786"
            ],
            [
             0.5555555555555556,
             "#d8576b"
            ],
            [
             0.6666666666666666,
             "#ed7953"
            ],
            [
             0.7777777777777778,
             "#fb9f3a"
            ],
            [
             0.8888888888888888,
             "#fdca26"
            ],
            [
             1,
             "#f0f921"
            ]
           ]
          },
          "colorway": [
           "#636efa",
           "#EF553B",
           "#00cc96",
           "#ab63fa",
           "#FFA15A",
           "#19d3f3",
           "#FF6692",
           "#B6E880",
           "#FF97FF",
           "#FECB52"
          ],
          "font": {
           "color": "#2a3f5f"
          },
          "geo": {
           "bgcolor": "white",
           "lakecolor": "white",
           "landcolor": "#E5ECF6",
           "showlakes": true,
           "showland": true,
           "subunitcolor": "white"
          },
          "hoverlabel": {
           "align": "left"
          },
          "hovermode": "closest",
          "mapbox": {
           "style": "light"
          },
          "paper_bgcolor": "white",
          "plot_bgcolor": "#E5ECF6",
          "polar": {
           "angularaxis": {
            "gridcolor": "white",
            "linecolor": "white",
            "ticks": ""
           },
           "bgcolor": "#E5ECF6",
           "radialaxis": {
            "gridcolor": "white",
            "linecolor": "white",
            "ticks": ""
           }
          },
          "scene": {
           "xaxis": {
            "backgroundcolor": "#E5ECF6",
            "gridcolor": "white",
            "gridwidth": 2,
            "linecolor": "white",
            "showbackground": true,
            "ticks": "",
            "zerolinecolor": "white"
           },
           "yaxis": {
            "backgroundcolor": "#E5ECF6",
            "gridcolor": "white",
            "gridwidth": 2,
            "linecolor": "white",
            "showbackground": true,
            "ticks": "",
            "zerolinecolor": "white"
           },
           "zaxis": {
            "backgroundcolor": "#E5ECF6",
            "gridcolor": "white",
            "gridwidth": 2,
            "linecolor": "white",
            "showbackground": true,
            "ticks": "",
            "zerolinecolor": "white"
           }
          },
          "shapedefaults": {
           "line": {
            "color": "#2a3f5f"
           }
          },
          "ternary": {
           "aaxis": {
            "gridcolor": "white",
            "linecolor": "white",
            "ticks": ""
           },
           "baxis": {
            "gridcolor": "white",
            "linecolor": "white",
            "ticks": ""
           },
           "bgcolor": "#E5ECF6",
           "caxis": {
            "gridcolor": "white",
            "linecolor": "white",
            "ticks": ""
           }
          },
          "title": {
           "x": 0.05
          },
          "xaxis": {
           "automargin": true,
           "gridcolor": "white",
           "linecolor": "white",
           "ticks": "",
           "title": {
            "standoff": 15
           },
           "zerolinecolor": "white",
           "zerolinewidth": 2
          },
          "yaxis": {
           "automargin": true,
           "gridcolor": "white",
           "linecolor": "white",
           "ticks": "",
           "title": {
            "standoff": 15
           },
           "zerolinecolor": "white",
           "zerolinewidth": 2
          }
         }
        },
        "title": {
         "font": {
          "color": "darkblue",
          "size": 24
         },
         "text": "Distribution of Genres"
        },
        "xaxis": {
         "anchor": "y",
         "categoryarray": [
          "Animation,Action,Adventure",
          "Action,Adventure,Drama",
          "Adventure,Drama,Romance",
          "Action,Crime,Drama",
          "Animation,Short,Action",
          "Action,Adventure,Comedy",
          "Crime,Drama,Fantasy",
          "Action,Adventure,Crime",
          "Documentary,Short",
          "Animation,Action,Sci-Fi",
          "Animation,Comedy,Crime",
          "Action,Adventure,Fantasy",
          "Animation,Action,Comedy",
          "Action,Adventure,Sci-Fi",
          "Documentary",
          "Animation,Crime,Drama",
          "Action,Drama,Mystery",
          "Action,Comedy,Drama",
          "Action,Fantasy,Sci-Fi",
          "Animation,Short,Fantasy",
          "Short",
          "Action",
          "Action,Drama,Sci-Fi",
          "Animation,Action,Drama",
          "Comedy,Music",
          "Action,Adventure",
          "Action,Sci-Fi",
          "Comedy,Fantasy,Sci-Fi",
          "Animation,Action,Crime",
          "Reality-TV",
          "Talk-Show",
          "Short,Action",
          "Action,Crime,Fantasy",
          "Drama,Fantasy,Sci-Fi",
          "Sci-Fi",
          "Short,Action,Adventure",
          "Animation,Action,Horror",
          "Animation",
          "Short,Sci-Fi",
          "Documentary,Sport",
          "Animation,Sci-Fi",
          "Documentary,History",
          "Action,Comedy,Adventure",
          "Music",
          "Action,Comedy,Sci-Fi",
          "Short,Comedy,Fantasy",
          "Short,Comedy,Music",
          "Drama,Horror,Mystery",
          "Comedy,Romance",
          "Animation,Adventure,Comedy",
          "Short,Action,Sci-Fi",
          "Comedy,Family",
          "Drama,Fantasy,Horror",
          "Biography,Family,News",
          "Comedy,News",
          "Biography,Crime,Drama",
          "Crime,Drama,Thriller",
          "Action,Fantasy,Horror",
          "Action,Comedy,Crime",
          "Drama",
          "Horror,Sci-Fi",
          "Comedy,Family,Fantasy",
          "Comedy,Horror",
          "Action,Drama,Family",
          "Comedy",
          "Animation,Sci-Fi,Action",
          "Animation,Adventure,Family",
          "Short,Adventure,Drama",
          "Action,Animation",
          "Action,Crime,Sci-Fi",
          "Adventure,Animation,Fantasy",
          "Action,Crime,Thriller",
          "Animation,Action,Family",
          "Animation,Action,Fantasy",
          "Action,Drama,Thriller",
          "Comedy,Documentary",
          "Action,Comedy,Fantasy",
          "Adventure,Animation",
          "Action,Fantasy,Talk-Show",
          "Documentary,Biography",
          "Animation,Fantasy,Sci-Fi",
          "Action,Fantasy",
          "Adventure,Family,Fantasy",
          "Comedy,Family,Music",
          "Documentary,Short,Music",
          "Short,Adventure,Sci-Fi",
          "Short,Action,Comedy",
          "Animation,Comedy",
          "News",
          "Comedy,Talk-Show"
         ],
         "categoryorder": "array",
         "domain": [
          0,
          1
         ],
         "gridcolor": "lightgray",
         "showgrid": true,
         "title": {
          "font": {
           "color": "black",
           "size": 18
          },
          "text": "Genre"
         }
        },
        "yaxis": {
         "anchor": "x",
         "domain": [
          0,
          1
         ],
         "gridcolor": "lightgray",
         "showgrid": true,
         "title": {
          "font": {
           "color": "black",
           "size": 18
          },
          "text": "Number of Movies"
         }
        }
       }
      }
     },
     "metadata": {},
     "output_type": "display_data"
    }
   ],
   "source": [
    "genre_counts = df_replacecopy[\"Genre\"].value_counts().reset_index()\n",
    "genre_counts.columns = [\"Genre\", \"Count\"]\n",
    "\n",
    "fig = px.bar(genre_counts, x=\"Genre\", y=\"Count\", \n",
    "             title=\"Distribution of Genres\",\n",
    "             labels={\"Genre\": \"Genre\", \"Count\": \"Number of Movies\"},\n",
    "             color=\"Genre\", text=\"Count\")\n",
    "\n",
    "fig.update_traces(texttemplate='%{text}', textposition='outside', \n",
    "                  marker=dict(line=dict(width=1, color='black')))\n",
    "\n",
    "fig.update_layout(\n",
    "    title_font=dict(size=24, color='darkblue'),\n",
    "    xaxis_title_font=dict(size=18, color='black'),\n",
    "    yaxis_title_font=dict(size=18, color='black'),\n",
    "    plot_bgcolor='white',\n",
    "    paper_bgcolor='white',\n",
    "    xaxis=dict(showgrid=True, gridcolor='lightgray'),\n",
    "    yaxis=dict(showgrid=True, gridcolor='lightgray')\n",
    ")\n",
    "\n",
    "fig.show()"
   ]
  },
  {
   "cell_type": "markdown",
   "metadata": {},
   "source": [
    "### Top Rated Movies Genre"
   ]
  },
  {
   "cell_type": "code",
   "execution_count": 59,
   "metadata": {},
   "outputs": [
    {
     "data": {
      "application/vnd.plotly.v1+json": {
       "config": {
        "plotlyServerURL": "https://plot.ly"
       },
       "data": [
        {
         "hovertemplate": "Genre=Action,Comedy,Drama<br>IMDb Score=%{text}<br>Movie=%{y}<extra></extra>",
         "legendgroup": "Action,Comedy,Drama",
         "marker": {
          "color": "rgb(228,26,28)",
          "line": {
           "color": "black",
           "width": 1
          },
          "pattern": {
           "shape": ""
          }
         },
         "name": "Action,Comedy,Drama",
         "orientation": "h",
         "showlegend": true,
         "text": {
          "bdata": "4noUrkfhIEA=",
          "dtype": "f8"
         },
         "textposition": "outside",
         "texttemplate": "%{x:.2f}",
         "type": "bar",
         "x": {
          "bdata": "4noUrkfhIEA=",
          "dtype": "f8"
         },
         "xaxis": "x",
         "y": [
          "WandaVision"
         ],
         "yaxis": "y"
        },
        {
         "hovertemplate": "Genre=Action,Drama,Mystery<br>IMDb Score=%{text}<br>Movie=%{y}<extra></extra>",
         "legendgroup": "Action,Drama,Mystery",
         "marker": {
          "color": "rgb(55,126,184)",
          "line": {
           "color": "black",
           "width": 1
          },
          "pattern": {
           "shape": ""
          }
         },
         "name": "Action,Drama,Mystery",
         "orientation": "h",
         "showlegend": true,
         "text": {
          "bdata": "CfKUIE8JIUA=",
          "dtype": "f8"
         },
         "textposition": "outside",
         "texttemplate": "%{x:.2f}",
         "type": "bar",
         "x": {
          "bdata": "CfKUIE8JIUA=",
          "dtype": "f8"
         },
         "xaxis": "x",
         "y": [
          "Watchmen"
         ],
         "yaxis": "y"
        },
        {
         "hovertemplate": "Genre=Action,Adventure,Comedy<br>IMDb Score=%{text}<br>Movie=%{y}<extra></extra>",
         "legendgroup": "Action,Adventure,Comedy",
         "marker": {
          "color": "rgb(77,175,74)",
          "line": {
           "color": "black",
           "width": 1
          },
          "pattern": {
           "shape": ""
          }
         },
         "name": "Action,Adventure,Comedy",
         "orientation": "h",
         "showlegend": true,
         "text": {
          "bdata": "JUmSJEkSIUA=",
          "dtype": "f8"
         },
         "textposition": "outside",
         "texttemplate": "%{x:.2f}",
         "type": "bar",
         "x": {
          "bdata": "JUmSJEkSIUA=",
          "dtype": "f8"
         },
         "xaxis": "x",
         "y": [
          "Doom Patrol"
         ],
         "yaxis": "y"
        },
        {
         "hovertemplate": "Genre=Action,Adventure,Drama<br>IMDb Score=%{text}<br>Movie=%{y}<extra></extra>",
         "legendgroup": "Action,Adventure,Drama",
         "marker": {
          "color": "rgb(152,78,163)",
          "line": {
           "color": "black",
           "width": 1
          },
          "pattern": {
           "shape": ""
          }
         },
         "name": "Action,Adventure,Drama",
         "orientation": "h",
         "showlegend": true,
         "text": {
          "bdata": "V4PnCBQtIUA=",
          "dtype": "f8"
         },
         "textposition": "outside",
         "texttemplate": "%{x:.2f}",
         "type": "bar",
         "x": {
          "bdata": "V4PnCBQtIUA=",
          "dtype": "f8"
         },
         "xaxis": "x",
         "y": [
          "Agents of S.H.I.E.L.D."
         ],
         "yaxis": "y"
        },
        {
         "hovertemplate": "Genre=Crime,Drama,Fantasy<br>IMDb Score=%{text}<br>Movie=%{y}<extra></extra>",
         "legendgroup": "Crime,Drama,Fantasy",
         "marker": {
          "color": "rgb(255,127,0)",
          "line": {
           "color": "black",
           "width": 1
          },
          "pattern": {
           "shape": ""
          }
         },
         "name": "Crime,Drama,Fantasy",
         "orientation": "h",
         "showlegend": true,
         "text": {
          "bdata": "Yu0b1r5hIUA=",
          "dtype": "f8"
         },
         "textposition": "outside",
         "texttemplate": "%{x:.2f}",
         "type": "bar",
         "x": {
          "bdata": "Yu0b1r5hIUA=",
          "dtype": "f8"
         },
         "xaxis": "x",
         "y": [
          "Lucifer"
         ],
         "yaxis": "y"
        },
        {
         "hovertemplate": "Genre=Documentary,Sport<br>IMDb Score=%{text}<br>Movie=%{y}<extra></extra>",
         "legendgroup": "Documentary,Sport",
         "marker": {
          "color": "rgb(255,255,51)",
          "line": {
           "color": "black",
           "width": 1
          },
          "pattern": {
           "shape": ""
          }
         },
         "name": "Documentary,Sport",
         "orientation": "h",
         "showlegend": true,
         "text": {
          "bdata": "ZmZmZmZmIUA=",
          "dtype": "f8"
         },
         "textposition": "outside",
         "texttemplate": "%{x:.2f}",
         "type": "bar",
         "x": {
          "bdata": "ZmZmZmZmIUA=",
          "dtype": "f8"
         },
         "xaxis": "x",
         "y": [
          "WWE 24"
         ],
         "yaxis": "y"
        },
        {
         "hovertemplate": "Genre=Action,Fantasy,Talk-Show<br>IMDb Score=%{text}<br>Movie=%{y}<extra></extra>",
         "legendgroup": "Action,Fantasy,Talk-Show",
         "marker": {
          "color": "rgb(166,86,40)",
          "line": {
           "color": "black",
           "width": 1
          },
          "pattern": {
           "shape": ""
          }
         },
         "name": "Action,Fantasy,Talk-Show",
         "orientation": "h",
         "showlegend": true,
         "text": {
          "bdata": "ZmZmZmZmIUA=",
          "dtype": "f8"
         },
         "textposition": "outside",
         "texttemplate": "%{x:.2f}",
         "type": "bar",
         "x": {
          "bdata": "ZmZmZmZmIUA=",
          "dtype": "f8"
         },
         "xaxis": "x",
         "y": [
          "DC Fandome"
         ],
         "yaxis": "y"
        },
        {
         "hovertemplate": "Genre=Animation,Action,Adventure<br>IMDb Score=%{text}<br>Movie=%{y}<extra></extra>",
         "legendgroup": "Animation,Action,Adventure",
         "marker": {
          "color": "rgb(247,129,191)",
          "line": {
           "color": "black",
           "width": 1
          },
          "pattern": {
           "shape": ""
          }
         },
         "name": "Animation,Action,Adventure",
         "orientation": "h",
         "showlegend": true,
         "text": {
          "bdata": "MMf0TwZzIUA=",
          "dtype": "f8"
         },
         "textposition": "outside",
         "texttemplate": "%{x:.2f}",
         "type": "bar",
         "x": {
          "bdata": "MMf0TwZzIUA=",
          "dtype": "f8"
         },
         "xaxis": "x",
         "y": [
          "Young Justice"
         ],
         "yaxis": "y"
        },
        {
         "hovertemplate": "Genre=Action,Crime,Drama<br>IMDb Score=%{text}<br>Movie=%{y}<extra></extra>",
         "legendgroup": "Action,Crime,Drama",
         "marker": {
          "color": "rgb(153,153,153)",
          "line": {
           "color": "black",
           "width": 1
          },
          "pattern": {
           "shape": ""
          }
         },
         "name": "Action,Crime,Drama",
         "orientation": "h",
         "showlegend": true,
         "text": {
          "bdata": "2Ymd2ImdIUAAAAAAAAAiQA==",
          "dtype": "f8"
         },
         "textposition": "outside",
         "texttemplate": "%{x:.2f}",
         "type": "bar",
         "x": {
          "bdata": "2Ymd2ImdIUAAAAAAAAAiQA==",
          "dtype": "f8"
         },
         "xaxis": "x",
         "y": [
          "The Punisher",
          "The Dark Knight"
         ],
         "yaxis": "y"
        },
        {
         "hovertemplate": "Genre=Comedy,Family,Music<br>IMDb Score=%{text}<br>Movie=%{y}<extra></extra>",
         "legendgroup": "Comedy,Family,Music",
         "marker": {
          "color": "rgb(228,26,28)",
          "line": {
           "color": "black",
           "width": 1
          },
          "pattern": {
           "shape": ""
          }
         },
         "name": "Comedy,Family,Music",
         "orientation": "h",
         "showlegend": true,
         "text": {
          "bdata": "AAAAAAAAIkA=",
          "dtype": "f8"
         },
         "textposition": "outside",
         "texttemplate": "%{x:.2f}",
         "type": "bar",
         "x": {
          "bdata": "AAAAAAAAIkA=",
          "dtype": "f8"
         },
         "xaxis": "x",
         "y": [
          "Body and Soul"
         ],
         "yaxis": "y"
        },
        {
         "hovertemplate": "Genre=Short,Adventure,Drama<br>IMDb Score=%{text}<br>Movie=%{y}<extra></extra>",
         "legendgroup": "Short,Adventure,Drama",
         "marker": {
          "color": "rgb(55,126,184)",
          "line": {
           "color": "black",
           "width": 1
          },
          "pattern": {
           "shape": ""
          }
         },
         "name": "Short,Adventure,Drama",
         "orientation": "h",
         "showlegend": true,
         "text": {
          "bdata": "MzMzMzMzIkA=",
          "dtype": "f8"
         },
         "textposition": "outside",
         "texttemplate": "%{x:.2f}",
         "type": "bar",
         "x": {
          "bdata": "MzMzMzMzIkA=",
          "dtype": "f8"
         },
         "xaxis": "x",
         "y": [
          "Smallville Season 3 Promo"
         ],
         "yaxis": "y"
        },
        {
         "hovertemplate": "Genre=Action,Adventure,Crime<br>IMDb Score=%{text}<br>Movie=%{y}<extra></extra>",
         "legendgroup": "Action,Adventure,Crime",
         "marker": {
          "color": "rgb(77,175,74)",
          "line": {
           "color": "black",
           "width": 1
          },
          "pattern": {
           "shape": ""
          }
         },
         "name": "Action,Adventure,Crime",
         "orientation": "h",
         "showlegend": true,
         "text": {
          "bdata": "ZmZmZmZmIkA=",
          "dtype": "f8"
         },
         "textposition": "outside",
         "texttemplate": "%{x:.2f}",
         "type": "bar",
         "x": {
          "bdata": "ZmZmZmZmIkA=",
          "dtype": "f8"
         },
         "xaxis": "x",
         "y": [
          "Batman: Arkham Asylum"
         ],
         "yaxis": "y"
        },
        {
         "hovertemplate": "Genre=Animation,Short,Action<br>IMDb Score=%{text}<br>Movie=%{y}<extra></extra>",
         "legendgroup": "Animation,Short,Action",
         "marker": {
          "color": "rgb(152,78,163)",
          "line": {
           "color": "black",
           "width": 1
          },
          "pattern": {
           "shape": ""
          }
         },
         "name": "Animation,Short,Action",
         "orientation": "h",
         "showlegend": true,
         "text": {
          "bdata": "ZmZmZmZmIkA=",
          "dtype": "f8"
         },
         "textposition": "outside",
         "texttemplate": "%{x:.2f}",
         "type": "bar",
         "x": {
          "bdata": "ZmZmZmZmIkA=",
          "dtype": "f8"
         },
         "xaxis": "x",
         "y": [
          "Duck Dodgers"
         ],
         "yaxis": "y"
        },
        {
         "hovertemplate": "Genre=Drama,Fantasy,Horror<br>IMDb Score=%{text}<br>Movie=%{y}<extra></extra>",
         "legendgroup": "Drama,Fantasy,Horror",
         "marker": {
          "color": "rgb(255,127,0)",
          "line": {
           "color": "black",
           "width": 1
          },
          "pattern": {
           "shape": ""
          }
         },
         "name": "Drama,Fantasy,Horror",
         "orientation": "h",
         "showlegend": true,
         "text": {
          "bdata": "AAAAAAAAI0A=",
          "dtype": "f8"
         },
         "textposition": "outside",
         "texttemplate": "%{x:.2f}",
         "type": "bar",
         "x": {
          "bdata": "AAAAAAAAI0A=",
          "dtype": "f8"
         },
         "xaxis": "x",
         "y": [
          "The Sandman"
         ],
         "yaxis": "y"
        }
       ],
       "layout": {
        "barmode": "relative",
        "legend": {
         "title": {
          "text": "Genre"
         },
         "tracegroupgap": 0
        },
        "paper_bgcolor": "white",
        "plot_bgcolor": "white",
        "template": {
         "data": {
          "bar": [
           {
            "error_x": {
             "color": "#2a3f5f"
            },
            "error_y": {
             "color": "#2a3f5f"
            },
            "marker": {
             "line": {
              "color": "#E5ECF6",
              "width": 0.5
             },
             "pattern": {
              "fillmode": "overlay",
              "size": 10,
              "solidity": 0.2
             }
            },
            "type": "bar"
           }
          ],
          "barpolar": [
           {
            "marker": {
             "line": {
              "color": "#E5ECF6",
              "width": 0.5
             },
             "pattern": {
              "fillmode": "overlay",
              "size": 10,
              "solidity": 0.2
             }
            },
            "type": "barpolar"
           }
          ],
          "carpet": [
           {
            "aaxis": {
             "endlinecolor": "#2a3f5f",
             "gridcolor": "white",
             "linecolor": "white",
             "minorgridcolor": "white",
             "startlinecolor": "#2a3f5f"
            },
            "baxis": {
             "endlinecolor": "#2a3f5f",
             "gridcolor": "white",
             "linecolor": "white",
             "minorgridcolor": "white",
             "startlinecolor": "#2a3f5f"
            },
            "type": "carpet"
           }
          ],
          "choropleth": [
           {
            "colorbar": {
             "outlinewidth": 0,
             "ticks": ""
            },
            "type": "choropleth"
           }
          ],
          "contour": [
           {
            "colorbar": {
             "outlinewidth": 0,
             "ticks": ""
            },
            "colorscale": [
             [
              0,
              "#0d0887"
             ],
             [
              0.1111111111111111,
              "#46039f"
             ],
             [
              0.2222222222222222,
              "#7201a8"
             ],
             [
              0.3333333333333333,
              "#9c179e"
             ],
             [
              0.4444444444444444,
              "#bd3786"
             ],
             [
              0.5555555555555556,
              "#d8576b"
             ],
             [
              0.6666666666666666,
              "#ed7953"
             ],
             [
              0.7777777777777778,
              "#fb9f3a"
             ],
             [
              0.8888888888888888,
              "#fdca26"
             ],
             [
              1,
              "#f0f921"
             ]
            ],
            "type": "contour"
           }
          ],
          "contourcarpet": [
           {
            "colorbar": {
             "outlinewidth": 0,
             "ticks": ""
            },
            "type": "contourcarpet"
           }
          ],
          "heatmap": [
           {
            "colorbar": {
             "outlinewidth": 0,
             "ticks": ""
            },
            "colorscale": [
             [
              0,
              "#0d0887"
             ],
             [
              0.1111111111111111,
              "#46039f"
             ],
             [
              0.2222222222222222,
              "#7201a8"
             ],
             [
              0.3333333333333333,
              "#9c179e"
             ],
             [
              0.4444444444444444,
              "#bd3786"
             ],
             [
              0.5555555555555556,
              "#d8576b"
             ],
             [
              0.6666666666666666,
              "#ed7953"
             ],
             [
              0.7777777777777778,
              "#fb9f3a"
             ],
             [
              0.8888888888888888,
              "#fdca26"
             ],
             [
              1,
              "#f0f921"
             ]
            ],
            "type": "heatmap"
           }
          ],
          "histogram": [
           {
            "marker": {
             "pattern": {
              "fillmode": "overlay",
              "size": 10,
              "solidity": 0.2
             }
            },
            "type": "histogram"
           }
          ],
          "histogram2d": [
           {
            "colorbar": {
             "outlinewidth": 0,
             "ticks": ""
            },
            "colorscale": [
             [
              0,
              "#0d0887"
             ],
             [
              0.1111111111111111,
              "#46039f"
             ],
             [
              0.2222222222222222,
              "#7201a8"
             ],
             [
              0.3333333333333333,
              "#9c179e"
             ],
             [
              0.4444444444444444,
              "#bd3786"
             ],
             [
              0.5555555555555556,
              "#d8576b"
             ],
             [
              0.6666666666666666,
              "#ed7953"
             ],
             [
              0.7777777777777778,
              "#fb9f3a"
             ],
             [
              0.8888888888888888,
              "#fdca26"
             ],
             [
              1,
              "#f0f921"
             ]
            ],
            "type": "histogram2d"
           }
          ],
          "histogram2dcontour": [
           {
            "colorbar": {
             "outlinewidth": 0,
             "ticks": ""
            },
            "colorscale": [
             [
              0,
              "#0d0887"
             ],
             [
              0.1111111111111111,
              "#46039f"
             ],
             [
              0.2222222222222222,
              "#7201a8"
             ],
             [
              0.3333333333333333,
              "#9c179e"
             ],
             [
              0.4444444444444444,
              "#bd3786"
             ],
             [
              0.5555555555555556,
              "#d8576b"
             ],
             [
              0.6666666666666666,
              "#ed7953"
             ],
             [
              0.7777777777777778,
              "#fb9f3a"
             ],
             [
              0.8888888888888888,
              "#fdca26"
             ],
             [
              1,
              "#f0f921"
             ]
            ],
            "type": "histogram2dcontour"
           }
          ],
          "mesh3d": [
           {
            "colorbar": {
             "outlinewidth": 0,
             "ticks": ""
            },
            "type": "mesh3d"
           }
          ],
          "parcoords": [
           {
            "line": {
             "colorbar": {
              "outlinewidth": 0,
              "ticks": ""
             }
            },
            "type": "parcoords"
           }
          ],
          "pie": [
           {
            "automargin": true,
            "type": "pie"
           }
          ],
          "scatter": [
           {
            "fillpattern": {
             "fillmode": "overlay",
             "size": 10,
             "solidity": 0.2
            },
            "type": "scatter"
           }
          ],
          "scatter3d": [
           {
            "line": {
             "colorbar": {
              "outlinewidth": 0,
              "ticks": ""
             }
            },
            "marker": {
             "colorbar": {
              "outlinewidth": 0,
              "ticks": ""
             }
            },
            "type": "scatter3d"
           }
          ],
          "scattercarpet": [
           {
            "marker": {
             "colorbar": {
              "outlinewidth": 0,
              "ticks": ""
             }
            },
            "type": "scattercarpet"
           }
          ],
          "scattergeo": [
           {
            "marker": {
             "colorbar": {
              "outlinewidth": 0,
              "ticks": ""
             }
            },
            "type": "scattergeo"
           }
          ],
          "scattergl": [
           {
            "marker": {
             "colorbar": {
              "outlinewidth": 0,
              "ticks": ""
             }
            },
            "type": "scattergl"
           }
          ],
          "scattermap": [
           {
            "marker": {
             "colorbar": {
              "outlinewidth": 0,
              "ticks": ""
             }
            },
            "type": "scattermap"
           }
          ],
          "scattermapbox": [
           {
            "marker": {
             "colorbar": {
              "outlinewidth": 0,
              "ticks": ""
             }
            },
            "type": "scattermapbox"
           }
          ],
          "scatterpolar": [
           {
            "marker": {
             "colorbar": {
              "outlinewidth": 0,
              "ticks": ""
             }
            },
            "type": "scatterpolar"
           }
          ],
          "scatterpolargl": [
           {
            "marker": {
             "colorbar": {
              "outlinewidth": 0,
              "ticks": ""
             }
            },
            "type": "scatterpolargl"
           }
          ],
          "scatterternary": [
           {
            "marker": {
             "colorbar": {
              "outlinewidth": 0,
              "ticks": ""
             }
            },
            "type": "scatterternary"
           }
          ],
          "surface": [
           {
            "colorbar": {
             "outlinewidth": 0,
             "ticks": ""
            },
            "colorscale": [
             [
              0,
              "#0d0887"
             ],
             [
              0.1111111111111111,
              "#46039f"
             ],
             [
              0.2222222222222222,
              "#7201a8"
             ],
             [
              0.3333333333333333,
              "#9c179e"
             ],
             [
              0.4444444444444444,
              "#bd3786"
             ],
             [
              0.5555555555555556,
              "#d8576b"
             ],
             [
              0.6666666666666666,
              "#ed7953"
             ],
             [
              0.7777777777777778,
              "#fb9f3a"
             ],
             [
              0.8888888888888888,
              "#fdca26"
             ],
             [
              1,
              "#f0f921"
             ]
            ],
            "type": "surface"
           }
          ],
          "table": [
           {
            "cells": {
             "fill": {
              "color": "#EBF0F8"
             },
             "line": {
              "color": "white"
             }
            },
            "header": {
             "fill": {
              "color": "#C8D4E3"
             },
             "line": {
              "color": "white"
             }
            },
            "type": "table"
           }
          ]
         },
         "layout": {
          "annotationdefaults": {
           "arrowcolor": "#2a3f5f",
           "arrowhead": 0,
           "arrowwidth": 1
          },
          "autotypenumbers": "strict",
          "coloraxis": {
           "colorbar": {
            "outlinewidth": 0,
            "ticks": ""
           }
          },
          "colorscale": {
           "diverging": [
            [
             0,
             "#8e0152"
            ],
            [
             0.1,
             "#c51b7d"
            ],
            [
             0.2,
             "#de77ae"
            ],
            [
             0.3,
             "#f1b6da"
            ],
            [
             0.4,
             "#fde0ef"
            ],
            [
             0.5,
             "#f7f7f7"
            ],
            [
             0.6,
             "#e6f5d0"
            ],
            [
             0.7,
             "#b8e186"
            ],
            [
             0.8,
             "#7fbc41"
            ],
            [
             0.9,
             "#4d9221"
            ],
            [
             1,
             "#276419"
            ]
           ],
           "sequential": [
            [
             0,
             "#0d0887"
            ],
            [
             0.1111111111111111,
             "#46039f"
            ],
            [
             0.2222222222222222,
             "#7201a8"
            ],
            [
             0.3333333333333333,
             "#9c179e"
            ],
            [
             0.4444444444444444,
             "#bd3786"
            ],
            [
             0.5555555555555556,
             "#d8576b"
            ],
            [
             0.6666666666666666,
             "#ed7953"
            ],
            [
             0.7777777777777778,
             "#fb9f3a"
            ],
            [
             0.8888888888888888,
             "#fdca26"
            ],
            [
             1,
             "#f0f921"
            ]
           ],
           "sequentialminus": [
            [
             0,
             "#0d0887"
            ],
            [
             0.1111111111111111,
             "#46039f"
            ],
            [
             0.2222222222222222,
             "#7201a8"
            ],
            [
             0.3333333333333333,
             "#9c179e"
            ],
            [
             0.4444444444444444,
             "#bd3786"
            ],
            [
             0.5555555555555556,
             "#d8576b"
            ],
            [
             0.6666666666666666,
             "#ed7953"
            ],
            [
             0.7777777777777778,
             "#fb9f3a"
            ],
            [
             0.8888888888888888,
             "#fdca26"
            ],
            [
             1,
             "#f0f921"
            ]
           ]
          },
          "colorway": [
           "#636efa",
           "#EF553B",
           "#00cc96",
           "#ab63fa",
           "#FFA15A",
           "#19d3f3",
           "#FF6692",
           "#B6E880",
           "#FF97FF",
           "#FECB52"
          ],
          "font": {
           "color": "#2a3f5f"
          },
          "geo": {
           "bgcolor": "white",
           "lakecolor": "white",
           "landcolor": "#E5ECF6",
           "showlakes": true,
           "showland": true,
           "subunitcolor": "white"
          },
          "hoverlabel": {
           "align": "left"
          },
          "hovermode": "closest",
          "mapbox": {
           "style": "light"
          },
          "paper_bgcolor": "white",
          "plot_bgcolor": "#E5ECF6",
          "polar": {
           "angularaxis": {
            "gridcolor": "white",
            "linecolor": "white",
            "ticks": ""
           },
           "bgcolor": "#E5ECF6",
           "radialaxis": {
            "gridcolor": "white",
            "linecolor": "white",
            "ticks": ""
           }
          },
          "scene": {
           "xaxis": {
            "backgroundcolor": "#E5ECF6",
            "gridcolor": "white",
            "gridwidth": 2,
            "linecolor": "white",
            "showbackground": true,
            "ticks": "",
            "zerolinecolor": "white"
           },
           "yaxis": {
            "backgroundcolor": "#E5ECF6",
            "gridcolor": "white",
            "gridwidth": 2,
            "linecolor": "white",
            "showbackground": true,
            "ticks": "",
            "zerolinecolor": "white"
           },
           "zaxis": {
            "backgroundcolor": "#E5ECF6",
            "gridcolor": "white",
            "gridwidth": 2,
            "linecolor": "white",
            "showbackground": true,
            "ticks": "",
            "zerolinecolor": "white"
           }
          },
          "shapedefaults": {
           "line": {
            "color": "#2a3f5f"
           }
          },
          "ternary": {
           "aaxis": {
            "gridcolor": "white",
            "linecolor": "white",
            "ticks": ""
           },
           "baxis": {
            "gridcolor": "white",
            "linecolor": "white",
            "ticks": ""
           },
           "bgcolor": "#E5ECF6",
           "caxis": {
            "gridcolor": "white",
            "linecolor": "white",
            "ticks": ""
           }
          },
          "title": {
           "x": 0.05
          },
          "xaxis": {
           "automargin": true,
           "gridcolor": "white",
           "linecolor": "white",
           "ticks": "",
           "title": {
            "standoff": 15
           },
           "zerolinecolor": "white",
           "zerolinewidth": 2
          },
          "yaxis": {
           "automargin": true,
           "gridcolor": "white",
           "linecolor": "white",
           "ticks": "",
           "title": {
            "standoff": 15
           },
           "zerolinecolor": "white",
           "zerolinewidth": 2
          }
         }
        },
        "title": {
         "font": {
          "color": "darkblue",
          "size": 24
         },
         "text": "Top Rated Movies by Genre (Average IMDb Score)"
        },
        "xaxis": {
         "anchor": "y",
         "domain": [
          0,
          1
         ],
         "gridcolor": "lightgray",
         "showgrid": true,
         "title": {
          "font": {
           "color": "black",
           "size": 18
          },
          "text": "IMDb Score"
         }
        },
        "yaxis": {
         "anchor": "x",
         "domain": [
          0,
          1
         ],
         "gridcolor": "lightgray",
         "showgrid": true,
         "title": {
          "font": {
           "color": "black",
           "size": 18
          },
          "text": "Movie"
         }
        }
       }
      }
     },
     "metadata": {},
     "output_type": "display_data"
    }
   ],
   "source": [
    "\n",
    "\n",
    "df_cleaned = df.groupby(['Movie', 'Genre'], as_index=False).agg({'IMDB_Score': 'mean'})\n",
    "\n",
    "df_cleaned = df_cleaned[(df_cleaned['IMDB_Score'] > 0) & (df_cleaned['IMDB_Score'] <= 10)]\n",
    "top_movies = df_cleaned.sort_values(by='IMDB_Score', ascending=False).head(15)\n",
    "\n",
    "fig = px.bar(top_movies.sort_values(by=\"IMDB_Score\", ascending=True), \n",
    "             x=\"IMDB_Score\", \n",
    "             y=\"Movie\", \n",
    "             color=\"Genre\",\n",
    "             title=\"Top Rated Movies by Genre (Average IMDb Score)\",\n",
    "             labels={\"IMDB_Score\": \"IMDb Score\", \"Movie\": \"Movie\", \"Genre\": \"Genre\"},\n",
    "             text=\"IMDB_Score\", \n",
    "             color_discrete_sequence=px.colors.qualitative.Set1,\n",
    "             orientation='h')\n",
    "\n",
    "fig.update_traces(texttemplate='%{x:.2f}', textposition='outside',\n",
    "                  marker=dict(line=dict(width=1, color='black')))\n",
    "\n",
    "fig.update_layout(\n",
    "    title_font=dict(size=24, color='darkblue'),\n",
    "    xaxis_title_font=dict(size=18, color='black'),\n",
    "    yaxis_title_font=dict(size=18, color='black'),\n",
    "    plot_bgcolor='white',\n",
    "    paper_bgcolor='white',\n",
    "    xaxis=dict(showgrid=True, gridcolor='lightgray'),\n",
    "    yaxis=dict(showgrid=True, gridcolor='lightgray')\n",
    ")\n",
    "\n",
    "fig.show()\n",
    "\n"
   ]
  },
  {
   "cell_type": "markdown",
   "metadata": {},
   "source": [
    "<hr style=\\\"border:2.5px solid #126782\\\"></hr>"
   ]
  },
  {
   "cell_type": "markdown",
   "metadata": {},
   "source": [
    "# **Hypothesis**"
   ]
  },
  {
   "cell_type": "markdown",
   "metadata": {},
   "source": [
    "### *Runtime*\n"
   ]
  },
  {
   "cell_type": "markdown",
   "metadata": {},
   "source": [
    "1. **Distribution of Runtime** <br>\n",
    "Hypothesis: The distribution of movie runtimes is right-skewed, meaning most movies have a moderate length, but some outliers exist with exceptionally long runtimes.\n",
    "Reasoning: The boxplot shows that the majority of movies have runtimes clustered in a lower range, while a few extreme outliers exceed 200+ minutes. <br>\n",
    "2. **Lowest Runtime** <br>\n",
    "Hypothesis: Short films, including animated or special features, have the lowest runtimes, with some being as short as 1 or 2 minutes.\n",
    "Reasoning: The dataset includes movies like DC Nation’s Farm League and Green Arrow, which have runtimes of only 1 minute, suggesting the presence of very short films. <br>\n",
    "3. **Highest Runtime** <br>\n",
    "Hypothesis: Blockbuster superhero movies, award shows, or extended editions of films tend to have the longest runtimes, often exceeding 150 minutes.\n",
    "Reasoning: The longest movies include Avengers: Endgame (181 min), The Dark Knight Rises (164 min), and The Oscars (193 min). This suggests that major action movies and televised events contribute to the longest runtimes.\n",
    "Would you like to refine these hypotheses further or explore additional aspects like genre influence?"
   ]
  },
  {
   "cell_type": "markdown",
   "metadata": {},
   "source": [
    "### *IMDB Score*\n"
   ]
  },
  {
   "cell_type": "markdown",
   "metadata": {},
   "source": [
    "1. **Mean Score**<br>\n",
    "The average IMDB score of movies in the dataset is between 5 and 7, as most movies tend to have mid-range ratings. <br>\n",
    "\n",
    "2. **Mode Score** <br>\n",
    "The most frequently occurring IMDB score is likely around 6 or 7, as these ratings are common for most movies.<br>\n",
    "\n",
    "3. **Median Score** <br>\n",
    "The median IMDB score in the dataset is expected to be close to the mean score, suggesting a relatively normal distribution.<br>\n",
    "\n",
    "4. **Distribution of IMDB Scores** <br>\n",
    "The distribution of IMDB scores follows a normal or slightly left-skewed pattern, with more movies receiving mid-range scores than extremely high or low scores. <br>\n",
    "\n",
    "5. **IMDB Score by Genre** <br>\n",
    "Certain genres, such as drama and thriller, tend to have higher IMDB scores on average compared to comedy or action movies.\n",
    "\n",
    "6. **Lowest Rated Movies** <br>\n",
    "The lowest-rated movies in the dataset have IMDB scores below 3, potentially due to poor production quality or negative audience reception. <br>\n",
    "\n",
    "7. **Highest Rated Movies** <br>\n",
    "The highest-rated movies in the dataset have IMDB scores above 8, likely belonging to critically acclaimed or fan-favorite films."
   ]
  },
  {
   "cell_type": "markdown",
   "metadata": {},
   "source": [
    "### *Year*\n"
   ]
  },
  {
   "cell_type": "markdown",
   "metadata": {},
   "source": [
    "1. **Average Release of Movies per Year** <br>\n",
    "The number of movies released per year has increased over time, with a peak in recent years due to the expansion of the film industry and streaming platforms.\n"
   ]
  },
  {
   "cell_type": "markdown",
   "metadata": {},
   "source": [
    "### *Genre*\n"
   ]
  },
  {
   "cell_type": "markdown",
   "metadata": {},
   "source": [
    "1. **Distribution of Genre** <br>\n",
    "The majority of movies belong to action, adventure, and animation genres, making them the most dominant in the dataset.\n",
    "Less common genres, such as talk shows and news, have significantly fewer movies compared to mainstream genres like adventure and crime.\n",
    "Animated and adventure-based movies are more frequently produced due to their broad audience appeal and commercial success.<br>\n",
    "2. **Top Rated Movies by Genre** <br>\n",
    "Movies that belong to multiple genres, such as action, comedy, and drama, tend to receive higher IMDb ratings compared to single-genre films.\n",
    "Animated and superhero-themed movies generally receive higher IMDb scores due to their loyal fanbase and franchise popularity.\n",
    "Niche genres, such as documentary and sport, might receive consistently high ratings from dedicated audiences but have fewer movies overall."
   ]
  },
  {
   "cell_type": "markdown",
   "metadata": {},
   "source": [
    "**Based on the Top Rated Movies by Genre (Average IMDb Score) chart, the highest-rated movies are:**\n",
    "\n",
    "1. The Sandman (9.50)\n",
    "2. Duck Dodgers (9.20)\n",
    "3. Batman: Arkham Asylum (9.20)\n",
    "4. Smallville Season 3 Promo (9.10)\n",
    "5. Body and Soul (9.00)\n",
    "6. The Dark Knight (9.00)\n",
    "7. The Punisher (8.81)\n",
    "8. Young Justice (8.72)\n",
    "9. DC Fandome (8.70)\n",
    "10. WWE 24 (8.70)"
   ]
  },
  {
   "cell_type": "markdown",
   "metadata": {},
   "source": [
    "<hr style=\\\"border:2.5px solid #126782\\\"></hr>"
   ]
  },
  {
   "cell_type": "markdown",
   "metadata": {},
   "source": [
    "# **Conclusion**"
   ]
  },
  {
   "cell_type": "markdown",
   "metadata": {},
   "source": [
    "\n",
    "This report provides an in-depth analysis of movie data, covering various aspects such as IMDb scores, genre distribution, top-rated movies, and yearly release trends. Through statistical examination and visualization, we uncovered meaningful patterns that reflect audience preferences, industry trends, and the characteristics of highly rated films.\n",
    "\n",
    "The IMDb score analysis explored key statistical measures such as the mean, mode, and median, offering insights into how movies generally perform based on user ratings. The distribution of IMDb scores indicated that while most movies fall within an average rating range, certain genres and specific movies receive exceptionally high or low ratings. Additionally, examining highest- and lowest-rated movies revealed that certain genres consistently produce top-rated films, reinforcing the idea that specific storytelling styles, production values, and audience engagement contribute to high IMDb scores.\n",
    "\n",
    "The distribution of genres analysis highlighted a significant concentration of movies in popular genres such as Animation, Action, and Adventure, while less mainstream genres, such as Documentary, Crime, and Fantasy, had fewer representations. This suggests that audience demand and industry production largely favor action-packed and visually engaging storytelling.\n",
    "\n",
    "In the top-rated movies by genre analysis, it was evident that Action, Drama, and Adventure genres frequently dominate the highest-rated lists, with animated and superhero-related films receiving strong audience appreciation. These findings indicate that high production quality, compelling narratives, and strong character development play a crucial role in determining movie success.\n",
    "\n",
    "When examining movie release trends by year, the analysis aimed to determine the average number of movies released per year and identify patterns or fluctuations in production. While the dataset contained some missing or unclear year values (represented by dashes), the general trend suggested a consistent growth in movie production over time, reflecting the increasing demand for entertainment content.\n",
    "\n",
    "Final Thoughts\n",
    "The findings from this report provide valuable insights into the film industry's trends and audience preferences. The dominance of certain genres in both quantity and rating suggests that industry stakeholders, such as producers, directors, and streaming platforms, can leverage this data to make informed decisions about future projects. Furthermore, the IMDb score analysis reaffirms the importance of high-quality storytelling and audience engagement in determining a movie’s success.\n",
    "\n",
    "For further research, additional factors such as director influence, production budgets, audience demographics, and marketing impact could be explored to gain deeper insights into what drives both popularity and high ratings in the film industry."
   ]
  }
 ],
 "metadata": {
  "kernelspec": {
   "display_name": "Python 3",
   "language": "python",
   "name": "python3"
  },
  "language_info": {
   "codemirror_mode": {
    "name": "ipython",
    "version": 3
   },
   "file_extension": ".py",
   "mimetype": "text/x-python",
   "name": "python",
   "nbconvert_exporter": "python",
   "pygments_lexer": "ipython3",
   "version": "3.13.1"
  }
 },
 "nbformat": 4,
 "nbformat_minor": 2
}
